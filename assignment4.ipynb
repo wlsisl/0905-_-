{
  "nbformat": 4,
  "nbformat_minor": 5,
  "metadata": {
    "colab": {
      "provenance": [],
      "collapsed_sections": [],
      "include_colab_link": true
    },
    "language_info": {
      "name": "python"
    },
    "kernelspec": {
      "name": "python3",
      "display_name": "Python 3"
    }
  },
  "cells": [
    {
      "cell_type": "markdown",
      "metadata": {
        "id": "view-in-github",
        "colab_type": "text"
      },
      "source": [
        "<a href=\"https://colab.research.google.com/github/wlsisl/ESAA_22-2/blob/main/assignment4.ipynb\" target=\"_parent\"><img src=\"https://colab.research.google.com/assets/colab-badge.svg\" alt=\"Open In Colab\"/></a>"
      ]
    },
    {
      "cell_type": "markdown",
      "metadata": {
        "id": "bf79c78b"
      },
      "source": [
        "# 100 numpy exercises\n",
        "\n",
        "This is a collection of exercises that have been collected in the numpy mailing list, on stack overflow\n",
        "and in the numpy documentation. The goal of this collection is to offer a quick reference for both old\n",
        "and new users but also to provide a set of exercises for those who teach.\n",
        "\n",
        "\n",
        "If you find an error or think you've a better way to solve some of them, feel\n",
        "free to open an issue at <https://github.com/rougier/numpy-100>."
      ],
      "id": "bf79c78b"
    },
    {
      "cell_type": "markdown",
      "metadata": {
        "id": "8536e059"
      },
      "source": [
        "File automatically generated. See the documentation to update questions/answers/hints programmatically."
      ],
      "id": "8536e059"
    },
    {
      "cell_type": "markdown",
      "metadata": {
        "id": "e16ac60b"
      },
      "source": [
        "Run the `initialize.py` module, then for each question you can query the\n",
        "answer or an hint with `hint(n)` or `answer(n)` for `n` question number."
      ],
      "id": "e16ac60b"
    },
    {
      "cell_type": "code",
      "source": [
        "pip install generators"
      ],
      "metadata": {
        "colab": {
          "base_uri": "https://localhost:8080/"
        },
        "id": "7HAU3Z1W2_hK",
        "outputId": "c7a31af3-7adf-4931-fb11-2937f4f511af"
      },
      "id": "7HAU3Z1W2_hK",
      "execution_count": null,
      "outputs": [
        {
          "output_type": "stream",
          "name": "stdout",
          "text": [
            "Looking in indexes: https://pypi.org/simple, https://us-python.pkg.dev/colab-wheels/public/simple/\n",
            "Requirement already satisfied: generators in /usr/local/lib/python3.7/dist-packages (2020.4.27)\n",
            "Requirement already satisfied: strict-functions in /usr/local/lib/python3.7/dist-packages (from generators) (2020.2.4)\n"
          ]
        }
      ]
    },
    {
      "cell_type": "code",
      "metadata": {
        "id": "a8453483",
        "colab": {
          "base_uri": "https://localhost:8080/"
        },
        "outputId": "f2ef6770-c329-4e75-c305-60e3eb6023dc"
      },
      "source": [
        "%run initialise.py"
      ],
      "id": "a8453483",
      "execution_count": null,
      "outputs": [
        {
          "output_type": "stream",
          "name": "stderr",
          "text": [
            "ERROR:root:File `'initialise.py'` not found.\n"
          ]
        }
      ]
    },
    {
      "cell_type": "markdown",
      "metadata": {
        "id": "017db353"
      },
      "source": [
        "#### 1. Import the numpy package under the name `np` (★☆☆)"
      ],
      "id": "017db353"
    },
    {
      "cell_type": "code",
      "metadata": {
        "id": "68182a76"
      },
      "source": [
        "  import numpy as np"
      ],
      "id": "68182a76",
      "execution_count": 2,
      "outputs": []
    },
    {
      "cell_type": "markdown",
      "metadata": {
        "id": "46950f4f"
      },
      "source": [
        "#### 2. Print the numpy version and the configuration (★☆☆)"
      ],
      "id": "46950f4f"
    },
    {
      "cell_type": "code",
      "metadata": {
        "id": "2a9f5838",
        "colab": {
          "base_uri": "https://localhost:8080/"
        },
        "outputId": "3954ddcf-25d7-4175-df5c-f95e62568a1c"
      },
      "source": [
        "print(np.__version__)\n",
        "np.show_config()"
      ],
      "id": "2a9f5838",
      "execution_count": null,
      "outputs": [
        {
          "output_type": "stream",
          "name": "stdout",
          "text": [
            "1.21.6\n",
            "blas_mkl_info:\n",
            "  NOT AVAILABLE\n",
            "blis_info:\n",
            "  NOT AVAILABLE\n",
            "openblas_info:\n",
            "    libraries = ['openblas', 'openblas']\n",
            "    library_dirs = ['/usr/local/lib']\n",
            "    language = c\n",
            "    define_macros = [('HAVE_CBLAS', None)]\n",
            "    runtime_library_dirs = ['/usr/local/lib']\n",
            "blas_opt_info:\n",
            "    libraries = ['openblas', 'openblas']\n",
            "    library_dirs = ['/usr/local/lib']\n",
            "    language = c\n",
            "    define_macros = [('HAVE_CBLAS', None)]\n",
            "    runtime_library_dirs = ['/usr/local/lib']\n",
            "lapack_mkl_info:\n",
            "  NOT AVAILABLE\n",
            "openblas_lapack_info:\n",
            "    libraries = ['openblas', 'openblas']\n",
            "    library_dirs = ['/usr/local/lib']\n",
            "    language = c\n",
            "    define_macros = [('HAVE_CBLAS', None)]\n",
            "    runtime_library_dirs = ['/usr/local/lib']\n",
            "lapack_opt_info:\n",
            "    libraries = ['openblas', 'openblas']\n",
            "    library_dirs = ['/usr/local/lib']\n",
            "    language = c\n",
            "    define_macros = [('HAVE_CBLAS', None)]\n",
            "    runtime_library_dirs = ['/usr/local/lib']\n",
            "Supported SIMD extensions in this NumPy install:\n",
            "    baseline = SSE,SSE2,SSE3\n",
            "    found = SSSE3,SSE41,POPCNT,SSE42,AVX,F16C,FMA3,AVX2\n",
            "    not found = AVX512F,AVX512CD,AVX512_KNL,AVX512_KNM,AVX512_SKX,AVX512_CLX,AVX512_CNL,AVX512_ICL\n"
          ]
        }
      ]
    },
    {
      "cell_type": "markdown",
      "metadata": {
        "id": "e3c20b3d"
      },
      "source": [
        "#### 3. Create a null vector of size 10 (★☆☆)"
      ],
      "id": "e3c20b3d"
    },
    {
      "cell_type": "code",
      "metadata": {
        "id": "8a758bcf",
        "colab": {
          "base_uri": "https://localhost:8080/"
        },
        "outputId": "302de8ec-db91-4550-a97e-aed721e6419e"
      },
      "source": [
        "Z = np.zeros(10)\n",
        "print(Z)"
      ],
      "id": "8a758bcf",
      "execution_count": null,
      "outputs": [
        {
          "output_type": "stream",
          "name": "stdout",
          "text": [
            "[0. 0. 0. 0. 0. 0. 0. 0. 0. 0.]\n"
          ]
        }
      ]
    },
    {
      "cell_type": "markdown",
      "metadata": {
        "id": "b15a879f"
      },
      "source": [
        "#### 4. How to find the memory size of any array (★☆☆)"
      ],
      "id": "b15a879f"
    },
    {
      "cell_type": "code",
      "metadata": {
        "id": "1cc3cbc5",
        "colab": {
          "base_uri": "https://localhost:8080/"
        },
        "outputId": "ca782f30-2090-4946-87c8-c6dc297c4965"
      },
      "source": [
        "Z = np.zeros((10,10))  #(())를 이용해 10,10 행열을 지정해줌.\n",
        "print(Z.size, Z.itemsize)\n",
        "print(\"%d bytes\" % (Z.size * Z.itemsize))"
      ],
      "id": "1cc3cbc5",
      "execution_count": 5,
      "outputs": [
        {
          "output_type": "stream",
          "name": "stdout",
          "text": [
            "[[0. 0. 0. 0. 0. 0. 0. 0. 0. 0.]\n",
            " [0. 0. 0. 0. 0. 0. 0. 0. 0. 0.]\n",
            " [0. 0. 0. 0. 0. 0. 0. 0. 0. 0.]\n",
            " [0. 0. 0. 0. 0. 0. 0. 0. 0. 0.]\n",
            " [0. 0. 0. 0. 0. 0. 0. 0. 0. 0.]\n",
            " [0. 0. 0. 0. 0. 0. 0. 0. 0. 0.]\n",
            " [0. 0. 0. 0. 0. 0. 0. 0. 0. 0.]\n",
            " [0. 0. 0. 0. 0. 0. 0. 0. 0. 0.]\n",
            " [0. 0. 0. 0. 0. 0. 0. 0. 0. 0.]\n",
            " [0. 0. 0. 0. 0. 0. 0. 0. 0. 0.]]\n",
            "100 8\n",
            "800 bytes\n"
          ]
        }
      ]
    },
    {
      "cell_type": "markdown",
      "metadata": {
        "id": "0b16cd77"
      },
      "source": [
        "#### 5. Create a null vector of size 10 but the fifth value which is 1 (★☆☆)"
      ],
      "id": "0b16cd77"
    },
    {
      "cell_type": "code",
      "metadata": {
        "id": "4d9b5975",
        "colab": {
          "base_uri": "https://localhost:8080/"
        },
        "outputId": "3fd167af-74ea-4e1c-9932-43f39d315c80"
      },
      "source": [
        "ex5=np.zeros(10)\n",
        "ex5[4]=1\n",
        "print(ex5)"
      ],
      "id": "4d9b5975",
      "execution_count": null,
      "outputs": [
        {
          "output_type": "stream",
          "name": "stdout",
          "text": [
            "[0. 0. 0. 0. 1. 0. 0. 0. 0. 0.]\n"
          ]
        }
      ]
    },
    {
      "cell_type": "markdown",
      "metadata": {
        "id": "782d4c77"
      },
      "source": [
        "#### 6. Create a vector with values ranging from 10 to 49 (★☆☆)"
      ],
      "id": "782d4c77"
    },
    {
      "cell_type": "code",
      "metadata": {
        "id": "5dbe1a08",
        "colab": {
          "base_uri": "https://localhost:8080/"
        },
        "outputId": "bf117708-66d3-4b5f-d1f9-36ac08c471a0"
      },
      "source": [
        "np.arange(10,50)"
      ],
      "id": "5dbe1a08",
      "execution_count": null,
      "outputs": [
        {
          "output_type": "execute_result",
          "data": {
            "text/plain": [
              "array([10, 11, 12, 13, 14, 15, 16, 17, 18, 19, 20, 21, 22, 23, 24, 25, 26,\n",
              "       27, 28, 29, 30, 31, 32, 33, 34, 35, 36, 37, 38, 39, 40, 41, 42, 43,\n",
              "       44, 45, 46, 47, 48, 49])"
            ]
          },
          "metadata": {},
          "execution_count": 4
        }
      ]
    },
    {
      "cell_type": "markdown",
      "metadata": {
        "id": "48d48f01"
      },
      "source": [
        "#### 7. Reverse a vector (first element becomes last) (★☆☆)"
      ],
      "id": "48d48f01"
    },
    {
      "cell_type": "code",
      "metadata": {
        "id": "3ed233e7",
        "colab": {
          "base_uri": "https://localhost:8080/"
        },
        "outputId": "6fcbbe30-8238-427b-c0dc-f86660994b2d"
      },
      "source": [
        "np.sort(np.arange(10,50))[::-1]"
      ],
      "id": "3ed233e7",
      "execution_count": null,
      "outputs": [
        {
          "output_type": "execute_result",
          "data": {
            "text/plain": [
              "array([49, 48, 47, 46, 45, 44, 43, 42, 41, 40, 39, 38, 37, 36, 35, 34, 33,\n",
              "       32, 31, 30, 29, 28, 27, 26, 25, 24, 23, 22, 21, 20, 19, 18, 17, 16,\n",
              "       15, 14, 13, 12, 11, 10])"
            ]
          },
          "metadata": {},
          "execution_count": 5
        }
      ]
    },
    {
      "cell_type": "markdown",
      "metadata": {
        "id": "4fa39382"
      },
      "source": [
        "#### 8. Create a 3x3 matrix with values ranging from 0 to 8 (★☆☆)"
      ],
      "id": "4fa39382"
    },
    {
      "cell_type": "code",
      "metadata": {
        "id": "c97757ec",
        "colab": {
          "base_uri": "https://localhost:8080/"
        },
        "outputId": "164aa515-d708-4bfa-dddb-b06250a99886"
      },
      "source": [
        "ex8=np.arange(0,9)\n",
        "ex8_1=np.array(ex8).reshape(3,3)\n",
        "print(ex8_1)"
      ],
      "id": "c97757ec",
      "execution_count": null,
      "outputs": [
        {
          "output_type": "stream",
          "name": "stdout",
          "text": [
            "[[0 1 2]\n",
            " [3 4 5]\n",
            " [6 7 8]]\n"
          ]
        }
      ]
    },
    {
      "cell_type": "markdown",
      "metadata": {
        "id": "da64551a"
      },
      "source": [
        "#### 9. Find indices of non-zero elements from [1,2,0,0,4,0] (★☆☆)"
      ],
      "id": "da64551a"
    },
    {
      "cell_type": "code",
      "metadata": {
        "id": "327f7adb",
        "colab": {
          "base_uri": "https://localhost:8080/"
        },
        "outputId": "566cf495-f824-4099-8140-63ad8e22814f"
      },
      "source": [
        "ex9=[1,2,0,0,4,0]\n",
        "nonzero_indices=ex9[ex9!=0]\n",
        "print(nonzero_indices)"
      ],
      "id": "327f7adb",
      "execution_count": null,
      "outputs": [
        {
          "output_type": "stream",
          "name": "stdout",
          "text": [
            "2\n"
          ]
        }
      ]
    },
    {
      "cell_type": "markdown",
      "metadata": {
        "id": "f89d9c9e"
      },
      "source": [
        "#### 10. Create a 3x3 identity matrix (★☆☆)\n",
        "Hint : identity & eye, try to use 'help' to learn how to use two functions of numpy"
      ],
      "id": "f89d9c9e"
    },
    {
      "cell_type": "code",
      "metadata": {
        "id": "ba625832",
        "colab": {
          "base_uri": "https://localhost:8080/"
        },
        "outputId": "17e5169d-790f-4d6c-d587-e79060acde74"
      },
      "source": [
        "np.eye(3,3)"
      ],
      "id": "ba625832",
      "execution_count": null,
      "outputs": [
        {
          "output_type": "execute_result",
          "data": {
            "text/plain": [
              "array([[1., 0., 0.],\n",
              "       [0., 1., 0.],\n",
              "       [0., 0., 1.]])"
            ]
          },
          "metadata": {},
          "execution_count": 21
        }
      ]
    },
    {
      "cell_type": "markdown",
      "metadata": {
        "id": "7e44c6fa"
      },
      "source": [
        "#### 11. Create a 3x3x3 array with random values (★☆☆)\n",
        "Hint : numpy.random.random"
      ],
      "id": "7e44c6fa"
    },
    {
      "cell_type": "code",
      "metadata": {
        "id": "1cb3dddf",
        "colab": {
          "base_uri": "https://localhost:8080/"
        },
        "outputId": "ae959eb3-ed8a-43e8-8b34-0862526c6bb6"
      },
      "source": [
        "np.random.randn(3,3,3) #random.randn은 차원을 고려하여 입력해 랜덤으로 행열을 만듦"
      ],
      "id": "1cb3dddf",
      "execution_count": null,
      "outputs": [
        {
          "output_type": "execute_result",
          "data": {
            "text/plain": [
              "array([[[-2.09485117,  0.76688693, -1.84532775],\n",
              "        [-0.84186787,  0.73384002, -0.64426448],\n",
              "        [-0.03062166, -0.32192633, -1.80264464]],\n",
              "\n",
              "       [[ 1.0665853 , -1.07251777, -2.07576169],\n",
              "        [-1.25321003,  0.84520052, -0.65602483],\n",
              "        [-1.13132843,  0.61136604, -1.76110055]],\n",
              "\n",
              "       [[ 0.18032975,  1.72222662,  0.27792528],\n",
              "        [ 0.88706643,  0.16173594, -0.23861967],\n",
              "        [ 0.77862943, -1.2275692 , -1.06977832]]])"
            ]
          },
          "metadata": {},
          "execution_count": 26
        }
      ]
    },
    {
      "cell_type": "markdown",
      "metadata": {
        "id": "13c5928c"
      },
      "source": [
        "#### 12. Create a 10x10 array with random values and find the **min**imum and **max**imum values (★☆☆)"
      ],
      "id": "13c5928c"
    },
    {
      "cell_type": "code",
      "metadata": {
        "id": "911c9b93",
        "colab": {
          "base_uri": "https://localhost:8080/"
        },
        "outputId": "ee282969-93b6-4616-c6bb-cda85aec451e"
      },
      "source": [
        "ex12=np.random.randn(10,10)\n",
        "print(ex12.min())\n",
        "print(ex12.max())"
      ],
      "id": "911c9b93",
      "execution_count": null,
      "outputs": [
        {
          "output_type": "execute_result",
          "data": {
            "text/plain": [
              "2.635043931768755"
            ]
          },
          "metadata": {},
          "execution_count": 33
        }
      ]
    },
    {
      "cell_type": "markdown",
      "metadata": {
        "id": "3fa2e461"
      },
      "source": [
        "#### 13. Create a random vector of size 30 and find the **mean** value (★☆☆)"
      ],
      "id": "3fa2e461"
    },
    {
      "cell_type": "code",
      "metadata": {
        "id": "323eb38a",
        "colab": {
          "base_uri": "https://localhost:8080/"
        },
        "outputId": "467d590f-da2c-48d5-ba67-822c2a0b3ef8"
      },
      "source": [
        "ex13=np.random.randn(30)\n",
        "ex13.mean()"
      ],
      "id": "323eb38a",
      "execution_count": null,
      "outputs": [
        {
          "output_type": "execute_result",
          "data": {
            "text/plain": [
              "-0.07400733741896044"
            ]
          },
          "metadata": {},
          "execution_count": 42
        }
      ]
    },
    {
      "cell_type": "markdown",
      "metadata": {
        "id": "73f7a549"
      },
      "source": [
        "#### 14. Create a 2d array with 1 on the border and 0 inside (★☆☆)"
      ],
      "id": "73f7a549"
    },
    {
      "cell_type": "code",
      "metadata": {
        "id": "e3a6807d",
        "colab": {
          "base_uri": "https://localhost:8080/"
        },
        "outputId": "079e75b0-7324-436e-ad90-36ce1526d247"
      },
      "source": [
        "Z = np.ones((5,5))\n",
        "Z[1:-1, 1:-1] = 0\n",
        "print(Z)"
      ],
      "id": "e3a6807d",
      "execution_count": null,
      "outputs": [
        {
          "output_type": "stream",
          "name": "stdout",
          "text": [
            "[[1. 1. 1. 1. 1.]\n",
            " [1. 0. 0. 0. 1.]\n",
            " [1. 0. 0. 0. 1.]\n",
            " [1. 0. 0. 0. 1.]\n",
            " [1. 1. 1. 1. 1.]]\n"
          ]
        }
      ]
    },
    {
      "cell_type": "markdown",
      "metadata": {
        "id": "d6ad1a9f"
      },
      "source": [
        "#### 15. What is the result of the following expression? (★☆☆)\n",
        "```python\n",
        "0 * np.nan\n",
        "np.nan == np.nan\n",
        "np.inf > np.nan\n",
        "np.nan - np.nan\n",
        "np.nan in set([np.nan])\n",
        "0.3 == 3 * 0.1\n",
        "```"
      ],
      "id": "d6ad1a9f"
    },
    {
      "cell_type": "code",
      "metadata": {
        "id": "ee7ff0f3",
        "colab": {
          "base_uri": "https://localhost:8080/"
        },
        "outputId": "00e2efb8-c1de-4edc-be3a-5f9cc09538bc"
      },
      "source": [
        "nan\n",
        "False\n",
        "False\n",
        "nan\n",
        "True\n",
        "false"
      ],
      "id": "ee7ff0f3",
      "execution_count": null,
      "outputs": [
        {
          "output_type": "execute_result",
          "data": {
            "text/plain": [
              "nan"
            ]
          },
          "metadata": {},
          "execution_count": 43
        }
      ]
    },
    {
      "cell_type": "markdown",
      "metadata": {
        "id": "e3a7ba7f"
      },
      "source": [
        "#### 16. Create a 5x5 matrix with values 1,2,3,4 just below the **diag**onal (★☆☆)"
      ],
      "id": "e3a7ba7f"
    },
    {
      "cell_type": "code",
      "metadata": {
        "id": "01d8e257",
        "colab": {
          "base_uri": "https://localhost:8080/"
        },
        "outputId": "0dd8d76c-9e45-434f-c76e-bb4f1c7a4ca1"
      },
      "source": [
        "Z = np.diag(1+np.arange(4), k=-1)\n",
        "print(Z)  #k가 시작한 열을 지정해줌\n",
        "\n",
        "#.diag()로 대각행렬을 만들어줌."
      ],
      "id": "01d8e257",
      "execution_count": 7,
      "outputs": [
        {
          "output_type": "stream",
          "name": "stdout",
          "text": [
            "[[0 0 0 0 0]\n",
            " [1 0 0 0 0]\n",
            " [0 2 0 0 0]\n",
            " [0 0 3 0 0]\n",
            " [0 0 0 4 0]]\n"
          ]
        }
      ]
    },
    {
      "cell_type": "markdown",
      "metadata": {
        "id": "6d17ab5d"
      },
      "source": [
        "#### 17. Create a 8x8 matrix and fill it with a checkerboard pattern (★☆☆)"
      ],
      "id": "6d17ab5d"
    },
    {
      "cell_type": "code",
      "metadata": {
        "id": "841373cd",
        "colab": {
          "base_uri": "https://localhost:8080/"
        },
        "outputId": "956e1748-53fe-4a0b-eb53-8239c3d77250"
      },
      "source": [
        "Z = np.zeros((8,8), dtype=int)\n",
        "Z[1::2, ::2] = 1\n",
        "Z[::2, 1::2] = 1\n",
        "print(Z)      #시작 , 끝, 건너뛰는 "
      ],
      "id": "841373cd",
      "execution_count": 11,
      "outputs": [
        {
          "output_type": "stream",
          "name": "stdout",
          "text": [
            "[[0 1 0 1 0 1 0 1]\n",
            " [1 0 1 0 1 0 1 0]\n",
            " [0 1 0 1 0 1 0 1]\n",
            " [1 0 1 0 1 0 1 0]\n",
            " [0 1 0 1 0 1 0 1]\n",
            " [1 0 1 0 1 0 1 0]\n",
            " [0 1 0 1 0 1 0 1]\n",
            " [1 0 1 0 1 0 1 0]]\n"
          ]
        }
      ]
    },
    {
      "cell_type": "markdown",
      "metadata": {
        "id": "8837119b"
      },
      "source": [
        "#### 18. Consider a (6,7,8) shape array, what is the index (x,y,z) of the 100th element? (★☆☆)\n",
        "Hint : use 'numpy.unravel_index(value, (x, y, z))"
      ],
      "id": "8837119b"
    },
    {
      "cell_type": "code",
      "metadata": {
        "id": "2c0d16f1",
        "colab": {
          "base_uri": "https://localhost:8080/"
        },
        "outputId": "1843ed45-4d31-49b6-bba5-cbb0eafb9a0b"
      },
      "source": [
        "print(np.unravel_index(99, (6,7,8)))"
      ],
      "id": "2c0d16f1",
      "execution_count": null,
      "outputs": [
        {
          "output_type": "stream",
          "name": "stdout",
          "text": [
            "(1, 5, 3)\n"
          ]
        }
      ]
    },
    {
      "cell_type": "markdown",
      "metadata": {
        "id": "391791e0"
      },
      "source": [
        "#### 19. Normalize a 5x5 random matrix (★☆☆)\n",
        "Hint : $Z = \\frac{X - \\overline{X}}{S}$"
      ],
      "id": "391791e0"
    },
    {
      "cell_type": "code",
      "metadata": {
        "id": "f6533d39",
        "colab": {
          "base_uri": "https://localhost:8080/"
        },
        "outputId": "ff5fe050-fab6-47ee-8a32-879fd093dfeb"
      },
      "source": [
        "np.random.randn(5,5)\n",
        "Z = (Z - np.mean(Z)) / (np.std(Z))\n",
        "print(Z)"
      ],
      "id": "f6533d39",
      "execution_count": null,
      "outputs": [
        {
          "output_type": "stream",
          "name": "stdout",
          "text": [
            "[[-1.  1. -1.  1. -1.  1. -1.  1.]\n",
            " [ 1. -1.  1. -1.  1. -1.  1. -1.]\n",
            " [-1.  1. -1.  1. -1.  1. -1.  1.]\n",
            " [ 1. -1.  1. -1.  1. -1.  1. -1.]\n",
            " [-1.  1. -1.  1. -1.  1. -1.  1.]\n",
            " [ 1. -1.  1. -1.  1. -1.  1. -1.]\n",
            " [-1.  1. -1.  1. -1.  1. -1.  1.]\n",
            " [ 1. -1.  1. -1.  1. -1.  1. -1.]]\n"
          ]
        }
      ]
    },
    {
      "cell_type": "markdown",
      "metadata": {
        "id": "1e74d39e"
      },
      "source": [
        "#### 20. Create a custom dtype that describes a color as four unsigned bytes (RGBA) (★☆☆)\n",
        "Hint : modify the code below\n",
        "```python\n",
        "numpy.dtype([(value, numpy.ubyte), … , (value, numpy.ubyte)])\n",
        "```"
      ],
      "id": "1e74d39e"
    },
    {
      "cell_type": "code",
      "metadata": {
        "id": "3f639d33",
        "colab": {
          "base_uri": "https://localhost:8080/"
        },
        "outputId": "971be868-3a50-4ba5-f84a-5c09eb3720c5"
      },
      "source": [
        "color = np.dtype([(\"r\", np.ubyte, 1),\n",
        "                  (\"g\", np.ubyte, 1),\n",
        "                  (\"b\", np.ubyte, 1),\n",
        "                  (\"a\", np.ubyte, 1)])\n",
        "print(color)"
      ],
      "id": "3f639d33",
      "execution_count": null,
      "outputs": [
        {
          "output_type": "stream",
          "name": "stdout",
          "text": [
            "[('r', 'u1'), ('g', 'u1'), ('b', 'u1'), ('a', 'u1')]\n"
          ]
        },
        {
          "output_type": "stream",
          "name": "stderr",
          "text": [
            "/usr/local/lib/python3.7/dist-packages/ipykernel_launcher.py:4: FutureWarning: Passing (type, 1) or '1type' as a synonym of type is deprecated; in a future version of numpy, it will be understood as (type, (1,)) / '(1,)type'.\n",
            "  after removing the cwd from sys.path.\n"
          ]
        }
      ]
    },
    {
      "cell_type": "markdown",
      "metadata": {
        "id": "78250c14"
      },
      "source": [
        "#### 21. Multiply a 5x3 matrix by a 3x2 matrix (real matrix product) (★☆☆)"
      ],
      "id": "78250c14"
    },
    {
      "cell_type": "code",
      "metadata": {
        "id": "9fe729cb",
        "colab": {
          "base_uri": "https://localhost:8080/"
        },
        "outputId": "c3c6d52c-323e-438a-8b13-d44f4f316e9f"
      },
      "source": [
        "np.dot(np.ones((5,3)),np.ones((3,2)))"
      ],
      "id": "9fe729cb",
      "execution_count": null,
      "outputs": [
        {
          "output_type": "execute_result",
          "data": {
            "text/plain": [
              "array([[3., 3.],\n",
              "       [3., 3.],\n",
              "       [3., 3.],\n",
              "       [3., 3.],\n",
              "       [3., 3.]])"
            ]
          },
          "metadata": {},
          "execution_count": 81
        }
      ]
    },
    {
      "cell_type": "markdown",
      "metadata": {
        "id": "51898680"
      },
      "source": [
        "#### 22. Given a 1D array, negate all elements which are between 3 and 8, in place. (★☆☆)"
      ],
      "id": "51898680"
    },
    {
      "cell_type": "code",
      "metadata": {
        "id": "51c90f2d",
        "colab": {
          "base_uri": "https://localhost:8080/"
        },
        "outputId": "6e4b2ebb-5112-46ec-c1f6-b2d4bcc77fca"
      },
      "source": [
        "ex22=np.arange(11)\n",
        "ex22[(3<=ex22) & (ex22<=8)] *= -1\n",
        "print(ex22)"
      ],
      "id": "51c90f2d",
      "execution_count": null,
      "outputs": [
        {
          "output_type": "stream",
          "name": "stdout",
          "text": [
            "[ 0  1  2 -3 -4 -5 -6 -7 -8  9 10]\n"
          ]
        }
      ]
    },
    {
      "cell_type": "markdown",
      "metadata": {
        "id": "89e78048"
      },
      "source": [
        "#### 23. What is the output of the following script? (★☆☆)\n",
        "```python\n",
        "# Author: Jake VanderPlas\n",
        "\n",
        "print(sum(range(5),-1))\n",
        "from numpy import *\n",
        "print(sum(range(5),-1))\n",
        "```"
      ],
      "id": "89e78048"
    },
    {
      "cell_type": "code",
      "metadata": {
        "id": "b62e9d1c",
        "colab": {
          "base_uri": "https://localhost:8080/"
        },
        "outputId": "7977ee4f-5213-4074-8540-0b7c23f69c40"
      },
      "source": [
        "9\n",
        "10"
      ],
      "id": "b62e9d1c",
      "execution_count": null,
      "outputs": [
        {
          "output_type": "stream",
          "name": "stdout",
          "text": [
            "10\n"
          ]
        }
      ]
    },
    {
      "cell_type": "markdown",
      "metadata": {
        "id": "ebd10810"
      },
      "source": [
        "#### 24. Consider an integer vector Z, which of these expressions are legal? (★☆☆)\n",
        "```python\n",
        "Z**Z\n",
        "2 << Z >> 2\n",
        "Z <- Z\n",
        "1j*Z\n",
        "Z/1/1\n",
        "Z<Z>Z\n",
        "```"
      ],
      "id": "ebd10810"
    },
    {
      "cell_type": "code",
      "source": [
        "2 << Z >> 2"
      ],
      "metadata": {
        "colab": {
          "base_uri": "https://localhost:8080/"
        },
        "id": "fxCxdzW5aoOp",
        "outputId": "8a2932e2-2231-4d08-c326-bd77a637d835"
      },
      "id": "fxCxdzW5aoOp",
      "execution_count": null,
      "outputs": [
        {
          "output_type": "execute_result",
          "data": {
            "text/plain": [
              "array([  0,   1,   2,   4,   8,  16,  32,  64, 128, 256, 512])"
            ]
          },
          "metadata": {},
          "execution_count": 10
        }
      ]
    },
    {
      "cell_type": "code",
      "metadata": {
        "id": "6ada209f",
        "colab": {
          "base_uri": "https://localhost:8080/"
        },
        "outputId": "81cb23a9-ef6d-4636-9a7a-ba07dc1e5d8e"
      },
      "source": [
        "Z=np.arange(11)\n",
        "Z**Z"
      ],
      "id": "6ada209f",
      "execution_count": null,
      "outputs": [
        {
          "output_type": "execute_result",
          "data": {
            "text/plain": [
              "array([          1,           1,           4,          27,         256,\n",
              "              3125,       46656,      823543,    16777216,   387420489,\n",
              "       10000000000])"
            ]
          },
          "metadata": {},
          "execution_count": 9
        }
      ]
    },
    {
      "cell_type": "code",
      "source": [
        "Z <- Z"
      ],
      "metadata": {
        "colab": {
          "base_uri": "https://localhost:8080/"
        },
        "id": "SLqqddiSaqAM",
        "outputId": "25f4dcc3-cc69-41d9-887a-ca1bc7907922"
      },
      "id": "SLqqddiSaqAM",
      "execution_count": null,
      "outputs": [
        {
          "output_type": "execute_result",
          "data": {
            "text/plain": [
              "array([False, False, False, False, False, False, False, False, False,\n",
              "       False, False])"
            ]
          },
          "metadata": {},
          "execution_count": 11
        }
      ]
    },
    {
      "cell_type": "code",
      "source": [
        "1j*Z"
      ],
      "metadata": {
        "colab": {
          "base_uri": "https://localhost:8080/"
        },
        "id": "VtP2o2ryaqZC",
        "outputId": "d825989a-ca69-49f9-f9f8-b88cd91c28fb"
      },
      "id": "VtP2o2ryaqZC",
      "execution_count": null,
      "outputs": [
        {
          "output_type": "execute_result",
          "data": {
            "text/plain": [
              "array([0. +0.j, 0. +1.j, 0. +2.j, 0. +3.j, 0. +4.j, 0. +5.j, 0. +6.j,\n",
              "       0. +7.j, 0. +8.j, 0. +9.j, 0.+10.j])"
            ]
          },
          "metadata": {},
          "execution_count": 12
        }
      ]
    },
    {
      "cell_type": "code",
      "source": [
        "Z/1/1"
      ],
      "metadata": {
        "colab": {
          "base_uri": "https://localhost:8080/"
        },
        "id": "2zVifAnXaqtt",
        "outputId": "8c0b3173-f371-4bf2-b285-afad2cd43f69"
      },
      "id": "2zVifAnXaqtt",
      "execution_count": null,
      "outputs": [
        {
          "output_type": "execute_result",
          "data": {
            "text/plain": [
              "array([ 0.,  1.,  2.,  3.,  4.,  5.,  6.,  7.,  8.,  9., 10.])"
            ]
          },
          "metadata": {},
          "execution_count": 13
        }
      ]
    },
    {
      "cell_type": "code",
      "source": [
        "Z<Z>Z"
      ],
      "metadata": {
        "colab": {
          "base_uri": "https://localhost:8080/",
          "height": 166
        },
        "id": "EsvVpa7aaqzB",
        "outputId": "6294f317-3684-4b8b-9c41-2139a453a3f9"
      },
      "id": "EsvVpa7aaqzB",
      "execution_count": null,
      "outputs": [
        {
          "output_type": "error",
          "ename": "ValueError",
          "evalue": "ignored",
          "traceback": [
            "\u001b[0;31m---------------------------------------------------------------------------\u001b[0m",
            "\u001b[0;31mValueError\u001b[0m                                Traceback (most recent call last)",
            "\u001b[0;32m<ipython-input-14-6d2bd9eb1fd1>\u001b[0m in \u001b[0;36m<module>\u001b[0;34m\u001b[0m\n\u001b[0;32m----> 1\u001b[0;31m \u001b[0mZ\u001b[0m\u001b[0;34m<\u001b[0m\u001b[0mZ\u001b[0m\u001b[0;34m>\u001b[0m\u001b[0mZ\u001b[0m\u001b[0;34m\u001b[0m\u001b[0;34m\u001b[0m\u001b[0m\n\u001b[0m",
            "\u001b[0;31mValueError\u001b[0m: The truth value of an array with more than one element is ambiguous. Use a.any() or a.all()"
          ]
        }
      ]
    },
    {
      "cell_type": "markdown",
      "metadata": {
        "id": "c0e940f8"
      },
      "source": [
        "#### 25. What are the result of the following expressions? (★☆☆)\n",
        "```python\n",
        "np.array(0) / np.array(0)\n",
        "np.array(0) // np.array(0)\n",
        "np.array([np.nan]).astype(int).astype(float)\n",
        "```"
      ],
      "id": "c0e940f8"
    },
    {
      "cell_type": "code",
      "metadata": {
        "id": "820dc7a5",
        "colab": {
          "base_uri": "https://localhost:8080/"
        },
        "outputId": "fb7d84a7-da1a-4ef7-adad-a2540c98266e"
      },
      "source": [
        "nan\n",
        "0 \n",
        "array([-9.22337204e+18])"
      ],
      "id": "820dc7a5",
      "execution_count": null,
      "outputs": [
        {
          "output_type": "execute_result",
          "data": {
            "text/plain": [
              "array([-9.22337204e+18])"
            ]
          },
          "metadata": {},
          "execution_count": 92
        }
      ]
    },
    {
      "cell_type": "markdown",
      "metadata": {
        "id": "f1ae2c2d"
      },
      "source": [
        "#### 26. How to find common values between two arrays? (★☆☆)\n",
        "```python\n",
        "Z1 = np.random.randint(0,10,10)\n",
        "Z2 = np.random.randint(0,10,10)\n",
        "```\n",
        "Hint : use `numpy.random.randint(start, end, size)`"
      ],
      "id": "f1ae2c2d"
    },
    {
      "cell_type": "code",
      "metadata": {
        "id": "6801c73d",
        "colab": {
          "base_uri": "https://localhost:8080/"
        },
        "outputId": "7a868eb9-c6bd-41d0-d6bd-b171bccd088d"
      },
      "source": [
        "Z1 = np.random.randint(0,10,10)\n",
        "Z2 = np.random.randint(0,10,10)\n",
        "print(np.intersect1d(Z1,Z2))"
      ],
      "id": "6801c73d",
      "execution_count": null,
      "outputs": [
        {
          "output_type": "stream",
          "name": "stdout",
          "text": [
            "[0 2 5 6 9]\n"
          ]
        }
      ]
    },
    {
      "cell_type": "markdown",
      "metadata": {
        "id": "37bc0973"
      },
      "source": [
        "#### 27. Is the following expressions true? (★☆☆)\n",
        "```python\n",
        "np.sqrt(-1) == np.emath.sqrt(-1)\n",
        "```"
      ],
      "id": "37bc0973"
    },
    {
      "cell_type": "code",
      "metadata": {
        "id": "c70cbabe",
        "colab": {
          "base_uri": "https://localhost:8080/"
        },
        "outputId": "d7861952-4812-41c0-c38a-cb7fe5458353"
      },
      "source": [
        "np.emath.sqrt(-1)\n",
        "\n",
        "False"
      ],
      "id": "c70cbabe",
      "execution_count": 12,
      "outputs": [
        {
          "output_type": "execute_result",
          "data": {
            "text/plain": [
              "1j"
            ]
          },
          "metadata": {},
          "execution_count": 12
        }
      ]
    },
    {
      "cell_type": "code",
      "source": [
        "import numpy as np"
      ],
      "metadata": {
        "id": "uFZqYO0BxrKi"
      },
      "id": "uFZqYO0BxrKi",
      "execution_count": null,
      "outputs": []
    },
    {
      "cell_type": "markdown",
      "metadata": {
        "id": "42f8b2f9"
      },
      "source": [
        "#### 28. How to get all the dates corresponding to the month of July 2016? (★★☆)\n",
        "Hint : modify the code below\n",
        "```python\n",
        "Z = np.arange('start', 'end', dtype='datetime64[D]')\n",
        "```"
      ],
      "id": "42f8b2f9"
    },
    {
      "cell_type": "code",
      "source": [
        "Z = np.arange('2016-07','2016-08', dtype='datetime64[D]')\n",
        "Z"
      ],
      "metadata": {
        "id": "3kkl01x3x0NF",
        "colab": {
          "base_uri": "https://localhost:8080/"
        },
        "outputId": "76c3ccd4-723b-4825-a417-cc27b4730e3b"
      },
      "id": "3kkl01x3x0NF",
      "execution_count": null,
      "outputs": [
        {
          "output_type": "execute_result",
          "data": {
            "text/plain": [
              "array(['2016-07-01', '2016-07-02', '2016-07-03', '2016-07-04',\n",
              "       '2016-07-05', '2016-07-06', '2016-07-07', '2016-07-08',\n",
              "       '2016-07-09', '2016-07-10', '2016-07-11', '2016-07-12',\n",
              "       '2016-07-13', '2016-07-14', '2016-07-15', '2016-07-16',\n",
              "       '2016-07-17', '2016-07-18', '2016-07-19', '2016-07-20',\n",
              "       '2016-07-21', '2016-07-22', '2016-07-23', '2016-07-24',\n",
              "       '2016-07-25', '2016-07-26', '2016-07-27', '2016-07-28',\n",
              "       '2016-07-29', '2016-07-30', '2016-07-31'], dtype='datetime64[D]')"
            ]
          },
          "metadata": {},
          "execution_count": 33
        }
      ]
    },
    {
      "cell_type": "markdown",
      "metadata": {
        "id": "252c43e2"
      },
      "source": [
        "#### 29. How to compute ((A+B)*(-A/2)) in place (without copy)? (★★☆)\n",
        "Hint : use `numpy.add`, `numpy.divide`,`numpy.negative`, `numpy.multiply` and parameter `out` of the funtions"
      ],
      "id": "252c43e2"
    },
    {
      "cell_type": "code",
      "metadata": {
        "id": "f06ff615",
        "colab": {
          "base_uri": "https://localhost:8080/"
        },
        "outputId": "1c0ac92a-28dd-4193-c737-d53e413172f1"
      },
      "source": [
        "A = np.ones(3)*1\n",
        "B = np.ones(3)*2\n",
        "C = np.ones(3)*3\n",
        "np.add(A,B,out=B)\n",
        "np.negative(A,out=A)\n",
        "np.divide(A,2,out=A)\n",
        "np.multiply(A,B,out=A)"
      ],
      "id": "f06ff615",
      "execution_count": null,
      "outputs": [
        {
          "output_type": "execute_result",
          "data": {
            "text/plain": [
              "array([-1.5, -1.5, -1.5])"
            ]
          },
          "metadata": {},
          "execution_count": 36
        }
      ]
    },
    {
      "cell_type": "markdown",
      "metadata": {
        "id": "486df8ea"
      },
      "source": [
        "#### 30. Extract the integer part of a random array of positive numbers using 2 different methods (★★☆)\n",
        "Hint : `%`, `//`"
      ],
      "id": "486df8ea"
    },
    {
      "cell_type": "code",
      "metadata": {
        "id": "34b4fa08",
        "colab": {
          "base_uri": "https://localhost:8080/"
        },
        "outputId": "3b7130db-8430-499e-9cc9-0ee0026ff32d"
      },
      "source": [
        "Z = np.random.uniform(0,10,10)\n",
        "print(Z)\n",
        "\n",
        "print(Z - Z%1)\n",
        "print(np.floor(Z))"
      ],
      "id": "34b4fa08",
      "execution_count": null,
      "outputs": [
        {
          "output_type": "stream",
          "name": "stdout",
          "text": [
            "[9.93982785 2.75163244 9.69162752 7.95040165 9.99240928 3.47222646\n",
            " 4.22697827 0.77603641 1.6839408  5.67774062]\n",
            "[9. 2. 9. 7. 9. 3. 4. 0. 1. 5.]\n",
            "[9. 2. 9. 7. 9. 3. 4. 0. 1. 5.]\n"
          ]
        }
      ]
    },
    {
      "cell_type": "markdown",
      "metadata": {
        "id": "649e89f9"
      },
      "source": [
        "#### 31. Create a 5x5 matrix with row values ranging from 0 to 4 (★★☆)"
      ],
      "id": "649e89f9"
    },
    {
      "cell_type": "code",
      "metadata": {
        "id": "663cc611",
        "colab": {
          "base_uri": "https://localhost:8080/"
        },
        "outputId": "9718409e-b690-41d8-dbc6-1c6851d5ca13"
      },
      "source": [
        "Z = np.zeros((5,5))\n",
        "print(Z)\n",
        "\n",
        "Z+=np.arange(5)\n",
        "Z"
      ],
      "id": "663cc611",
      "execution_count": null,
      "outputs": [
        {
          "output_type": "stream",
          "name": "stdout",
          "text": [
            "[[0. 0. 0. 0. 0.]\n",
            " [0. 0. 0. 0. 0.]\n",
            " [0. 0. 0. 0. 0.]\n",
            " [0. 0. 0. 0. 0.]\n",
            " [0. 0. 0. 0. 0.]]\n"
          ]
        },
        {
          "output_type": "execute_result",
          "data": {
            "text/plain": [
              "array([[0., 1., 2., 3., 4.],\n",
              "       [0., 1., 2., 3., 4.],\n",
              "       [0., 1., 2., 3., 4.],\n",
              "       [0., 1., 2., 3., 4.],\n",
              "       [0., 1., 2., 3., 4.]])"
            ]
          },
          "metadata": {},
          "execution_count": 42
        }
      ]
    },
    {
      "cell_type": "markdown",
      "metadata": {
        "id": "2d07be1c"
      },
      "source": [
        "#### 32. Create a random vector of size 10 and sort it (★★☆)"
      ],
      "id": "2d07be1c"
    },
    {
      "cell_type": "code",
      "metadata": {
        "id": "4f7cb3ad",
        "colab": {
          "base_uri": "https://localhost:8080/"
        },
        "outputId": "7f3d44fc-77d4-4ab1-f2c9-e21b688c7f87"
      },
      "source": [
        "K=np.random.random(10)\n",
        "K.sort()\n",
        "print(K)"
      ],
      "id": "4f7cb3ad",
      "execution_count": null,
      "outputs": [
        {
          "output_type": "stream",
          "name": "stdout",
          "text": [
            "[0.14408131 0.19631377 0.2295155  0.23987957 0.55609035 0.63390784\n",
            " 0.68172074 0.69776541 0.8176776  0.96168097]\n"
          ]
        }
      ]
    },
    {
      "cell_type": "markdown",
      "metadata": {
        "id": "fe043549"
      },
      "source": [
        "#### 33. Consider two random array A and B, check if they are equal (★★☆)\n",
        "```python\n",
        "A = np.random.randint(0,2,5)\n",
        "B = np.random.randint(0,2,5)\n",
        "```\n",
        "Hint : Use `numpy.array_equal()`"
      ],
      "id": "fe043549"
    },
    {
      "cell_type": "code",
      "metadata": {
        "id": "3326a686",
        "colab": {
          "base_uri": "https://localhost:8080/"
        },
        "outputId": "e4dc3e49-94ed-4b83-cec8-88e02afa7feb"
      },
      "source": [
        "A = np.random.randint(0,2,5)\n",
        "B = np.random.randint(0,2,5)\n",
        "print(A)\n",
        "K=np.array_equal(A,B)\n",
        "print(K)"
      ],
      "id": "3326a686",
      "execution_count": 16,
      "outputs": [
        {
          "output_type": "stream",
          "name": "stdout",
          "text": [
            "[1 0 0 0 0]\n",
            "False\n"
          ]
        }
      ]
    },
    {
      "cell_type": "markdown",
      "metadata": {
        "id": "2002cb03"
      },
      "source": [
        "#### 34. Consider a random 10x2 matrix representing cartesian coordinates, convert them to polar coordinates (★★☆)\n",
        "Hint 1 : Note that cartesian coodinate **(x, y)** can be represented as  polar coordinates **(distance from origin to (x,y), angle from the x-axis)**\n",
        "\n",
        "Hint 2 : Use `numpy.sqrt` and `numpy.arctan2`"
      ],
      "id": "2002cb03"
    },
    {
      "cell_type": "code",
      "metadata": {
        "id": "58be72bc",
        "colab": {
          "base_uri": "https://localhost:8080/"
        },
        "outputId": "a48888ed-a821-470b-cdbf-9ddeaab72180"
      },
      "source": [
        "Z = np.random.random((10,2))\n",
        "print(Z)\n",
        "#이렇게 ((10,2)) 하면 바로 행열 만들어줌\n",
        "\n",
        "X, Y = Z[:,0], Z[:,1]\n",
        "R = np.sqrt(X**2+Y**2)\n",
        "T = np.arctan2(Y,X)\n",
        "print(R)\n",
        "print(T)"
      ],
      "id": "58be72bc",
      "execution_count": null,
      "outputs": [
        {
          "output_type": "stream",
          "name": "stdout",
          "text": [
            "[[0.07796749 0.17847383]\n",
            " [0.98073438 0.59742056]\n",
            " [0.84350427 0.39413831]\n",
            " [0.53589739 0.27423223]\n",
            " [0.63353382 0.10075719]\n",
            " [0.28894961 0.16376648]\n",
            " [0.32785901 0.23924959]\n",
            " [0.7794379  0.33726425]\n",
            " [0.65380186 0.97971113]\n",
            " [0.80923626 0.59998717]]\n",
            "[0.19476098 1.14836895 0.93104482 0.60198781 0.641496   0.33213151\n",
            " 0.40587177 0.84927652 1.17783308 1.00739661]\n",
            "[1.15892594 0.54712491 0.43711672 0.47298376 0.15771905 0.5156233\n",
            " 0.63040367 0.40837609 0.9823267  0.63798983]\n"
          ]
        }
      ]
    },
    {
      "cell_type": "markdown",
      "metadata": {
        "id": "b7109c9f"
      },
      "source": [
        "#### 35. Create random vector Z of size 10 and replace the maximum value by 0 (★★☆)\n",
        "Hint : We can see the index of maximum value using `Z.argmax()`"
      ],
      "id": "b7109c9f"
    },
    {
      "cell_type": "code",
      "metadata": {
        "id": "f79e79a7",
        "colab": {
          "base_uri": "https://localhost:8080/"
        },
        "outputId": "3e141ffc-c3e2-440c-f25d-f7124c641ea4"
      },
      "source": [
        "Z=np.random.randn(10)\n",
        "Z.argmax()\n",
        "Z[Z.argmax()] = 0\n",
        "print(Z)"
      ],
      "id": "f79e79a7",
      "execution_count": null,
      "outputs": [
        {
          "output_type": "stream",
          "name": "stdout",
          "text": [
            "[-0.68030157 -0.3741021  -1.12949947 -1.37948033 -0.92440893  0.\n",
            " -0.03544206 -0.30125325 -0.66275243 -0.56135867]\n"
          ]
        }
      ]
    },
    {
      "cell_type": "markdown",
      "metadata": {
        "id": "e6e1ae2f"
      },
      "source": [
        "#### 36. How to find the closest value (to a given scalar v) in a vector Z? (★★☆)\n",
        "```python\n",
        "Z = np.arange(100)\n",
        "v = np.random.uniform(0,100)\n",
        "```\n",
        "Hint : Coumpute the distances between the each elements of Z and the scalar v. After that, we can see the index of minimum value using `argmin()`.  "
      ],
      "id": "e6e1ae2f"
    },
    {
      "cell_type": "code",
      "source": [
        "Z = np.arange(100)\n",
        "v = np.random.uniform(0,100)\n",
        "index = (np.abs(Z-v)).argmin()\n",
        "print(index)"
      ],
      "metadata": {
        "id": "QkQ2Mii77FrE",
        "colab": {
          "base_uri": "https://localhost:8080/"
        },
        "outputId": "a738924c-5b95-4d56-aa3f-616cbe8e7c7f"
      },
      "id": "QkQ2Mii77FrE",
      "execution_count": 17,
      "outputs": [
        {
          "output_type": "stream",
          "name": "stdout",
          "text": [
            "10.535279183070646\n",
            "11\n"
          ]
        }
      ]
    },
    {
      "cell_type": "markdown",
      "metadata": {
        "id": "f98713a6"
      },
      "source": [
        "#### 37. What is the equivalent of enumerate for numpy arrays? (★★☆)\n",
        "Hint : Use `numpy.ndenumerate()`or `numpy.ndindex()`\n",
        "\n",
        "Example of the output :\n",
        "```python\n",
        "Z = np.arange(9).reshape(3,3)\n",
        "```\n",
        "```python\n",
        "# output\n",
        "(0, 0) 0\n",
        "(0, 1) 1\n",
        "(0, 2) 2\n",
        "(1, 0) 3\n",
        "(1, 1) 4\n",
        "(1, 2) 5\n",
        "(2, 0) 6\n",
        "(2, 1) 7\n",
        "(2, 2) 8\n",
        "```"
      ],
      "id": "f98713a6"
    },
    {
      "cell_type": "code",
      "metadata": {
        "id": "64795f84",
        "colab": {
          "base_uri": "https://localhost:8080/"
        },
        "outputId": "ff1c4538-635a-4914-896c-f3d7b4387abe"
      },
      "source": [
        "Z = np.arange(9).reshape(3,3)\n",
        "\n",
        "for index, value in np.ndenumerate(Z):\n",
        "    print(index, value)"
      ],
      "id": "64795f84",
      "execution_count": null,
      "outputs": [
        {
          "output_type": "stream",
          "name": "stdout",
          "text": [
            "(0, 0) 0\n",
            "(0, 1) 1\n",
            "(0, 2) 2\n",
            "(1, 0) 3\n",
            "(1, 1) 4\n",
            "(1, 2) 5\n",
            "(2, 0) 6\n",
            "(2, 1) 7\n",
            "(2, 2) 8\n"
          ]
        }
      ]
    },
    {
      "cell_type": "markdown",
      "metadata": {
        "id": "0cf413ee"
      },
      "source": [
        "#### 38. How to randomly place p elements in a 2D array? (★★☆)\n",
        "Hint : modify the code below\n",
        "```python\n",
        "n = 'size of a 2D array'\n",
        "p = 'the number of elements that you want to place'\n",
        "Z = np.zeros((n,n))\n",
        "np.put(Z, np.random.choice(range(n*n), p, replace = False),'value that you want to place')\n",
        "print(Z)\n",
        "```"
      ],
      "id": "0cf413ee"
    },
    {
      "cell_type": "code",
      "metadata": {
        "id": "dfc57e06",
        "colab": {
          "base_uri": "https://localhost:8080/"
        },
        "outputId": "14bdf4c0-9056-446d-86e0-9e01e1902586"
      },
      "source": [
        "n = 3\n",
        "p = 5\n",
        "Z = np.zeros((n,n))\n",
        "np.put(Z, np.random.choice(range(n*n), p, replace = False),5)\n",
        "print(Z)"
      ],
      "id": "dfc57e06",
      "execution_count": null,
      "outputs": [
        {
          "output_type": "stream",
          "name": "stdout",
          "text": [
            "[[5. 0. 0.]\n",
            " [5. 0. 5.]\n",
            " [5. 5. 0.]]\n"
          ]
        }
      ]
    },
    {
      "cell_type": "markdown",
      "metadata": {
        "id": "c0cf37e0"
      },
      "source": [
        "#### 39. How to sort an array below by the nth column? (★★☆)\n",
        "```python\n",
        "Z = np.random.randint(0,10,(3,3))\n",
        "```"
      ],
      "id": "c0cf37e0"
    },
    {
      "cell_type": "code",
      "source": [
        "Z = np.random.randint(0,10,(3,3))\n",
        "Z[0,:].sort()\n",
        "Z"
      ],
      "metadata": {
        "colab": {
          "base_uri": "https://localhost:8080/"
        },
        "id": "BIfICo-K71s9",
        "outputId": "e3b3e556-530d-466d-e136-9cd6d6855015"
      },
      "id": "BIfICo-K71s9",
      "execution_count": null,
      "outputs": [
        {
          "output_type": "execute_result",
          "data": {
            "text/plain": [
              "array([[3, 8, 9],\n",
              "       [9, 5, 0],\n",
              "       [4, 9, 4]])"
            ]
          },
          "metadata": {},
          "execution_count": 93
        }
      ]
    },
    {
      "cell_type": "code",
      "source": [
        "# column 2\n",
        "Z = np.random.randint(0,10,(3,3))\n",
        "Z[1,:].sort()\n",
        "Z"
      ],
      "metadata": {
        "id": "0hZzZ6tn2K6V",
        "colab": {
          "base_uri": "https://localhost:8080/"
        },
        "outputId": "7943205d-0575-41ce-8561-37876d7c04c4"
      },
      "id": "0hZzZ6tn2K6V",
      "execution_count": null,
      "outputs": [
        {
          "output_type": "execute_result",
          "data": {
            "text/plain": [
              "array([[5, 1, 8],\n",
              "       [4, 4, 8],\n",
              "       [0, 5, 8]])"
            ]
          },
          "metadata": {},
          "execution_count": 94
        }
      ]
    },
    {
      "cell_type": "code",
      "source": [
        "# column 3\n",
        "Z = np.random.randint(0,10,(3,3))\n",
        "Z[2,:].sort()\n",
        "Z"
      ],
      "metadata": {
        "id": "z4zqQXvt2NaB",
        "colab": {
          "base_uri": "https://localhost:8080/"
        },
        "outputId": "2282c386-e323-4bfb-ac97-c87307cc073c"
      },
      "id": "z4zqQXvt2NaB",
      "execution_count": null,
      "outputs": [
        {
          "output_type": "execute_result",
          "data": {
            "text/plain": [
              "array([[9, 9, 6],\n",
              "       [2, 5, 4],\n",
              "       [0, 3, 6]])"
            ]
          },
          "metadata": {},
          "execution_count": 95
        }
      ]
    }
  ]
}