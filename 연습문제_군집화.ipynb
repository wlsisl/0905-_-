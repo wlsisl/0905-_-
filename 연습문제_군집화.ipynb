{
  "nbformat": 4,
  "nbformat_minor": 0,
  "metadata": {
    "colab": {
      "provenance": [],
      "include_colab_link": true
    },
    "kernelspec": {
      "name": "python3",
      "display_name": "Python 3"
    },
    "language_info": {
      "name": "python"
    }
  },
  "cells": [
    {
      "cell_type": "markdown",
      "metadata": {
        "id": "view-in-github",
        "colab_type": "text"
      },
      "source": [
        "<a href=\"https://colab.research.google.com/github/wlsisl/ESAA_22-2/blob/main/%EC%97%B0%EC%8A%B5%EB%AC%B8%EC%A0%9C_%EA%B5%B0%EC%A7%91%ED%99%94.ipynb\" target=\"_parent\"><img src=\"https://colab.research.google.com/assets/colab-badge.svg\" alt=\"Open In Colab\"/></a>"
      ]
    },
    {
      "cell_type": "markdown",
      "metadata": {
        "id": "c1FcvJ0YgJin"
      },
      "source": [
        "# **kMeans 알고리즘을 적용하여 확인적 군집분석을 수행하시오.**\n",
        ">변수 설명 ) tot_price : 총구매액, buy_count : 구매횟수, \n",
        "                   visit_count : 매장방문횟수, avg_price : 평균구매액"
      ]
    },
    {
      "cell_type": "code",
      "metadata": {
        "id": "e0Bt7MHIgK_P"
      },
      "source": [
        "#필요한 모듈 불러오기\n",
        "import pandas as pd\n",
        "from sklearn.cluster import KMeans \n",
        "import matplotlib.pyplot as plt\n",
        "from sklearn.decomposition import PCA\n",
        "from sklearn.metrics import silhouette_samples, silhouette_score"
      ],
      "execution_count": 58,
      "outputs": []
    },
    {
      "cell_type": "markdown",
      "metadata": {
        "id": "CwK2SgWXgTO5"
      },
      "source": [
        "## 1) 데이터 불러오기 및 탐색"
      ]
    },
    {
      "cell_type": "code",
      "metadata": {
        "id": "QCwXOdIygPKf",
        "colab": {
          "base_uri": "https://localhost:8080/"
        },
        "outputId": "b4c5c8d5-213a-431f-841c-763814bd2468"
      },
      "source": [
        "from google.colab import drive\n",
        "drive.mount('/content/drive')\n",
        "\n",
        "sales = pd.read_csv('/content/drive/MyDrive/ESAA_YB/product_sales (1).csv')\n",
        "print(sales.info())"
      ],
      "execution_count": 59,
      "outputs": [
        {
          "output_type": "stream",
          "name": "stdout",
          "text": [
            "Drive already mounted at /content/drive; to attempt to forcibly remount, call drive.mount(\"/content/drive\", force_remount=True).\n",
            "<class 'pandas.core.frame.DataFrame'>\n",
            "RangeIndex: 150 entries, 0 to 149\n",
            "Data columns (total 4 columns):\n",
            " #   Column       Non-Null Count  Dtype  \n",
            "---  ------       --------------  -----  \n",
            " 0   tot_price    150 non-null    float64\n",
            " 1   visit_count  150 non-null    float64\n",
            " 2   buy_count    150 non-null    float64\n",
            " 3   avg_price    150 non-null    float64\n",
            "dtypes: float64(4)\n",
            "memory usage: 4.8 KB\n",
            "None\n"
          ]
        }
      ]
    },
    {
      "cell_type": "code",
      "metadata": {
        "id": "PRs1pZdAgfcb",
        "colab": {
          "base_uri": "https://localhost:8080/"
        },
        "outputId": "b38d9a68-291f-4638-d499-3bb72fb7d620"
      },
      "source": [
        "print(sales.shape) \n",
        "print(type(sales))"
      ],
      "execution_count": 60,
      "outputs": [
        {
          "output_type": "stream",
          "name": "stdout",
          "text": [
            "(150, 4)\n",
            "<class 'pandas.core.frame.DataFrame'>\n"
          ]
        }
      ]
    },
    {
      "cell_type": "markdown",
      "metadata": {
        "id": "YfG1wuHTgpRG"
      },
      "source": [
        "## 2) KMeans 를 이용하여 3개의 군집으로 군집화"
      ]
    },
    {
      "cell_type": "markdown",
      "metadata": {
        "id": "lImpKmE_homZ"
      },
      "source": [
        "2-1) KMeans 모델을 생성하세요. 군집은 3개로 군집화하세요."
      ]
    },
    {
      "cell_type": "code",
      "metadata": {
        "id": "icgsSQ3Zgi_9"
      },
      "source": [
        "#모델 생성\n",
        "kmeans=KMeans(n_clusters=3,init='k-means++',max_iter=300,random_state=0)"
      ],
      "execution_count": 61,
      "outputs": []
    },
    {
      "cell_type": "markdown",
      "metadata": {
        "id": "2OIP8gnyhxia"
      },
      "source": [
        "2-2) 모델을 훈련하고 예측치 생성하고 이 결과를 pred라는 변수에 저장하세요."
      ]
    },
    {
      "cell_type": "code",
      "metadata": {
        "id": "ebGU3AJyhWCn"
      },
      "source": [
        "#훈련 \n",
        "kmeans.fit(sales)\n",
        "#예측치 생성\n",
        "pred= kmeans.predict(sales)"
      ],
      "execution_count": 62,
      "outputs": []
    },
    {
      "cell_type": "markdown",
      "metadata": {
        "id": "Vs2umEnah6MX"
      },
      "source": [
        "2-3) 원형 데이터(scale)에 예측치(변수명:cluster)를 추가하세요."
      ]
    },
    {
      "cell_type": "code",
      "metadata": {
        "id": "2qF-jLKahfPe",
        "colab": {
          "base_uri": "https://localhost:8080/",
          "height": 425
        },
        "outputId": "aad62dc0-77e7-449f-8e64-980fd5b81c04"
      },
      "source": [
        "sales['cluster']=pred\n",
        "sales"
      ],
      "execution_count": 63,
      "outputs": [
        {
          "output_type": "execute_result",
          "data": {
            "text/plain": [
              "     tot_price  visit_count  buy_count  avg_price  cluster\n",
              "0          5.0          0.2        3.0        1.6        1\n",
              "1          5.0          0.4        3.4        1.6        1\n",
              "2          5.2          0.2        3.5        1.5        1\n",
              "3          5.2          0.2        3.0        1.4        1\n",
              "4          4.7          0.2        3.2        1.6        1\n",
              "..         ...          ...        ...        ...      ...\n",
              "145        5.4          0.2        3.4        1.7        1\n",
              "146        5.1          0.4        2.0        1.5        1\n",
              "147        4.6          0.2        3.6        1.0        1\n",
              "148        5.1          0.5        3.3        1.7        1\n",
              "149        4.8          0.2        3.4        1.9        1\n",
              "\n",
              "[150 rows x 5 columns]"
            ],
            "text/html": [
              "\n",
              "  <div id=\"df-22ea23eb-f131-4f64-9b03-438bd991d280\">\n",
              "    <div class=\"colab-df-container\">\n",
              "      <div>\n",
              "<style scoped>\n",
              "    .dataframe tbody tr th:only-of-type {\n",
              "        vertical-align: middle;\n",
              "    }\n",
              "\n",
              "    .dataframe tbody tr th {\n",
              "        vertical-align: top;\n",
              "    }\n",
              "\n",
              "    .dataframe thead th {\n",
              "        text-align: right;\n",
              "    }\n",
              "</style>\n",
              "<table border=\"1\" class=\"dataframe\">\n",
              "  <thead>\n",
              "    <tr style=\"text-align: right;\">\n",
              "      <th></th>\n",
              "      <th>tot_price</th>\n",
              "      <th>visit_count</th>\n",
              "      <th>buy_count</th>\n",
              "      <th>avg_price</th>\n",
              "      <th>cluster</th>\n",
              "    </tr>\n",
              "  </thead>\n",
              "  <tbody>\n",
              "    <tr>\n",
              "      <th>0</th>\n",
              "      <td>5.0</td>\n",
              "      <td>0.2</td>\n",
              "      <td>3.0</td>\n",
              "      <td>1.6</td>\n",
              "      <td>1</td>\n",
              "    </tr>\n",
              "    <tr>\n",
              "      <th>1</th>\n",
              "      <td>5.0</td>\n",
              "      <td>0.4</td>\n",
              "      <td>3.4</td>\n",
              "      <td>1.6</td>\n",
              "      <td>1</td>\n",
              "    </tr>\n",
              "    <tr>\n",
              "      <th>2</th>\n",
              "      <td>5.2</td>\n",
              "      <td>0.2</td>\n",
              "      <td>3.5</td>\n",
              "      <td>1.5</td>\n",
              "      <td>1</td>\n",
              "    </tr>\n",
              "    <tr>\n",
              "      <th>3</th>\n",
              "      <td>5.2</td>\n",
              "      <td>0.2</td>\n",
              "      <td>3.0</td>\n",
              "      <td>1.4</td>\n",
              "      <td>1</td>\n",
              "    </tr>\n",
              "    <tr>\n",
              "      <th>4</th>\n",
              "      <td>4.7</td>\n",
              "      <td>0.2</td>\n",
              "      <td>3.2</td>\n",
              "      <td>1.6</td>\n",
              "      <td>1</td>\n",
              "    </tr>\n",
              "    <tr>\n",
              "      <th>...</th>\n",
              "      <td>...</td>\n",
              "      <td>...</td>\n",
              "      <td>...</td>\n",
              "      <td>...</td>\n",
              "      <td>...</td>\n",
              "    </tr>\n",
              "    <tr>\n",
              "      <th>145</th>\n",
              "      <td>5.4</td>\n",
              "      <td>0.2</td>\n",
              "      <td>3.4</td>\n",
              "      <td>1.7</td>\n",
              "      <td>1</td>\n",
              "    </tr>\n",
              "    <tr>\n",
              "      <th>146</th>\n",
              "      <td>5.1</td>\n",
              "      <td>0.4</td>\n",
              "      <td>2.0</td>\n",
              "      <td>1.5</td>\n",
              "      <td>1</td>\n",
              "    </tr>\n",
              "    <tr>\n",
              "      <th>147</th>\n",
              "      <td>4.6</td>\n",
              "      <td>0.2</td>\n",
              "      <td>3.6</td>\n",
              "      <td>1.0</td>\n",
              "      <td>1</td>\n",
              "    </tr>\n",
              "    <tr>\n",
              "      <th>148</th>\n",
              "      <td>5.1</td>\n",
              "      <td>0.5</td>\n",
              "      <td>3.3</td>\n",
              "      <td>1.7</td>\n",
              "      <td>1</td>\n",
              "    </tr>\n",
              "    <tr>\n",
              "      <th>149</th>\n",
              "      <td>4.8</td>\n",
              "      <td>0.2</td>\n",
              "      <td>3.4</td>\n",
              "      <td>1.9</td>\n",
              "      <td>1</td>\n",
              "    </tr>\n",
              "  </tbody>\n",
              "</table>\n",
              "<p>150 rows × 5 columns</p>\n",
              "</div>\n",
              "      <button class=\"colab-df-convert\" onclick=\"convertToInteractive('df-22ea23eb-f131-4f64-9b03-438bd991d280')\"\n",
              "              title=\"Convert this dataframe to an interactive table.\"\n",
              "              style=\"display:none;\">\n",
              "        \n",
              "  <svg xmlns=\"http://www.w3.org/2000/svg\" height=\"24px\"viewBox=\"0 0 24 24\"\n",
              "       width=\"24px\">\n",
              "    <path d=\"M0 0h24v24H0V0z\" fill=\"none\"/>\n",
              "    <path d=\"M18.56 5.44l.94 2.06.94-2.06 2.06-.94-2.06-.94-.94-2.06-.94 2.06-2.06.94zm-11 1L8.5 8.5l.94-2.06 2.06-.94-2.06-.94L8.5 2.5l-.94 2.06-2.06.94zm10 10l.94 2.06.94-2.06 2.06-.94-2.06-.94-.94-2.06-.94 2.06-2.06.94z\"/><path d=\"M17.41 7.96l-1.37-1.37c-.4-.4-.92-.59-1.43-.59-.52 0-1.04.2-1.43.59L10.3 9.45l-7.72 7.72c-.78.78-.78 2.05 0 2.83L4 21.41c.39.39.9.59 1.41.59.51 0 1.02-.2 1.41-.59l7.78-7.78 2.81-2.81c.8-.78.8-2.07 0-2.86zM5.41 20L4 18.59l7.72-7.72 1.47 1.35L5.41 20z\"/>\n",
              "  </svg>\n",
              "      </button>\n",
              "      \n",
              "  <style>\n",
              "    .colab-df-container {\n",
              "      display:flex;\n",
              "      flex-wrap:wrap;\n",
              "      gap: 12px;\n",
              "    }\n",
              "\n",
              "    .colab-df-convert {\n",
              "      background-color: #E8F0FE;\n",
              "      border: none;\n",
              "      border-radius: 50%;\n",
              "      cursor: pointer;\n",
              "      display: none;\n",
              "      fill: #1967D2;\n",
              "      height: 32px;\n",
              "      padding: 0 0 0 0;\n",
              "      width: 32px;\n",
              "    }\n",
              "\n",
              "    .colab-df-convert:hover {\n",
              "      background-color: #E2EBFA;\n",
              "      box-shadow: 0px 1px 2px rgba(60, 64, 67, 0.3), 0px 1px 3px 1px rgba(60, 64, 67, 0.15);\n",
              "      fill: #174EA6;\n",
              "    }\n",
              "\n",
              "    [theme=dark] .colab-df-convert {\n",
              "      background-color: #3B4455;\n",
              "      fill: #D2E3FC;\n",
              "    }\n",
              "\n",
              "    [theme=dark] .colab-df-convert:hover {\n",
              "      background-color: #434B5C;\n",
              "      box-shadow: 0px 1px 3px 1px rgba(0, 0, 0, 0.15);\n",
              "      filter: drop-shadow(0px 1px 2px rgba(0, 0, 0, 0.3));\n",
              "      fill: #FFFFFF;\n",
              "    }\n",
              "  </style>\n",
              "\n",
              "      <script>\n",
              "        const buttonEl =\n",
              "          document.querySelector('#df-22ea23eb-f131-4f64-9b03-438bd991d280 button.colab-df-convert');\n",
              "        buttonEl.style.display =\n",
              "          google.colab.kernel.accessAllowed ? 'block' : 'none';\n",
              "\n",
              "        async function convertToInteractive(key) {\n",
              "          const element = document.querySelector('#df-22ea23eb-f131-4f64-9b03-438bd991d280');\n",
              "          const dataTable =\n",
              "            await google.colab.kernel.invokeFunction('convertToInteractive',\n",
              "                                                     [key], {});\n",
              "          if (!dataTable) return;\n",
              "\n",
              "          const docLinkHtml = 'Like what you see? Visit the ' +\n",
              "            '<a target=\"_blank\" href=https://colab.research.google.com/notebooks/data_table.ipynb>data table notebook</a>'\n",
              "            + ' to learn more about interactive tables.';\n",
              "          element.innerHTML = '';\n",
              "          dataTable['output_type'] = 'display_data';\n",
              "          await google.colab.output.renderOutput(dataTable, element);\n",
              "          const docLink = document.createElement('div');\n",
              "          docLink.innerHTML = docLinkHtml;\n",
              "          element.appendChild(docLink);\n",
              "        }\n",
              "      </script>\n",
              "    </div>\n",
              "  </div>\n",
              "  "
            ]
          },
          "metadata": {},
          "execution_count": 63
        }
      ]
    },
    {
      "cell_type": "markdown",
      "metadata": {
        "id": "_mmO5GpXiWPH"
      },
      "source": [
        "## 3) 군집화 시각화\n",
        ": 전체 데이터를 2차원으로 축소한 뒤 시각화하세요."
      ]
    },
    {
      "cell_type": "markdown",
      "metadata": {
        "id": "LysC2L9duAmP"
      },
      "source": [
        "3-1) cluster 변수를 제외한 sales 데이터를 salesDF라는 이름으로 변수에 저장하세요."
      ]
    },
    {
      "cell_type": "code",
      "metadata": {
        "id": "aZ58gQTVuTcr",
        "colab": {
          "base_uri": "https://localhost:8080/",
          "height": 425
        },
        "outputId": "e1171351-86a3-4400-fa4e-2576aaa2a906"
      },
      "source": [
        "salesDF=sales.drop(columns='cluster')\n",
        "salesDF"
      ],
      "execution_count": 64,
      "outputs": [
        {
          "output_type": "execute_result",
          "data": {
            "text/plain": [
              "     tot_price  visit_count  buy_count  avg_price\n",
              "0          5.0          0.2        3.0        1.6\n",
              "1          5.0          0.4        3.4        1.6\n",
              "2          5.2          0.2        3.5        1.5\n",
              "3          5.2          0.2        3.0        1.4\n",
              "4          4.7          0.2        3.2        1.6\n",
              "..         ...          ...        ...        ...\n",
              "145        5.4          0.2        3.4        1.7\n",
              "146        5.1          0.4        2.0        1.5\n",
              "147        4.6          0.2        3.6        1.0\n",
              "148        5.1          0.5        3.3        1.7\n",
              "149        4.8          0.2        3.4        1.9\n",
              "\n",
              "[150 rows x 4 columns]"
            ],
            "text/html": [
              "\n",
              "  <div id=\"df-6de6a7c1-7591-4e84-baec-cf905942233a\">\n",
              "    <div class=\"colab-df-container\">\n",
              "      <div>\n",
              "<style scoped>\n",
              "    .dataframe tbody tr th:only-of-type {\n",
              "        vertical-align: middle;\n",
              "    }\n",
              "\n",
              "    .dataframe tbody tr th {\n",
              "        vertical-align: top;\n",
              "    }\n",
              "\n",
              "    .dataframe thead th {\n",
              "        text-align: right;\n",
              "    }\n",
              "</style>\n",
              "<table border=\"1\" class=\"dataframe\">\n",
              "  <thead>\n",
              "    <tr style=\"text-align: right;\">\n",
              "      <th></th>\n",
              "      <th>tot_price</th>\n",
              "      <th>visit_count</th>\n",
              "      <th>buy_count</th>\n",
              "      <th>avg_price</th>\n",
              "    </tr>\n",
              "  </thead>\n",
              "  <tbody>\n",
              "    <tr>\n",
              "      <th>0</th>\n",
              "      <td>5.0</td>\n",
              "      <td>0.2</td>\n",
              "      <td>3.0</td>\n",
              "      <td>1.6</td>\n",
              "    </tr>\n",
              "    <tr>\n",
              "      <th>1</th>\n",
              "      <td>5.0</td>\n",
              "      <td>0.4</td>\n",
              "      <td>3.4</td>\n",
              "      <td>1.6</td>\n",
              "    </tr>\n",
              "    <tr>\n",
              "      <th>2</th>\n",
              "      <td>5.2</td>\n",
              "      <td>0.2</td>\n",
              "      <td>3.5</td>\n",
              "      <td>1.5</td>\n",
              "    </tr>\n",
              "    <tr>\n",
              "      <th>3</th>\n",
              "      <td>5.2</td>\n",
              "      <td>0.2</td>\n",
              "      <td>3.0</td>\n",
              "      <td>1.4</td>\n",
              "    </tr>\n",
              "    <tr>\n",
              "      <th>4</th>\n",
              "      <td>4.7</td>\n",
              "      <td>0.2</td>\n",
              "      <td>3.2</td>\n",
              "      <td>1.6</td>\n",
              "    </tr>\n",
              "    <tr>\n",
              "      <th>...</th>\n",
              "      <td>...</td>\n",
              "      <td>...</td>\n",
              "      <td>...</td>\n",
              "      <td>...</td>\n",
              "    </tr>\n",
              "    <tr>\n",
              "      <th>145</th>\n",
              "      <td>5.4</td>\n",
              "      <td>0.2</td>\n",
              "      <td>3.4</td>\n",
              "      <td>1.7</td>\n",
              "    </tr>\n",
              "    <tr>\n",
              "      <th>146</th>\n",
              "      <td>5.1</td>\n",
              "      <td>0.4</td>\n",
              "      <td>2.0</td>\n",
              "      <td>1.5</td>\n",
              "    </tr>\n",
              "    <tr>\n",
              "      <th>147</th>\n",
              "      <td>4.6</td>\n",
              "      <td>0.2</td>\n",
              "      <td>3.6</td>\n",
              "      <td>1.0</td>\n",
              "    </tr>\n",
              "    <tr>\n",
              "      <th>148</th>\n",
              "      <td>5.1</td>\n",
              "      <td>0.5</td>\n",
              "      <td>3.3</td>\n",
              "      <td>1.7</td>\n",
              "    </tr>\n",
              "    <tr>\n",
              "      <th>149</th>\n",
              "      <td>4.8</td>\n",
              "      <td>0.2</td>\n",
              "      <td>3.4</td>\n",
              "      <td>1.9</td>\n",
              "    </tr>\n",
              "  </tbody>\n",
              "</table>\n",
              "<p>150 rows × 4 columns</p>\n",
              "</div>\n",
              "      <button class=\"colab-df-convert\" onclick=\"convertToInteractive('df-6de6a7c1-7591-4e84-baec-cf905942233a')\"\n",
              "              title=\"Convert this dataframe to an interactive table.\"\n",
              "              style=\"display:none;\">\n",
              "        \n",
              "  <svg xmlns=\"http://www.w3.org/2000/svg\" height=\"24px\"viewBox=\"0 0 24 24\"\n",
              "       width=\"24px\">\n",
              "    <path d=\"M0 0h24v24H0V0z\" fill=\"none\"/>\n",
              "    <path d=\"M18.56 5.44l.94 2.06.94-2.06 2.06-.94-2.06-.94-.94-2.06-.94 2.06-2.06.94zm-11 1L8.5 8.5l.94-2.06 2.06-.94-2.06-.94L8.5 2.5l-.94 2.06-2.06.94zm10 10l.94 2.06.94-2.06 2.06-.94-2.06-.94-.94-2.06-.94 2.06-2.06.94z\"/><path d=\"M17.41 7.96l-1.37-1.37c-.4-.4-.92-.59-1.43-.59-.52 0-1.04.2-1.43.59L10.3 9.45l-7.72 7.72c-.78.78-.78 2.05 0 2.83L4 21.41c.39.39.9.59 1.41.59.51 0 1.02-.2 1.41-.59l7.78-7.78 2.81-2.81c.8-.78.8-2.07 0-2.86zM5.41 20L4 18.59l7.72-7.72 1.47 1.35L5.41 20z\"/>\n",
              "  </svg>\n",
              "      </button>\n",
              "      \n",
              "  <style>\n",
              "    .colab-df-container {\n",
              "      display:flex;\n",
              "      flex-wrap:wrap;\n",
              "      gap: 12px;\n",
              "    }\n",
              "\n",
              "    .colab-df-convert {\n",
              "      background-color: #E8F0FE;\n",
              "      border: none;\n",
              "      border-radius: 50%;\n",
              "      cursor: pointer;\n",
              "      display: none;\n",
              "      fill: #1967D2;\n",
              "      height: 32px;\n",
              "      padding: 0 0 0 0;\n",
              "      width: 32px;\n",
              "    }\n",
              "\n",
              "    .colab-df-convert:hover {\n",
              "      background-color: #E2EBFA;\n",
              "      box-shadow: 0px 1px 2px rgba(60, 64, 67, 0.3), 0px 1px 3px 1px rgba(60, 64, 67, 0.15);\n",
              "      fill: #174EA6;\n",
              "    }\n",
              "\n",
              "    [theme=dark] .colab-df-convert {\n",
              "      background-color: #3B4455;\n",
              "      fill: #D2E3FC;\n",
              "    }\n",
              "\n",
              "    [theme=dark] .colab-df-convert:hover {\n",
              "      background-color: #434B5C;\n",
              "      box-shadow: 0px 1px 3px 1px rgba(0, 0, 0, 0.15);\n",
              "      filter: drop-shadow(0px 1px 2px rgba(0, 0, 0, 0.3));\n",
              "      fill: #FFFFFF;\n",
              "    }\n",
              "  </style>\n",
              "\n",
              "      <script>\n",
              "        const buttonEl =\n",
              "          document.querySelector('#df-6de6a7c1-7591-4e84-baec-cf905942233a button.colab-df-convert');\n",
              "        buttonEl.style.display =\n",
              "          google.colab.kernel.accessAllowed ? 'block' : 'none';\n",
              "\n",
              "        async function convertToInteractive(key) {\n",
              "          const element = document.querySelector('#df-6de6a7c1-7591-4e84-baec-cf905942233a');\n",
              "          const dataTable =\n",
              "            await google.colab.kernel.invokeFunction('convertToInteractive',\n",
              "                                                     [key], {});\n",
              "          if (!dataTable) return;\n",
              "\n",
              "          const docLinkHtml = 'Like what you see? Visit the ' +\n",
              "            '<a target=\"_blank\" href=https://colab.research.google.com/notebooks/data_table.ipynb>data table notebook</a>'\n",
              "            + ' to learn more about interactive tables.';\n",
              "          element.innerHTML = '';\n",
              "          dataTable['output_type'] = 'display_data';\n",
              "          await google.colab.output.renderOutput(dataTable, element);\n",
              "          const docLink = document.createElement('div');\n",
              "          docLink.innerHTML = docLinkHtml;\n",
              "          element.appendChild(docLink);\n",
              "        }\n",
              "      </script>\n",
              "    </div>\n",
              "  </div>\n",
              "  "
            ]
          },
          "metadata": {},
          "execution_count": 64
        }
      ]
    },
    {
      "cell_type": "markdown",
      "metadata": {
        "id": "7Qx6EpFuvJMz"
      },
      "source": [
        "3-2) salesDF 데이터를 이용하여 2차원으로 차원축소 한 후 그 결과를 sales에 pca_x, pca_y 이름으로 저장하세요."
      ]
    },
    {
      "cell_type": "code",
      "metadata": {
        "id": "HbdaFWKnlVhF",
        "colab": {
          "base_uri": "https://localhost:8080/",
          "height": 145
        },
        "outputId": "ccb73e41-3200-4dbf-daeb-f484950c8c8e"
      },
      "source": [
        "#차원 축소 한 후 변형된 값 임의의 변수에 저장\n",
        "from sklearn.decomposition import PCA\n",
        "\n",
        "pca=PCA(n_components=2)\n",
        "pca_transformed=pca.fit_transform(salesDF)\n",
        "\n",
        "#sales에 'pca_x', 'pca_y' 이름으로 열 만들어 저장\n",
        "sales['pca_x']=pca_transformed[:,0]\n",
        "sales['pca_y']=pca_transformed[:,1]\n",
        "sales.head(3)"
      ],
      "execution_count": 65,
      "outputs": [
        {
          "output_type": "execute_result",
          "data": {
            "text/plain": [
              "   tot_price  visit_count  buy_count  avg_price  cluster     pca_x     pca_y\n",
              "0        5.0          0.2        3.0        1.6        1 -2.516330 -0.074159\n",
              "1        5.0          0.4        3.4        1.6        1 -2.466679  0.231335\n",
              "2        5.2          0.2        3.5        1.5        1 -2.557365  0.456400"
            ],
            "text/html": [
              "\n",
              "  <div id=\"df-a721cd0d-b4f3-4c88-bc6f-c1728f73a9dc\">\n",
              "    <div class=\"colab-df-container\">\n",
              "      <div>\n",
              "<style scoped>\n",
              "    .dataframe tbody tr th:only-of-type {\n",
              "        vertical-align: middle;\n",
              "    }\n",
              "\n",
              "    .dataframe tbody tr th {\n",
              "        vertical-align: top;\n",
              "    }\n",
              "\n",
              "    .dataframe thead th {\n",
              "        text-align: right;\n",
              "    }\n",
              "</style>\n",
              "<table border=\"1\" class=\"dataframe\">\n",
              "  <thead>\n",
              "    <tr style=\"text-align: right;\">\n",
              "      <th></th>\n",
              "      <th>tot_price</th>\n",
              "      <th>visit_count</th>\n",
              "      <th>buy_count</th>\n",
              "      <th>avg_price</th>\n",
              "      <th>cluster</th>\n",
              "      <th>pca_x</th>\n",
              "      <th>pca_y</th>\n",
              "    </tr>\n",
              "  </thead>\n",
              "  <tbody>\n",
              "    <tr>\n",
              "      <th>0</th>\n",
              "      <td>5.0</td>\n",
              "      <td>0.2</td>\n",
              "      <td>3.0</td>\n",
              "      <td>1.6</td>\n",
              "      <td>1</td>\n",
              "      <td>-2.516330</td>\n",
              "      <td>-0.074159</td>\n",
              "    </tr>\n",
              "    <tr>\n",
              "      <th>1</th>\n",
              "      <td>5.0</td>\n",
              "      <td>0.4</td>\n",
              "      <td>3.4</td>\n",
              "      <td>1.6</td>\n",
              "      <td>1</td>\n",
              "      <td>-2.466679</td>\n",
              "      <td>0.231335</td>\n",
              "    </tr>\n",
              "    <tr>\n",
              "      <th>2</th>\n",
              "      <td>5.2</td>\n",
              "      <td>0.2</td>\n",
              "      <td>3.5</td>\n",
              "      <td>1.5</td>\n",
              "      <td>1</td>\n",
              "      <td>-2.557365</td>\n",
              "      <td>0.456400</td>\n",
              "    </tr>\n",
              "  </tbody>\n",
              "</table>\n",
              "</div>\n",
              "      <button class=\"colab-df-convert\" onclick=\"convertToInteractive('df-a721cd0d-b4f3-4c88-bc6f-c1728f73a9dc')\"\n",
              "              title=\"Convert this dataframe to an interactive table.\"\n",
              "              style=\"display:none;\">\n",
              "        \n",
              "  <svg xmlns=\"http://www.w3.org/2000/svg\" height=\"24px\"viewBox=\"0 0 24 24\"\n",
              "       width=\"24px\">\n",
              "    <path d=\"M0 0h24v24H0V0z\" fill=\"none\"/>\n",
              "    <path d=\"M18.56 5.44l.94 2.06.94-2.06 2.06-.94-2.06-.94-.94-2.06-.94 2.06-2.06.94zm-11 1L8.5 8.5l.94-2.06 2.06-.94-2.06-.94L8.5 2.5l-.94 2.06-2.06.94zm10 10l.94 2.06.94-2.06 2.06-.94-2.06-.94-.94-2.06-.94 2.06-2.06.94z\"/><path d=\"M17.41 7.96l-1.37-1.37c-.4-.4-.92-.59-1.43-.59-.52 0-1.04.2-1.43.59L10.3 9.45l-7.72 7.72c-.78.78-.78 2.05 0 2.83L4 21.41c.39.39.9.59 1.41.59.51 0 1.02-.2 1.41-.59l7.78-7.78 2.81-2.81c.8-.78.8-2.07 0-2.86zM5.41 20L4 18.59l7.72-7.72 1.47 1.35L5.41 20z\"/>\n",
              "  </svg>\n",
              "      </button>\n",
              "      \n",
              "  <style>\n",
              "    .colab-df-container {\n",
              "      display:flex;\n",
              "      flex-wrap:wrap;\n",
              "      gap: 12px;\n",
              "    }\n",
              "\n",
              "    .colab-df-convert {\n",
              "      background-color: #E8F0FE;\n",
              "      border: none;\n",
              "      border-radius: 50%;\n",
              "      cursor: pointer;\n",
              "      display: none;\n",
              "      fill: #1967D2;\n",
              "      height: 32px;\n",
              "      padding: 0 0 0 0;\n",
              "      width: 32px;\n",
              "    }\n",
              "\n",
              "    .colab-df-convert:hover {\n",
              "      background-color: #E2EBFA;\n",
              "      box-shadow: 0px 1px 2px rgba(60, 64, 67, 0.3), 0px 1px 3px 1px rgba(60, 64, 67, 0.15);\n",
              "      fill: #174EA6;\n",
              "    }\n",
              "\n",
              "    [theme=dark] .colab-df-convert {\n",
              "      background-color: #3B4455;\n",
              "      fill: #D2E3FC;\n",
              "    }\n",
              "\n",
              "    [theme=dark] .colab-df-convert:hover {\n",
              "      background-color: #434B5C;\n",
              "      box-shadow: 0px 1px 3px 1px rgba(0, 0, 0, 0.15);\n",
              "      filter: drop-shadow(0px 1px 2px rgba(0, 0, 0, 0.3));\n",
              "      fill: #FFFFFF;\n",
              "    }\n",
              "  </style>\n",
              "\n",
              "      <script>\n",
              "        const buttonEl =\n",
              "          document.querySelector('#df-a721cd0d-b4f3-4c88-bc6f-c1728f73a9dc button.colab-df-convert');\n",
              "        buttonEl.style.display =\n",
              "          google.colab.kernel.accessAllowed ? 'block' : 'none';\n",
              "\n",
              "        async function convertToInteractive(key) {\n",
              "          const element = document.querySelector('#df-a721cd0d-b4f3-4c88-bc6f-c1728f73a9dc');\n",
              "          const dataTable =\n",
              "            await google.colab.kernel.invokeFunction('convertToInteractive',\n",
              "                                                     [key], {});\n",
              "          if (!dataTable) return;\n",
              "\n",
              "          const docLinkHtml = 'Like what you see? Visit the ' +\n",
              "            '<a target=\"_blank\" href=https://colab.research.google.com/notebooks/data_table.ipynb>data table notebook</a>'\n",
              "            + ' to learn more about interactive tables.';\n",
              "          element.innerHTML = '';\n",
              "          dataTable['output_type'] = 'display_data';\n",
              "          await google.colab.output.renderOutput(dataTable, element);\n",
              "          const docLink = document.createElement('div');\n",
              "          docLink.innerHTML = docLinkHtml;\n",
              "          element.appendChild(docLink);\n",
              "        }\n",
              "      </script>\n",
              "    </div>\n",
              "  </div>\n",
              "  "
            ]
          },
          "metadata": {},
          "execution_count": 65
        }
      ]
    },
    {
      "cell_type": "markdown",
      "metadata": {
        "id": "uSA4KaVcjELK"
      },
      "source": [
        "3-3) pca_x를 x축, pca_y를 y축으로 하여 산점도를 그리세요. 색으로 각 점이 군집에 따라 구분되도록 하세요. (단, 각 군집별로 마커 모양 구분하지 않고 오직 색으로만 구분합니다.)"
      ]
    },
    {
      "cell_type": "code",
      "metadata": {
        "id": "zi42IlfRjCNP",
        "colab": {
          "base_uri": "https://localhost:8080/",
          "height": 295
        },
        "outputId": "b9e09727-14e8-4a27-fb48-47a0d32b33dd"
      },
      "source": [
        "#군집 값이 0,1,2인 경우마다 별도의 인덱스로 추출\n",
        "marker0_ind=sales[sales['cluster']==0].index\n",
        "marker1_ind=sales[sales['cluster']==1].index\n",
        "marker2_ind=sales[sales['cluster']==2].index\n",
        "\n",
        "#군집 값 0,1,2에 해당하는 인덱스로 각 군집 레벨의 pca_x,pca_y 값 추출.o,s,^로 마커 표시\n",
        "plt.scatter(x=sales.loc[marker0_ind,'pca_x'],y=sales.loc[marker0_ind,'pca_y'])\n",
        "plt.scatter(x=sales.loc[marker1_ind,'pca_x'],y=sales.loc[marker1_ind,'pca_y'])\n",
        "plt.scatter(x=sales.loc[marker2_ind,'pca_x'],y=sales.loc[marker2_ind,'pca_y'])\n",
        "\n",
        "plt.xlabel('PCA 1')\n",
        "plt.ylabel('PCA 2')\n",
        "plt.title('3 Clusters Visualization by 2 PCA components')\n",
        "plt.show()\n",
        "     "
      ],
      "execution_count": 66,
      "outputs": [
        {
          "output_type": "display_data",
          "data": {
            "text/plain": [
              "<Figure size 432x288 with 1 Axes>"
            ],
            "image/png": "[encoded data removed]"
          },
          "metadata": {
            "needs_background": "light"
          }
        }
      ]
    },
    {
      "cell_type": "markdown",
      "metadata": {
        "id": "ACFmY31zw701"
      },
      "source": [
        "## 4) 군집평가: 실루엣 계수 구하기"
      ]
    },
    {
      "cell_type": "code",
      "metadata": {
        "id": "aOVy3VRgxxo3"
      },
      "source": [
        "#시각화를 위하여 사용했던 차원 축소 관련 계수 삭제\n",
        "sales=sales.drop(['pca_x','pca_y'], axis=1)\n",
        "\n",
        "#cluster 행을 제외한 순수 데이터 sales_data로 저장\n",
        "sales_data=sales.drop('cluster', axis=1)"
      ],
      "execution_count": 67,
      "outputs": []
    },
    {
      "cell_type": "markdown",
      "metadata": {
        "id": "MbRL_ERnxKG4"
      },
      "source": [
        "4-1) sales의 모든 데이터에 실루엣 계수를 구하고 실루엣 계수 칼럼을 추가하세요."
      ]
    },
    {
      "cell_type": "code",
      "metadata": {
        "id": "WguqFEIGnevN",
        "colab": {
          "base_uri": "https://localhost:8080/"
        },
        "outputId": "2dc2ebcc-9702-4b11-b41e-196931859cc4"
      },
      "source": [
        "#sales의 모든 데이터에 실루엣 계수 구하기\n",
        "silhouette_samples(sales_data,sales['cluster'])"
      ],
      "execution_count": 72,
      "outputs": [
        {
          "output_type": "execute_result",
          "data": {
            "text/plain": [
              "array([0.79112928, 0.80339312, 0.80745367, 0.78880536, 0.80070215,\n",
              "       0.80228142, 0.74329723, 0.72294854, 0.68429035, 0.81317965,\n",
              "       0.8150492 , 0.76597452, 0.81317965, 0.76253896, 0.81967084,\n",
              "       0.81645784, 0.65979098, 0.77318707, 0.76810436, 0.70752222,\n",
              "       0.80201832, 0.77274376, 0.80322804, 0.78011482, 0.82756725,\n",
              "       0.03010966, 0.38588964, 0.03550432, 0.59090953, 0.37118045,\n",
              "       0.59218597, 0.36551714, 0.25291941, 0.34664988, 0.57771726,\n",
              "       0.35984201, 0.58908336, 0.54842372, 0.48526634, 0.56405686,\n",
              "       0.32785615, 0.55790518, 0.61041698, 0.49945776, 0.61027416,\n",
              "       0.3294748 , 0.59038923, 0.30806081, 0.47510801, 0.50262933,\n",
              "       0.38872071, 0.1263622 , 0.11662093, 0.55566018, 0.50304225,\n",
              "       0.59300633, 0.55485078, 0.61942931, 0.25930188, 0.54056538,\n",
              "       0.41885967, 0.17026149, 0.48518425, 0.60814469, 0.61300588,\n",
              "       0.59447333, 0.50822278, 0.62357199, 0.27942676, 0.62700595,\n",
              "       0.6078571 , 0.6228141 , 0.56045218, 0.05927744, 0.63081388,\n",
              "       0.49926839, 0.22885652, 0.61199229, 0.36134772, 0.55800894,\n",
              "       0.54386993, 0.46567071, 0.55930303, 0.44180737, 0.56109385,\n",
              "       0.2596976 , 0.23094505, 0.5551797 , 0.28235125, 0.02339345,\n",
              "       0.39824529, 0.42118797, 0.49444262, 0.48364811, 0.32557285,\n",
              "       0.60684346, 0.30612114, 0.5125223 , 0.20259521, 0.57977271,\n",
              "       0.57793868, 0.30988149, 0.2531452 , 0.4550765 , 0.51606389,\n",
              "       0.56041829, 0.48390986, 0.463266  , 0.13925983, 0.05491225,\n",
              "       0.55188901, 0.45535116, 0.38864536, 0.35180872, 0.53422246,\n",
              "       0.57025373, 0.40996241, 0.22885652, 0.61312272, 0.56687452,\n",
              "       0.42524024, 0.10179701, 0.3148994 , 0.35237949, 0.18381061,\n",
              "       0.81824621, 0.80797816, 0.81303999, 0.79339754, 0.60275825,\n",
              "       0.70801516, 0.79770145, 0.82374552, 0.74993586, 0.59719599,\n",
              "       0.76646228, 0.80847587, 0.80352997, 0.74099099, 0.67112373,\n",
              "       0.60587334, 0.73833647, 0.59366846, 0.67217183, 0.77896302,\n",
              "       0.75666542, 0.57584325, 0.76834231, 0.76956944, 0.74949466])"
            ]
          },
          "metadata": {},
          "execution_count": 72
        }
      ]
    },
    {
      "cell_type": "code",
      "metadata": {
        "id": "UtKeaL-kxiiR",
        "colab": {
          "base_uri": "https://localhost:8080/",
          "height": 425
        },
        "outputId": "08af01e3-5e85-43e2-eaac-82862be0d1f3"
      },
      "source": [
        "#sales에 실루엣 계수 칼럼 추가\n",
        "sales['silhouette_coeff']=score_samples\n",
        "sales"
      ],
      "execution_count": 73,
      "outputs": [
        {
          "output_type": "execute_result",
          "data": {
            "text/plain": [
              "     tot_price  visit_count  buy_count  avg_price  cluster  silhouette_coeff\n",
              "0          5.0          0.2        3.0        1.6        1          0.800390\n",
              "1          5.0          0.4        3.4        1.6        1          0.812027\n",
              "2          5.2          0.2        3.5        1.5        1          0.815120\n",
              "3          5.2          0.2        3.0        1.4        1          0.797460\n",
              "4          4.7          0.2        3.2        1.6        1          0.808929\n",
              "..         ...          ...        ...        ...      ...               ...\n",
              "145        5.4          0.2        3.4        1.7        1          0.768281\n",
              "146        5.1          0.4        2.0        1.5        1          0.591165\n",
              "147        4.6          0.2        3.6        1.0        1          0.775373\n",
              "148        5.1          0.5        3.3        1.7        1          0.781116\n",
              "149        4.8          0.2        3.4        1.9        1          0.761653\n",
              "\n",
              "[150 rows x 6 columns]"
            ],
            "text/html": [
              "\n",
              "  <div id=\"df-43463ce8-2dd2-4431-a0b9-031b41b4158d\">\n",
              "    <div class=\"colab-df-container\">\n",
              "      <div>\n",
              "<style scoped>\n",
              "    .dataframe tbody tr th:only-of-type {\n",
              "        vertical-align: middle;\n",
              "    }\n",
              "\n",
              "    .dataframe tbody tr th {\n",
              "        vertical-align: top;\n",
              "    }\n",
              "\n",
              "    .dataframe thead th {\n",
              "        text-align: right;\n",
              "    }\n",
              "</style>\n",
              "<table border=\"1\" class=\"dataframe\">\n",
              "  <thead>\n",
              "    <tr style=\"text-align: right;\">\n",
              "      <th></th>\n",
              "      <th>tot_price</th>\n",
              "      <th>visit_count</th>\n",
              "      <th>buy_count</th>\n",
              "      <th>avg_price</th>\n",
              "      <th>cluster</th>\n",
              "      <th>silhouette_coeff</th>\n",
              "    </tr>\n",
              "  </thead>\n",
              "  <tbody>\n",
              "    <tr>\n",
              "      <th>0</th>\n",
              "      <td>5.0</td>\n",
              "      <td>0.2</td>\n",
              "      <td>3.0</td>\n",
              "      <td>1.6</td>\n",
              "      <td>1</td>\n",
              "      <td>0.800390</td>\n",
              "    </tr>\n",
              "    <tr>\n",
              "      <th>1</th>\n",
              "      <td>5.0</td>\n",
              "      <td>0.4</td>\n",
              "      <td>3.4</td>\n",
              "      <td>1.6</td>\n",
              "      <td>1</td>\n",
              "      <td>0.812027</td>\n",
              "    </tr>\n",
              "    <tr>\n",
              "      <th>2</th>\n",
              "      <td>5.2</td>\n",
              "      <td>0.2</td>\n",
              "      <td>3.5</td>\n",
              "      <td>1.5</td>\n",
              "      <td>1</td>\n",
              "      <td>0.815120</td>\n",
              "    </tr>\n",
              "    <tr>\n",
              "      <th>3</th>\n",
              "      <td>5.2</td>\n",
              "      <td>0.2</td>\n",
              "      <td>3.0</td>\n",
              "      <td>1.4</td>\n",
              "      <td>1</td>\n",
              "      <td>0.797460</td>\n",
              "    </tr>\n",
              "    <tr>\n",
              "      <th>4</th>\n",
              "      <td>4.7</td>\n",
              "      <td>0.2</td>\n",
              "      <td>3.2</td>\n",
              "      <td>1.6</td>\n",
              "      <td>1</td>\n",
              "      <td>0.808929</td>\n",
              "    </tr>\n",
              "    <tr>\n",
              "      <th>...</th>\n",
              "      <td>...</td>\n",
              "      <td>...</td>\n",
              "      <td>...</td>\n",
              "      <td>...</td>\n",
              "      <td>...</td>\n",
              "      <td>...</td>\n",
              "    </tr>\n",
              "    <tr>\n",
              "      <th>145</th>\n",
              "      <td>5.4</td>\n",
              "      <td>0.2</td>\n",
              "      <td>3.4</td>\n",
              "      <td>1.7</td>\n",
              "      <td>1</td>\n",
              "      <td>0.768281</td>\n",
              "    </tr>\n",
              "    <tr>\n",
              "      <th>146</th>\n",
              "      <td>5.1</td>\n",
              "      <td>0.4</td>\n",
              "      <td>2.0</td>\n",
              "      <td>1.5</td>\n",
              "      <td>1</td>\n",
              "      <td>0.591165</td>\n",
              "    </tr>\n",
              "    <tr>\n",
              "      <th>147</th>\n",
              "      <td>4.6</td>\n",
              "      <td>0.2</td>\n",
              "      <td>3.6</td>\n",
              "      <td>1.0</td>\n",
              "      <td>1</td>\n",
              "      <td>0.775373</td>\n",
              "    </tr>\n",
              "    <tr>\n",
              "      <th>148</th>\n",
              "      <td>5.1</td>\n",
              "      <td>0.5</td>\n",
              "      <td>3.3</td>\n",
              "      <td>1.7</td>\n",
              "      <td>1</td>\n",
              "      <td>0.781116</td>\n",
              "    </tr>\n",
              "    <tr>\n",
              "      <th>149</th>\n",
              "      <td>4.8</td>\n",
              "      <td>0.2</td>\n",
              "      <td>3.4</td>\n",
              "      <td>1.9</td>\n",
              "      <td>1</td>\n",
              "      <td>0.761653</td>\n",
              "    </tr>\n",
              "  </tbody>\n",
              "</table>\n",
              "<p>150 rows × 6 columns</p>\n",
              "</div>\n",
              "      <button class=\"colab-df-convert\" onclick=\"convertToInteractive('df-43463ce8-2dd2-4431-a0b9-031b41b4158d')\"\n",
              "              title=\"Convert this dataframe to an interactive table.\"\n",
              "              style=\"display:none;\">\n",
              "        \n",
              "  <svg xmlns=\"http://www.w3.org/2000/svg\" height=\"24px\"viewBox=\"0 0 24 24\"\n",
              "       width=\"24px\">\n",
              "    <path d=\"M0 0h24v24H0V0z\" fill=\"none\"/>\n",
              "    <path d=\"M18.56 5.44l.94 2.06.94-2.06 2.06-.94-2.06-.94-.94-2.06-.94 2.06-2.06.94zm-11 1L8.5 8.5l.94-2.06 2.06-.94-2.06-.94L8.5 2.5l-.94 2.06-2.06.94zm10 10l.94 2.06.94-2.06 2.06-.94-2.06-.94-.94-2.06-.94 2.06-2.06.94z\"/><path d=\"M17.41 7.96l-1.37-1.37c-.4-.4-.92-.59-1.43-.59-.52 0-1.04.2-1.43.59L10.3 9.45l-7.72 7.72c-.78.78-.78 2.05 0 2.83L4 21.41c.39.39.9.59 1.41.59.51 0 1.02-.2 1.41-.59l7.78-7.78 2.81-2.81c.8-.78.8-2.07 0-2.86zM5.41 20L4 18.59l7.72-7.72 1.47 1.35L5.41 20z\"/>\n",
              "  </svg>\n",
              "      </button>\n",
              "      \n",
              "  <style>\n",
              "    .colab-df-container {\n",
              "      display:flex;\n",
              "      flex-wrap:wrap;\n",
              "      gap: 12px;\n",
              "    }\n",
              "\n",
              "    .colab-df-convert {\n",
              "      background-color: #E8F0FE;\n",
              "      border: none;\n",
              "      border-radius: 50%;\n",
              "      cursor: pointer;\n",
              "      display: none;\n",
              "      fill: #1967D2;\n",
              "      height: 32px;\n",
              "      padding: 0 0 0 0;\n",
              "      width: 32px;\n",
              "    }\n",
              "\n",
              "    .colab-df-convert:hover {\n",
              "      background-color: #E2EBFA;\n",
              "      box-shadow: 0px 1px 2px rgba(60, 64, 67, 0.3), 0px 1px 3px 1px rgba(60, 64, 67, 0.15);\n",
              "      fill: #174EA6;\n",
              "    }\n",
              "\n",
              "    [theme=dark] .colab-df-convert {\n",
              "      background-color: #3B4455;\n",
              "      fill: #D2E3FC;\n",
              "    }\n",
              "\n",
              "    [theme=dark] .colab-df-convert:hover {\n",
              "      background-color: #434B5C;\n",
              "      box-shadow: 0px 1px 3px 1px rgba(0, 0, 0, 0.15);\n",
              "      filter: drop-shadow(0px 1px 2px rgba(0, 0, 0, 0.3));\n",
              "      fill: #FFFFFF;\n",
              "    }\n",
              "  </style>\n",
              "\n",
              "      <script>\n",
              "        const buttonEl =\n",
              "          document.querySelector('#df-43463ce8-2dd2-4431-a0b9-031b41b4158d button.colab-df-convert');\n",
              "        buttonEl.style.display =\n",
              "          google.colab.kernel.accessAllowed ? 'block' : 'none';\n",
              "\n",
              "        async function convertToInteractive(key) {\n",
              "          const element = document.querySelector('#df-43463ce8-2dd2-4431-a0b9-031b41b4158d');\n",
              "          const dataTable =\n",
              "            await google.colab.kernel.invokeFunction('convertToInteractive',\n",
              "                                                     [key], {});\n",
              "          if (!dataTable) return;\n",
              "\n",
              "          const docLinkHtml = 'Like what you see? Visit the ' +\n",
              "            '<a target=\"_blank\" href=https://colab.research.google.com/notebooks/data_table.ipynb>data table notebook</a>'\n",
              "            + ' to learn more about interactive tables.';\n",
              "          element.innerHTML = '';\n",
              "          dataTable['output_type'] = 'display_data';\n",
              "          await google.colab.output.renderOutput(dataTable, element);\n",
              "          const docLink = document.createElement('div');\n",
              "          docLink.innerHTML = docLinkHtml;\n",
              "          element.appendChild(docLink);\n",
              "        }\n",
              "      </script>\n",
              "    </div>\n",
              "  </div>\n",
              "  "
            ]
          },
          "metadata": {},
          "execution_count": 73
        }
      ]
    },
    {
      "cell_type": "markdown",
      "metadata": {
        "id": "Unt23NAhyl0W"
      },
      "source": [
        "4-2) 모든 데이터의 평균 실루엣 계수를 구하세요."
      ]
    },
    {
      "cell_type": "code",
      "metadata": {
        "id": "J51Ao9TiyjpN",
        "colab": {
          "base_uri": "https://localhost:8080/"
        },
        "outputId": "23d9e80e-91c3-4cba-ccac-4b20d9dfe776"
      },
      "source": [
        "#모든 데이터의 평균 실루엣 계수 값을 구하기\n",
        "silhouette_score(sales_data,sales['cluster'])"
      ],
      "execution_count": 74,
      "outputs": [
        {
          "output_type": "execute_result",
          "data": {
            "text/plain": [
              "0.538044239952023"
            ]
          },
          "metadata": {},
          "execution_count": 74
        }
      ]
    },
    {
      "cell_type": "markdown",
      "metadata": {
        "id": "YovPBxuXyxUQ"
      },
      "source": [
        "4-3) 군집별 평균 실루엣 계수를 구하세요."
      ]
    },
    {
      "cell_type": "code",
      "metadata": {
        "id": "XW6o-x1YysJd",
        "colab": {
          "base_uri": "https://localhost:8080/"
        },
        "outputId": "ca0965db-66ff-4712-f945-f2152da14a07"
      },
      "source": [
        "#군집별 평균 실루엣 계수 구하기\n",
        "sales.groupby('cluster')['silhouette_coeff'].mean()"
      ],
      "execution_count": 71,
      "outputs": [
        {
          "output_type": "execute_result",
          "data": {
            "text/plain": [
              "cluster\n",
              "0    0.610305\n",
              "1    0.764497\n",
              "2    0.641143\n",
              "Name: silhouette_coeff, dtype: float64"
            ]
          },
          "metadata": {},
          "execution_count": 71
        }
      ]
    }
  ]
}