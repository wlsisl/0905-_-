{
  "nbformat": 4,
  "nbformat_minor": 0,
  "metadata": {
    "colab": {
      "provenance": [],
      "include_colab_link": true
    },
    "kernelspec": {
      "name": "python3",
      "display_name": "Python 3"
    },
    "language_info": {
      "name": "python"
    }
  },
  "cells": [
    {
      "cell_type": "markdown",
      "metadata": {
        "id": "view-in-github",
        "colab_type": "text"
      },
      "source": [
        "<a href=\"https://colab.research.google.com/github/wlsisl/ESAA_/blob/main/%ED%85%8D%EC%8A%A4%ED%8A%B8_%EB%B6%84%EC%84%9D_%EC%97%B0%EC%8A%B5%EB%AC%B8%EC%A0%9C_(1).ipynb\" target=\"_parent\"><img src=\"https://colab.research.google.com/assets/colab-badge.svg\" alt=\"Open In Colab\"/></a>"
      ]
    },
    {
      "cell_type": "markdown",
      "source": [
        "## **| 텍스트 분석 연습 문제**\n",
        "\n",
        "- 출처 : 캐글"
      ],
      "metadata": {
        "id": "Yw5mfB-1YfRw"
      }
    },
    {
      "cell_type": "markdown",
      "source": [
        "### **1. Tokenization**\n",
        "\n",
        "In the field of Natural Language Processing, tokenization basically refers to splitting up a larger body of text into smaller lines or words.\n",
        "\n",
        "There are mainly two types of tokenization :\n",
        "\n",
        "- Sentence Tokenization\n",
        "- Word Tokenization"
      ],
      "metadata": {
        "id": "zZBGXubsY6lE"
      }
    },
    {
      "cell_type": "markdown",
      "source": [],
      "metadata": {
        "id": "aQzy3wchOIP3"
      }
    },
    {
      "cell_type": "code",
      "source": [
        "# import package\n",
        "import nltk\n",
        "nltk.download('punkt')\n",
        "from nltk.tokenize import sent_tokenize, word_tokenize "
      ],
      "metadata": {
        "id": "zpux756aZRgB",
        "outputId": "70cdc51a-911c-462a-dcd2-f2a56747b28c",
        "colab": {
          "base_uri": "https://localhost:8080/"
        }
      },
      "execution_count": null,
      "outputs": [
        {
          "output_type": "stream",
          "name": "stderr",
          "text": [
            "[nltk_data] Downloading package punkt to /root/nltk_data...\n",
            "[nltk_data]   Unzipping tokenizers/punkt.zip.\n"
          ]
        }
      ]
    },
    {
      "cell_type": "code",
      "source": [
        "# sample text to perform our operations\n",
        "text = \"Hi, My name is Amartya Nambiar. I am a Computer Science Engineer. My favourite color is black\""
      ],
      "metadata": {
        "id": "-vKDqW1WZcjr"
      },
      "execution_count": null,
      "outputs": []
    },
    {
      "cell_type": "code",
      "source": [
        "# 문장 토큰화\n",
        "sentences=sent_tokenize(text=text)"
      ],
      "metadata": {
        "id": "GowligokZeEA"
      },
      "execution_count": null,
      "outputs": []
    },
    {
      "cell_type": "code",
      "source": [
        "# 단어 토큰화, 길이 출력\n",
        "words =word_tokenize(text) \n",
        "print(words, len(words))"
      ],
      "metadata": {
        "id": "pY1VFCkVaDrQ",
        "colab": {
          "base_uri": "https://localhost:8080/"
        },
        "outputId": "64cf05b3-56e8-4655-e276-ee23bd4e8d66"
      },
      "execution_count": null,
      "outputs": [
        {
          "output_type": "stream",
          "name": "stdout",
          "text": [
            "['a', 'new', 'entry', 'in', 'the', '``', 'revisionist', 'history', '``', 'genre', 'of', 'filmmaking', ',', 'dick', 'suggests', 'that', 'two', 'not-too-bright', 'teenage', 'girls', 'are', 'the', 'cause', 'of', 'the', 'uncovering', 'of', 'the', 'nation', \"'s\", 'biggest', 'presidential', 'scandal', '.', 'kirsten', 'dunst', 'and', 'michelle', 'williams', 'star', 'betsy', 'and', 'arlene', ',', 'who', 'while', 'trying', 'to', 'deliver', 'a', 'fan', 'letter', 'from', 'arlene', \"'s\", 'watergate', 'hotel', 'room', ',', 'accidentally', 'stumble', 'across', 'g', '.', 'gordon', 'liddy', '(', 'played', 'dead-on', 'by', 'harry', 'shearer', ')', 'and', 'the', 'infamous', 'break-in', '.', 'when', 'they', 'recognize', 'liddy', 'later', 'on', 'during', 'a', 'white', 'house', 'field', 'trip', ',', 'they', 'are', 'ushered', 'into', 'a', 'conference', 'room', ',', 'questioned', 'as', 'to', 'what', 'they', 'know', ',', 'and', 'leave', 'as', 'official', 'presidential', 'dog', 'walkers', '.', 'the', 'girls', 'manage', 'to', 'unwittingly', 'uncover', 'every', 'bit', 'of', 'the', 'watergate', 'scandal', 'while', 'performing', 'their', 'duties', ',', 'but', 'have', 'no', 'clue', 'as', 'to', 'what', 'they', 'are', 'getting', 'involved', 'with', '.', 'when', 'they', 'discover', 'that', 'nixon', '(', 'another', 'dead-on', 'performance', 'by', 'dan', 'hedaya', ',', 'who', 'actually', 'favors', 'nixon', 'slightly', ',', 'unlike', 'anthony', 'hopkins', ')', 'has', 'been', 'abusive', 'to', 'checkers', ',', 'the', 'presidential', 'dog', ',', 'thanks', 'to', 'the', 'conversations', 'that', 'he', 'always', 'recorded', ',', 'they', 'quit', 'and', 'become', 'disillusioned', '.', 'during', 'a', 'prank', 'phone', 'call', 'the', 'girls', 'make', 'to', 'woodward', 'and', 'bernstein', ',', 'events', 'are', 'set', 'into', 'motion', 'that', 'eventually', 'lead', 'to', 'the', 'president', \"'s\", 'resignation', '.', 'this', 'film', 'starts', 'off', 'promisingly', 'with', 'an', 'aged', 'woodward', 'and', 'bernstein', 'arguing', 'with', 'each', 'other', 'on', 'an', 'obvious', 'larry', 'king-type', 'talk', 'show', '(', 'featuring', 'a', 'cameo', 'by', 'french', 'stewart', ')', 'about', 'revealing', 'the', 'identity', 'of', '``', 'deep', 'throat', '``', '.', 'from', 'there', ',', 'we', 'are', 'subjected', 'to', 'bodily', 'function', 'humor', 'and', 'just', 'about', 'every', 'bad', '``', 'dick', '``', 'joke', 'one', 'can', 'derive', 'from', 'this', 'type', 'of', 'supposed', 'comedy', '.', 'at', 'one', 'point', ',', 'the', 'girls', 'are', 'having', 'to', 'scream', 'over', 'a', 'high', 'school', 'band', 'playing', 'on', 'the', 'steps', 'of', 'the', 'lincoln', 'memorial', '.', 'the', 'band', 'manages', 'to', 'stop', 'right', 'as', 'dunst', 'screams', '``', 'you', 'have', 'to', 'stop', 'letting', 'dick', 'run', 'your', 'life', '!', '``', 'much', 'to', 'the', 'horror', 'of', 'everyone', 'standing', 'within', 'earshot', '.', 'several', 'other', 'variations', 'on', 'this', 'wordplay', 'surface', 'all', 'throughout', 'the', 'film', '.', 'if', 'this', 'movie', 'had', 'been', 'smarter', 'i', 'would', 'have', 'been', 'less', 'likely', 'to', 'fault', 'it', \"'s\", 'juvenile', 'bathroom', 'humor', ',', 'but', 'it', \"'s\", 'not', '.', 'the', 'film', 'was', 'apparently', 'made', 'for', 'relatively', 'younger', 'people', 'because', 'every', 'major', 'player', 'in', 'the', 'watergate', 'scandal', 'is', 'introduced', 'and', 'shoved', 'down', 'the', 'audience', \"'s\", 'throat', 'in', 'the', 'least', 'subtle', 'way', 'possible', '.', 'i', 'do', \"n't\", 'recall', 'oliver', 'stone', \"'s\", 'nixon', 'having', 'to', 'pander', 'to', 'it', \"'s\", 'audience', ',', 'but', 'of', 'course', 'that', 'film', 'was', \"n't\", 'a', 'comedy', 'aimed', 'squarely', 'at', 'a', '13-20', 'year-old', 'film', 'going', 'audience', '.', 'the', 'only', 'redeeming', 'thing', 'about', 'this', 'movie', 'is', 'it', \"'s\", 'remarkable', 'supporting', 'cast', '.', 'i', 'wanted', 'to', 'see', 'more', 'of', 'ferrell', 'and', 'mcculloch', \"'s\", 'woodward', 'and', 'bernstein', '.', 'those', 'two', 'characters', 'are', 'the', 'sole', 'basis', 'for', 'my', 'rating', '.', 'i', 'wish', 'they', 'had', 'been', 'given', 'more', 'screen', 'time', ',', 'but', 'unfortunately', ',', 'they', 'are', 'only', 'relegated', 'to', 'the', 'final', 'half-hour', '.', 'their', 'constant', 'bickering', 'and', 'fighting', 'over', 'trying', 'to', 'get', 'the', 'story', 'are', 'a', 'major', 'highlight', ',', 'especially', 'mcculloch', \"'s\", 'constant', 'thwarting', 'of', 'ferrell', \"'s\", 'attempts', 'to', 'gather', 'information', 'from', 'the', 'girls', '(', 'who', ',', 'in', 'the', 'course', 'of', 'the', 'narrative', 'are', 'revealed', 'as', 'deep', 'throat', ',', 'so', 'named', 'thanks', 'to', 'an', 'ill', 'planned', 'trip', 'to', 'a', 'porno', 'theater', 'by', 'betsy', \"'s\", 'brother', ')', '.', 'the', 'other', 'members', 'of', 'the', 'cast', 'are', 'excellent', 'in', 'their', 'portrayals', 'of', 'their', 'particular', 'characters', ',', 'but', 'are', 'given', 'nothing', 'to', 'work', 'with', '.', 'i', \"'d\", 'like', 'to', 'see', 'the', 'same', 'cast', 'portray', 'these', 'characters', 'in', 'a', 'script', 'more', 'suited', 'towards', 'their', 'comedic', 'abilities', '.', 'as', 'for', 'the', 'two', 'leads', ',', 'dunst', 'and', 'williams', 'can', 'definitely', 'do', 'better', '.', 'they', 'come', 'off', 'as', 'what', 'could', 'best', 'be', 'described', 'as', 'romy', 'and', 'michele', ':', 'the', 'early', 'years', 'in', 'this', 'particular', 'film', ',', 'a', 'highly', 'dubious', 'distinction', 'at', 'best', '.', 'stay', 'through', 'the', 'first', 'half', 'of', 'the', 'end', 'credits', 'though', ',', 'to', 'see', 'an', 'interesting', 'scene', 'involving', 'dunst', 'and', 'williams', 'suggestively', 'sucking', 'on', 'lollipops', 'emblazoned', 'with', 'the', 'title', 'of', 'the', 'movie', '.', 'an', 'excellent', 'idea', 'marred', 'by', 'poor', 'execution', ',', 'dick', 'could', 'have', 'been', 'a', 'great', 'movie', '.', 'less', 'of', 'the', 'juvenile', 'humor', 'and', 'more', 'of', 'the', 'smarter', 'comedy', 'displayed', 'by', 'the', 'woodward', 'and', 'bernstein', 'scenes', ',', 'could', 'have', 'made', 'this', 'film', 'a', 'wonderful', 'satire', 'of', 'the', 'nixon', 'presidency', 'as', 'seen', 'through', 'the', 'eyes', 'of', 'two', 'naive', 'fifteen', 'year', 'olds', '.', 'as', 'it', 'stands', 'though', ',', 'dick', 'offers', 'nothing', 'but', 'what', 'filmmaker', 'kevin', 'smith', 'so', 'accurately', 'defines', 'as', '``', 'dick', 'and', 'poopie', '``', 'jokes', '.', 'and', 'that', ',', 'to', 'me', ',', 'does', 'not', 'make', 'a', 'funny', 'movie', '.', '[', 'pg-13', ']'] 792\n"
          ]
        }
      ]
    },
    {
      "cell_type": "markdown",
      "source": [
        "### **2. Stopwords & Flushing them**\n",
        "\n",
        "Stopwords are the English words which does not add much meaning to a sentence. They can safely be ignored without sacrificing the meaning of the sentence."
      ],
      "metadata": {
        "id": "unjlrUQTaiGV"
      }
    },
    {
      "cell_type": "code",
      "source": [
        "import nltk\n",
        "nltk.download('stopwords') \n",
        "from nltk.corpus import stopwords  "
      ],
      "metadata": {
        "id": "Rf5p8-7KazcD",
        "colab": {
          "base_uri": "https://localhost:8080/"
        },
        "outputId": "3e45c5e5-b7ea-4670-9eba-7e287f9e39fd"
      },
      "execution_count": null,
      "outputs": [
        {
          "output_type": "stream",
          "name": "stderr",
          "text": [
            "[nltk_data] Downloading package stopwords to /root/nltk_data...\n",
            "[nltk_data]   Package stopwords is already up-to-date!\n"
          ]
        }
      ]
    },
    {
      "cell_type": "code",
      "source": [
        "# english stopword 불러오기, 15개만 확인\n",
        "print(stopwords.words('english')[:15])"
      ],
      "metadata": {
        "id": "f8kqXiktbBSc",
        "colab": {
          "base_uri": "https://localhost:8080/"
        },
        "outputId": "d47da50f-8ac7-4e83-968b-eb4a75a253c7"
      },
      "execution_count": null,
      "outputs": [
        {
          "output_type": "stream",
          "name": "stdout",
          "text": [
            "['i', 'me', 'my', 'myself', 'we', 'our', 'ours', 'ourselves', 'you', \"you're\", \"you've\", \"you'll\", \"you'd\", 'your', 'yours']\n"
          ]
        }
      ]
    },
    {
      "cell_type": "code",
      "source": [
        "# 필터링을 통해 text에서 stopword 제거\n",
        "stop= stopwords.words('english')\n",
        "clean = [i for i in words if not i in stop]\n",
        "print(len(clean))\n",
        "print(clean)"
      ],
      "metadata": {
        "id": "CTeQujmRbPZp",
        "colab": {
          "base_uri": "https://localhost:8080/"
        },
        "outputId": "c021dc3b-2588-4d5c-caac-14cd27b73280"
      },
      "execution_count": null,
      "outputs": [
        {
          "output_type": "stream",
          "name": "stdout",
          "text": [
            "485\n",
            "['new', 'entry', '``', 'revisionist', 'history', '``', 'genre', 'filmmaking', ',', 'dick', 'suggests', 'two', 'not-too-bright', 'teenage', 'girls', 'cause', 'uncovering', 'nation', \"'s\", 'biggest', 'presidential', 'scandal', '.', 'kirsten', 'dunst', 'michelle', 'williams', 'star', 'betsy', 'arlene', ',', 'trying', 'deliver', 'fan', 'letter', 'arlene', \"'s\", 'watergate', 'hotel', 'room', ',', 'accidentally', 'stumble', 'across', 'g', '.', 'gordon', 'liddy', '(', 'played', 'dead-on', 'harry', 'shearer', ')', 'infamous', 'break-in', '.', 'recognize', 'liddy', 'later', 'white', 'house', 'field', 'trip', ',', 'ushered', 'conference', 'room', ',', 'questioned', 'know', ',', 'leave', 'official', 'presidential', 'dog', 'walkers', '.', 'girls', 'manage', 'unwittingly', 'uncover', 'every', 'bit', 'watergate', 'scandal', 'performing', 'duties', ',', 'clue', 'getting', 'involved', '.', 'discover', 'nixon', '(', 'another', 'dead-on', 'performance', 'dan', 'hedaya', ',', 'actually', 'favors', 'nixon', 'slightly', ',', 'unlike', 'anthony', 'hopkins', ')', 'abusive', 'checkers', ',', 'presidential', 'dog', ',', 'thanks', 'conversations', 'always', 'recorded', ',', 'quit', 'become', 'disillusioned', '.', 'prank', 'phone', 'call', 'girls', 'make', 'woodward', 'bernstein', ',', 'events', 'set', 'motion', 'eventually', 'lead', 'president', \"'s\", 'resignation', '.', 'film', 'starts', 'promisingly', 'aged', 'woodward', 'bernstein', 'arguing', 'obvious', 'larry', 'king-type', 'talk', 'show', '(', 'featuring', 'cameo', 'french', 'stewart', ')', 'revealing', 'identity', '``', 'deep', 'throat', '``', '.', ',', 'subjected', 'bodily', 'function', 'humor', 'every', 'bad', '``', 'dick', '``', 'joke', 'one', 'derive', 'type', 'supposed', 'comedy', '.', 'one', 'point', ',', 'girls', 'scream', 'high', 'school', 'band', 'playing', 'steps', 'lincoln', 'memorial', '.', 'band', 'manages', 'stop', 'right', 'dunst', 'screams', '``', 'stop', 'letting', 'dick', 'run', 'life', '!', '``', 'much', 'horror', 'everyone', 'standing', 'within', 'earshot', '.', 'several', 'variations', 'wordplay', 'surface', 'throughout', 'film', '.', 'movie', 'smarter', 'would', 'less', 'likely', 'fault', \"'s\", 'juvenile', 'bathroom', 'humor', ',', \"'s\", '.', 'film', 'apparently', 'made', 'relatively', 'younger', 'people', 'every', 'major', 'player', 'watergate', 'scandal', 'introduced', 'shoved', 'audience', \"'s\", 'throat', 'least', 'subtle', 'way', 'possible', '.', \"n't\", 'recall', 'oliver', 'stone', \"'s\", 'nixon', 'pander', \"'s\", 'audience', ',', 'course', 'film', \"n't\", 'comedy', 'aimed', 'squarely', '13-20', 'year-old', 'film', 'going', 'audience', '.', 'redeeming', 'thing', 'movie', \"'s\", 'remarkable', 'supporting', 'cast', '.', 'wanted', 'see', 'ferrell', 'mcculloch', \"'s\", 'woodward', 'bernstein', '.', 'two', 'characters', 'sole', 'basis', 'rating', '.', 'wish', 'given', 'screen', 'time', ',', 'unfortunately', ',', 'relegated', 'final', 'half-hour', '.', 'constant', 'bickering', 'fighting', 'trying', 'get', 'story', 'major', 'highlight', ',', 'especially', 'mcculloch', \"'s\", 'constant', 'thwarting', 'ferrell', \"'s\", 'attempts', 'gather', 'information', 'girls', '(', ',', 'course', 'narrative', 'revealed', 'deep', 'throat', ',', 'named', 'thanks', 'ill', 'planned', 'trip', 'porno', 'theater', 'betsy', \"'s\", 'brother', ')', '.', 'members', 'cast', 'excellent', 'portrayals', 'particular', 'characters', ',', 'given', 'nothing', 'work', '.', \"'d\", 'like', 'see', 'cast', 'portray', 'characters', 'script', 'suited', 'towards', 'comedic', 'abilities', '.', 'two', 'leads', ',', 'dunst', 'williams', 'definitely', 'better', '.', 'come', 'could', 'best', 'described', 'romy', 'michele', ':', 'early', 'years', 'particular', 'film', ',', 'highly', 'dubious', 'distinction', 'best', '.', 'stay', 'first', 'half', 'end', 'credits', 'though', ',', 'see', 'interesting', 'scene', 'involving', 'dunst', 'williams', 'suggestively', 'sucking', 'lollipops', 'emblazoned', 'title', 'movie', '.', 'excellent', 'idea', 'marred', 'poor', 'execution', ',', 'dick', 'could', 'great', 'movie', '.', 'less', 'juvenile', 'humor', 'smarter', 'comedy', 'displayed', 'woodward', 'bernstein', 'scenes', ',', 'could', 'made', 'film', 'wonderful', 'satire', 'nixon', 'presidency', 'seen', 'eyes', 'two', 'naive', 'fifteen', 'year', 'olds', '.', 'stands', 'though', ',', 'dick', 'offers', 'nothing', 'filmmaker', 'kevin', 'smith', 'accurately', 'defines', '``', 'dick', 'poopie', '``', 'jokes', '.', ',', ',', 'make', 'funny', 'movie', '.', '[', 'pg-13', ']']\n"
          ]
        }
      ]
    },
    {
      "cell_type": "code",
      "source": [
        "# punctuation('.', ',') 제거\n",
        "import string \n",
        "punctuations = list(string.punctuation)        \n",
        "stop += punctuations                           \n",
        "words = word_tokenize(text.lower())\n",
        "clean_lower = [i for i in words if not i in stop]\n",
        "print(len(clean_lower))\n",
        "print(clean_lower)"
      ],
      "metadata": {
        "id": "lxAH2ytMb3TY",
        "colab": {
          "base_uri": "https://localhost:8080/"
        },
        "outputId": "025f700d-30a7-4bde-ab89-78610dc6c02a"
      },
      "execution_count": null,
      "outputs": [
        {
          "output_type": "stream",
          "name": "stdout",
          "text": [
            "413\n",
            "['new', 'entry', '``', 'revisionist', 'history', '``', 'genre', 'filmmaking', 'dick', 'suggests', 'two', 'not-too-bright', 'teenage', 'girls', 'cause', 'uncovering', 'nation', \"'s\", 'biggest', 'presidential', 'scandal', 'kirsten', 'dunst', 'michelle', 'williams', 'star', 'betsy', 'arlene', 'trying', 'deliver', 'fan', 'letter', 'arlene', \"'s\", 'watergate', 'hotel', 'room', 'accidentally', 'stumble', 'across', 'g', 'gordon', 'liddy', 'played', 'dead-on', 'harry', 'shearer', 'infamous', 'break-in', 'recognize', 'liddy', 'later', 'white', 'house', 'field', 'trip', 'ushered', 'conference', 'room', 'questioned', 'know', 'leave', 'official', 'presidential', 'dog', 'walkers', 'girls', 'manage', 'unwittingly', 'uncover', 'every', 'bit', 'watergate', 'scandal', 'performing', 'duties', 'clue', 'getting', 'involved', 'discover', 'nixon', 'another', 'dead-on', 'performance', 'dan', 'hedaya', 'actually', 'favors', 'nixon', 'slightly', 'unlike', 'anthony', 'hopkins', 'abusive', 'checkers', 'presidential', 'dog', 'thanks', 'conversations', 'always', 'recorded', 'quit', 'become', 'disillusioned', 'prank', 'phone', 'call', 'girls', 'make', 'woodward', 'bernstein', 'events', 'set', 'motion', 'eventually', 'lead', 'president', \"'s\", 'resignation', 'film', 'starts', 'promisingly', 'aged', 'woodward', 'bernstein', 'arguing', 'obvious', 'larry', 'king-type', 'talk', 'show', 'featuring', 'cameo', 'french', 'stewart', 'revealing', 'identity', '``', 'deep', 'throat', '``', 'subjected', 'bodily', 'function', 'humor', 'every', 'bad', '``', 'dick', '``', 'joke', 'one', 'derive', 'type', 'supposed', 'comedy', 'one', 'point', 'girls', 'scream', 'high', 'school', 'band', 'playing', 'steps', 'lincoln', 'memorial', 'band', 'manages', 'stop', 'right', 'dunst', 'screams', '``', 'stop', 'letting', 'dick', 'run', 'life', '``', 'much', 'horror', 'everyone', 'standing', 'within', 'earshot', 'several', 'variations', 'wordplay', 'surface', 'throughout', 'film', 'movie', 'smarter', 'would', 'less', 'likely', 'fault', \"'s\", 'juvenile', 'bathroom', 'humor', \"'s\", 'film', 'apparently', 'made', 'relatively', 'younger', 'people', 'every', 'major', 'player', 'watergate', 'scandal', 'introduced', 'shoved', 'audience', \"'s\", 'throat', 'least', 'subtle', 'way', 'possible', \"n't\", 'recall', 'oliver', 'stone', \"'s\", 'nixon', 'pander', \"'s\", 'audience', 'course', 'film', \"n't\", 'comedy', 'aimed', 'squarely', '13-20', 'year-old', 'film', 'going', 'audience', 'redeeming', 'thing', 'movie', \"'s\", 'remarkable', 'supporting', 'cast', 'wanted', 'see', 'ferrell', 'mcculloch', \"'s\", 'woodward', 'bernstein', 'two', 'characters', 'sole', 'basis', 'rating', 'wish', 'given', 'screen', 'time', 'unfortunately', 'relegated', 'final', 'half-hour', 'constant', 'bickering', 'fighting', 'trying', 'get', 'story', 'major', 'highlight', 'especially', 'mcculloch', \"'s\", 'constant', 'thwarting', 'ferrell', \"'s\", 'attempts', 'gather', 'information', 'girls', 'course', 'narrative', 'revealed', 'deep', 'throat', 'named', 'thanks', 'ill', 'planned', 'trip', 'porno', 'theater', 'betsy', \"'s\", 'brother', 'members', 'cast', 'excellent', 'portrayals', 'particular', 'characters', 'given', 'nothing', 'work', \"'d\", 'like', 'see', 'cast', 'portray', 'characters', 'script', 'suited', 'towards', 'comedic', 'abilities', 'two', 'leads', 'dunst', 'williams', 'definitely', 'better', 'come', 'could', 'best', 'described', 'romy', 'michele', 'early', 'years', 'particular', 'film', 'highly', 'dubious', 'distinction', 'best', 'stay', 'first', 'half', 'end', 'credits', 'though', 'see', 'interesting', 'scene', 'involving', 'dunst', 'williams', 'suggestively', 'sucking', 'lollipops', 'emblazoned', 'title', 'movie', 'excellent', 'idea', 'marred', 'poor', 'execution', 'dick', 'could', 'great', 'movie', 'less', 'juvenile', 'humor', 'smarter', 'comedy', 'displayed', 'woodward', 'bernstein', 'scenes', 'could', 'made', 'film', 'wonderful', 'satire', 'nixon', 'presidency', 'seen', 'eyes', 'two', 'naive', 'fifteen', 'year', 'olds', 'stands', 'though', 'dick', 'offers', 'nothing', 'filmmaker', 'kevin', 'smith', 'accurately', 'defines', '``', 'dick', 'poopie', '``', 'jokes', 'make', 'funny', 'movie', 'pg-13']\n"
          ]
        }
      ]
    },
    {
      "cell_type": "markdown",
      "source": [
        "### **3. Stemming**\n",
        "\n",
        "Stemming is a technique used to extract the base form of the words by removing affixes from them. It is just like cutting down the branches of a tree to its stems. For example, the stem of the words eating, eats, eaten is eat.\n",
        "\n",
        "There are mainly two widely used Stemmer Algorithms:\n",
        "\n",
        "- Porter Stemmer (we'll work on this)\n",
        "- Lancaster Stem"
      ],
      "metadata": {
        "id": "yEAlzfMhcBcK"
      }
    },
    {
      "cell_type": "code",
      "source": [
        "from nltk.stem import PorterStemmer"
      ],
      "metadata": {
        "id": "EQQuNe0McNBg"
      },
      "execution_count": null,
      "outputs": []
    },
    {
      "cell_type": "code",
      "source": [
        "# ps 객체 생성 후 stemming , example 최소 3개 임의 생성 후 시도해보기\n",
        "# example1= ['helps', 'helping', 'helped']\n",
        "\n",
        "ps = PorterStemmer()         \n",
        "example = ['helps','helping','helped']   \n",
        "stemm_example = [ps.stem(i) for i in example]\n",
        "stemm_example"
      ],
      "metadata": {
        "id": "hp_atqYwdkR2",
        "colab": {
          "base_uri": "https://localhost:8080/"
        },
        "outputId": "c48eb474-cb84-4e44-e4a4-d16c34dc8b50"
      },
      "execution_count": null,
      "outputs": [
        {
          "output_type": "execute_result",
          "data": {
            "text/plain": [
              "['help', 'help', 'help']"
            ]
          },
          "metadata": {},
          "execution_count": 17
        }
      ]
    },
    {
      "cell_type": "code",
      "source": [
        "ps.stem('happiness') # but it isn't always the best choice"
      ],
      "metadata": {
        "id": "mwMDJ3ZaduyK",
        "colab": {
          "base_uri": "https://localhost:8080/",
          "height": 35
        },
        "outputId": "8969fe99-5186-4e70-ff43-b49a1234650f"
      },
      "execution_count": null,
      "outputs": [
        {
          "output_type": "execute_result",
          "data": {
            "text/plain": [
              "'happi'"
            ],
            "application/vnd.google.colaboratory.intrinsic+json": {
              "type": "string"
            }
          },
          "metadata": {},
          "execution_count": 18
        }
      ]
    },
    {
      "cell_type": "markdown",
      "source": [
        "### **4. Parts of Speech**\n",
        "\n",
        "To know what is the context of a particular word\n",
        "\n",
        "For example : Shyam is a Proper Noun, Desk is a Noun and Happy is an adjective."
      ],
      "metadata": {
        "id": "71eO1YE1dwBv"
      }
    },
    {
      "cell_type": "code",
      "source": [
        "from nltk import pos_tag\n",
        "from nltk.corpus import movie_reviews"
      ],
      "metadata": {
        "id": "S2iVOPi4eEKC"
      },
      "execution_count": null,
      "outputs": []
    },
    {
      "cell_type": "code",
      "source": [
        "import nltk \n",
        "nltk.download('movie_reviews')\n",
        "text = movie_reviews.raw(\"neg/cv954_19932.txt\")"
      ],
      "metadata": {
        "colab": {
          "base_uri": "https://localhost:8080/"
        },
        "id": "pUa3VGKEC5Yi",
        "outputId": "00c0ba53-3dfa-43d3-825d-b9248034517b"
      },
      "execution_count": null,
      "outputs": [
        {
          "output_type": "stream",
          "name": "stderr",
          "text": [
            "[nltk_data] Downloading package movie_reviews to /root/nltk_data...\n",
            "[nltk_data]   Unzipping corpora/movie_reviews.zip.\n"
          ]
        }
      ]
    },
    {
      "cell_type": "code",
      "source": [
        "nltk.download('averaged_perceptron_tagger')"
      ],
      "metadata": {
        "colab": {
          "base_uri": "https://localhost:8080/"
        },
        "id": "RPU8CoRoFoN9",
        "outputId": "a5962ed5-50e5-4f2a-b59c-1a87352fc221"
      },
      "execution_count": null,
      "outputs": [
        {
          "output_type": "stream",
          "name": "stderr",
          "text": [
            "[nltk_data] Downloading package averaged_perceptron_tagger to\n",
            "[nltk_data]     /root/nltk_data...\n",
            "[nltk_data]   Unzipping taggers/averaged_perceptron_tagger.zip.\n"
          ]
        },
        {
          "output_type": "execute_result",
          "data": {
            "text/plain": [
              "True"
            ]
          },
          "metadata": {},
          "execution_count": 26
        }
      ]
    },
    {
      "cell_type": "code",
      "source": [
        "# apply pos_tag(), print result\n",
        "\n",
        "print(pos_tag(word_tokenize(text)))"
      ],
      "metadata": {
        "id": "vcWgmScAedLq",
        "colab": {
          "base_uri": "https://localhost:8080/"
        },
        "outputId": "3482a45d-351c-4c5a-8c0e-9d8ed37b4f32"
      },
      "execution_count": null,
      "outputs": [
        {
          "output_type": "stream",
          "name": "stdout",
          "text": [
            "[('a', 'DT'), ('new', 'JJ'), ('entry', 'NN'), ('in', 'IN'), ('the', 'DT'), ('``', '``'), ('revisionist', 'JJ'), ('history', 'NN'), ('``', '``'), ('genre', 'NN'), ('of', 'IN'), ('filmmaking', 'NN'), (',', ','), ('dick', 'JJ'), ('suggests', 'VBZ'), ('that', 'IN'), ('two', 'CD'), ('not-too-bright', 'JJ'), ('teenage', 'NN'), ('girls', 'NNS'), ('are', 'VBP'), ('the', 'DT'), ('cause', 'NN'), ('of', 'IN'), ('the', 'DT'), ('uncovering', 'NN'), ('of', 'IN'), ('the', 'DT'), ('nation', 'NN'), (\"'s\", 'POS'), ('biggest', 'JJS'), ('presidential', 'JJ'), ('scandal', 'NN'), ('.', '.'), ('kirsten', 'VB'), ('dunst', 'JJ'), ('and', 'CC'), ('michelle', 'JJ'), ('williams', 'NNS'), ('star', 'VBP'), ('betsy', 'NN'), ('and', 'CC'), ('arlene', 'NN'), (',', ','), ('who', 'WP'), ('while', 'IN'), ('trying', 'VBG'), ('to', 'TO'), ('deliver', 'VB'), ('a', 'DT'), ('fan', 'NN'), ('letter', 'NN'), ('from', 'IN'), ('arlene', 'NN'), (\"'s\", 'POS'), ('watergate', 'JJ'), ('hotel', 'NN'), ('room', 'NN'), (',', ','), ('accidentally', 'RB'), ('stumble', 'JJ'), ('across', 'IN'), ('g', 'NN'), ('.', '.'), ('gordon', 'NN'), ('liddy', 'NN'), ('(', '('), ('played', 'VBN'), ('dead-on', 'NN'), ('by', 'IN'), ('harry', 'JJ'), ('shearer', 'NN'), (')', ')'), ('and', 'CC'), ('the', 'DT'), ('infamous', 'JJ'), ('break-in', 'NN'), ('.', '.'), ('when', 'WRB'), ('they', 'PRP'), ('recognize', 'VBP'), ('liddy', 'JJ'), ('later', 'RB'), ('on', 'IN'), ('during', 'IN'), ('a', 'DT'), ('white', 'JJ'), ('house', 'NN'), ('field', 'NN'), ('trip', 'NN'), (',', ','), ('they', 'PRP'), ('are', 'VBP'), ('ushered', 'JJ'), ('into', 'IN'), ('a', 'DT'), ('conference', 'NN'), ('room', 'NN'), (',', ','), ('questioned', 'VBD'), ('as', 'IN'), ('to', 'TO'), ('what', 'WP'), ('they', 'PRP'), ('know', 'VBP'), (',', ','), ('and', 'CC'), ('leave', 'VBP'), ('as', 'IN'), ('official', 'JJ'), ('presidential', 'JJ'), ('dog', 'NN'), ('walkers', 'NNS'), ('.', '.'), ('the', 'DT'), ('girls', 'JJ'), ('manage', 'NN'), ('to', 'TO'), ('unwittingly', 'RB'), ('uncover', 'JJ'), ('every', 'DT'), ('bit', 'NN'), ('of', 'IN'), ('the', 'DT'), ('watergate', 'NN'), ('scandal', 'NN'), ('while', 'IN'), ('performing', 'VBG'), ('their', 'PRP$'), ('duties', 'NNS'), (',', ','), ('but', 'CC'), ('have', 'VBP'), ('no', 'DT'), ('clue', 'NN'), ('as', 'IN'), ('to', 'TO'), ('what', 'WP'), ('they', 'PRP'), ('are', 'VBP'), ('getting', 'VBG'), ('involved', 'VBN'), ('with', 'IN'), ('.', '.'), ('when', 'WRB'), ('they', 'PRP'), ('discover', 'VBP'), ('that', 'IN'), ('nixon', 'NN'), ('(', '('), ('another', 'DT'), ('dead-on', 'NN'), ('performance', 'NN'), ('by', 'IN'), ('dan', 'NN'), ('hedaya', 'NN'), (',', ','), ('who', 'WP'), ('actually', 'RB'), ('favors', 'VBZ'), ('nixon', 'JJ'), ('slightly', 'RB'), (',', ','), ('unlike', 'IN'), ('anthony', 'NN'), ('hopkins', 'NNS'), (')', ')'), ('has', 'VBZ'), ('been', 'VBN'), ('abusive', 'JJ'), ('to', 'TO'), ('checkers', 'NNS'), (',', ','), ('the', 'DT'), ('presidential', 'JJ'), ('dog', 'NN'), (',', ','), ('thanks', 'NNS'), ('to', 'TO'), ('the', 'DT'), ('conversations', 'NNS'), ('that', 'IN'), ('he', 'PRP'), ('always', 'RB'), ('recorded', 'VBD'), (',', ','), ('they', 'PRP'), ('quit', 'VBP'), ('and', 'CC'), ('become', 'VBP'), ('disillusioned', 'VBN'), ('.', '.'), ('during', 'IN'), ('a', 'DT'), ('prank', 'NN'), ('phone', 'NN'), ('call', 'NN'), ('the', 'DT'), ('girls', 'NNS'), ('make', 'VBP'), ('to', 'TO'), ('woodward', 'VB'), ('and', 'CC'), ('bernstein', 'VB'), (',', ','), ('events', 'NNS'), ('are', 'VBP'), ('set', 'VBN'), ('into', 'IN'), ('motion', 'NN'), ('that', 'WDT'), ('eventually', 'RB'), ('lead', 'VBP'), ('to', 'TO'), ('the', 'DT'), ('president', 'NN'), (\"'s\", 'POS'), ('resignation', 'NN'), ('.', '.'), ('this', 'DT'), ('film', 'NN'), ('starts', 'VBZ'), ('off', 'IN'), ('promisingly', 'RB'), ('with', 'IN'), ('an', 'DT'), ('aged', 'VBN'), ('woodward', 'NN'), ('and', 'CC'), ('bernstein', 'NN'), ('arguing', 'VBG'), ('with', 'IN'), ('each', 'DT'), ('other', 'JJ'), ('on', 'IN'), ('an', 'DT'), ('obvious', 'JJ'), ('larry', 'NN'), ('king-type', 'JJ'), ('talk', 'NN'), ('show', 'NN'), ('(', '('), ('featuring', 'VBG'), ('a', 'DT'), ('cameo', 'NN'), ('by', 'IN'), ('french', 'JJ'), ('stewart', 'NN'), (')', ')'), ('about', 'IN'), ('revealing', 'VBG'), ('the', 'DT'), ('identity', 'NN'), ('of', 'IN'), ('``', '``'), ('deep', 'JJ'), ('throat', 'NN'), ('``', '``'), ('.', '.'), ('from', 'IN'), ('there', 'RB'), (',', ','), ('we', 'PRP'), ('are', 'VBP'), ('subjected', 'VBN'), ('to', 'TO'), ('bodily', 'VB'), ('function', 'NN'), ('humor', 'NN'), ('and', 'CC'), ('just', 'RB'), ('about', 'IN'), ('every', 'DT'), ('bad', 'JJ'), ('``', '``'), ('dick', 'JJ'), ('``', '``'), ('joke', 'VBD'), ('one', 'CD'), ('can', 'MD'), ('derive', 'VB'), ('from', 'IN'), ('this', 'DT'), ('type', 'NN'), ('of', 'IN'), ('supposed', 'JJ'), ('comedy', 'NN'), ('.', '.'), ('at', 'IN'), ('one', 'CD'), ('point', 'NN'), (',', ','), ('the', 'DT'), ('girls', 'NNS'), ('are', 'VBP'), ('having', 'VBG'), ('to', 'TO'), ('scream', 'VB'), ('over', 'IN'), ('a', 'DT'), ('high', 'JJ'), ('school', 'NN'), ('band', 'VBP'), ('playing', 'VBG'), ('on', 'IN'), ('the', 'DT'), ('steps', 'NNS'), ('of', 'IN'), ('the', 'DT'), ('lincoln', 'NN'), ('memorial', 'NN'), ('.', '.'), ('the', 'DT'), ('band', 'NN'), ('manages', 'VBZ'), ('to', 'TO'), ('stop', 'VB'), ('right', 'NN'), ('as', 'IN'), ('dunst', 'JJ'), ('screams', 'VBP'), ('``', '``'), ('you', 'PRP'), ('have', 'VBP'), ('to', 'TO'), ('stop', 'VB'), ('letting', 'VBG'), ('dick', 'JJ'), ('run', 'VB'), ('your', 'PRP$'), ('life', 'NN'), ('!', '.'), ('``', '``'), ('much', 'JJ'), ('to', 'TO'), ('the', 'DT'), ('horror', 'NN'), ('of', 'IN'), ('everyone', 'NN'), ('standing', 'VBG'), ('within', 'IN'), ('earshot', 'JJ'), ('.', '.'), ('several', 'JJ'), ('other', 'JJ'), ('variations', 'NNS'), ('on', 'IN'), ('this', 'DT'), ('wordplay', 'NN'), ('surface', 'NN'), ('all', 'DT'), ('throughout', 'IN'), ('the', 'DT'), ('film', 'NN'), ('.', '.'), ('if', 'IN'), ('this', 'DT'), ('movie', 'NN'), ('had', 'VBD'), ('been', 'VBN'), ('smarter', 'JJ'), ('i', 'NN'), ('would', 'MD'), ('have', 'VB'), ('been', 'VBN'), ('less', 'RBR'), ('likely', 'JJ'), ('to', 'TO'), ('fault', 'VB'), ('it', 'PRP'), (\"'s\", 'VBZ'), ('juvenile', 'JJ'), ('bathroom', 'NN'), ('humor', 'NN'), (',', ','), ('but', 'CC'), ('it', 'PRP'), (\"'s\", 'VBZ'), ('not', 'RB'), ('.', '.'), ('the', 'DT'), ('film', 'NN'), ('was', 'VBD'), ('apparently', 'RB'), ('made', 'VBN'), ('for', 'IN'), ('relatively', 'RB'), ('younger', 'JJR'), ('people', 'NNS'), ('because', 'IN'), ('every', 'DT'), ('major', 'JJ'), ('player', 'NN'), ('in', 'IN'), ('the', 'DT'), ('watergate', 'NN'), ('scandal', 'NN'), ('is', 'VBZ'), ('introduced', 'VBN'), ('and', 'CC'), ('shoved', 'VBN'), ('down', 'RP'), ('the', 'DT'), ('audience', 'NN'), (\"'s\", 'POS'), ('throat', 'NN'), ('in', 'IN'), ('the', 'DT'), ('least', 'JJS'), ('subtle', 'JJ'), ('way', 'NN'), ('possible', 'JJ'), ('.', '.'), ('i', 'NN'), ('do', 'VBP'), (\"n't\", 'RB'), ('recall', 'VB'), ('oliver', 'RP'), ('stone', 'NN'), (\"'s\", 'POS'), ('nixon', 'JJ'), ('having', 'VBG'), ('to', 'TO'), ('pander', 'VB'), ('to', 'TO'), ('it', 'PRP'), (\"'s\", 'VBZ'), ('audience', 'NN'), (',', ','), ('but', 'CC'), ('of', 'IN'), ('course', 'NN'), ('that', 'IN'), ('film', 'NN'), ('was', 'VBD'), (\"n't\", 'RB'), ('a', 'DT'), ('comedy', 'NN'), ('aimed', 'VBN'), ('squarely', 'RB'), ('at', 'IN'), ('a', 'DT'), ('13-20', 'JJ'), ('year-old', 'JJ'), ('film', 'NN'), ('going', 'VBG'), ('audience', 'NN'), ('.', '.'), ('the', 'DT'), ('only', 'JJ'), ('redeeming', 'JJ'), ('thing', 'NN'), ('about', 'IN'), ('this', 'DT'), ('movie', 'NN'), ('is', 'VBZ'), ('it', 'PRP'), (\"'s\", 'VBZ'), ('remarkable', 'JJ'), ('supporting', 'VBG'), ('cast', 'NN'), ('.', '.'), ('i', 'NN'), ('wanted', 'VBD'), ('to', 'TO'), ('see', 'VB'), ('more', 'JJR'), ('of', 'IN'), ('ferrell', 'NN'), ('and', 'CC'), ('mcculloch', 'NN'), (\"'s\", 'POS'), ('woodward', 'NN'), ('and', 'CC'), ('bernstein', 'NN'), ('.', '.'), ('those', 'DT'), ('two', 'CD'), ('characters', 'NNS'), ('are', 'VBP'), ('the', 'DT'), ('sole', 'JJ'), ('basis', 'NN'), ('for', 'IN'), ('my', 'PRP$'), ('rating', 'NN'), ('.', '.'), ('i', 'JJ'), ('wish', 'NN'), ('they', 'PRP'), ('had', 'VBD'), ('been', 'VBN'), ('given', 'VBN'), ('more', 'RBR'), ('screen', 'JJ'), ('time', 'NN'), (',', ','), ('but', 'CC'), ('unfortunately', 'RB'), (',', ','), ('they', 'PRP'), ('are', 'VBP'), ('only', 'RB'), ('relegated', 'VBN'), ('to', 'TO'), ('the', 'DT'), ('final', 'JJ'), ('half-hour', 'NN'), ('.', '.'), ('their', 'PRP$'), ('constant', 'JJ'), ('bickering', 'NN'), ('and', 'CC'), ('fighting', 'NN'), ('over', 'IN'), ('trying', 'VBG'), ('to', 'TO'), ('get', 'VB'), ('the', 'DT'), ('story', 'NN'), ('are', 'VBP'), ('a', 'DT'), ('major', 'JJ'), ('highlight', 'NN'), (',', ','), ('especially', 'RB'), ('mcculloch', 'VBP'), (\"'s\", 'POS'), ('constant', 'JJ'), ('thwarting', 'NN'), ('of', 'IN'), ('ferrell', 'NN'), (\"'s\", 'POS'), ('attempts', 'NNS'), ('to', 'TO'), ('gather', 'VB'), ('information', 'NN'), ('from', 'IN'), ('the', 'DT'), ('girls', 'NNS'), ('(', '('), ('who', 'WP'), (',', ','), ('in', 'IN'), ('the', 'DT'), ('course', 'NN'), ('of', 'IN'), ('the', 'DT'), ('narrative', 'JJ'), ('are', 'VBP'), ('revealed', 'VBN'), ('as', 'IN'), ('deep', 'JJ'), ('throat', 'NN'), (',', ','), ('so', 'RB'), ('named', 'JJ'), ('thanks', 'NNS'), ('to', 'TO'), ('an', 'DT'), ('ill', 'NN'), ('planned', 'VBN'), ('trip', 'NN'), ('to', 'TO'), ('a', 'DT'), ('porno', 'NN'), ('theater', 'NN'), ('by', 'IN'), ('betsy', 'NN'), (\"'s\", 'POS'), ('brother', 'NN'), (')', ')'), ('.', '.'), ('the', 'DT'), ('other', 'JJ'), ('members', 'NNS'), ('of', 'IN'), ('the', 'DT'), ('cast', 'NN'), ('are', 'VBP'), ('excellent', 'VBN'), ('in', 'IN'), ('their', 'PRP$'), ('portrayals', 'NNS'), ('of', 'IN'), ('their', 'PRP$'), ('particular', 'JJ'), ('characters', 'NNS'), (',', ','), ('but', 'CC'), ('are', 'VBP'), ('given', 'VBN'), ('nothing', 'NN'), ('to', 'TO'), ('work', 'VB'), ('with', 'IN'), ('.', '.'), ('i', 'JJ'), (\"'d\", 'MD'), ('like', 'VB'), ('to', 'TO'), ('see', 'VB'), ('the', 'DT'), ('same', 'JJ'), ('cast', 'NN'), ('portray', 'NN'), ('these', 'DT'), ('characters', 'NNS'), ('in', 'IN'), ('a', 'DT'), ('script', 'NN'), ('more', 'RBR'), ('suited', 'JJ'), ('towards', 'NNS'), ('their', 'PRP$'), ('comedic', 'JJ'), ('abilities', 'NNS'), ('.', '.'), ('as', 'IN'), ('for', 'IN'), ('the', 'DT'), ('two', 'CD'), ('leads', 'NNS'), (',', ','), ('dunst', 'NN'), ('and', 'CC'), ('williams', 'NNS'), ('can', 'MD'), ('definitely', 'RB'), ('do', 'VB'), ('better', 'JJR'), ('.', '.'), ('they', 'PRP'), ('come', 'VBP'), ('off', 'RP'), ('as', 'IN'), ('what', 'WP'), ('could', 'MD'), ('best', 'RB'), ('be', 'VB'), ('described', 'VBN'), ('as', 'IN'), ('romy', 'NN'), ('and', 'CC'), ('michele', 'NN'), (':', ':'), ('the', 'DT'), ('early', 'JJ'), ('years', 'NNS'), ('in', 'IN'), ('this', 'DT'), ('particular', 'JJ'), ('film', 'NN'), (',', ','), ('a', 'DT'), ('highly', 'RB'), ('dubious', 'JJ'), ('distinction', 'NN'), ('at', 'IN'), ('best', 'JJS'), ('.', '.'), ('stay', 'VB'), ('through', 'IN'), ('the', 'DT'), ('first', 'JJ'), ('half', 'NN'), ('of', 'IN'), ('the', 'DT'), ('end', 'NN'), ('credits', 'VBZ'), ('though', 'IN'), (',', ','), ('to', 'TO'), ('see', 'VB'), ('an', 'DT'), ('interesting', 'JJ'), ('scene', 'NN'), ('involving', 'VBG'), ('dunst', 'NN'), ('and', 'CC'), ('williams', 'NNS'), ('suggestively', 'RB'), ('sucking', 'VBG'), ('on', 'IN'), ('lollipops', 'NNS'), ('emblazoned', 'VBN'), ('with', 'IN'), ('the', 'DT'), ('title', 'NN'), ('of', 'IN'), ('the', 'DT'), ('movie', 'NN'), ('.', '.'), ('an', 'DT'), ('excellent', 'JJ'), ('idea', 'NN'), ('marred', 'VBN'), ('by', 'IN'), ('poor', 'JJ'), ('execution', 'NN'), (',', ','), ('dick', 'NN'), ('could', 'MD'), ('have', 'VB'), ('been', 'VBN'), ('a', 'DT'), ('great', 'JJ'), ('movie', 'NN'), ('.', '.'), ('less', 'JJR'), ('of', 'IN'), ('the', 'DT'), ('juvenile', 'NN'), ('humor', 'NN'), ('and', 'CC'), ('more', 'JJR'), ('of', 'IN'), ('the', 'DT'), ('smarter', 'NN'), ('comedy', 'NN'), ('displayed', 'VBN'), ('by', 'IN'), ('the', 'DT'), ('woodward', 'NN'), ('and', 'CC'), ('bernstein', 'NN'), ('scenes', 'NNS'), (',', ','), ('could', 'MD'), ('have', 'VB'), ('made', 'VBN'), ('this', 'DT'), ('film', 'NN'), ('a', 'DT'), ('wonderful', 'JJ'), ('satire', 'NN'), ('of', 'IN'), ('the', 'DT'), ('nixon', 'JJ'), ('presidency', 'NN'), ('as', 'IN'), ('seen', 'VBN'), ('through', 'IN'), ('the', 'DT'), ('eyes', 'NNS'), ('of', 'IN'), ('two', 'CD'), ('naive', 'JJ'), ('fifteen', 'JJ'), ('year', 'NN'), ('olds', 'NNS'), ('.', '.'), ('as', 'IN'), ('it', 'PRP'), ('stands', 'VBZ'), ('though', 'IN'), (',', ','), ('dick', 'JJ'), ('offers', 'NNS'), ('nothing', 'NN'), ('but', 'CC'), ('what', 'WP'), ('filmmaker', 'NN'), ('kevin', 'NN'), ('smith', 'NN'), ('so', 'RB'), ('accurately', 'RB'), ('defines', 'VBZ'), ('as', 'IN'), ('``', '``'), ('dick', 'NN'), ('and', 'CC'), ('poopie', 'NN'), ('``', '``'), ('jokes', 'NNS'), ('.', '.'), ('and', 'CC'), ('that', 'IN'), (',', ','), ('to', 'TO'), ('me', 'PRP'), (',', ','), ('does', 'VBZ'), ('not', 'RB'), ('make', 'VB'), ('a', 'DT'), ('funny', 'JJ'), ('movie', 'NN'), ('.', '.'), ('[', 'JJ'), ('pg-13', 'JJ'), (']', 'NN')]\n"
          ]
        }
      ]
    },
    {
      "cell_type": "markdown",
      "source": [
        "### **5. Lemmatization**\n",
        "\n",
        "PorterStemmer class chops off the suffixes from the word but this isn't the best thing to apply to clean our data.\n",
        "\n",
        "Stemming technique only looks at the form of the word whereas Lemmatization technique looks at the meaning of the word. It means after applying lemmatization, we will always get a valid word."
      ],
      "metadata": {
        "id": "NrFml-IJepQ0"
      }
    },
    {
      "cell_type": "code",
      "source": [
        "#import package\n",
        "import nltk\n",
        "nltk.download('omw-1.4')\n",
        "nltk.download('wordnet')\n",
        "from nltk.stem import WordNetLemmatizer"
      ],
      "metadata": {
        "id": "xWF0Ibznetk6",
        "colab": {
          "base_uri": "https://localhost:8080/"
        },
        "outputId": "ef63efce-4575-4c48-f2dd-c9508d510a7e"
      },
      "execution_count": null,
      "outputs": [
        {
          "output_type": "stream",
          "name": "stderr",
          "text": [
            "[nltk_data] Downloading package omw-1.4 to /root/nltk_data...\n",
            "[nltk_data] Downloading package wordnet to /root/nltk_data...\n"
          ]
        }
      ]
    },
    {
      "cell_type": "code",
      "source": [
        "#lemmatize 'believes', 'happiness'\n",
        "lem = WordNetLemmatizer()\n",
        "lem.lemmatize('believes')\n",
        "lem.lemmatize('happiness')"
      ],
      "metadata": {
        "id": "C-abWCqffiwP",
        "colab": {
          "base_uri": "https://localhost:8080/",
          "height": 35
        },
        "outputId": "0e75c2a1-890e-43c4-b8a9-7e052283e693"
      },
      "execution_count": null,
      "outputs": [
        {
          "output_type": "execute_result",
          "data": {
            "text/plain": [
              "'happiness'"
            ],
            "application/vnd.google.colaboratory.intrinsic+json": {
              "type": "string"
            }
          },
          "metadata": {},
          "execution_count": 41
        }
      ]
    },
    {
      "cell_type": "code",
      "source": [
        "lem.lemmatize('believes', pos='a')"
      ],
      "metadata": {
        "colab": {
          "base_uri": "https://localhost:8080/",
          "height": 35
        },
        "id": "mRx6fYJlElWy",
        "outputId": "278a66f1-152f-4c87-aaae-ed4c07b4f74a"
      },
      "execution_count": null,
      "outputs": [
        {
          "output_type": "execute_result",
          "data": {
            "text/plain": [
              "'believes'"
            ],
            "application/vnd.google.colaboratory.intrinsic+json": {
              "type": "string"
            }
          },
          "metadata": {},
          "execution_count": 21
        }
      ]
    },
    {
      "cell_type": "code",
      "source": [
        "lem.lemmatize('believes', pos='v')"
      ],
      "metadata": {
        "colab": {
          "base_uri": "https://localhost:8080/",
          "height": 35
        },
        "id": "nY4YP636EmrN",
        "outputId": "1a28eaa9-791d-440d-8644-6fc1ee4d4002"
      },
      "execution_count": null,
      "outputs": [
        {
          "output_type": "execute_result",
          "data": {
            "text/plain": [
              "'believe'"
            ],
            "application/vnd.google.colaboratory.intrinsic+json": {
              "type": "string"
            }
          },
          "metadata": {},
          "execution_count": 22
        }
      ]
    },
    {
      "cell_type": "code",
      "source": [
        "lem.lemmatize('happiness', pos='a')"
      ],
      "metadata": {
        "colab": {
          "base_uri": "https://localhost:8080/",
          "height": 35
        },
        "id": "6grH-eJOLnnO",
        "outputId": "57734fb0-e81d-47f2-afd1-07ba7c09039d"
      },
      "execution_count": null,
      "outputs": [
        {
          "output_type": "execute_result",
          "data": {
            "text/plain": [
              "'happiness'"
            ],
            "application/vnd.google.colaboratory.intrinsic+json": {
              "type": "string"
            }
          },
          "metadata": {},
          "execution_count": 42
        }
      ]
    }
  ]
}