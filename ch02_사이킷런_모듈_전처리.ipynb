{
  "nbformat": 4,
  "nbformat_minor": 0,
  "metadata": {
    "colab": {
      "provenance": [],
      "collapsed_sections": [],
      "authorship_tag": "ABX9TyPT/ZMsjnAe5YX4tlv7JVxD",
      "include_colab_link": true
    },
    "kernelspec": {
      "name": "python3",
      "display_name": "Python 3"
    },
    "language_info": {
      "name": "python"
    }
  },
  "cells": [
    {
      "cell_type": "markdown",
      "metadata": {
        "id": "view-in-github",
        "colab_type": "text"
      },
      "source": [
        "<a href=\"https://colab.research.google.com/github/wlsisl/ESAA_22-2/blob/main/scikit-learn.ipynb\" target=\"_parent\"><img src=\"https://colab.research.google.com/assets/colab-badge.svg\" alt=\"Open In Colab\"/></a>"
      ]
    },
    {
      "cell_type": "markdown",
      "source": [
        "# **CH02 사이킷런으로 시작하는 머신러닝**\n",
        "### **1) 사이킷런 소개와 특징**\n",
        "* 사이킷런(scikit-learn)은 파이썬 머신러닝 라이브러리 중 가장 많이 사용되는 라이브러리이다.\n",
        "\n",
        "<특징>\n",
        "1. 파이썬 기반의 다른 머신러닝 패키지도 사이킷런 스타일의 API를 지향할 정도로 쉽고 가장 파이썬 스러운 API를 제공한다.\n",
        "2. 머신러닝을 위한 매우 다양한 알고리즘과 개발을 위한 편리한 프레임워크와 API를 제공한다.\n",
        "3. 오랜 기간 실전 환경에서 검증 됐고, 매우 많은 환경에서 사용되는 성숙한 라이브러리이다.\n",
        "4. 아나콘다를 설치하면 기본으로 사이킷런까지 설치가 완료되어 별도의 설치가 필요없다. 만약 설치가 필요하다면 pip와 **`conda 명령어`**를 통해 설치가능\n",
        "\n",
        "\n",
        "> conda 명령어를 사용하면 사이킷런 구동에 필요한 넘파이나 사이파이 등의 다양한 라이브러리를 동시에 설치해 준다.\n",
        "`conda install scikit-learn`\n",
        "\n"
      ],
      "metadata": {
        "id": "XlpaP_j-bTHV"
      }
    },
    {
      "cell_type": "code",
      "source": [
        "pip install scikit-learn"
      ],
      "metadata": {
        "colab": {
          "base_uri": "https://localhost:8080/"
        },
        "id": "uS0qPVzsc1kF",
        "outputId": "b14ffb85-c20f-44f8-c43b-81f04d276638"
      },
      "execution_count": 2,
      "outputs": [
        {
          "output_type": "stream",
          "name": "stdout",
          "text": [
            "Looking in indexes: https://pypi.org/simple, https://us-python.pkg.dev/colab-wheels/public/simple/\n",
            "Requirement already satisfied: scikit-learn in /usr/local/lib/python3.7/dist-packages (1.0.2)\n",
            "Requirement already satisfied: threadpoolctl>=2.0.0 in /usr/local/lib/python3.7/dist-packages (from scikit-learn) (3.1.0)\n",
            "Requirement already satisfied: numpy>=1.14.6 in /usr/local/lib/python3.7/dist-packages (from scikit-learn) (1.21.6)\n",
            "Requirement already satisfied: joblib>=0.11 in /usr/local/lib/python3.7/dist-packages (from scikit-learn) (1.1.0)\n",
            "Requirement already satisfied: scipy>=1.1.0 in /usr/local/lib/python3.7/dist-packages (from scikit-learn) (1.7.3)\n"
          ]
        }
      ]
    },
    {
      "cell_type": "code",
      "source": [
        "import sklearn\n",
        "print(sklearn.__version__)"
      ],
      "metadata": {
        "colab": {
          "base_uri": "https://localhost:8080/"
        },
        "id": "A1MOD5X7dQ39",
        "outputId": "a8ac2eec-f34f-4e63-c8b9-750d549bfffb"
      },
      "execution_count": 3,
      "outputs": [
        {
          "output_type": "stream",
          "name": "stdout",
          "text": [
            "1.0.2\n"
          ]
        }
      ]
    },
    {
      "cell_type": "markdown",
      "source": [
        "### **2) 첫번째 머신러닝 만들어 보기 - 붓꽃 품종 예측하기**\n",
        "* 붓꽃 데이터 세트는 꽃잎의 길이와 너비, 꽃받침의 길이와 너비 피처를 기반으로 꽃의 품종을 예측하기 위한 것이다. \n",
        "\n",
        "> 분류(Classification) - 대표적인 지도학습(supervised learning) 방법의 하나\n",
        "\n",
        " - 지도학습은 학습을 위한 다양한 피처와 분류 결정값인 레이블 데이터로 모델을 학습한 뒤, 별도의 테스트 데이터 세트에서 미지의 레이블을 예측한다.\n",
        " 즉 지도학습은 명확한 정답이 주어진 데이터를 먼저 학습한 뒤 미지의 정답을 예측하는 방식이다. \n",
        "\n",
        "<사이킷런에서 사용할 모듈 임포트 하기>\n",
        "* 사이킷런 패키지 내의 모듈명은 sklearn으로 시작하는 명명규칙이 있다.\n",
        "\n",
        "sklearn.datasets : 사이킷런에서 자체적으로 제공하는 데이터 세트를 생성하는 모듈의 모임\n",
        "\n",
        "sklearn.tree : 트리 기반 ML알고리즘을 구현한 클래스의 모임\n",
        "\n",
        "sklearn.model_selection : 학습 데이터와 검증 데이터, 예측 데이터로 데이터를 분리하거나 최적의 하이퍼 파라미터로 평가하기 위한 다양한 모듈의 모임\n",
        "\n",
        "> 하이퍼 파라미터) 머신러닝 알고리즘별로 최적의 학습을 위해 직접 입력하는 파라미터들, 이를 통해 머신러닝 알고리즘의 성능을 튜닝할 수 있다.\n",
        "\n",
        "\n",
        ">   train_test_split()함수 : 데이터 세트를 **학습 데이터**와 **테스트 데이터**로 분리하는 것\n",
        "\n",
        "\n",
        "> load_iris() : 붓꽃데이터 세트를 생성하는 데 사용\n",
        "\n",
        "\n",
        "\n"
      ],
      "metadata": {
        "id": "QyEnJA4lbkeF"
      }
    },
    {
      "cell_type": "code",
      "source": [
        "from sklearn.datasets import load_iris\n",
        "from sklearn.tree import DecisionTreeClassifier\n",
        "from sklearn.model_selection import train_test_split"
      ],
      "metadata": {
        "id": "E_rbwRYJekSc"
      },
      "execution_count": 4,
      "outputs": []
    },
    {
      "cell_type": "code",
      "source": [
        "import pandas as pd\n",
        "#붓꽃 데이터 세트 로딩\n",
        "iris= load_iris()\n",
        "\n",
        "#iris.data는 Iris데이터 세트에서 피처(featrue)만으로 된 데이터를 numpy로 가지고 있다.\n",
        "iris_data=iris.data\n",
        "\n",
        "#iris.target은 붓꽃 데이터 세트에서 레이블(결정값) 데이터를 numpy로 가지고 있다. 이 레이블 데이터로 학습을 하는 것!\n",
        "iris_label = iris.target\n",
        "print('iris target값:', iris_label)\n",
        "print('iris target명:', iris.target_names)\n",
        "\n",
        "#붓꽃 데이터 세트를 자세히 보기 위해 DataFrame으로 변환한다.\n",
        "iris_df=pd.DataFrame(data=iris_data, columns=iris.feature_names)\n",
        "iris_df['label']=iris.target\n",
        "iris_df.head(4)\n"
      ],
      "metadata": {
        "colab": {
          "base_uri": "https://localhost:8080/",
          "height": 279
        },
        "id": "mJcqU09uekjg",
        "outputId": "aacdd92f-66a3-4cd5-b90e-bedcc8536eea"
      },
      "execution_count": 5,
      "outputs": [
        {
          "output_type": "stream",
          "name": "stdout",
          "text": [
            "iris target값: [0 0 0 0 0 0 0 0 0 0 0 0 0 0 0 0 0 0 0 0 0 0 0 0 0 0 0 0 0 0 0 0 0 0 0 0 0\n",
            " 0 0 0 0 0 0 0 0 0 0 0 0 0 1 1 1 1 1 1 1 1 1 1 1 1 1 1 1 1 1 1 1 1 1 1 1 1\n",
            " 1 1 1 1 1 1 1 1 1 1 1 1 1 1 1 1 1 1 1 1 1 1 1 1 1 1 2 2 2 2 2 2 2 2 2 2 2\n",
            " 2 2 2 2 2 2 2 2 2 2 2 2 2 2 2 2 2 2 2 2 2 2 2 2 2 2 2 2 2 2 2 2 2 2 2 2 2\n",
            " 2 2]\n",
            "iris target명: ['setosa' 'versicolor' 'virginica']\n"
          ]
        },
        {
          "output_type": "execute_result",
          "data": {
            "text/plain": [
              "   sepal length (cm)  sepal width (cm)  petal length (cm)  petal width (cm)  \\\n",
              "0                5.1               3.5                1.4               0.2   \n",
              "1                4.9               3.0                1.4               0.2   \n",
              "2                4.7               3.2                1.3               0.2   \n",
              "3                4.6               3.1                1.5               0.2   \n",
              "\n",
              "   label  \n",
              "0      0  \n",
              "1      0  \n",
              "2      0  \n",
              "3      0  "
            ],
            "text/html": [
              "\n",
              "  <div id=\"df-8fad96eb-a84d-4baf-9aa8-9e5a6cb0bcb5\">\n",
              "    <div class=\"colab-df-container\">\n",
              "      <div>\n",
              "<style scoped>\n",
              "    .dataframe tbody tr th:only-of-type {\n",
              "        vertical-align: middle;\n",
              "    }\n",
              "\n",
              "    .dataframe tbody tr th {\n",
              "        vertical-align: top;\n",
              "    }\n",
              "\n",
              "    .dataframe thead th {\n",
              "        text-align: right;\n",
              "    }\n",
              "</style>\n",
              "<table border=\"1\" class=\"dataframe\">\n",
              "  <thead>\n",
              "    <tr style=\"text-align: right;\">\n",
              "      <th></th>\n",
              "      <th>sepal length (cm)</th>\n",
              "      <th>sepal width (cm)</th>\n",
              "      <th>petal length (cm)</th>\n",
              "      <th>petal width (cm)</th>\n",
              "      <th>label</th>\n",
              "    </tr>\n",
              "  </thead>\n",
              "  <tbody>\n",
              "    <tr>\n",
              "      <th>0</th>\n",
              "      <td>5.1</td>\n",
              "      <td>3.5</td>\n",
              "      <td>1.4</td>\n",
              "      <td>0.2</td>\n",
              "      <td>0</td>\n",
              "    </tr>\n",
              "    <tr>\n",
              "      <th>1</th>\n",
              "      <td>4.9</td>\n",
              "      <td>3.0</td>\n",
              "      <td>1.4</td>\n",
              "      <td>0.2</td>\n",
              "      <td>0</td>\n",
              "    </tr>\n",
              "    <tr>\n",
              "      <th>2</th>\n",
              "      <td>4.7</td>\n",
              "      <td>3.2</td>\n",
              "      <td>1.3</td>\n",
              "      <td>0.2</td>\n",
              "      <td>0</td>\n",
              "    </tr>\n",
              "    <tr>\n",
              "      <th>3</th>\n",
              "      <td>4.6</td>\n",
              "      <td>3.1</td>\n",
              "      <td>1.5</td>\n",
              "      <td>0.2</td>\n",
              "      <td>0</td>\n",
              "    </tr>\n",
              "  </tbody>\n",
              "</table>\n",
              "</div>\n",
              "      <button class=\"colab-df-convert\" onclick=\"convertToInteractive('df-8fad96eb-a84d-4baf-9aa8-9e5a6cb0bcb5')\"\n",
              "              title=\"Convert this dataframe to an interactive table.\"\n",
              "              style=\"display:none;\">\n",
              "        \n",
              "  <svg xmlns=\"http://www.w3.org/2000/svg\" height=\"24px\"viewBox=\"0 0 24 24\"\n",
              "       width=\"24px\">\n",
              "    <path d=\"M0 0h24v24H0V0z\" fill=\"none\"/>\n",
              "    <path d=\"M18.56 5.44l.94 2.06.94-2.06 2.06-.94-2.06-.94-.94-2.06-.94 2.06-2.06.94zm-11 1L8.5 8.5l.94-2.06 2.06-.94-2.06-.94L8.5 2.5l-.94 2.06-2.06.94zm10 10l.94 2.06.94-2.06 2.06-.94-2.06-.94-.94-2.06-.94 2.06-2.06.94z\"/><path d=\"M17.41 7.96l-1.37-1.37c-.4-.4-.92-.59-1.43-.59-.52 0-1.04.2-1.43.59L10.3 9.45l-7.72 7.72c-.78.78-.78 2.05 0 2.83L4 21.41c.39.39.9.59 1.41.59.51 0 1.02-.2 1.41-.59l7.78-7.78 2.81-2.81c.8-.78.8-2.07 0-2.86zM5.41 20L4 18.59l7.72-7.72 1.47 1.35L5.41 20z\"/>\n",
              "  </svg>\n",
              "      </button>\n",
              "      \n",
              "  <style>\n",
              "    .colab-df-container {\n",
              "      display:flex;\n",
              "      flex-wrap:wrap;\n",
              "      gap: 12px;\n",
              "    }\n",
              "\n",
              "    .colab-df-convert {\n",
              "      background-color: #E8F0FE;\n",
              "      border: none;\n",
              "      border-radius: 50%;\n",
              "      cursor: pointer;\n",
              "      display: none;\n",
              "      fill: #1967D2;\n",
              "      height: 32px;\n",
              "      padding: 0 0 0 0;\n",
              "      width: 32px;\n",
              "    }\n",
              "\n",
              "    .colab-df-convert:hover {\n",
              "      background-color: #E2EBFA;\n",
              "      box-shadow: 0px 1px 2px rgba(60, 64, 67, 0.3), 0px 1px 3px 1px rgba(60, 64, 67, 0.15);\n",
              "      fill: #174EA6;\n",
              "    }\n",
              "\n",
              "    [theme=dark] .colab-df-convert {\n",
              "      background-color: #3B4455;\n",
              "      fill: #D2E3FC;\n",
              "    }\n",
              "\n",
              "    [theme=dark] .colab-df-convert:hover {\n",
              "      background-color: #434B5C;\n",
              "      box-shadow: 0px 1px 3px 1px rgba(0, 0, 0, 0.15);\n",
              "      filter: drop-shadow(0px 1px 2px rgba(0, 0, 0, 0.3));\n",
              "      fill: #FFFFFF;\n",
              "    }\n",
              "  </style>\n",
              "\n",
              "      <script>\n",
              "        const buttonEl =\n",
              "          document.querySelector('#df-8fad96eb-a84d-4baf-9aa8-9e5a6cb0bcb5 button.colab-df-convert');\n",
              "        buttonEl.style.display =\n",
              "          google.colab.kernel.accessAllowed ? 'block' : 'none';\n",
              "\n",
              "        async function convertToInteractive(key) {\n",
              "          const element = document.querySelector('#df-8fad96eb-a84d-4baf-9aa8-9e5a6cb0bcb5');\n",
              "          const dataTable =\n",
              "            await google.colab.kernel.invokeFunction('convertToInteractive',\n",
              "                                                     [key], {});\n",
              "          if (!dataTable) return;\n",
              "\n",
              "          const docLinkHtml = 'Like what you see? Visit the ' +\n",
              "            '<a target=\"_blank\" href=https://colab.research.google.com/notebooks/data_table.ipynb>data table notebook</a>'\n",
              "            + ' to learn more about interactive tables.';\n",
              "          element.innerHTML = '';\n",
              "          dataTable['output_type'] = 'display_data';\n",
              "          await google.colab.output.renderOutput(dataTable, element);\n",
              "          const docLink = document.createElement('div');\n",
              "          docLink.innerHTML = docLinkHtml;\n",
              "          element.appendChild(docLink);\n",
              "        }\n",
              "      </script>\n",
              "    </div>\n",
              "  </div>\n",
              "  "
            ]
          },
          "metadata": {},
          "execution_count": 5
        }
      ]
    },
    {
      "cell_type": "markdown",
      "source": [
        "위 데이터 프레임을 해석하면 피처에는 sepal length, sepal width, petal length, petal width가 있고 레이블은 0,1,2 세가지가 존재하고 0이 Setosa, 1이 versicolor , 2가 virginica 품종을 의미한다."
      ],
      "metadata": {
        "id": "p4E2MbBBjAQM"
      }
    },
    {
      "cell_type": "markdown",
      "source": [
        "\n",
        "\n",
        "---\n",
        "\n",
        "## **학습용 데이터와 테스트용 데이터를 분리하기**\n",
        "\n",
        "**<train_test_split()>**\n",
        "학습데이터로 학습된 모델이 얼마나 뛰어난 성능을 가지는지 평가하려면 테스트 데이터 세트가 필요하다. 이를 위해서 사이킷런은 `train_test_split()` API를 제공한다. 이를 이용하면 학습데이터와 테스트 데이터를 test_size파라미터 입력값의 비율로 쉽게 분할 한다. \n",
        "\n",
        "\n",
        "> 예를 들어 test_size=0.2로 입력하면 테스트 데이터가 20%, 학습 데이터가 80%로 데이터를 분할한다. \n",
        "\n"
      ],
      "metadata": {
        "id": "cwxYu5P4jAb0"
      }
    },
    {
      "cell_type": "code",
      "source": [
        "X_train, X_test, y_train, y_test = train_test_split(iris_data, iris_label, test_size=0.2, random_state=11)"
      ],
      "metadata": {
        "id": "BDMTY0srekly"
      },
      "execution_count": 6,
      "outputs": []
    },
    {
      "cell_type": "markdown",
      "source": [
        "> 위 코드를 보면 \n",
        "\n",
        "1) 첫 번째 파라미터인 iris_data : 피처 데이터 세트\n",
        "\n",
        "2) 두 번째 파라미터 iris_label : 레이블 데이터 세트\n",
        "\n",
        "3) test_size=0.2 : 전체 데이터 세트 중 테스트 데이터 세트의 비율\n",
        "\n",
        "4) random_state : 호출할 때마다 같은 학습/테스트 용 데이터 세트를 생성하기 위해 주어지는 난수 발생 값\n",
        "\n",
        "5) X_train : 학습용 피처 데이터 세트를 이것으로 반환함.\n",
        "\n",
        "6) X_test : 테스트용 피처 데이터 세트 반환해줌\n",
        "\n",
        "7) y_train : 학습용 레이블 데이터 세트\n",
        "\n",
        "8) y_test : 테스트용 레이블 데이터 세트\n",
        "\n",
        " * random_state를 지정하지 않으면 수행할 때마다 다른 학습/테스트 용 데이터를 만들 수 있다. 이 예제는 동일한 데이터 세트로 분리하기 위해서 일정한 숫자 값으로 부여한것이다.\n",
        "\n",
        "\n",
        "-- 이렇게 학습 데이터를 확보했으니 이 데이터를 기반으로 **머신러닝 분류 알고리즘의 하나인 의사 결정 트리를 이용해 학습과 예측**을 수행하자."
      ],
      "metadata": {
        "id": "9Ksej9etkRMc"
      }
    },
    {
      "cell_type": "code",
      "source": [
        "#사이킷런의 의사 결정 트리 클래스를 객체로 생성한다.\n",
        "dt_clf = DecisionTreeClassifier(random_state=11)\n",
        "#피처데이터 속성과 결정값 데이터 세트를 입력해 호출하여 학습을 수행한다.\n",
        "dt_clf.fit(X_train, y_train)\n",
        "\n",
        "# -----> 의사 결정 트리 기반의  DecisionTreeClassifier 객체는 학습 데이터 기반으로 학습을 완료했다. 이 학습된 객체를 이용해 예측을 수행하자."
      ],
      "metadata": {
        "colab": {
          "base_uri": "https://localhost:8080/"
        },
        "id": "qET7VfLGekoW",
        "outputId": "99f41e70-7446-4de0-953a-9f1d912d8763"
      },
      "execution_count": 7,
      "outputs": [
        {
          "output_type": "execute_result",
          "data": {
            "text/plain": [
              "DecisionTreeClassifier(random_state=11)"
            ]
          },
          "metadata": {},
          "execution_count": 7
        }
      ]
    },
    {
      "cell_type": "code",
      "source": [
        "pred= dt_clf.predict(X_test)"
      ],
      "metadata": {
        "id": "BwOPlA4Vekqc"
      },
      "execution_count": 9,
      "outputs": []
    },
    {
      "cell_type": "markdown",
      "source": [
        "이렇게 테스트 데이터를 이용해 예측을 수행하였다.\n",
        "예측 결과를 기반으로 의사 결정 트리 기반의  DecisionTreeClassifier의 예측 성능을 평가해보자.\n",
        "여러가지 방법이 있으나 여기서는 **정확도**를 측정해본다.\n",
        "\n",
        "\n",
        "> 정확도 : 예측 결과가 실제 레이블 값과 얼마나 정확하게 맞는지를 평가하는 지표 \n",
        "\n",
        "`accuracy_score(실제 레이블 데이터 세트, 예측 레이블 데이터 세트)`함수를 제공한다.\n"
      ],
      "metadata": {
        "id": "IjBmG6MJntPy"
      }
    },
    {
      "cell_type": "code",
      "source": [
        "from sklearn.metrics import accuracy_score\n",
        "print('예측 정확도:{0:.4f}'.format(accuracy_score(y_test, pred)))"
      ],
      "metadata": {
        "colab": {
          "base_uri": "https://localhost:8080/"
        },
        "id": "FvlWAZsHeksx",
        "outputId": "4f437446-1662-4679-d893-727715236c8f"
      },
      "execution_count": 10,
      "outputs": [
        {
          "output_type": "stream",
          "name": "stdout",
          "text": [
            "예측 정확도:0.9333\n"
          ]
        }
      ]
    },
    {
      "cell_type": "markdown",
      "source": [
        "- 붓꽃 데이터 세트로 분류를 예측한 프로세스 정리\n",
        "\n",
        "1. 데이터 세트 분리: 데이터를 학습 데이터와 테스트 데이터로 분리한다.\n",
        "\n",
        "2. 모델 학습: 학습 데이터를 기반으로 ML알고리즘을 적용해 모델을 학습시킨다.\n",
        "\n",
        "3. 예측 수행 : 학습된 ML모델을 이용해 테스트 데이터의 분류( 즉, 붓꽃 종류)를 예측한다.\n",
        "\n",
        "4. 평가: 이렇게 예측된 결괏값과 테스트 데이터의 실제 결괏값을 비교해 ML모델 성능을 평가한다.\n",
        "\n",
        "\n",
        "\n",
        "---\n",
        "\n",
        "### **3) 사이킷런의 기반 프레임워크 익히기**\n",
        "\n",
        "#### **Estimator 이해 및 fit(), predict()메서드**\n",
        " 사이킷런은 API일관성과 개발 편의성을 제공하기 위한 노력이 엿보이는 패키지이다. \n",
        " - ML모델 학습을 위해서  fit()  제공\n",
        "\n",
        " - 학습된 모델의 예측을 위해서 predict()메서드 제공\n",
        "\n",
        "**지도학습**\n",
        "\n",
        "분류(classification) 회귀 (regression)의 다양한 알고리즘을 구현한 모든 사이킷런 클래스는 fit() 와 predict()만을 이용하여 간단하게 예측 결과를 반환한다.\n",
        "\n",
        "**Estimator**\n",
        "\n",
        "Classifier: 분류 알고리즘을 구현한 클래스\n",
        "\n",
        "Regressor :회귀 알고리즘을 구현한 클래스\n",
        "-->당연히 fit()와 predict()를 내부에서 구현하고 있다.\n",
        "\n",
        "\n",
        "* cross_val_score() 와 같은 evaluation함수, GridSearchCV와 같은 하이퍼 파라미터 튜닝을 지원하는 클래스의 경우 이 Estimator을 인자로 받는다. 이 함수 내에서 이 Estimator의 fit()과 predict()를 호출해서 평가를 하거나 하이퍼 파라미터 튜닝을 수행한다.\n",
        "\n",
        "**비지도학습**\n",
        "- 차원 축소 ,클러스터링, 피처추출(Feature Extraction)\n",
        "* 여기에서도 fit()와 transform()을 적용한다. \n",
        "\n",
        "\n",
        "\n",
        "> 이때 fit()는 지도학습에서 의미와 다른데 입력 데이터의 형태에 맞춰 데이터를 변환하기 위한 사전 구조를 맞추는 작업이다. \n",
        "사전 구조를 맞추면 이후 입력 데이터의 차원변환, 클러스터링, 피처추출 등의 실제 작업은 transform()으로 수행한다.\n",
        "\n",
        "\n",
        "\n",
        "사이킷런에서는 fit_transform()도 함께 제공한다.\n",
        "fit()와 transform() 개별 사용과 한번에 적용하는 fit_tranform()의 차이점 :\n",
        "#### **사이킷런의 주요 모듈**\n",
        "![KakaoTalk_20221002_213615982.jpg](data:image/jpeg;base64,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)"
      ],
      "metadata": {
        "id": "h5f00oiAordv"
      }
    },
    {
      "cell_type": "markdown",
      "source": [
        "일반적으로 머신러닝 모델을 구축하는 주요 프로세스는 피처의 가공, 변경, 추출을 수행하는 **피처 처리** , **ML알고리즘 학습/ 예측 수행**, 그리고 **모델 평가의 단계를 반복적으로 수행**하는 것이다.\n",
        "\n",
        "### **내장된 예제 데이터 세트**\n",
        "사이킷런에는 별도의 외부 웹사이트에서 데이터 세트를 내렵다을 필요 없이 예제로 활용할 수 있는 간단하면서도 좋은 데이터 세트가 내장돼 있다. 이렇게 두가지로 나눠진다.\n",
        "- 분류나 회귀를 연습하기 위한 예제용도의 데이터 세트\n",
        "- 분류나 클러스터링을 위해 표본 데이터로 생성될 수 있는 데이터 세트\n",
        "\n",
        "**<분류나 회귀 연습용 예제 데이터>**\n",
        "- datasets.load_boston() : 회귀 용도/ 미국 보스턴의 집 피처들과 가격에 대한 데이터 세트\n",
        "- datasets.load_breast_cancer() : 분류 용도/ 위스콘신 유방암 피처들과 악성,음성 레이블 데이터 세트\n",
        "- datasets.load_diabetes() :회귀용도/ 당뇨 데이터 세트\n",
        "- datasets.load_digits(): 분류용도/ 0에서 9까지의 숫자의 이미지 픽셀 데이터 세트\n",
        "- datasets.load_iris() : 분류용도/ 붓꽃에 대한 피처를 가진 데이터 세트\n",
        "--------------\n",
        "- fetch_covtype(): 회귀분석용 토지 조사 자료\n",
        "- fetch_20newsgroups(): 뉴스 그룹 테스트 자료\n",
        "- fetch_olivetti_faces(): 얼굴 이미지 자료\n",
        "- fetch_rcv1() : 로이터 뉴스 말뭉치\n",
        "- fetch_mldata(): ML웹사이트에서 다운로드\n",
        "\n",
        "> fetch 계열의 명령은 데이터 크기가 커서 패키지에 저장되어 있지 않고, 인터넷에서 내려받아 홈 디렉터리 아래의 scikit_learn_data 라는 서브 디렉터리에 저장한후 추후 불러들이는 데이터임.\n",
        "\n",
        "**<분류나 클러스터링을 위한 표본 데이터 생성기>**\n",
        "- datasets.make_classifications() : 분류를 위한 데이터 세트를 만든다. 특히 높은 상관도, 불필요한 속성 등의 노이즈 효과를 위한 데이터를 무작위로 생성한다.\n",
        "\n",
        "- datasets.make_blobs() : 클러스터링을 위한 데이터 세트를 무작위로 생성한다. 군집 지정 개수에 따라 여러가지 클러스터링을 위한 데이터 세트를 쉽게 만들어준다.\n",
        "\n",
        "* 이 밖에도 많지만 이 두개로 여러가지 사례에 사용할 수 있다!\n",
        "\n",
        "**<연습용 예제 데이터 구성 살펴보기>**\n",
        "* 딕셔너리 형태\n",
        "* 키 : data, target, target_name, feature_names, DESCR\n",
        " 1. data : 피처의 데이터 세트\n",
        " 2. target : 분류시 레이블 값, 회귀일때는 숫자 결괏값 데이터 세트\n",
        " 3. target_names : 개별 레이블의 이름\n",
        " 4. feature_names : 피처의 이름\n",
        " 5. DESCR은 데이터 세트에 대한 설명과 각 피처의 설명을 나타냄\n",
        "\n",
        " 1,2는 넘파이 배열 타입, 3,4는 넘파이 배열 또는 파이썬 리스트 타입, DESCR은 스트링 타입이다. \n"
      ],
      "metadata": {
        "id": "A1e2kxrJteKR"
      }
    },
    {
      "cell_type": "code",
      "source": [
        "#붓꽃 데이터 세트 생성\n",
        "from sklearn.datasets import load_iris\n",
        "iris_data = load_iris()\n",
        "print(type(iris_data))"
      ],
      "metadata": {
        "colab": {
          "base_uri": "https://localhost:8080/"
        },
        "id": "8UXUi_UIeku5",
        "outputId": "e974a456-d02f-422e-e96a-86a30abee32b"
      },
      "execution_count": 11,
      "outputs": [
        {
          "output_type": "stream",
          "name": "stdout",
          "text": [
            "<class 'sklearn.utils.Bunch'>\n"
          ]
        }
      ]
    },
    {
      "cell_type": "markdown",
      "source": [
        "위 출력에서 load_iris () API의 반환 결과는 sklearn.utils.Bunch 클래스이다. Bunch 클래스는 파이선 딕셔너리 자료형과 유사하다. \n",
        "\n",
        "load_iris () 데이터 세트의 key값을 확인해보자."
      ],
      "metadata": {
        "id": "UbNXrjw_w6jy"
      }
    },
    {
      "cell_type": "code",
      "source": [
        "keys=iris_data.keys()\n",
        "print('붓꽃 데이터 세트의 키들:', keys)"
      ],
      "metadata": {
        "colab": {
          "base_uri": "https://localhost:8080/"
        },
        "id": "d3AkMK37ekxh",
        "outputId": "5af38106-0bc7-46cd-8012-a3f5adfe575a"
      },
      "execution_count": 12,
      "outputs": [
        {
          "output_type": "stream",
          "name": "stdout",
          "text": [
            "붓꽃 데이터 세트의 키들: dict_keys(['data', 'target', 'frame', 'target_names', 'DESCR', 'feature_names', 'filename', 'data_module'])\n"
          ]
        }
      ]
    },
    {
      "cell_type": "markdown",
      "source": [
        "데이터 키 = 피처데이터 값\n",
        "\n",
        "피처 데이터 값을 추출하기 위해서 : 데이터세트.data  or  데이터세트['data']\n",
        "\n",
        "다른 값들 추출도 동일하다."
      ],
      "metadata": {
        "id": "0vGWOBCF8fK1"
      }
    },
    {
      "cell_type": "code",
      "source": [],
      "metadata": {
        "id": "AZY7Gc7lek0H"
      },
      "execution_count": null,
      "outputs": []
    },
    {
      "cell_type": "code",
      "source": [
        "print('\\n feature_names의 type:', type(iris_data.feature_names))\n",
        "print('feature_names의 shape:', len(iris_data.feature_names))\n",
        "print(iris_data.feature_names)\n",
        "\n",
        "print('\\n target_names의 type:', type(iris_data.target_names))\n",
        "print('target_names의 shape:', len(iris_data.target_names))\n",
        "print(iris_data.target_names)\n",
        "\n",
        "print('\\n data의 type:' , type(iris_data.data))\n",
        "print('data의 shape:', iris_data.data.shape)\n",
        "print(iris_data['data'])\n",
        "\n",
        "print('\\n target의 type:' , type(iris_data.data))\n",
        "print('target의 shape:', iris_data.target.shape)\n",
        "print(iris_data.target)"
      ],
      "metadata": {
        "id": "_n2z5A0Hek2v",
        "colab": {
          "base_uri": "https://localhost:8080/"
        },
        "outputId": "987d9e97-bf10-4598-8d5e-630e09edb8ff"
      },
      "execution_count": 16,
      "outputs": [
        {
          "output_type": "stream",
          "name": "stdout",
          "text": [
            "\n",
            " feature_names의 type: <class 'list'>\n",
            "feature_names의 shape: 4\n",
            "['sepal length (cm)', 'sepal width (cm)', 'petal length (cm)', 'petal width (cm)']\n",
            "\n",
            " target_names의 type: <class 'numpy.ndarray'>\n",
            "target_names의 shape: 3\n",
            "['setosa' 'versicolor' 'virginica']\n",
            "\n",
            " data의 type: <class 'numpy.ndarray'>\n",
            "data의 shape: (150, 4)\n",
            "[[5.1 3.5 1.4 0.2]\n",
            " [4.9 3.  1.4 0.2]\n",
            " [4.7 3.2 1.3 0.2]\n",
            " [4.6 3.1 1.5 0.2]\n",
            " [5.  3.6 1.4 0.2]\n",
            " [5.4 3.9 1.7 0.4]\n",
            " [4.6 3.4 1.4 0.3]\n",
            " [5.  3.4 1.5 0.2]\n",
            " [4.4 2.9 1.4 0.2]\n",
            " [4.9 3.1 1.5 0.1]\n",
            " [5.4 3.7 1.5 0.2]\n",
            " [4.8 3.4 1.6 0.2]\n",
            " [4.8 3.  1.4 0.1]\n",
            " [4.3 3.  1.1 0.1]\n",
            " [5.8 4.  1.2 0.2]\n",
            " [5.7 4.4 1.5 0.4]\n",
            " [5.4 3.9 1.3 0.4]\n",
            " [5.1 3.5 1.4 0.3]\n",
            " [5.7 3.8 1.7 0.3]\n",
            " [5.1 3.8 1.5 0.3]\n",
            " [5.4 3.4 1.7 0.2]\n",
            " [5.1 3.7 1.5 0.4]\n",
            " [4.6 3.6 1.  0.2]\n",
            " [5.1 3.3 1.7 0.5]\n",
            " [4.8 3.4 1.9 0.2]\n",
            " [5.  3.  1.6 0.2]\n",
            " [5.  3.4 1.6 0.4]\n",
            " [5.2 3.5 1.5 0.2]\n",
            " [5.2 3.4 1.4 0.2]\n",
            " [4.7 3.2 1.6 0.2]\n",
            " [4.8 3.1 1.6 0.2]\n",
            " [5.4 3.4 1.5 0.4]\n",
            " [5.2 4.1 1.5 0.1]\n",
            " [5.5 4.2 1.4 0.2]\n",
            " [4.9 3.1 1.5 0.2]\n",
            " [5.  3.2 1.2 0.2]\n",
            " [5.5 3.5 1.3 0.2]\n",
            " [4.9 3.6 1.4 0.1]\n",
            " [4.4 3.  1.3 0.2]\n",
            " [5.1 3.4 1.5 0.2]\n",
            " [5.  3.5 1.3 0.3]\n",
            " [4.5 2.3 1.3 0.3]\n",
            " [4.4 3.2 1.3 0.2]\n",
            " [5.  3.5 1.6 0.6]\n",
            " [5.1 3.8 1.9 0.4]\n",
            " [4.8 3.  1.4 0.3]\n",
            " [5.1 3.8 1.6 0.2]\n",
            " [4.6 3.2 1.4 0.2]\n",
            " [5.3 3.7 1.5 0.2]\n",
            " [5.  3.3 1.4 0.2]\n",
            " [7.  3.2 4.7 1.4]\n",
            " [6.4 3.2 4.5 1.5]\n",
            " [6.9 3.1 4.9 1.5]\n",
            " [5.5 2.3 4.  1.3]\n",
            " [6.5 2.8 4.6 1.5]\n",
            " [5.7 2.8 4.5 1.3]\n",
            " [6.3 3.3 4.7 1.6]\n",
            " [4.9 2.4 3.3 1. ]\n",
            " [6.6 2.9 4.6 1.3]\n",
            " [5.2 2.7 3.9 1.4]\n",
            " [5.  2.  3.5 1. ]\n",
            " [5.9 3.  4.2 1.5]\n",
            " [6.  2.2 4.  1. ]\n",
            " [6.1 2.9 4.7 1.4]\n",
            " [5.6 2.9 3.6 1.3]\n",
            " [6.7 3.1 4.4 1.4]\n",
            " [5.6 3.  4.5 1.5]\n",
            " [5.8 2.7 4.1 1. ]\n",
            " [6.2 2.2 4.5 1.5]\n",
            " [5.6 2.5 3.9 1.1]\n",
            " [5.9 3.2 4.8 1.8]\n",
            " [6.1 2.8 4.  1.3]\n",
            " [6.3 2.5 4.9 1.5]\n",
            " [6.1 2.8 4.7 1.2]\n",
            " [6.4 2.9 4.3 1.3]\n",
            " [6.6 3.  4.4 1.4]\n",
            " [6.8 2.8 4.8 1.4]\n",
            " [6.7 3.  5.  1.7]\n",
            " [6.  2.9 4.5 1.5]\n",
            " [5.7 2.6 3.5 1. ]\n",
            " [5.5 2.4 3.8 1.1]\n",
            " [5.5 2.4 3.7 1. ]\n",
            " [5.8 2.7 3.9 1.2]\n",
            " [6.  2.7 5.1 1.6]\n",
            " [5.4 3.  4.5 1.5]\n",
            " [6.  3.4 4.5 1.6]\n",
            " [6.7 3.1 4.7 1.5]\n",
            " [6.3 2.3 4.4 1.3]\n",
            " [5.6 3.  4.1 1.3]\n",
            " [5.5 2.5 4.  1.3]\n",
            " [5.5 2.6 4.4 1.2]\n",
            " [6.1 3.  4.6 1.4]\n",
            " [5.8 2.6 4.  1.2]\n",
            " [5.  2.3 3.3 1. ]\n",
            " [5.6 2.7 4.2 1.3]\n",
            " [5.7 3.  4.2 1.2]\n",
            " [5.7 2.9 4.2 1.3]\n",
            " [6.2 2.9 4.3 1.3]\n",
            " [5.1 2.5 3.  1.1]\n",
            " [5.7 2.8 4.1 1.3]\n",
            " [6.3 3.3 6.  2.5]\n",
            " [5.8 2.7 5.1 1.9]\n",
            " [7.1 3.  5.9 2.1]\n",
            " [6.3 2.9 5.6 1.8]\n",
            " [6.5 3.  5.8 2.2]\n",
            " [7.6 3.  6.6 2.1]\n",
            " [4.9 2.5 4.5 1.7]\n",
            " [7.3 2.9 6.3 1.8]\n",
            " [6.7 2.5 5.8 1.8]\n",
            " [7.2 3.6 6.1 2.5]\n",
            " [6.5 3.2 5.1 2. ]\n",
            " [6.4 2.7 5.3 1.9]\n",
            " [6.8 3.  5.5 2.1]\n",
            " [5.7 2.5 5.  2. ]\n",
            " [5.8 2.8 5.1 2.4]\n",
            " [6.4 3.2 5.3 2.3]\n",
            " [6.5 3.  5.5 1.8]\n",
            " [7.7 3.8 6.7 2.2]\n",
            " [7.7 2.6 6.9 2.3]\n",
            " [6.  2.2 5.  1.5]\n",
            " [6.9 3.2 5.7 2.3]\n",
            " [5.6 2.8 4.9 2. ]\n",
            " [7.7 2.8 6.7 2. ]\n",
            " [6.3 2.7 4.9 1.8]\n",
            " [6.7 3.3 5.7 2.1]\n",
            " [7.2 3.2 6.  1.8]\n",
            " [6.2 2.8 4.8 1.8]\n",
            " [6.1 3.  4.9 1.8]\n",
            " [6.4 2.8 5.6 2.1]\n",
            " [7.2 3.  5.8 1.6]\n",
            " [7.4 2.8 6.1 1.9]\n",
            " [7.9 3.8 6.4 2. ]\n",
            " [6.4 2.8 5.6 2.2]\n",
            " [6.3 2.8 5.1 1.5]\n",
            " [6.1 2.6 5.6 1.4]\n",
            " [7.7 3.  6.1 2.3]\n",
            " [6.3 3.4 5.6 2.4]\n",
            " [6.4 3.1 5.5 1.8]\n",
            " [6.  3.  4.8 1.8]\n",
            " [6.9 3.1 5.4 2.1]\n",
            " [6.7 3.1 5.6 2.4]\n",
            " [6.9 3.1 5.1 2.3]\n",
            " [5.8 2.7 5.1 1.9]\n",
            " [6.8 3.2 5.9 2.3]\n",
            " [6.7 3.3 5.7 2.5]\n",
            " [6.7 3.  5.2 2.3]\n",
            " [6.3 2.5 5.  1.9]\n",
            " [6.5 3.  5.2 2. ]\n",
            " [6.2 3.4 5.4 2.3]\n",
            " [5.9 3.  5.1 1.8]]\n",
            "\n",
            " target의 type: <class 'numpy.ndarray'>\n",
            "target의 shape: (150,)\n",
            "[0 0 0 0 0 0 0 0 0 0 0 0 0 0 0 0 0 0 0 0 0 0 0 0 0 0 0 0 0 0 0 0 0 0 0 0 0\n",
            " 0 0 0 0 0 0 0 0 0 0 0 0 0 1 1 1 1 1 1 1 1 1 1 1 1 1 1 1 1 1 1 1 1 1 1 1 1\n",
            " 1 1 1 1 1 1 1 1 1 1 1 1 1 1 1 1 1 1 1 1 1 1 1 1 1 1 2 2 2 2 2 2 2 2 2 2 2\n",
            " 2 2 2 2 2 2 2 2 2 2 2 2 2 2 2 2 2 2 2 2 2 2 2 2 2 2 2 2 2 2 2 2 2 2 2 2 2\n",
            " 2 2]\n"
          ]
        }
      ]
    },
    {
      "cell_type": "markdown",
      "source": [
        "### **4) Modet Selection 모듈 소개**\n",
        "\n",
        "학습데이터와 테스트 데이터 세트를 분리 / 교차 검증 분할 및 평가, Estimator의 하이퍼 파라미터를 튜닝하기 위한 다양한 함수와 클래스 제공한다.\n",
        "\n",
        " #### **학습/테스트 데이터 세트 분리 - train_test_split()**"
      ],
      "metadata": {
        "id": "u-b6LkFj-fU0"
      }
    },
    {
      "cell_type": "code",
      "source": [
        "#학습 데이터 세트로만 학습하기\n",
        "\n",
        "from sklearn.datasets import load_iris\n",
        "from sklearn.tree import DecisionTreeClassifier\n",
        "from sklearn.metrics import accuracy_score\n",
        "iris=load_iris()\n",
        "dt_clf = DecisionTreeClassifier()\n",
        "train_data=iris.data\n",
        "train_label  = iris.target\n",
        "dt_clf.fit(train_data, train_label)\n",
        "\n",
        "#학습 데이터 세트로 예측 수행\n",
        "pred=dt_clf.predict(train_data)\n",
        "print('예측 정확도:', accuracy_score(train_label, pred))"
      ],
      "metadata": {
        "colab": {
          "base_uri": "https://localhost:8080/"
        },
        "id": "lkE6XECq-fkr",
        "outputId": "e7e10e29-3dab-454f-94db-d341cb465be6"
      },
      "execution_count": 17,
      "outputs": [
        {
          "output_type": "stream",
          "name": "stdout",
          "text": [
            "예측 정확도: 1.0\n"
          ]
        }
      ]
    },
    {
      "cell_type": "markdown",
      "source": [
        "정확도가 100%가 나왔다. 이유는 이미 학습한 학습 데이터 세트를 기반으로 예측했기 때문이다. 즉 예측을 수행하는 데이터 세트는 학습을 수행한 학습용 데이터 세트가 아닌 전용의 테스트 데이터 세트여야 한다.\n",
        "\n",
        "1. sklearn.model_selection 모듈에서 train_test_split 로드하기\n",
        "2. train_test_split(피처 데이터 세트, 레이블 데이터 세트)\n",
        "3. 선택적으로 다음 파라미터를 입력받는다.\n",
        "\n",
        " test_size : 전체 데이터에서 테스트 데이터 세트 크기를 얼마로 샘플링할 것인가를 결정한다. 디폴트는 0.25\n",
        "\n",
        " train_size : 전체 데이터에서 학습용 데이터 세트 크기를 얼마로 샘플링할 것인가를 결정한다. test_size parameter를 통상적으로 사용하기 때문에 train_size는 잘 사용되지 않는다.\n",
        "\n",
        " shuffle : 데이트를 분리하기 전에 데이터를 미리 섞을지 결정한다. 디폴트는 True이다. 데이터를 분산시켜서 좀 더 효율적인 학습 ㅁ치 테스트 데이터 세트를 만드는데 사용된다.\n",
        " \n",
        "  random_state : random_state는 호출할 때마다 동일한 학습/테스트용 데이터 세트를 생성하기 위해 주어지는 난수 값이다. train_test_split()호출시 무작위로 데이터를 분리하므로 이것을 지정하지 않으면 수행할 때마다 다른 학습/ㄷ테스트 용 데이터를 생성한다.\n",
        "\n",
        " train_test_split() 반환값은 튜플 형태이다. 순차적으로 학습용 데이터의 피처 데이터 세트, 테스트용 데이터의 피처 데이터 세트, 학습용 데이터의 레이블 데이터 세트, 테스트용 레이블 데이터 세트가 반환된다. "
      ],
      "metadata": {
        "id": "1Akuyen6-fqa"
      }
    },
    {
      "cell_type": "code",
      "source": [
        "from sklearn.datasets import load_iris\n",
        "from sklearn.tree import DecisionTreeClassifier\n",
        "from sklearn.metrics import accuracy_score\n",
        "from sklearn.model_selection import train_test_split\n",
        "\n",
        "dt_clf = DecisionTreeClassifier()\n",
        "iris_data=load_iris()\n",
        "\n",
        "X_train, X_test, y_train, y_test = train_test_split(iris_data.data, iris_data.target , test_size=0.3, random_state=121)\n",
        "\n",
        "dt_clf.fit(X_train, y_train)\n",
        "pred= dt_clf.predict(X_test)\n",
        "print('예측 정확도:{0:.4f}'.format(accuracy_score(y_test,pred)))"
      ],
      "metadata": {
        "colab": {
          "base_uri": "https://localhost:8080/"
        },
        "id": "aEcJl0vC-fva",
        "outputId": "07ff3e65-d272-46d9-c7ce-d6b61a1d3da9"
      },
      "execution_count": 20,
      "outputs": [
        {
          "output_type": "stream",
          "name": "stdout",
          "text": [
            "예측 정확도:0.9556\n"
          ]
        }
      ]
    },
    {
      "cell_type": "markdown",
      "source": [
        "#### **교차 검증**\n",
        "알고리즘을 학습시키는 학습데이터와 이에 대한 예측 성능을 평가하기 위한 별도의 테스트용 데이터가 필요하다. 하지만 이는 과적합에 취약한 약점을 가질 수 있다. \n",
        "\n",
        "\n",
        "> 과적합 : 모델이 학습 데이터에만 과도하게 최적화되어, 실제 예측을 다른 데이터로 수행할 경우에 예측 성능이 과도하게 떨어지는 것을 말한다. \n",
        "\n",
        "\n",
        "이를 해결하기 위해 교차 검증을 이용해 더 다양한 학습과 평가를 수행한다.\n",
        "\n",
        "교차검증을 쉽게 예를 들면 본고사를 치르기 전에 모의고사를 여러번 보는 것과 같다. \n",
        "교차검증을 통해 데이터 편중을 막을 수 있다. \n",
        "\n",
        "대부분의 ML모델의 성능 평가는 교차 검증 기반으로 1차 평가를 한 뒤에 최종적으로 테스트 데이터 세트에 적용해 평가하는 프로세스이다. 테스트 데이터 세트 외에 별도의 검증 데이터 세트를 둬서 최종 평가 이전에 학습된 모델을 다양하게 평가하는 데 사용한다. \n",
        "\n",
        "\n",
        "#### **K폴드 교차 검증**\n",
        "* k개의 데이터 폴드 세트를 만들어서 k번만큼 각 폴트 세트에 학습과 검증 평가를 반복적으로 수행하는 방법이다.\n",
        "* KFold 와 StratifiedKFold 클래스를 제공한다."
      ],
      "metadata": {
        "id": "f7yT-1kRG_ZR"
      }
    },
    {
      "cell_type": "code",
      "source": [
        "from sklearn.tree import DecisionTreeClassifier\n",
        "from sklearn.metrics import accuracy_score\n",
        "from sklearn.model_selection import KFold\n",
        "import numpy as np\n",
        "\n",
        "iris=load_iris()\n",
        "features = iris.data\n",
        "label = iris.target\n",
        "dt_clf = DecisionTreeClassifier(random_state = 156)\n",
        "\n",
        "#5개의 폴드 세트로 분리하는 KFold 객체와 폴드 세트별 정확도를 담을 리스트 객체 생성\n",
        "kfold = KFold(n_splits=5)\n",
        "cv_accuracy = []\n",
        "print('붓꽃 데이터 세트 크기:', features.shape[0])"
      ],
      "metadata": {
        "colab": {
          "base_uri": "https://localhost:8080/"
        },
        "id": "7T3k5lxy-fyV",
        "outputId": "975f8a99-5e4b-47f8-e03d-4e3bc49f6f45"
      },
      "execution_count": 21,
      "outputs": [
        {
          "output_type": "stream",
          "name": "stdout",
          "text": [
            "붓꽃 데이터 세트 크기: 150\n"
          ]
        }
      ]
    },
    {
      "cell_type": "markdown",
      "source": [
        "* KFold 객체는 split()을 호출해 학습용/ 검증용 데이터로 분할 할 수 있는 인덱스를 반환한다."
      ],
      "metadata": {
        "id": "nVfEj-DuONRM"
      }
    },
    {
      "cell_type": "code",
      "source": [
        "n_iter=0\n",
        "\n",
        "#KFold 객체의 split()를 호출하면 폴드 별 학습용, 검증용 테스트의 로우 인덱스를 array로 반환\n",
        "for train_index, test_index in kfold.split(features):\n",
        "  #KFold.split()으로 반환된 인덱스를 이용해 학습용, 검증용 테스트 데이터 추출\n",
        "  X_train, X_test = features[train_index], features[test_index]\n",
        "  y_train, y_test = label[train_index], label[test_index]\n",
        "  #학습 및 예측 \n",
        "  dt_clf.fit(X_train, y_train)\n",
        "  pred = dt_clf.predict(X_test)\n",
        "  n_iter +=1\n",
        "\n",
        "  #반복 시마다 정확도 측정\n",
        "  accuracy = np.round(accuracy_score(y_test, pred), 4)\n",
        "  train_size = X_train.shape[0]\n",
        "  test_size = X_test.shape[0]\n",
        "  print('\\n#{0} 교차 검증 정확도 :  {1}, 학습데이터 크기: {2}, 검증데이터 크기 : {3}'.format(n_iter, accuracy, train_size, test_size))\n",
        "  print('#{0}검증 세트 인덱스:{1}'.format(n_iter, test_index))\n",
        "  cv_accuracy.append(accuracy)\n",
        "\n",
        "  #개별 iteration별 정확도를 합하여 평균 정확도 계산\n",
        "  print('\\n## 평균 검증 정확도:', np.mean(cv_accuracy))\n"
      ],
      "metadata": {
        "colab": {
          "base_uri": "https://localhost:8080/"
        },
        "id": "JZhQhpWv-f0w",
        "outputId": "e3c5d52a-7390-452f-8daf-ad51b7cdc2a8"
      },
      "execution_count": 22,
      "outputs": [
        {
          "output_type": "stream",
          "name": "stdout",
          "text": [
            "\n",
            "#1 교차 검증 정확도 :  1.0, 학습데이터 크기: 120, 검증데이터 크기 : 30\n",
            "#1검증 세트 인덱스:[ 0  1  2  3  4  5  6  7  8  9 10 11 12 13 14 15 16 17 18 19 20 21 22 23\n",
            " 24 25 26 27 28 29]\n",
            "\n",
            "## 평균 검증 정확도: 1.0\n",
            "\n",
            "#2 교차 검증 정확도 :  0.9667, 학습데이터 크기: 120, 검증데이터 크기 : 30\n",
            "#2검증 세트 인덱스:[30 31 32 33 34 35 36 37 38 39 40 41 42 43 44 45 46 47 48 49 50 51 52 53\n",
            " 54 55 56 57 58 59]\n",
            "\n",
            "## 평균 검증 정확도: 0.98335\n",
            "\n",
            "#3 교차 검증 정확도 :  0.8667, 학습데이터 크기: 120, 검증데이터 크기 : 30\n",
            "#3검증 세트 인덱스:[60 61 62 63 64 65 66 67 68 69 70 71 72 73 74 75 76 77 78 79 80 81 82 83\n",
            " 84 85 86 87 88 89]\n",
            "\n",
            "## 평균 검증 정확도: 0.9444666666666667\n",
            "\n",
            "#4 교차 검증 정확도 :  0.9333, 학습데이터 크기: 120, 검증데이터 크기 : 30\n",
            "#4검증 세트 인덱스:[ 90  91  92  93  94  95  96  97  98  99 100 101 102 103 104 105 106 107\n",
            " 108 109 110 111 112 113 114 115 116 117 118 119]\n",
            "\n",
            "## 평균 검증 정확도: 0.941675\n",
            "\n",
            "#5 교차 검증 정확도 :  0.7333, 학습데이터 크기: 120, 검증데이터 크기 : 30\n",
            "#5검증 세트 인덱스:[120 121 122 123 124 125 126 127 128 129 130 131 132 133 134 135 136 137\n",
            " 138 139 140 141 142 143 144 145 146 147 148 149]\n",
            "\n",
            "## 평균 검증 정확도: 0.9\n"
          ]
        }
      ]
    },
    {
      "cell_type": "markdown",
      "source": [
        "5번의 교차 검증 결과 평균 검증 정확도는 0.9가 나왔다. 그리고 교차 검증 시마다 검증 세트의 인덱스가 달라짐을 볼 수 있다. \n",
        "\n",
        "**Stratified K 폴드**\n",
        "이 폴드는 불균형한 분포도를 가진 레이블 데이터 집합을 위한 방식이다. 이 폴드를 이용하여 레이블 데이터 집합이 원본 데이터 집합을 레이블 분포를 학습 및 테ㅡㅅ트 세트에 제대로 분배하지 못하는 경우의 문제를 해결한다. \n",
        "\n",
        "* 먼저 원본 데이터의 레이블 분포를 고려한다.\n",
        "* 위 분포와 동일하게 학습과 검증 데이터 세트를 분배한다."
      ],
      "metadata": {
        "id": "eXyktB8oOM6p"
      }
    },
    {
      "cell_type": "code",
      "source": [
        "import pandas as pd\n",
        "\n",
        "iris=load_iris()\n",
        "iris_df = pd.DataFrame(data=iris.data , columns=iris.feature_names)\n",
        "iris_df['label']=iris.target\n",
        "iris_df['label'].value_counts()\n"
      ],
      "metadata": {
        "colab": {
          "base_uri": "https://localhost:8080/"
        },
        "id": "qDV-MvbE-f29",
        "outputId": "1bb0bd92-15dc-4426-e53c-a66006083f82"
      },
      "execution_count": 28,
      "outputs": [
        {
          "output_type": "execute_result",
          "data": {
            "text/plain": [
              "0    50\n",
              "1    50\n",
              "2    50\n",
              "Name: label, dtype: int64"
            ]
          },
          "metadata": {},
          "execution_count": 28
        }
      ]
    },
    {
      "cell_type": "code",
      "source": [
        "kfold= KFold(n_splits = 3)\n",
        "n_iter = 0 \n",
        "for train_index, test_index in kfold.split(iris_df):\n",
        "  n_iter +=1\n",
        "  label_train = iris_df['label'].iloc[train_index]\n",
        "  label_test = iris_df['label'].iloc[test_index]\n",
        "  print('##교차 검증:{0}'.format(n_iter))\n",
        "  print('학습 레이블 분포 :\\n', label_train.value_counts())\n",
        "  print('검증 레이블 분포 :\\n', label_test.value_counts())\n",
        "  iris_df['label'].value_counts()"
      ],
      "metadata": {
        "colab": {
          "base_uri": "https://localhost:8080/"
        },
        "id": "71USaOEp-f5S",
        "outputId": "4ec42944-98ec-4edf-ca18-95aa654913ea"
      },
      "execution_count": 35,
      "outputs": [
        {
          "output_type": "stream",
          "name": "stdout",
          "text": [
            "##교차 검증:1\n",
            "학습 레이블 분포 :\n",
            " 1    50\n",
            "2    50\n",
            "Name: label, dtype: int64\n",
            "검증 레이블 분포 :\n",
            " 0    50\n",
            "Name: label, dtype: int64\n",
            "##교차 검증:2\n",
            "학습 레이블 분포 :\n",
            " 0    50\n",
            "2    50\n",
            "Name: label, dtype: int64\n",
            "검증 레이블 분포 :\n",
            " 1    50\n",
            "Name: label, dtype: int64\n",
            "##교차 검증:3\n",
            "학습 레이블 분포 :\n",
            " 0    50\n",
            "1    50\n",
            "Name: label, dtype: int64\n",
            "검증 레이블 분포 :\n",
            " 2    50\n",
            "Name: label, dtype: int64\n"
          ]
        }
      ]
    },
    {
      "cell_type": "markdown",
      "source": [
        "여기서 또 주의해야 할 점은 레이블 데이터 값의 분포도가 동일하게 할당되어야한다. 0,1,2값이 있는데 하나만 몽땅 뽑히는 문제가 발생할 수도 있기 때문이다. "
      ],
      "metadata": {
        "id": "OoD2jcvCTsJS"
      }
    },
    {
      "cell_type": "code",
      "source": [
        "dt_clf=DecisionTreeClassifier(random_state=156)\n",
        "\n",
        "skfold =StratifiedKFold(n_splits=3)\n",
        "n_iter=0\n",
        "cv_accuracy=[]\n",
        "\n",
        "#StratifiedKFold의 split()호출시 반드시 레이블 데이터 세트도 추가 입력 필요\n",
        "for train_index, test_index in skfold.split(features, label):\n",
        "  #split()으로 반환된 인덱스를 이용해 학습용, 검증용 테스트 데이터 추출\n",
        "  X_train, X_test = features[train_index], features[test_index]\n",
        "  y_train, y_test = label[train_index], label[test_index]\n",
        "  #학습 및 예측\n",
        "  dt_clf.fit(X_train, y_train)\n",
        "  pred = dt_clf.predict(X_test)\n",
        " \n",
        "\n",
        "  #반복 시마다 정확도 측정\n",
        "  n_iter +=1\n",
        "  accuracy = np.round(accuracy_score(y_test, pred), 4)\n",
        "  train_size = X_train.shape[0]\n",
        "  test_size = X_test.shape[0]\n",
        "  print('\\n#{0} 교차 검증 정확도 :  {1}, 학습데이터 크기: {2}, 검증데이터 크기 : {3}'.format(n_iter, accuracy, train_size, test_size))\n",
        "  print('#{0}검증 세트 인덱스:{1}'.format(n_iter, test_index))\n",
        "  cv_accuracy.append(accuracy)\n",
        "\n",
        "  #교차 검증별 정확도를 합하여 평균 정확도 계산\n",
        "  print('\\n## 교차 검증 정확도:', np.mean(cv_accuracy, 4))\n",
        "  print('##검증 검증 정확도:', np.mean(cv_accuracy))\n"
      ],
      "metadata": {
        "colab": {
          "base_uri": "https://localhost:8080/",
          "height": 237
        },
        "id": "R898sR3w-f75",
        "outputId": "ae40a9ed-6f3d-4056-a4bf-1d7c605c353a"
      },
      "execution_count": 38,
      "outputs": [
        {
          "output_type": "error",
          "ename": "NameError",
          "evalue": "ignored",
          "traceback": [
            "\u001b[0;31m---------------------------------------------------------------------------\u001b[0m",
            "\u001b[0;31mNameError\u001b[0m                                 Traceback (most recent call last)",
            "\u001b[0;32m<ipython-input-38-f13e60f55140>\u001b[0m in \u001b[0;36m<module>\u001b[0;34m\u001b[0m\n\u001b[1;32m      1\u001b[0m \u001b[0mdt_clf\u001b[0m\u001b[0;34m=\u001b[0m\u001b[0mDecisionTreeClassifier\u001b[0m\u001b[0;34m(\u001b[0m\u001b[0mrandom_state\u001b[0m\u001b[0;34m=\u001b[0m\u001b[0;36m156\u001b[0m\u001b[0;34m)\u001b[0m\u001b[0;34m\u001b[0m\u001b[0;34m\u001b[0m\u001b[0m\n\u001b[1;32m      2\u001b[0m \u001b[0;34m\u001b[0m\u001b[0m\n\u001b[0;32m----> 3\u001b[0;31m \u001b[0mskfold\u001b[0m \u001b[0;34m=\u001b[0m\u001b[0mStratifiedKFold\u001b[0m\u001b[0;34m(\u001b[0m\u001b[0mn_splits\u001b[0m\u001b[0;34m=\u001b[0m\u001b[0;36m3\u001b[0m\u001b[0;34m)\u001b[0m\u001b[0;34m\u001b[0m\u001b[0;34m\u001b[0m\u001b[0m\n\u001b[0m\u001b[1;32m      4\u001b[0m \u001b[0mn_iter\u001b[0m\u001b[0;34m=\u001b[0m\u001b[0;36m0\u001b[0m\u001b[0;34m\u001b[0m\u001b[0;34m\u001b[0m\u001b[0m\n\u001b[1;32m      5\u001b[0m \u001b[0mcv_accuracy\u001b[0m\u001b[0;34m=\u001b[0m\u001b[0;34m[\u001b[0m\u001b[0;34m]\u001b[0m\u001b[0;34m\u001b[0m\u001b[0;34m\u001b[0m\u001b[0m\n",
            "\u001b[0;31mNameError\u001b[0m: name 'StratifiedKFold' is not defined"
          ]
        }
      ]
    },
    {
      "cell_type": "markdown",
      "source": [
        "왜곡된 레이블 데이터 세트에서는 반드시 Stratified K폴드를 이용해 교차 검증을 해야한다.\n",
        "분류에서의 교차 검증은 K폴드가 아니라 Statified K폴드로 분할 돼야 한다.\n",
        "회귀에서는 Statified K폴드가 지원되지 않는다. 왜냐하면 회귀의 결정값은 이산값 형태의 레이블이 아니라 연속된 숫자값이기 때문에 결정값별로 분포를 정하는 의미가 없기 때문이다. \n",
        "\n",
        "**교차 검증을 보다 간편하게 해주는 - cross_val_score()**\n",
        "\n",
        "KFold로 데이터를 학습하고 예측하는 코드를 보면 \n",
        "1. 폴드 세트를 설정한다.\n",
        "2. for루프에서 반복으로 학습 및 테스트 데이터의 인데긋를 추출한다.\n",
        "3. 반복적으로 학습과 예측을 수행하고 예측 성능을 반환한다.\n",
        "\n",
        "위 가정을 한꺼번에 수행해주는 API이다.\n",
        "\n",
        "선언형태 : `cross_val_score(estimator, X, y=None, scoring = None, cv= None, n_jobs=1, verbose=0, fit_params= None, pre_dispatch='2*n_jobs')`\n",
        "\n",
        "* estimator : 사이킷런의 분류 알고리즘 클래스인 Classifier 또는 휘귀 알고리즘 클래스인 regressor을 의미\n",
        "* X: 피처 데이터 세트\n",
        "* y: 레이블 데이터 세트\n",
        "* scoring : 예측 성능 평가 지표를 기술\n",
        "* cv: 교차 검증 폴드 수\n",
        "* 반환값: scoring 파라미터로 지정된 성능 지표 측정값을 배열 ㅎ여태로 반환"
      ],
      "metadata": {
        "id": "SY1KTQLFYuyD"
      }
    },
    {
      "cell_type": "code",
      "source": [
        "from sklearn.tree import DecisionTreeClassifier\n",
        "from sklearn.model_selection import cross_val_score, cross_validate\n",
        "from sklearn.datasets import load_iris\n",
        "\n",
        "iris_data = load_iris()\n",
        "dt_clf= DecisionTreeClassifier(random_state=156)\n",
        "\n",
        "data= iris_data\n",
        "label= iris_data.target\n",
        "\n",
        "#성능 지표는 정확도(accuracy),교차 검증 세트는 3개\n",
        "scores= cross_val_score(dt_clf, data, label ,scoring='accuracy', cv=3)\n",
        "print('교차 검증별 정확도:', np.round(scores, 4))\n",
        "print('평균 검증 정확도:', np.round(np.mean(scores),4))"
      ],
      "metadata": {
        "colab": {
          "base_uri": "https://localhost:8080/",
          "height": 383
        },
        "id": "ndoPZTMI-f-g",
        "outputId": "ebd02ac0-acbf-4e7c-f50c-ea79e1b99b0f"
      },
      "execution_count": 41,
      "outputs": [
        {
          "output_type": "error",
          "ename": "ValueError",
          "evalue": "ignored",
          "traceback": [
            "\u001b[0;31m---------------------------------------------------------------------------\u001b[0m",
            "\u001b[0;31mValueError\u001b[0m                                Traceback (most recent call last)",
            "\u001b[0;32m<ipython-input-41-77864a27343a>\u001b[0m in \u001b[0;36m<module>\u001b[0;34m\u001b[0m\n\u001b[1;32m     10\u001b[0m \u001b[0;34m\u001b[0m\u001b[0m\n\u001b[1;32m     11\u001b[0m \u001b[0;31m#성능 지표는 정확도(accuracy),교차 검증 세트는 3개\u001b[0m\u001b[0;34m\u001b[0m\u001b[0;34m\u001b[0m\u001b[0;34m\u001b[0m\u001b[0m\n\u001b[0;32m---> 12\u001b[0;31m \u001b[0mscores\u001b[0m\u001b[0;34m=\u001b[0m \u001b[0mcross_val_score\u001b[0m\u001b[0;34m(\u001b[0m\u001b[0mdt_clf\u001b[0m\u001b[0;34m,\u001b[0m \u001b[0mdata\u001b[0m\u001b[0;34m,\u001b[0m \u001b[0mlabel\u001b[0m \u001b[0;34m,\u001b[0m\u001b[0mscoring\u001b[0m\u001b[0;34m=\u001b[0m\u001b[0;34m'accuracy'\u001b[0m\u001b[0;34m,\u001b[0m \u001b[0mcv\u001b[0m\u001b[0;34m=\u001b[0m\u001b[0;36m3\u001b[0m\u001b[0;34m)\u001b[0m\u001b[0;34m\u001b[0m\u001b[0;34m\u001b[0m\u001b[0m\n\u001b[0m\u001b[1;32m     13\u001b[0m \u001b[0mprint\u001b[0m\u001b[0;34m(\u001b[0m\u001b[0;34m'교차 검증별 정확도:'\u001b[0m\u001b[0;34m,\u001b[0m \u001b[0mnp\u001b[0m\u001b[0;34m.\u001b[0m\u001b[0mround\u001b[0m\u001b[0;34m(\u001b[0m\u001b[0mscores\u001b[0m\u001b[0;34m,\u001b[0m \u001b[0;36m4\u001b[0m\u001b[0;34m)\u001b[0m\u001b[0;34m)\u001b[0m\u001b[0;34m\u001b[0m\u001b[0;34m\u001b[0m\u001b[0m\n\u001b[1;32m     14\u001b[0m \u001b[0mprint\u001b[0m\u001b[0;34m(\u001b[0m\u001b[0;34m'평균 검증 정확도:'\u001b[0m\u001b[0;34m,\u001b[0m \u001b[0mnp\u001b[0m\u001b[0;34m.\u001b[0m\u001b[0mround\u001b[0m\u001b[0;34m(\u001b[0m\u001b[0mnp\u001b[0m\u001b[0;34m.\u001b[0m\u001b[0mmean\u001b[0m\u001b[0;34m(\u001b[0m\u001b[0mscores\u001b[0m\u001b[0;34m)\u001b[0m\u001b[0;34m,\u001b[0m\u001b[0;36m4\u001b[0m\u001b[0;34m)\u001b[0m\u001b[0;34m)\u001b[0m\u001b[0;34m\u001b[0m\u001b[0;34m\u001b[0m\u001b[0m\n",
            "\u001b[0;32m/usr/local/lib/python3.7/dist-packages/sklearn/model_selection/_validation.py\u001b[0m in \u001b[0;36mcross_val_score\u001b[0;34m(estimator, X, y, groups, scoring, cv, n_jobs, verbose, fit_params, pre_dispatch, error_score)\u001b[0m\n\u001b[1;32m    518\u001b[0m         \u001b[0mfit_params\u001b[0m\u001b[0;34m=\u001b[0m\u001b[0mfit_params\u001b[0m\u001b[0;34m,\u001b[0m\u001b[0;34m\u001b[0m\u001b[0;34m\u001b[0m\u001b[0m\n\u001b[1;32m    519\u001b[0m         \u001b[0mpre_dispatch\u001b[0m\u001b[0;34m=\u001b[0m\u001b[0mpre_dispatch\u001b[0m\u001b[0;34m,\u001b[0m\u001b[0;34m\u001b[0m\u001b[0;34m\u001b[0m\u001b[0m\n\u001b[0;32m--> 520\u001b[0;31m         \u001b[0merror_score\u001b[0m\u001b[0;34m=\u001b[0m\u001b[0merror_score\u001b[0m\u001b[0;34m,\u001b[0m\u001b[0;34m\u001b[0m\u001b[0;34m\u001b[0m\u001b[0m\n\u001b[0m\u001b[1;32m    521\u001b[0m     )\n\u001b[1;32m    522\u001b[0m     \u001b[0;32mreturn\u001b[0m \u001b[0mcv_results\u001b[0m\u001b[0;34m[\u001b[0m\u001b[0;34m\"test_score\"\u001b[0m\u001b[0;34m]\u001b[0m\u001b[0;34m\u001b[0m\u001b[0;34m\u001b[0m\u001b[0m\n",
            "\u001b[0;32m/usr/local/lib/python3.7/dist-packages/sklearn/model_selection/_validation.py\u001b[0m in \u001b[0;36mcross_validate\u001b[0;34m(estimator, X, y, groups, scoring, cv, n_jobs, verbose, fit_params, pre_dispatch, return_train_score, return_estimator, error_score)\u001b[0m\n\u001b[1;32m    251\u001b[0m \u001b[0;34m\u001b[0m\u001b[0m\n\u001b[1;32m    252\u001b[0m     \"\"\"\n\u001b[0;32m--> 253\u001b[0;31m     \u001b[0mX\u001b[0m\u001b[0;34m,\u001b[0m \u001b[0my\u001b[0m\u001b[0;34m,\u001b[0m \u001b[0mgroups\u001b[0m \u001b[0;34m=\u001b[0m \u001b[0mindexable\u001b[0m\u001b[0;34m(\u001b[0m\u001b[0mX\u001b[0m\u001b[0;34m,\u001b[0m \u001b[0my\u001b[0m\u001b[0;34m,\u001b[0m \u001b[0mgroups\u001b[0m\u001b[0;34m)\u001b[0m\u001b[0;34m\u001b[0m\u001b[0;34m\u001b[0m\u001b[0m\n\u001b[0m\u001b[1;32m    254\u001b[0m \u001b[0;34m\u001b[0m\u001b[0m\n\u001b[1;32m    255\u001b[0m     \u001b[0mcv\u001b[0m \u001b[0;34m=\u001b[0m \u001b[0mcheck_cv\u001b[0m\u001b[0;34m(\u001b[0m\u001b[0mcv\u001b[0m\u001b[0;34m,\u001b[0m \u001b[0my\u001b[0m\u001b[0;34m,\u001b[0m \u001b[0mclassifier\u001b[0m\u001b[0;34m=\u001b[0m\u001b[0mis_classifier\u001b[0m\u001b[0;34m(\u001b[0m\u001b[0mestimator\u001b[0m\u001b[0;34m)\u001b[0m\u001b[0;34m)\u001b[0m\u001b[0;34m\u001b[0m\u001b[0;34m\u001b[0m\u001b[0m\n",
            "\u001b[0;32m/usr/local/lib/python3.7/dist-packages/sklearn/utils/validation.py\u001b[0m in \u001b[0;36mindexable\u001b[0;34m(*iterables)\u001b[0m\n\u001b[1;32m    376\u001b[0m \u001b[0;34m\u001b[0m\u001b[0m\n\u001b[1;32m    377\u001b[0m     \u001b[0mresult\u001b[0m \u001b[0;34m=\u001b[0m \u001b[0;34m[\u001b[0m\u001b[0m_make_indexable\u001b[0m\u001b[0;34m(\u001b[0m\u001b[0mX\u001b[0m\u001b[0;34m)\u001b[0m \u001b[0;32mfor\u001b[0m \u001b[0mX\u001b[0m \u001b[0;32min\u001b[0m \u001b[0miterables\u001b[0m\u001b[0;34m]\u001b[0m\u001b[0;34m\u001b[0m\u001b[0;34m\u001b[0m\u001b[0m\n\u001b[0;32m--> 378\u001b[0;31m     \u001b[0mcheck_consistent_length\u001b[0m\u001b[0;34m(\u001b[0m\u001b[0;34m*\u001b[0m\u001b[0mresult\u001b[0m\u001b[0;34m)\u001b[0m\u001b[0;34m\u001b[0m\u001b[0;34m\u001b[0m\u001b[0m\n\u001b[0m\u001b[1;32m    379\u001b[0m     \u001b[0;32mreturn\u001b[0m \u001b[0mresult\u001b[0m\u001b[0;34m\u001b[0m\u001b[0;34m\u001b[0m\u001b[0m\n\u001b[1;32m    380\u001b[0m \u001b[0;34m\u001b[0m\u001b[0m\n",
            "\u001b[0;32m/usr/local/lib/python3.7/dist-packages/sklearn/utils/validation.py\u001b[0m in \u001b[0;36mcheck_consistent_length\u001b[0;34m(*arrays)\u001b[0m\n\u001b[1;32m    332\u001b[0m         raise ValueError(\n\u001b[1;32m    333\u001b[0m             \u001b[0;34m\"Found input variables with inconsistent numbers of samples: %r\"\u001b[0m\u001b[0;34m\u001b[0m\u001b[0;34m\u001b[0m\u001b[0m\n\u001b[0;32m--> 334\u001b[0;31m             \u001b[0;34m%\u001b[0m \u001b[0;34m[\u001b[0m\u001b[0mint\u001b[0m\u001b[0;34m(\u001b[0m\u001b[0ml\u001b[0m\u001b[0;34m)\u001b[0m \u001b[0;32mfor\u001b[0m \u001b[0ml\u001b[0m \u001b[0;32min\u001b[0m \u001b[0mlengths\u001b[0m\u001b[0;34m]\u001b[0m\u001b[0;34m\u001b[0m\u001b[0;34m\u001b[0m\u001b[0m\n\u001b[0m\u001b[1;32m    335\u001b[0m         )\n\u001b[1;32m    336\u001b[0m \u001b[0;34m\u001b[0m\u001b[0m\n",
            "\u001b[0;31mValueError\u001b[0m: Found input variables with inconsistent numbers of samples: [8, 150]"
          ]
        }
      ]
    },
    {
      "cell_type": "markdown",
      "source": [
        "cross_val_score() API는 내부에서 Estimator을 학습(fit) , 예측(predict), 평가 (evaluation)시켜주므로 간단하게 교차 검증을 수행할 수 있다.\n",
        "* 내부적으로 StratifiedKFold를 이용한다.\n",
        "\n",
        "cross_validate() - 하나의 평가 지표만 가능한 cross_val_score()와 다르게 여러 개의 평가 지표를 반환할 수 있다.\n",
        "\n",
        "\n",
        "\n",
        "---\n",
        "### **GridSearchCV - 교차 검증과 최적 하이퍼 파라미터 튜닝을 한 번에**\n",
        "파라미터는 머신러닝 알고리즘을 구성하는 주요 구성 요소이며, 이 값을 조정해 알고리즘의 예측 성능을 개선할 수 있다.\n",
        "\n"
      ],
      "metadata": {
        "id": "AWdZo2lhbhCd"
      }
    },
    {
      "cell_type": "code",
      "source": [
        "grid_parameters={'max_depth':[1,2,3], 'min_samples_split':[2,3]}\n",
        "#하이퍼 파라미터는 순차적으로 적용되며 총 6회에 걸쳐 실행하며 최적의 파라미터와 수행 결과를 도출할 수 있다. for루프로 모든 파라미터를 번갈아 입력하면서 학습시키는 방법 대신 사용.\n",
        "#동시수행하므로 수행시간이 오래걸림"
      ],
      "metadata": {
        "id": "7zloqxzi-gA3"
      },
      "execution_count": 42,
      "outputs": []
    },
    {
      "cell_type": "markdown",
      "source": [
        "**< GridSearchCV생성자로 들어가는 주요 파라미터 >**\n",
        "\n",
        "* estimator : classifier, regressor, pipeline이 사용된다.\n",
        "* param_grid: key+리스트 값을 가지는 딕셔너리가 주어진다. estimator의 튜닝을 위해 파라미터명과 사용될 여러 파라미터 값을 지정한다.\n",
        "* scoring: 예측 성능을 측정할 평가 방법을 지정한다. 보통은 사이킷런의 성능 평가 지표를 지정하는 문자열로 지정하나 별도의 성능 평가 지표 함수도 지정 가능\n",
        "* cv: 교차 검증을 위해 분할되는 학습/ 테스트 세트의 개수를 지정한다.\n",
        "* refit: 디폴트가 True이며 True로 생성시 가장 최적의 하이퍼 파라미터를 찾은 뒤 입력된 estimator객체를 해당 하이퍼파라미터로 재학습시킴"
      ],
      "metadata": {
        "id": "VRI_eapfdv5x"
      }
    },
    {
      "cell_type": "code",
      "source": [
        "from sklearn.tree import DecisionTreeClassifier\n",
        "from sklearn.model_selection import GridSearchCV\n",
        "from sklearn.datasets import load_iris\n",
        "\n",
        "#데이터를 로딩하고 학습 데이터와 테스트 데이터 분리\n",
        "iris_data = load_iris()\n",
        "X_train, X_test, y_train, y_test = train_test_split(iris_data.data, iris_data.target , test_size=0.2, random_state=121)\n",
        "dtree=DecisionTreeClassifier()\n",
        "\n",
        "##파라미터를 딕셔너리 형태로 설정\n",
        "parameters={'max_depth':[1,2,3], 'min_samples_split':[2,3]}"
      ],
      "metadata": {
        "id": "6m20j4xz-gDQ"
      },
      "execution_count": 43,
      "outputs": []
    },
    {
      "cell_type": "code",
      "source": [
        "import pandas as pd\n",
        "\n",
        "#param_grid의 하이퍼 파라미터를 3개의 train, test set fold로 나누어 테스트 수행 설정.\n",
        "### refit=True가 default임. True이면 가장 좋은 파라미터 설정으로 재학습시킴.\n",
        "grid_dtree=GridSearchCV(dtree, param_grid=parameters, cv=3, refit=True)\n",
        "\n",
        "#붓꽃 학습 데이터로 param_grid의 하이퍼 파라미터를 순차적으로 학습/평가\n",
        "grid_dtree.fit(X_train, y_train)\n",
        "\n",
        "#GridSearchCV결과를 추출해 DataFrame으로 변환\n",
        "scores_df = pd.DataFrame(grid_dtree. cv_results_)\n",
        "scores_df[['params','mean_test_score','rank_test_score','split0_test_score','split1_test_score','split2_test_score']]"
      ],
      "metadata": {
        "colab": {
          "base_uri": "https://localhost:8080/",
          "height": 238
        },
        "id": "wQJDndB9-gGS",
        "outputId": "0b441dec-d6d1-44a8-cc96-6a009de129cb"
      },
      "execution_count": 44,
      "outputs": [
        {
          "output_type": "execute_result",
          "data": {
            "text/plain": [
              "                                     params  mean_test_score  rank_test_score  \\\n",
              "0  {'max_depth': 1, 'min_samples_split': 2}         0.700000                5   \n",
              "1  {'max_depth': 1, 'min_samples_split': 3}         0.700000                5   \n",
              "2  {'max_depth': 2, 'min_samples_split': 2}         0.958333                3   \n",
              "3  {'max_depth': 2, 'min_samples_split': 3}         0.958333                3   \n",
              "4  {'max_depth': 3, 'min_samples_split': 2}         0.975000                1   \n",
              "5  {'max_depth': 3, 'min_samples_split': 3}         0.975000                1   \n",
              "\n",
              "   split0_test_score  split1_test_score  split2_test_score  \n",
              "0              0.700                0.7               0.70  \n",
              "1              0.700                0.7               0.70  \n",
              "2              0.925                1.0               0.95  \n",
              "3              0.925                1.0               0.95  \n",
              "4              0.975                1.0               0.95  \n",
              "5              0.975                1.0               0.95  "
            ],
            "text/html": [
              "\n",
              "  <div id=\"df-a46c48c6-8175-4c48-8abd-991ba58139a9\">\n",
              "    <div class=\"colab-df-container\">\n",
              "      <div>\n",
              "<style scoped>\n",
              "    .dataframe tbody tr th:only-of-type {\n",
              "        vertical-align: middle;\n",
              "    }\n",
              "\n",
              "    .dataframe tbody tr th {\n",
              "        vertical-align: top;\n",
              "    }\n",
              "\n",
              "    .dataframe thead th {\n",
              "        text-align: right;\n",
              "    }\n",
              "</style>\n",
              "<table border=\"1\" class=\"dataframe\">\n",
              "  <thead>\n",
              "    <tr style=\"text-align: right;\">\n",
              "      <th></th>\n",
              "      <th>params</th>\n",
              "      <th>mean_test_score</th>\n",
              "      <th>rank_test_score</th>\n",
              "      <th>split0_test_score</th>\n",
              "      <th>split1_test_score</th>\n",
              "      <th>split2_test_score</th>\n",
              "    </tr>\n",
              "  </thead>\n",
              "  <tbody>\n",
              "    <tr>\n",
              "      <th>0</th>\n",
              "      <td>{'max_depth': 1, 'min_samples_split': 2}</td>\n",
              "      <td>0.700000</td>\n",
              "      <td>5</td>\n",
              "      <td>0.700</td>\n",
              "      <td>0.7</td>\n",
              "      <td>0.70</td>\n",
              "    </tr>\n",
              "    <tr>\n",
              "      <th>1</th>\n",
              "      <td>{'max_depth': 1, 'min_samples_split': 3}</td>\n",
              "      <td>0.700000</td>\n",
              "      <td>5</td>\n",
              "      <td>0.700</td>\n",
              "      <td>0.7</td>\n",
              "      <td>0.70</td>\n",
              "    </tr>\n",
              "    <tr>\n",
              "      <th>2</th>\n",
              "      <td>{'max_depth': 2, 'min_samples_split': 2}</td>\n",
              "      <td>0.958333</td>\n",
              "      <td>3</td>\n",
              "      <td>0.925</td>\n",
              "      <td>1.0</td>\n",
              "      <td>0.95</td>\n",
              "    </tr>\n",
              "    <tr>\n",
              "      <th>3</th>\n",
              "      <td>{'max_depth': 2, 'min_samples_split': 3}</td>\n",
              "      <td>0.958333</td>\n",
              "      <td>3</td>\n",
              "      <td>0.925</td>\n",
              "      <td>1.0</td>\n",
              "      <td>0.95</td>\n",
              "    </tr>\n",
              "    <tr>\n",
              "      <th>4</th>\n",
              "      <td>{'max_depth': 3, 'min_samples_split': 2}</td>\n",
              "      <td>0.975000</td>\n",
              "      <td>1</td>\n",
              "      <td>0.975</td>\n",
              "      <td>1.0</td>\n",
              "      <td>0.95</td>\n",
              "    </tr>\n",
              "    <tr>\n",
              "      <th>5</th>\n",
              "      <td>{'max_depth': 3, 'min_samples_split': 3}</td>\n",
              "      <td>0.975000</td>\n",
              "      <td>1</td>\n",
              "      <td>0.975</td>\n",
              "      <td>1.0</td>\n",
              "      <td>0.95</td>\n",
              "    </tr>\n",
              "  </tbody>\n",
              "</table>\n",
              "</div>\n",
              "      <button class=\"colab-df-convert\" onclick=\"convertToInteractive('df-a46c48c6-8175-4c48-8abd-991ba58139a9')\"\n",
              "              title=\"Convert this dataframe to an interactive table.\"\n",
              "              style=\"display:none;\">\n",
              "        \n",
              "  <svg xmlns=\"http://www.w3.org/2000/svg\" height=\"24px\"viewBox=\"0 0 24 24\"\n",
              "       width=\"24px\">\n",
              "    <path d=\"M0 0h24v24H0V0z\" fill=\"none\"/>\n",
              "    <path d=\"M18.56 5.44l.94 2.06.94-2.06 2.06-.94-2.06-.94-.94-2.06-.94 2.06-2.06.94zm-11 1L8.5 8.5l.94-2.06 2.06-.94-2.06-.94L8.5 2.5l-.94 2.06-2.06.94zm10 10l.94 2.06.94-2.06 2.06-.94-2.06-.94-.94-2.06-.94 2.06-2.06.94z\"/><path d=\"M17.41 7.96l-1.37-1.37c-.4-.4-.92-.59-1.43-.59-.52 0-1.04.2-1.43.59L10.3 9.45l-7.72 7.72c-.78.78-.78 2.05 0 2.83L4 21.41c.39.39.9.59 1.41.59.51 0 1.02-.2 1.41-.59l7.78-7.78 2.81-2.81c.8-.78.8-2.07 0-2.86zM5.41 20L4 18.59l7.72-7.72 1.47 1.35L5.41 20z\"/>\n",
              "  </svg>\n",
              "      </button>\n",
              "      \n",
              "  <style>\n",
              "    .colab-df-container {\n",
              "      display:flex;\n",
              "      flex-wrap:wrap;\n",
              "      gap: 12px;\n",
              "    }\n",
              "\n",
              "    .colab-df-convert {\n",
              "      background-color: #E8F0FE;\n",
              "      border: none;\n",
              "      border-radius: 50%;\n",
              "      cursor: pointer;\n",
              "      display: none;\n",
              "      fill: #1967D2;\n",
              "      height: 32px;\n",
              "      padding: 0 0 0 0;\n",
              "      width: 32px;\n",
              "    }\n",
              "\n",
              "    .colab-df-convert:hover {\n",
              "      background-color: #E2EBFA;\n",
              "      box-shadow: 0px 1px 2px rgba(60, 64, 67, 0.3), 0px 1px 3px 1px rgba(60, 64, 67, 0.15);\n",
              "      fill: #174EA6;\n",
              "    }\n",
              "\n",
              "    [theme=dark] .colab-df-convert {\n",
              "      background-color: #3B4455;\n",
              "      fill: #D2E3FC;\n",
              "    }\n",
              "\n",
              "    [theme=dark] .colab-df-convert:hover {\n",
              "      background-color: #434B5C;\n",
              "      box-shadow: 0px 1px 3px 1px rgba(0, 0, 0, 0.15);\n",
              "      filter: drop-shadow(0px 1px 2px rgba(0, 0, 0, 0.3));\n",
              "      fill: #FFFFFF;\n",
              "    }\n",
              "  </style>\n",
              "\n",
              "      <script>\n",
              "        const buttonEl =\n",
              "          document.querySelector('#df-a46c48c6-8175-4c48-8abd-991ba58139a9 button.colab-df-convert');\n",
              "        buttonEl.style.display =\n",
              "          google.colab.kernel.accessAllowed ? 'block' : 'none';\n",
              "\n",
              "        async function convertToInteractive(key) {\n",
              "          const element = document.querySelector('#df-a46c48c6-8175-4c48-8abd-991ba58139a9');\n",
              "          const dataTable =\n",
              "            await google.colab.kernel.invokeFunction('convertToInteractive',\n",
              "                                                     [key], {});\n",
              "          if (!dataTable) return;\n",
              "\n",
              "          const docLinkHtml = 'Like what you see? Visit the ' +\n",
              "            '<a target=\"_blank\" href=https://colab.research.google.com/notebooks/data_table.ipynb>data table notebook</a>'\n",
              "            + ' to learn more about interactive tables.';\n",
              "          element.innerHTML = '';\n",
              "          dataTable['output_type'] = 'display_data';\n",
              "          await google.colab.output.renderOutput(dataTable, element);\n",
              "          const docLink = document.createElement('div');\n",
              "          docLink.innerHTML = docLinkHtml;\n",
              "          element.appendChild(docLink);\n",
              "        }\n",
              "      </script>\n",
              "    </div>\n",
              "  </div>\n",
              "  "
            ]
          },
          "metadata": {},
          "execution_count": 44
        }
      ]
    },
    {
      "cell_type": "markdown",
      "source": [
        "위의 결과에서 총 6개의 결과를 볼 수 있으며 하이퍼 파라미터 max_depth 와 min_smples_split 을 순차적으로 총 6번 변경하면서 학습 및 평가를 수행했음을 나타낸다.\n",
        "\n",
        "* params : 수행할 때마다 적용된 개별 하이퍼 파라미터값\n",
        "* rank_test_score : 하이퍼 파라미터별로 성능이 좋은 score순위를 나타낸다. 1이 가장 뛰어난 순위이다.\n",
        "* mean_test_score : 개별 하이퍼 파라미터별로 CV의 폴딩 테스트 세트에 대해 총 수행한 평가 평균값이다."
      ],
      "metadata": {
        "id": "WhlbuwOkgCJ5"
      }
    },
    {
      "cell_type": "code",
      "source": [
        "print('GridSearchCV 최적 파라미터:', grid_dtree.best_params_)\n",
        "print('GridSearchCV 최고 정확도:{0:.4f}'.format(grid_dtree.best_score_))\n",
        "# GridSearchCV 객체의 fit()을 수행하면 최고 성능을 나타낸 하이퍼 파라미터의 값과 그때의 평가 결과 값이 각각에 기록된다."
      ],
      "metadata": {
        "colab": {
          "base_uri": "https://localhost:8080/"
        },
        "id": "1ko3pFSx-gJI",
        "outputId": "7245e050-7dae-4c5a-87a1-8b28e66b3797"
      },
      "execution_count": 45,
      "outputs": [
        {
          "output_type": "stream",
          "name": "stdout",
          "text": [
            "GridSearchCV 최적 파라미터: {'max_depth': 3, 'min_samples_split': 2}\n",
            "GridSearchCV 최고 정확도:0.9750\n"
          ]
        }
      ]
    },
    {
      "cell_type": "code",
      "source": [
        "#이미 학습된 best_estimator을 이용해 앞에서 train_test_split()으로 분리한 테스트 데이터 세트에 대해 예측하고 성능을 평가해보자.\n",
        "\n",
        "#GridSearchCV 의 refit으로 이미 학습된 estimator반환\n",
        "estimator=grid_dtree.best_estimator_\n",
        "\n",
        "#GridSearchCV 의 best_estimator_는 이미 최적 학습이 됐으므로 별도 학습이 필요 없음\n",
        "pred=estimator.predict(X_test)\n",
        "print('테스트 데이터 세트 정확도:{0:.4f}'.format(accuracy_score(y_test, pred)))"
      ],
      "metadata": {
        "colab": {
          "base_uri": "https://localhost:8080/"
        },
        "id": "rEcOqCAi-gLd",
        "outputId": "48776aa5-f1a1-4e5a-c506-2b31d8525701"
      },
      "execution_count": 46,
      "outputs": [
        {
          "output_type": "stream",
          "name": "stdout",
          "text": [
            "테스트 데이터 세트 정확도:0.9667\n"
          ]
        }
      ]
    },
    {
      "cell_type": "markdown",
      "source": [
        "이렇게 GridSearchCV를 이용해 최적 하이퍼 파라미터 튜닝을 수행한 뒤에 별도의 테스트 데이터 세트에서 이를 평가하는 것이 일반적인 머신러닝 모델 적용 방법이다.\n",
        "\n",
        "\n",
        "---\n",
        "\n",
        "## **5)데이터 전처리(Data Preprocessing)**\n",
        "* ML알고리즘은 데이터에 기반하고 이씩 때문에 어떤 데이터를 입력으로 가지느냐에 따라 결과도 크게 달라진다. \n",
        "\n",
        "**<사이킷런의 ML알고리즘을 적용하기 전에 데이터에 대해 미리 처리해야할 기본 사항>**\n",
        "\n",
        "1, 결손값, 즉 NaN, Null값은 허용되지 않는다. 이러한 null값은 고정된 다른 값으로 변환해야 한다. \n",
        "\n",
        "\n",
        "> null값이 대부분인 경우: 피처는 드롭한다.\n",
        "null값이 얼마 없는 경우: 피처의 평균값으로 대체\n",
        "\n",
        "2.사이킷런의 머신러닝 알고리즘은 문자열 값을 입력 값으로 허용하지 않는다. 그래서 모든 문자열 값은 인코딩돼서 숫자형으로 변환해야한다. \n",
        "\n",
        "### **데이터 인코딩**\n",
        "\n",
        "1)레이블 인코딩 : 카테고리 피처를 코드형 숫자 값으로 변환하는 것\n",
        "\n",
        "> 상품 데이터의 상품 구분이 tv,냉장고면은 0과 1로 '숫자형'으로 변환한다. 주의할 점은 01은 숫자가 아니므로 숫자형인 1로 해야함!!\n",
        "* LabelEncoder 클래스로 구현한다.\n",
        "* 숫자형으로 변환하면 크고 작음의 특성이 작용하여 알고리즘에 가중치가 부여된다. 때문에 선형회귀와 같은 ML알고리즘에는 적용하지 않ㄴ아야한다. \n",
        "\n",
        "\n",
        "2)원-핫 인코딩 : 피처 값의 유형에 따라 새로운 피처를 추가해 **고유 값에 해당하는 칼럼에만 1을 표시**하고 나머지 칼럼에는 0을 표시하는 방식이다. 즉, 행 형태로 돼 있는 피처의 교유 값을 열 형태로 차원을 변환한 뒤, 고유 값에 해당하는 칼럼에만 1을 표시하고 나머지 칼럼에는 0을 표시한다.\n",
        "\n",
        "* OneHotEncoder로 변환하기 전에 모든 문자열 값이 숫자형 값으로 변환돼야 한다.\n",
        "* 입력값으로 2차원 데이터가 필요하다."
      ],
      "metadata": {
        "id": "WVmNfflPhkrJ"
      }
    },
    {
      "cell_type": "code",
      "source": [
        "#레이블 인코딩\n",
        "\n",
        "from sklearn.preprocessing import LabelEncoder\n",
        "\n",
        "items=['Tv','냉장고','전자레인지','컴퓨터','선풍기','선풍기','믹서','믹서']\n",
        "\n",
        "#LabelEncoder를 객체로 생성한 후, fit()과 transform()으로 레이블 인코딩 수행.\n",
        "encoder=LabelEncoder()\n",
        "encoder.fit(items)\n",
        "labels=encoder.transform(items)\n",
        "print('인코딩 변환값:',labels)"
      ],
      "metadata": {
        "colab": {
          "base_uri": "https://localhost:8080/"
        },
        "id": "H3Nnl5hE-gOY",
        "outputId": "3813ada1-7863-4548-b317-b00d1facd8c5"
      },
      "execution_count": 47,
      "outputs": [
        {
          "output_type": "stream",
          "name": "stdout",
          "text": [
            "인코딩 변환값: [0 1 4 5 3 3 2 2]\n"
          ]
        }
      ]
    },
    {
      "cell_type": "code",
      "source": [
        "#데이터가 많은 경우에는?\n",
        "print('인코딩 클래스:',encoder.classes_)\n",
        "#밑 출력값은 0번부터 순서대로 변환된 인코딩 값에 대한 원본이다."
      ],
      "metadata": {
        "colab": {
          "base_uri": "https://localhost:8080/"
        },
        "id": "M_qk4xpE-gQZ",
        "outputId": "290588f1-d513-4d21-f271-7b5fc88d7674"
      },
      "execution_count": 48,
      "outputs": [
        {
          "output_type": "stream",
          "name": "stdout",
          "text": [
            "인코딩 클래스: ['Tv' '냉장고' '믹서' '선풍기' '전자레인지' '컴퓨터']\n"
          ]
        }
      ]
    },
    {
      "cell_type": "code",
      "source": [
        "#다시 디코딩하는 방법\n",
        "print('디코딩 원본값:',encoder.inverse_transform([3,5,2,0,1,1,3,3]))"
      ],
      "metadata": {
        "id": "52cuBnlXek5S",
        "colab": {
          "base_uri": "https://localhost:8080/"
        },
        "outputId": "2bc6d741-9d71-4c00-c650-4b4ea80fcf50"
      },
      "execution_count": 50,
      "outputs": [
        {
          "output_type": "stream",
          "name": "stdout",
          "text": [
            "디코딩 원본값: ['선풍기' '컴퓨터' '믹서' 'Tv' '냉장고' '냉장고' '선풍기' '선풍기']\n"
          ]
        }
      ]
    },
    {
      "cell_type": "code",
      "source": [
        "#OneHotEncoder이용하여 앞으 데이터를 원-핫 인코딩으로 변환해보자\n",
        "\n",
        "from sklearn.preprocessing import OneHotEncoder\n",
        "import numpy as np\n",
        "\n",
        "items=['Tv','냉장고','전자레인지','컴퓨터','선풍기','선풍기','믹서','믹서']\n",
        "\n",
        "#먼저 숫자 값으로 변환을 위해 LabelEncoder로 변환한다.\n",
        "encoder=LabelEncoder()\n",
        "encoder.fit(items)\n",
        "#2차원 데이터로 변환한다.\n",
        "labels=labels.reshape(-1,1)\n",
        "\n",
        "#원-핫 인코딩을 적용한다.\n",
        "oh_encoder=OneHotEncoder()\n",
        "oh_encoder.fit(labels)\n",
        "oh_labels=oh_encoder.transform(labels)\n",
        "print('원-핫 인코딩 데이터')\n",
        "print(oh_labels.toarray())\n",
        "print('원-핫 인코딩 데이터 차원')\n",
        "print(oh_labels.shape)"
      ],
      "metadata": {
        "id": "QK6IIWGHek72",
        "colab": {
          "base_uri": "https://localhost:8080/"
        },
        "outputId": "732252e4-e80d-455c-f908-340670a16817"
      },
      "execution_count": 53,
      "outputs": [
        {
          "output_type": "stream",
          "name": "stdout",
          "text": [
            "원-핫 인코딩 데이터\n",
            "[[1. 0. 0. 0. 0. 0.]\n",
            " [0. 1. 0. 0. 0. 0.]\n",
            " [0. 0. 0. 0. 1. 0.]\n",
            " [0. 0. 0. 0. 0. 1.]\n",
            " [0. 0. 0. 1. 0. 0.]\n",
            " [0. 0. 0. 1. 0. 0.]\n",
            " [0. 0. 1. 0. 0. 0.]\n",
            " [0. 0. 1. 0. 0. 0.]]\n",
            "원-핫 인코딩 데이터 차원\n",
            "(8, 6)\n"
          ]
        }
      ]
    },
    {
      "cell_type": "markdown",
      "source": [
        "판다스에서 get_dummies()를 이용하면 문자열 카테고리 값을 숫자형으로 변환할 필요없이 바로 변환할 수 있다."
      ],
      "metadata": {
        "id": "4b5lSNIBoAs4"
      }
    },
    {
      "cell_type": "code",
      "source": [
        "import pandas as pd\n",
        "\n",
        "df=pd.DataFrame({'item':['Tv','냉장고','전자레인지','컴퓨터','선풍기','선풍기','믹서','믹서']})\n",
        "pd.get_dummies(df)"
      ],
      "metadata": {
        "id": "OehZsZODek-T",
        "colab": {
          "base_uri": "https://localhost:8080/",
          "height": 301
        },
        "outputId": "d66e94cc-3b44-4407-d00e-8dd9db531ab0"
      },
      "execution_count": 54,
      "outputs": [
        {
          "output_type": "execute_result",
          "data": {
            "text/plain": [
              "   item_Tv  item_냉장고  item_믹서  item_선풍기  item_전자레인지  item_컴퓨터\n",
              "0        1         0        0         0           0         0\n",
              "1        0         1        0         0           0         0\n",
              "2        0         0        0         0           1         0\n",
              "3        0         0        0         0           0         1\n",
              "4        0         0        0         1           0         0\n",
              "5        0         0        0         1           0         0\n",
              "6        0         0        1         0           0         0\n",
              "7        0         0        1         0           0         0"
            ],
            "text/html": [
              "\n",
              "  <div id=\"df-aa7db525-db3d-499e-99c8-e174b792ff75\">\n",
              "    <div class=\"colab-df-container\">\n",
              "      <div>\n",
              "<style scoped>\n",
              "    .dataframe tbody tr th:only-of-type {\n",
              "        vertical-align: middle;\n",
              "    }\n",
              "\n",
              "    .dataframe tbody tr th {\n",
              "        vertical-align: top;\n",
              "    }\n",
              "\n",
              "    .dataframe thead th {\n",
              "        text-align: right;\n",
              "    }\n",
              "</style>\n",
              "<table border=\"1\" class=\"dataframe\">\n",
              "  <thead>\n",
              "    <tr style=\"text-align: right;\">\n",
              "      <th></th>\n",
              "      <th>item_Tv</th>\n",
              "      <th>item_냉장고</th>\n",
              "      <th>item_믹서</th>\n",
              "      <th>item_선풍기</th>\n",
              "      <th>item_전자레인지</th>\n",
              "      <th>item_컴퓨터</th>\n",
              "    </tr>\n",
              "  </thead>\n",
              "  <tbody>\n",
              "    <tr>\n",
              "      <th>0</th>\n",
              "      <td>1</td>\n",
              "      <td>0</td>\n",
              "      <td>0</td>\n",
              "      <td>0</td>\n",
              "      <td>0</td>\n",
              "      <td>0</td>\n",
              "    </tr>\n",
              "    <tr>\n",
              "      <th>1</th>\n",
              "      <td>0</td>\n",
              "      <td>1</td>\n",
              "      <td>0</td>\n",
              "      <td>0</td>\n",
              "      <td>0</td>\n",
              "      <td>0</td>\n",
              "    </tr>\n",
              "    <tr>\n",
              "      <th>2</th>\n",
              "      <td>0</td>\n",
              "      <td>0</td>\n",
              "      <td>0</td>\n",
              "      <td>0</td>\n",
              "      <td>1</td>\n",
              "      <td>0</td>\n",
              "    </tr>\n",
              "    <tr>\n",
              "      <th>3</th>\n",
              "      <td>0</td>\n",
              "      <td>0</td>\n",
              "      <td>0</td>\n",
              "      <td>0</td>\n",
              "      <td>0</td>\n",
              "      <td>1</td>\n",
              "    </tr>\n",
              "    <tr>\n",
              "      <th>4</th>\n",
              "      <td>0</td>\n",
              "      <td>0</td>\n",
              "      <td>0</td>\n",
              "      <td>1</td>\n",
              "      <td>0</td>\n",
              "      <td>0</td>\n",
              "    </tr>\n",
              "    <tr>\n",
              "      <th>5</th>\n",
              "      <td>0</td>\n",
              "      <td>0</td>\n",
              "      <td>0</td>\n",
              "      <td>1</td>\n",
              "      <td>0</td>\n",
              "      <td>0</td>\n",
              "    </tr>\n",
              "    <tr>\n",
              "      <th>6</th>\n",
              "      <td>0</td>\n",
              "      <td>0</td>\n",
              "      <td>1</td>\n",
              "      <td>0</td>\n",
              "      <td>0</td>\n",
              "      <td>0</td>\n",
              "    </tr>\n",
              "    <tr>\n",
              "      <th>7</th>\n",
              "      <td>0</td>\n",
              "      <td>0</td>\n",
              "      <td>1</td>\n",
              "      <td>0</td>\n",
              "      <td>0</td>\n",
              "      <td>0</td>\n",
              "    </tr>\n",
              "  </tbody>\n",
              "</table>\n",
              "</div>\n",
              "      <button class=\"colab-df-convert\" onclick=\"convertToInteractive('df-aa7db525-db3d-499e-99c8-e174b792ff75')\"\n",
              "              title=\"Convert this dataframe to an interactive table.\"\n",
              "              style=\"display:none;\">\n",
              "        \n",
              "  <svg xmlns=\"http://www.w3.org/2000/svg\" height=\"24px\"viewBox=\"0 0 24 24\"\n",
              "       width=\"24px\">\n",
              "    <path d=\"M0 0h24v24H0V0z\" fill=\"none\"/>\n",
              "    <path d=\"M18.56 5.44l.94 2.06.94-2.06 2.06-.94-2.06-.94-.94-2.06-.94 2.06-2.06.94zm-11 1L8.5 8.5l.94-2.06 2.06-.94-2.06-.94L8.5 2.5l-.94 2.06-2.06.94zm10 10l.94 2.06.94-2.06 2.06-.94-2.06-.94-.94-2.06-.94 2.06-2.06.94z\"/><path d=\"M17.41 7.96l-1.37-1.37c-.4-.4-.92-.59-1.43-.59-.52 0-1.04.2-1.43.59L10.3 9.45l-7.72 7.72c-.78.78-.78 2.05 0 2.83L4 21.41c.39.39.9.59 1.41.59.51 0 1.02-.2 1.41-.59l7.78-7.78 2.81-2.81c.8-.78.8-2.07 0-2.86zM5.41 20L4 18.59l7.72-7.72 1.47 1.35L5.41 20z\"/>\n",
              "  </svg>\n",
              "      </button>\n",
              "      \n",
              "  <style>\n",
              "    .colab-df-container {\n",
              "      display:flex;\n",
              "      flex-wrap:wrap;\n",
              "      gap: 12px;\n",
              "    }\n",
              "\n",
              "    .colab-df-convert {\n",
              "      background-color: #E8F0FE;\n",
              "      border: none;\n",
              "      border-radius: 50%;\n",
              "      cursor: pointer;\n",
              "      display: none;\n",
              "      fill: #1967D2;\n",
              "      height: 32px;\n",
              "      padding: 0 0 0 0;\n",
              "      width: 32px;\n",
              "    }\n",
              "\n",
              "    .colab-df-convert:hover {\n",
              "      background-color: #E2EBFA;\n",
              "      box-shadow: 0px 1px 2px rgba(60, 64, 67, 0.3), 0px 1px 3px 1px rgba(60, 64, 67, 0.15);\n",
              "      fill: #174EA6;\n",
              "    }\n",
              "\n",
              "    [theme=dark] .colab-df-convert {\n",
              "      background-color: #3B4455;\n",
              "      fill: #D2E3FC;\n",
              "    }\n",
              "\n",
              "    [theme=dark] .colab-df-convert:hover {\n",
              "      background-color: #434B5C;\n",
              "      box-shadow: 0px 1px 3px 1px rgba(0, 0, 0, 0.15);\n",
              "      filter: drop-shadow(0px 1px 2px rgba(0, 0, 0, 0.3));\n",
              "      fill: #FFFFFF;\n",
              "    }\n",
              "  </style>\n",
              "\n",
              "      <script>\n",
              "        const buttonEl =\n",
              "          document.querySelector('#df-aa7db525-db3d-499e-99c8-e174b792ff75 button.colab-df-convert');\n",
              "        buttonEl.style.display =\n",
              "          google.colab.kernel.accessAllowed ? 'block' : 'none';\n",
              "\n",
              "        async function convertToInteractive(key) {\n",
              "          const element = document.querySelector('#df-aa7db525-db3d-499e-99c8-e174b792ff75');\n",
              "          const dataTable =\n",
              "            await google.colab.kernel.invokeFunction('convertToInteractive',\n",
              "                                                     [key], {});\n",
              "          if (!dataTable) return;\n",
              "\n",
              "          const docLinkHtml = 'Like what you see? Visit the ' +\n",
              "            '<a target=\"_blank\" href=https://colab.research.google.com/notebooks/data_table.ipynb>data table notebook</a>'\n",
              "            + ' to learn more about interactive tables.';\n",
              "          element.innerHTML = '';\n",
              "          dataTable['output_type'] = 'display_data';\n",
              "          await google.colab.output.renderOutput(dataTable, element);\n",
              "          const docLink = document.createElement('div');\n",
              "          docLink.innerHTML = docLinkHtml;\n",
              "          element.appendChild(docLink);\n",
              "        }\n",
              "      </script>\n",
              "    </div>\n",
              "  </div>\n",
              "  "
            ]
          },
          "metadata": {},
          "execution_count": 54
        }
      ]
    },
    {
      "cell_type": "markdown",
      "source": [
        "### **피처 스케일링의 정규화**\n",
        "스케일링 : 서로 다른 변수의 값 범위를 일정한 수준으로 맞추는 작업을 피처 스케일링이라고 한다. 표준화와 정규화가 있다.\n",
        "\n",
        "1) 표준화\n",
        "데이터의 피처 각각이 평균이 0이고 분산이 1인 가우시안 정규 분포를 가진 값으로 변환하는 것을 의미한다. 두 변수의 크기를 같은 단위로 통일해주는 것이다.\n",
        "\n",
        "`xi_new = (xi - mean(x))/ stdev(x)`\n",
        "\n",
        "-> 피처 스케일링\n",
        "\n",
        "**그런데 사이킷런의 전처리에서 제공하는 Normalizer모듈과 일반적인 정규화는 차이가 있다. Normalizer모듈은 선형대수에서의 정규화 개념이 적용됐으며 개별 벡터의 크기를 맞추기 위해 변환하는 것을 의미한다. 즉 개별 벡터를 모든 피처 벡터의 크기로 나눠준다. \n",
        "\n",
        "`xi_bew= xi/ (sqrt(xi^2 + yi^2 + zi^2)` \n",
        "\n",
        "->벡터 정규화\n",
        "\n",
        "### **StandardScaler**\n",
        "표준화를 쉽게 지원하는 클래스이다. 즉 개별 피처를 평균이 0이고 분산이 1인 값으로 변환해준다."
      ],
      "metadata": {
        "id": "2laQAe3KoC89"
      }
    },
    {
      "cell_type": "code",
      "source": [
        "from sklearn.datasets import load_iris\n",
        "import pandas as pd\n",
        "\n",
        "#붓꽃 데이터 세트를 로딩하고 데이터프레임으로 변환\n",
        "iris=load_iris()\n",
        "iris_data=iris.data\n",
        "iris_df=pd.DataFrame(data=iris_data, columns=iris.feature_names)\n",
        "\n",
        "print('feature들의 평균 값')\n",
        "print(iris_df.mean())\n",
        "print('\\nfeature들의 분산 값')\n",
        "print(iris_df.var())"
      ],
      "metadata": {
        "colab": {
          "base_uri": "https://localhost:8080/"
        },
        "id": "sjBXKXt1oCVs",
        "outputId": "425f18f8-4459-4a68-d299-b92280500d62"
      },
      "execution_count": 55,
      "outputs": [
        {
          "output_type": "stream",
          "name": "stdout",
          "text": [
            "feature들의 평균 값\n",
            "sepal length (cm)    5.843333\n",
            "sepal width (cm)     3.057333\n",
            "petal length (cm)    3.758000\n",
            "petal width (cm)     1.199333\n",
            "dtype: float64\n",
            "\n",
            "feature들의 분산 값\n",
            "sepal length (cm)    0.685694\n",
            "sepal width (cm)     0.189979\n",
            "petal length (cm)    3.116278\n",
            "petal width (cm)     0.581006\n",
            "dtype: float64\n"
          ]
        }
      ]
    },
    {
      "cell_type": "code",
      "source": [
        "#StandardScaler을 이용하여 피처를 한 번에 표준화하기\n",
        "\n",
        "from sklearn.preprocessing import StandardScaler\n",
        "#StandardScaler객체 생성\n",
        "scaler=StandardScaler()\n",
        "#StandardScaler로 데이터 세트 변환. fit()과 transform()호출.\n",
        "scaler.fit(iris_df)\n",
        "iris_scaled=scaler.transform(iris_df)\n",
        "\n",
        "#transform()시 스케일 변환된 데이터 세트가 Numpy ndarray로 반환돼 이를 dataframe으로 변환\n",
        "iris_df_scaled=pd.DataFrame(data=iris_scaled, columns=iris.feature_names)\n",
        "print('feature들의 평균 값')\n",
        "print(iris_df_scaled.mean())\n",
        "print('\\nfeature들의 분산 값')\n",
        "print(iris_df_scaled.var())"
      ],
      "metadata": {
        "colab": {
          "base_uri": "https://localhost:8080/"
        },
        "id": "GCxml67OoCYM",
        "outputId": "1b44d8c5-8813-4860-c33e-730383c6d94f"
      },
      "execution_count": 57,
      "outputs": [
        {
          "output_type": "stream",
          "name": "stdout",
          "text": [
            "feature들의 평균 값\n",
            "sepal length (cm)   -1.690315e-15\n",
            "sepal width (cm)    -1.842970e-15\n",
            "petal length (cm)   -1.698641e-15\n",
            "petal width (cm)    -1.409243e-15\n",
            "dtype: float64\n",
            "\n",
            "feature들의 분산 값\n",
            "sepal length (cm)    1.006711\n",
            "sepal width (cm)     1.006711\n",
            "petal length (cm)    1.006711\n",
            "petal width (cm)     1.006711\n",
            "dtype: float64\n"
          ]
        }
      ]
    },
    {
      "cell_type": "markdown",
      "source": [
        "### **MinMaxScaler**\n",
        "데이터 값을 0과 1 사이의 범위 값으로 변환한다. 만약 음수 값이 있으면 -1에서 1값으로 변환한다.\n",
        "데이터의 분포가 가우시안 분포가 아닐 경우에 Min, Max Scale을 적용해 볼 수 있다."
      ],
      "metadata": {
        "id": "NZh1hhpqqyVr"
      }
    },
    {
      "cell_type": "code",
      "source": [
        "from sklearn.preprocessing import MinMaxScaler\n",
        "\n",
        "#MinMaxScaler객체 생성\n",
        "scaler=MinMaxScaler()\n",
        "#MinMaxScaler로 데이터 세트 변환. fit()과 transform()호출.\n",
        "scaler.fit(iris_df)\n",
        "iris_scaled=scaler.transform(iris_df)\n",
        "\n",
        "#transform()시 스케일 변환된 데이터 세트가 NumPy ndarray로 반환돼 이를 DataFrame으로 변환\n",
        "iris_df_scaled=pd.DataFrame(data=iris_scaled, columns=iris.feature_names)\n",
        "print('feature들의 최솟값')\n",
        "print(iris_df_scaled.min())\n",
        "print('\\nfeature들의 최댓값')\n",
        "print(iris_df_scaled.max())"
      ],
      "metadata": {
        "colab": {
          "base_uri": "https://localhost:8080/"
        },
        "id": "U6Ehi5mkoCaU",
        "outputId": "31b50a76-00ef-44e4-f9a3-8b1a80e22966"
      },
      "execution_count": 62,
      "outputs": [
        {
          "output_type": "stream",
          "name": "stdout",
          "text": [
            "feature들의 최솟값\n",
            "sepal length (cm)    0.0\n",
            "sepal width (cm)     0.0\n",
            "petal length (cm)    0.0\n",
            "petal width (cm)     0.0\n",
            "dtype: float64\n",
            "\n",
            "feature들의 최댓값\n",
            "sepal length (cm)    1.0\n",
            "sepal width (cm)     1.0\n",
            "petal length (cm)    1.0\n",
            "petal width (cm)     1.0\n",
            "dtype: float64\n"
          ]
        }
      ]
    },
    {
      "cell_type": "markdown",
      "source": [
        "\n",
        "\n",
        "---\n",
        "\n",
        "### **학습 데이터와 테스트 데이터의 스케일리 변환시 유의점**\n",
        "StandardScale나 MinMaxScaler와 같은 Scaler객체를 이용해 데이터의 스케일링 변환시 fit(), transform(), fit_transform() 메소드를 이용한다. \n",
        "\n",
        "fit() : 데이터 변환을 위한 기준 정보 설정을 적용\n",
        "\n",
        "transform() : 정보를 이용해 데이터를 변환\n",
        "\n",
        "fit_transform() : 위 두개 한번에 적용\n",
        "\n",
        "-> fit(), transform()이용시 주의 필요\n",
        "\n",
        "Scaler객체를 이용해 학습 데이터 세트로 두가지를 적용하면 테스트 데이터 세트로는 다시 fit()을 수행하지 않고 학습 데이터 세트로 fit()을 수행한 결과를 이용해 transform() 변환을 적용해야한다. \n",
        "\n",
        "즉! 학습 데이터로 fit()이 적용된 스케일링 기준 정보를 그대로 테스트 데이터에 적용해야 하며, 그렇지 않고 테스트 데이터로 다시 새로운 스케일링 기준 정보를 만들게 되면 학습데이터와 테스트 데이터의 스케일링 기준 정보가 서로 달라지기 때문에 올바른 예측 결과를 도출하지 못할 수 있다."
      ],
      "metadata": {
        "id": "TsKHJcw4rprn"
      }
    },
    {
      "cell_type": "code",
      "source": [
        "from sklearn.preprocessing import MinMaxScaler\n",
        "import numpy as np\n",
        "\n",
        "#학습 데이터는 0부터 10까지, 테스트 데이터는 0부터 5까지 값을 가지는ㄷ ㅔ이터 세트로 생성\n",
        "# Scaler 클래스의 fit(), transform()은 2차원 이상 데이터만 가능하므로 reshape(-1,1)로 차원 변경\n",
        "train_array = np.arange(0,11).reshape(-1,1)\n",
        "test_array = np.arange(0,6).reshape(-1,1)"
      ],
      "metadata": {
        "id": "n7G8P4GNoCck"
      },
      "execution_count": 63,
      "outputs": []
    },
    {
      "cell_type": "markdown",
      "source": [
        "* 학습데이터인 train_array부터 MinMaxScaler을 이용해 변환해보자. \n",
        "\n",
        "학습데이터는 0부터 10까지 값을 가지는데 MinMaxScaler객체의 fit()을 적용하면 최솟값0, 최댓값10이 설정되며 1/10 Scale이 적용된다. 이제 transform()을 호출하면 1/10 scale로 학습 데이터를 변환하게 되며 원본 데이터 1은 0.1로 된다."
      ],
      "metadata": {
        "id": "KVW1_O-5tGvA"
      }
    },
    {
      "cell_type": "code",
      "source": [
        "#MinMaxScaler객체에 별도의 feature_range 파라미터 값을 지정하지 않으면 0~1값으로 변환\n",
        "scaler=MinMaxScaler()\n",
        "\n",
        "#fit()하게 되면 train_array 데이터의 최솟값이 0, 최댓값이 10으로 설정.\n",
        "scaler.fit(train_array)\n",
        "\n",
        "#1/10 scale로 train_array 데이터 변환함. 원본 10->1로 변환됨.\n",
        "train_scaled= scaler.transform(train_array)\n",
        "print('원본 train_array 데이터:',np.round(train_array.reshape(-1),2))\n",
        "print('scale된 train_array 데이터:',np.round(train_scaled.reshape(-1),2))\n"
      ],
      "metadata": {
        "colab": {
          "base_uri": "https://localhost:8080/"
        },
        "id": "1wYoIvFgoCed",
        "outputId": "bd293a74-82d1-4247-ad1d-2cd6ad424705"
      },
      "execution_count": 66,
      "outputs": [
        {
          "output_type": "stream",
          "name": "stdout",
          "text": [
            "원본 train_array 데이터: [ 0  1  2  3  4  5  6  7  8  9 10]\n",
            "scale된 train_array 데이터: [0.  0.1 0.2 0.3 0.4 0.5 0.6 0.7 0.8 0.9 1. ]\n"
          ]
        }
      ]
    },
    {
      "cell_type": "markdown",
      "source": [
        "이번에는 테스트 데이터 세트를 변환하는데 fit()을 호출해 스케일리 익준 정보를 다시 적용한 뒤 transform()을 수행한 결과를 확인해보자."
      ],
      "metadata": {
        "id": "4Wfeu_ubuKxh"
      }
    },
    {
      "cell_type": "code",
      "source": [
        "#MinMaxScaler에 test_array를 fit()하게 되면 원본 데이터의 최솟값이 0, 최댓값이 5로 설정됨\n",
        "scaler.fit(test_array)\n",
        "\n",
        "#1/5 scale로 test_array 데이터 변환함. 원본 5->1로 변환.\n",
        "test_scaled=scaler.transform(test_array)\n",
        "\n",
        "#test_array의 scale변환 출력.\n",
        "print('원본 test_array 데이터:', np.round(test_array.reshape(-1),2))\n",
        "print('scale된 test_array 데이터:',np.round(test_scaled.reshape(-1),2))"
      ],
      "metadata": {
        "colab": {
          "base_uri": "https://localhost:8080/"
        },
        "id": "voEnjTa4oCgS",
        "outputId": "6f017767-51f8-4828-a204-c7ee20396613"
      },
      "execution_count": 67,
      "outputs": [
        {
          "output_type": "stream",
          "name": "stdout",
          "text": [
            "원본 test_array 데이터: [0 1 2 3 4 5]\n",
            "scale된 test_array 데이터: [0.  0.2 0.4 0.6 0.8 1. ]\n"
          ]
        }
      ]
    },
    {
      "cell_type": "markdown",
      "source": [
        "결과를 확인하면 학습데이터와 테스트 데이터의 스케일링이 맞지 않다.\n",
        "테스트 데이터의 경우) 최솟값0 최댓값 5이므로 1/5로 스케일링 된다.  그래서 1은 0.2가 되는데\n",
        "\n",
        "학습 데이터의 경우) 1은 0.1이 된다. \n",
        "\n",
        "-> 서로 다른 원본값이 동일한 값으로 변환되는 결과를 초래한다. \n",
        "\n",
        "머신러닝 모델은 학습 데이터를 기반으로 학습되기 때문에 반드시 테스트 데이터는 학습 데이터의 스케일링 기준에 따라야 하며 , 테스트 데이터의 1값은 학습 데이터와 동일하게 0.1로 변환돼야 한다. \n",
        "\n",
        "따라서 테스트 데이터에 다시 fit()을 적용해서는 안 되며, 학습 데이터로 이미 fit()이 적용된 scaler객체를 이용해 transform()으로 변환해야 한다.\n",
        "\n",
        "* 또 이를 바탕으로 테스트데이터에서는 fit_transform()을 사용해서 안된다.\n",
        "\n",
        "--------------------\n",
        "다음 코드는\n",
        "\n",
        "테스트 데이터에 fit()을 호출하지 않고 학습 데이터로 fit()을 수행한 MinMaxScaler객체의 transform()을 이용해 데이터를 변환한다."
      ],
      "metadata": {
        "id": "4AfQ_0dmutIT"
      }
    },
    {
      "cell_type": "code",
      "source": [
        "scaler=MinMaxScaler()\n",
        "scaler.fit(train_array)\n",
        "train_scaled = scaler.transform(train_array)\n",
        "print('원본 train_array 데이터:', np.round(train_array.reshape(-1),2))\n",
        "print('scale된 train_array 데이터:', np.round(train_scaled.reshape(-1),2))\n",
        "\n",
        "#test_array에 scale변환을 할 때는 반드시 fit()을 호출하지 않고 transform()만으로 변환해야함.\n",
        "test_scaled=scaler.transform(test_array)\n",
        "print('원본 test_array 데이터:', np.round(test_array.reshape(-1),2))\n",
        "print('scale된 test_array 데이터:', np.round(test_scaled.reshape(-1),2))"
      ],
      "metadata": {
        "colab": {
          "base_uri": "https://localhost:8080/"
        },
        "id": "GanSjFH8oCib",
        "outputId": "11412a98-667a-46f8-8dfa-0de206654a33"
      },
      "execution_count": 69,
      "outputs": [
        {
          "output_type": "stream",
          "name": "stdout",
          "text": [
            "원본 train_array 데이터: [ 0  1  2  3  4  5  6  7  8  9 10]\n",
            "scale된 train_array 데이터: [0.  0.1 0.2 0.3 0.4 0.5 0.6 0.7 0.8 0.9 1. ]\n",
            "원본 test_array 데이터: [0 1 2 3 4 5]\n",
            "scale된 test_array 데이터: [0.  0.1 0.2 0.3 0.4 0.5]\n"
          ]
        }
      ]
    },
    {
      "cell_type": "markdown",
      "source": [
        "--> 학습과 테스트 데이터 세트로 분리하기 전에 먼제 전체 데이터 세트에 스케일링을 적용한 뒤 분리하는 것이 더 바람직하다.\n",
        "\n",
        "그렇지 않다면 테스트 데이터 변환시에는 fit()이나 fit_transform을 적용하지 않고 학습 데이터로 이미 fit()된 scaler객체를 이용해 transform으로 변환한다."
      ],
      "metadata": {
        "id": "JNhcgyqiwN0M"
      }
    },
    {
      "cell_type": "code",
      "source": [],
      "metadata": {
        "id": "bom68K6UoCkm"
      },
      "execution_count": null,
      "outputs": []
    },
    {
      "cell_type": "code",
      "source": [],
      "metadata": {
        "id": "N3STlzICoCmw"
      },
      "execution_count": null,
      "outputs": []
    }
  ]
}
