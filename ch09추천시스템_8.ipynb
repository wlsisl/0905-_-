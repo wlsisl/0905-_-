{
  "nbformat": 4,
  "nbformat_minor": 0,
  "metadata": {
    "colab": {
      "provenance": [],
      "authorship_tag": "ABX9TyMkP5nGIJqQx6qJedUyQ2eu",
      "include_colab_link": true
    },
    "kernelspec": {
      "name": "python3",
      "display_name": "Python 3"
    },
    "language_info": {
      "name": "python"
    }
  },
  "cells": [
    {
      "cell_type": "markdown",
      "metadata": {
        "id": "view-in-github",
        "colab_type": "text"
      },
      "source": [
        "<a href=\"https://colab.research.google.com/github/wlsisl/ESAA_/blob/main/ch09%EC%B6%94%EC%B2%9C%EC%8B%9C%EC%8A%A4%ED%85%9C_8.ipynb\" target=\"_parent\"><img src=\"https://colab.research.google.com/assets/colab-badge.svg\" alt=\"Open In Colab\"/></a>"
      ]
    },
    {
      "cell_type": "code",
      "execution_count": null,
      "metadata": {
        "id": "j8HR9EUa0K9Z"
      },
      "outputs": [],
      "source": []
    },
    {
      "cell_type": "markdown",
      "source": [
        "## 08 파이선 추천 시스템 패키지 - Surprise\n",
        "\n",
        "### Surprise 패키지 소개\n",
        "\n",
        "- 장점\n",
        " \n",
        " * 다양한 추천 알고리즘을 쉽게 적용해 추천 시스템 구축 가능\n",
        " * surprise의 핵심 api는 사이킷런의 핵심 api와 유사한 api명으로 작성됨. "
      ],
      "metadata": {
        "id": "o7lwQ2Zu0M8S"
      }
    },
    {
      "cell_type": "code",
      "source": [
        "! pip install scikit-surprise"
      ],
      "metadata": {
        "colab": {
          "base_uri": "https://localhost:8080/"
        },
        "id": "ouQ-rGZG0XM4",
        "outputId": "ba71d661-0253-4d69-cbdf-a307f59f3147"
      },
      "execution_count": 2,
      "outputs": [
        {
          "output_type": "stream",
          "name": "stdout",
          "text": [
            "Looking in indexes: https://pypi.org/simple, https://us-python.pkg.dev/colab-wheels/public/simple/\n",
            "Collecting scikit-surprise\n",
            "  Downloading scikit-surprise-1.1.3.tar.gz (771 kB)\n",
            "\u001b[2K     \u001b[90m━━━━━━━━━━━━━━━━━━━━━━━━━━━━━━━━━━━━━━\u001b[0m \u001b[32m772.0/772.0 kB\u001b[0m \u001b[31m10.2 MB/s\u001b[0m eta \u001b[36m0:00:00\u001b[0m\n",
            "\u001b[?25h  Preparing metadata (setup.py) ... \u001b[?25l\u001b[?25hdone\n",
            "Requirement already satisfied: joblib>=1.0.0 in /usr/local/lib/python3.10/dist-packages (from scikit-surprise) (1.2.0)\n",
            "Requirement already satisfied: numpy>=1.17.3 in /usr/local/lib/python3.10/dist-packages (from scikit-surprise) (1.22.4)\n",
            "Requirement already satisfied: scipy>=1.3.2 in /usr/local/lib/python3.10/dist-packages (from scikit-surprise) (1.10.1)\n",
            "Building wheels for collected packages: scikit-surprise\n",
            "  Building wheel for scikit-surprise (setup.py) ... \u001b[?25l\u001b[?25hdone\n",
            "  Created wheel for scikit-surprise: filename=scikit_surprise-1.1.3-cp310-cp310-linux_x86_64.whl size=3095474 sha256=a74e9547f399a2ddc8e81371f5d506e72bed396a5d9ef4e02deb077a39657426\n",
            "  Stored in directory: /root/.cache/pip/wheels/a5/ca/a8/4e28def53797fdc4363ca4af740db15a9c2f1595ebc51fb445\n",
            "Successfully built scikit-surprise\n",
            "Installing collected packages: scikit-surprise\n",
            "Successfully installed scikit-surprise-1.1.3\n"
          ]
        }
      ]
    },
    {
      "cell_type": "markdown",
      "source": [
        "### Surprise를 이용한 추천 시스템 구축\n",
        "\n",
        "추천 데이터를 학습용 테스트용 데이터 세트로 분리한 뒤 SVD행렬 분해를 통한 잠재 요인 협업 필터링을 수행."
      ],
      "metadata": {
        "id": "CLpocQlY0v1p"
      }
    },
    {
      "cell_type": "code",
      "source": [
        "#관련 모듈 import\n",
        "from surprise import SVD\n",
        "from surprise import Dataset\n",
        "from surprise import accuracy\n",
        "from surprise.model_selection import train_test_split"
      ],
      "metadata": {
        "id": "95LIa1dT063n"
      },
      "execution_count": 3,
      "outputs": []
    },
    {
      "cell_type": "markdown",
      "source": [
        "* 데이터 로딩은 Dataset 클래스를 이용해서만 가능.\n",
        "* 주요 데이터가 로우 레벨 형태로 돼있는 포맷의 데이터만 처리"
      ],
      "metadata": {
        "id": "cdmRZixt1FQ6"
      }
    },
    {
      "cell_type": "code",
      "source": [
        "data=Dataset.load_builtin('ml-100k')\n",
        "#수행 시마다 동일하게 데이터를 분할하기 위해 random_state부여\n",
        "trainset, testset = train_test_split(data, test_size=.25, random_state=0)"
      ],
      "metadata": {
        "colab": {
          "base_uri": "https://localhost:8080/"
        },
        "id": "gtCJ4_dF1kfE",
        "outputId": "ef6bf6c4-deaa-421a-ebec-ce8fc5323987"
      },
      "execution_count": 5,
      "outputs": [
        {
          "output_type": "stream",
          "name": "stdout",
          "text": [
            "Dataset ml-100k could not be found. Do you want to download it? [Y/n] Y\n",
            "Trying to download dataset from https://files.grouplens.org/datasets/movielens/ml-100k.zip...\n",
            "Done! Dataset ml-100k has been saved to /root/.surprise_data/ml-100k\n"
          ]
        }
      ]
    },
    {
      "cell_type": "code",
      "source": [
        "# svd로 잠재 요인 협업 필터링 수행\n",
        "algo=SVD() #알고리즘객체 생성\n",
        "algo.fit(trainset)"
      ],
      "metadata": {
        "colab": {
          "base_uri": "https://localhost:8080/"
        },
        "id": "ai_wI2433B2i",
        "outputId": "34a8eafc-7842-4919-8610-575291a84388"
      },
      "execution_count": 6,
      "outputs": [
        {
          "output_type": "execute_result",
          "data": {
            "text/plain": [
              "<surprise.prediction_algorithms.matrix_factorization.SVD at 0x7f1fda20b5b0>"
            ]
          },
          "metadata": {},
          "execution_count": 6
        }
      ]
    },
    {
      "cell_type": "markdown",
      "source": [
        "test() : 사용자-아이템 평점 데이터 세트 전체에 대해서 추천을 예측하는 메서드 ( 추천 데이터 세트를 만들어줌 )\n",
        "\n",
        "predict() : 개별 사용자와 영화에 대한 추천 평점을 반환"
      ],
      "metadata": {
        "id": "_71iDQ8A3P8O"
      }
    },
    {
      "cell_type": "code",
      "source": [
        "#테스트 데이터 세트 전체에 대해 추천 영화 평점 데이터 생성 후 추출\n",
        "predictions=algo.test(testset)\n",
        "print('predictions type :', type(predictions), 'size :', len(predictions))\n",
        "print('prediction 결과의 최초 5개 추출')\n",
        "predictions[:5]"
      ],
      "metadata": {
        "colab": {
          "base_uri": "https://localhost:8080/"
        },
        "id": "mwuGLWqi3c-2",
        "outputId": "41793c56-68a6-4c4e-b22c-68f8c6c0f28b"
      },
      "execution_count": 7,
      "outputs": [
        {
          "output_type": "stream",
          "name": "stdout",
          "text": [
            "predictions type : <class 'list'> size : 25000\n",
            "prediction 결과의 최초 5개 추출\n"
          ]
        },
        {
          "output_type": "execute_result",
          "data": {
            "text/plain": [
              "[Prediction(uid='120', iid='282', r_ui=4.0, est=3.6682630479069185, details={'was_impossible': False}),\n",
              " Prediction(uid='882', iid='291', r_ui=4.0, est=3.8825855670016187, details={'was_impossible': False}),\n",
              " Prediction(uid='535', iid='507', r_ui=5.0, est=4.065480493123735, details={'was_impossible': False}),\n",
              " Prediction(uid='697', iid='244', r_ui=5.0, est=3.4024805902022304, details={'was_impossible': False}),\n",
              " Prediction(uid='751', iid='385', r_ui=4.0, est=3.0408225614384055, details={'was_impossible': False})]"
            ]
          },
          "metadata": {},
          "execution_count": 7
        }
      ]
    },
    {
      "cell_type": "markdown",
      "source": [
        "개별 사용자 아이디(uid), 영화 아이디(iid), 실제 평점(r_ui), 예측 평점(est)데이터를 튜플 형태로 가지고 있다. \n",
        "\n",
        "* was_impossible이 true이면 예측값을 생성할 수 없는 데이터라는 의미이다."
      ],
      "metadata": {
        "id": "EcKCC4Ny3vwD"
      }
    },
    {
      "cell_type": "code",
      "source": [
        "#3개의 prediction객체에서 uid,iid,est속성을 추출\n",
        "[ (pred.uid, pred.iid, pred.est) for pred in predictions[:3]]"
      ],
      "metadata": {
        "colab": {
          "base_uri": "https://localhost:8080/"
        },
        "id": "IVCUqfs34HXV",
        "outputId": "a75e217e-d5b5-4794-eedd-3f55d9b16e9c"
      },
      "execution_count": 8,
      "outputs": [
        {
          "output_type": "execute_result",
          "data": {
            "text/plain": [
              "[('120', '282', 3.6682630479069185),\n",
              " ('882', '291', 3.8825855670016187),\n",
              " ('535', '507', 4.065480493123735)]"
            ]
          },
          "metadata": {},
          "execution_count": 8
        }
      ]
    },
    {
      "cell_type": "markdown",
      "source": [
        "### predict()를 이용해 추천 예측\n",
        "\n",
        "- 개별 사용자와 아이템 정보를 입력하면 추천 예측 평점을 est로 반환한다."
      ],
      "metadata": {
        "id": "-wRFgiVv4ht8"
      }
    },
    {
      "cell_type": "code",
      "source": [
        "#사용자 아이디, 아이템 아이디는 문자열로 입력해야함.\n",
        "uid=str(196)\n",
        "iid=str(302)\n",
        "pred=algo.predict(uid, iid)\n",
        "print(pred)"
      ],
      "metadata": {
        "colab": {
          "base_uri": "https://localhost:8080/"
        },
        "id": "8JX9bN714qhy",
        "outputId": "fdbfa0bd-f135-4bd2-c6f1-256ca2ce653d"
      },
      "execution_count": 9,
      "outputs": [
        {
          "output_type": "stream",
          "name": "stdout",
          "text": [
            "user: 196        item: 302        r_ui = None   est = 4.17   {'was_impossible': False}\n"
          ]
        }
      ]
    },
    {
      "cell_type": "markdown",
      "source": [
        "### 추천 예측 평점과 실제 평점과의 차이 평가"
      ],
      "metadata": {
        "id": "2C15Hjgu4tar"
      }
    },
    {
      "cell_type": "code",
      "source": [
        "accuracy.rmse(predictions)"
      ],
      "metadata": {
        "colab": {
          "base_uri": "https://localhost:8080/"
        },
        "id": "IX35a19c4-aK",
        "outputId": "be2e451a-6081-4154-814c-767abdaa8ea4"
      },
      "execution_count": 10,
      "outputs": [
        {
          "output_type": "stream",
          "name": "stdout",
          "text": [
            "RMSE: 0.9458\n"
          ]
        },
        {
          "output_type": "execute_result",
          "data": {
            "text/plain": [
              "0.945771026253141"
            ]
          },
          "metadata": {},
          "execution_count": 10
        }
      ]
    },
    {
      "cell_type": "markdown",
      "source": [
        "\n",
        "\n",
        "---\n",
        "### Surprise 주요 모듈 소개\n",
        "\n",
        "### Dataset\n",
        "\n",
        "* 반드시 데이터 세트의 칼럼 순서가 사용자 아이디, 아이템 아이디, 평점 순\n",
        "\n",
        "1. Dataset.load_builtin(name='ml-100k')\n",
        "\n",
        "무비렌즈 아카이브 FTP서버에서 무비 렌즈 데이터를 내려 받는다.\n",
        "\n",
        "2. Dataset.load_from_file(file_path, reader)\n",
        "\n",
        "OS파일에서 데이터를 로딩할 때 사용\n",
        "\n",
        "3. Dataset.load_from_df\n",
        "\n",
        "판다스의 DataFrame에서 데이터를 로디\n",
        "\n",
        "### OS파일 데이터를 surprise데이터 세트로 로딩\n",
        "\n",
        "1. 지정된 디렉토리에 있는 사용자-아이템 평점 데이터를 로딩\n",
        "* 주의점 : 로딩 되는 데이터 파일에 칼럼명을 가지는 헤더 문자열에 있어서는 안 됨.(삭제하고 진행)"
      ],
      "metadata": {
        "id": "8debWMmX5Bkk"
      }
    },
    {
      "cell_type": "code",
      "source": [
        "from google.colab import drive\n",
        "drive.mount('/content/drive')"
      ],
      "metadata": {
        "colab": {
          "base_uri": "https://localhost:8080/"
        },
        "id": "y3_ZH-h16GgZ",
        "outputId": "70089df4-0979-446d-fb44-03da6a7c102d"
      },
      "execution_count": 12,
      "outputs": [
        {
          "output_type": "stream",
          "name": "stdout",
          "text": [
            "Mounted at /content/drive\n"
          ]
        }
      ]
    },
    {
      "cell_type": "code",
      "source": [
        "import pandas as pd\n",
        "\n",
        "ratings=pd.read_csv('/content/drive/MyDrive/ESAA_data/ratings.csv')\n",
        "#ratings_noh.csv 파일로 언로드 시 인덱스와 헤더를 모두 제거한 새로운 파일 생성.\n",
        "ratings.to_csv('/content/drive/MyDrive/ESAA_data/ratings_noh.csv', index=False, header=False)"
      ],
      "metadata": {
        "id": "F71sTM5458Qr"
      },
      "execution_count": 36,
      "outputs": []
    },
    {
      "cell_type": "markdown",
      "source": [
        "다음으로 Reader 클래스를 이용해 데이터 파일의 파싱 포맷을 정의한다.\n",
        "\n",
        "이 4개의 칼럼이 사용자 아이디, 아이템 아이디, 평점, 타임스탬프임을 로딩할 때 알려줘야한다."
      ],
      "metadata": {
        "id": "DZLNavLo7l1f"
      }
    },
    {
      "cell_type": "code",
      "source": [
        "#해당 설정된 것을 기반으로 데이터를 파싱하며 로딩함.\n",
        "from surprise import Reader\n",
        "\n",
        "reader=Reader(line_format='user item rating timestamp', sep=',', rating_scale=(0.5, 5))\n",
        "data=Dataset.load_from_file('/content/drive/MyDrive/ESAA_data/ratings_noh.csv', reader=reader)"
      ],
      "metadata": {
        "id": "HqOb7A1h72ff"
      },
      "execution_count": 25,
      "outputs": []
    },
    {
      "cell_type": "markdown",
      "source": [
        "* line_format : 칼럼을 순서대로 나열\n",
        "* sep : 칼럼을 분리하는 분리자\n",
        "* rating_scale : 평점 값의 최소~최대 평점을 설정\n",
        "\n",
        "### SVD 행렬 분해 기법을 이용해 추천 예측\n"
      ],
      "metadata": {
        "id": "SZxg8cEJ6ArE"
      }
    },
    {
      "cell_type": "code",
      "source": [
        "trainset, testset=train_test_split(data, test_size=0.25, random_state=0)\n",
        "\n",
        "#수행시마다 동일한 결과를 도출하기 위해 random_state 설정\n",
        "algo=SVD(n_factors=50, random_state=0)\n",
        "\n",
        "#학습 데이터 세트로 학습하고 테스트 데이터 세트로 평점 예측 후 rmse 평가\n",
        "algo.fit(trainset)\n",
        "predictions=algo.test(testset)\n",
        "accuracy.rmse(predictions)"
      ],
      "metadata": {
        "colab": {
          "base_uri": "https://localhost:8080/"
        },
        "id": "X-P7Dvkj4_Z9",
        "outputId": "0c65d539-d0b8-42b2-e9e8-66981a1fc3c7"
      },
      "execution_count": 26,
      "outputs": [
        {
          "output_type": "stream",
          "name": "stdout",
          "text": [
            "RMSE: 0.8682\n"
          ]
        },
        {
          "output_type": "execute_result",
          "data": {
            "text/plain": [
              "0.8681952927143516"
            ]
          },
          "metadata": {},
          "execution_count": 26
        }
      ]
    },
    {
      "cell_type": "markdown",
      "source": [
        "### 판다스 Dataframe에서 surprise데이터 세트로 로딩\n",
        "\n"
      ],
      "metadata": {
        "id": "kfKuZ1Uo8U7v"
      }
    },
    {
      "cell_type": "code",
      "source": [
        "import pandas as pd\n",
        "from surprise import Reader, Dataset\n",
        "\n",
        "ratings=pd.read_csv('/content/drive/MyDrive/ESAA_data/ratings.csv')\n",
        "reader=Reader(rating_scale=(0.5, 5.0))\n",
        "\n",
        "#ratings df에서 칼럼은 사용자 아이디, 아이템 아이디, 평점 순서\n",
        "data=Dataset.load_from_df(ratings[['userId', 'movieId', 'rating']], reader)\n",
        "trainset, testset=train_test_split(data, test_size=0.25, random_state=0)\n",
        "\n",
        "algo=SVD(n_factors=50, random_state=0)\n",
        "algo.fit(trainset)\n",
        "predictions=algo.test(testset)\n",
        "accuracy.rmse(predictions)"
      ],
      "metadata": {
        "colab": {
          "base_uri": "https://localhost:8080/"
        },
        "id": "7e1GLokS8e0O",
        "outputId": "ad9259a0-7554-497e-a30c-c200d8024417"
      },
      "execution_count": 28,
      "outputs": [
        {
          "output_type": "stream",
          "name": "stdout",
          "text": [
            "RMSE: 0.8682\n"
          ]
        },
        {
          "output_type": "execute_result",
          "data": {
            "text/plain": [
              "0.8681952927143516"
            ]
          },
          "metadata": {},
          "execution_count": 28
        }
      ]
    },
    {
      "cell_type": "markdown",
      "source": [
        "### Surprise 추천 알고리즘 클래스\n",
        "\n",
        "1. SVD : 행렬 분해를 통한 잠재 요인 협업 필터링을 위한 SVD알고리즘\n",
        "2. KNNBasic : 최근접 이웃 협업 필터링을 위한 KNN알고리즘\n",
        "3. BaselineOnly : 사용자 Bias와 아이템 Bias를 감안한 SGD베이스라인 알고리즘\n",
        "\n",
        "-------\n",
        "1. SVD\n",
        "\n",
        "n_factors : 잠재 요인 k의 개수\n",
        "\n",
        "n_epochs: SGD수행시 반복 횟수. 디폴트 20\n",
        "\n",
        "biased : 베이스라인 사용자 편향 적용 여부. 디폴트는 True\n",
        "\n",
        "\n",
        "\n",
        "---\n",
        "\n",
        "### 베이스라인 평점\n",
        "\n",
        "각 개인의 성향에 따라 같은 아이템이더라도 평가가 달라질 수 있다. 이러한 개인의 성향을 반영해 아이템 평가에 편향성 요소를 반영하여 평점을 부과하는 것을 베이스라인 평점이라고 한다.\n",
        "\n",
        "> 전체 평균 평점 + 사용자 편향 점수 + 아이템 편향 점수\n",
        "\n",
        "* 전체 평균 평점 = 모든 사용자의 아이템에 대한 평점을 평균한 값\n",
        "* 사용자 편향 점수 = 사용자별 ㅏㅇ이템 평점 평균 값 - 전체 평균 평점\n",
        "* 아이템 편향 점수 = 아이템별 평점 평균 값 - 전체 평균평점\n",
        "\n",
        "### 교차 검증과 하이퍼 파라미터 튜닝\n",
        "\n",
        "> cross_validate() 와 gridSearchCV클래스 제공함."
      ],
      "metadata": {
        "id": "3PbGwev78VBh"
      }
    },
    {
      "cell_type": "code",
      "source": [
        "from surprise.model_selection import cross_validate\n",
        "\n",
        "#판다스 df에서 surprise 데이터 세트로 데이터 로딩\n",
        "ratings=pd.read_csv('/content/drive/MyDrive/ESAA_data/ratings.csv')\n",
        "reader=Reader(rating_scale=(0.5, 5.0))\n",
        "data=Dataset.load_from_df(ratings[['userId', 'movieId', 'rating']], reader)\n",
        "\n",
        "algo=SVD(random_state=0)\n",
        "cross_validate(algo, data, measures=['RMSE', 'MAE'], cv=5, verbose=True)\n",
        "     "
      ],
      "metadata": {
        "colab": {
          "base_uri": "https://localhost:8080/"
        },
        "id": "iQrrb9sU_1Yq",
        "outputId": "885a0528-99f9-41b1-8cd9-20105844c283"
      },
      "execution_count": 31,
      "outputs": [
        {
          "output_type": "stream",
          "name": "stdout",
          "text": [
            "Evaluating RMSE, MAE of algorithm SVD on 5 split(s).\n",
            "\n",
            "                  Fold 1  Fold 2  Fold 3  Fold 4  Fold 5  Mean    Std     \n",
            "RMSE (testset)    0.8664  0.8850  0.8809  0.8728  0.8685  0.8747  0.0071  \n",
            "MAE (testset)     0.6640  0.6784  0.6782  0.6725  0.6672  0.6721  0.0058  \n",
            "Fit time          3.82    1.68    1.64    1.66    1.65    2.09    0.86    \n",
            "Test time         0.25    0.14    0.14    0.15    0.15    0.16    0.04    \n"
          ]
        },
        {
          "output_type": "execute_result",
          "data": {
            "text/plain": [
              "{'test_rmse': array([0.86640293, 0.88496734, 0.88087637, 0.87277004, 0.86851531]),\n",
              " 'test_mae': array([0.66403461, 0.67842067, 0.67816232, 0.67250298, 0.66724627]),\n",
              " 'fit_time': (3.817003011703491,\n",
              "  1.681147575378418,\n",
              "  1.6393404006958008,\n",
              "  1.6640527248382568,\n",
              "  1.6476421356201172),\n",
              " 'test_time': (0.24950671195983887,\n",
              "  0.137192964553833,\n",
              "  0.1407020092010498,\n",
              "  0.14642786979675293,\n",
              "  0.14526963233947754)}"
            ]
          },
          "metadata": {},
          "execution_count": 31
        }
      ]
    },
    {
      "cell_type": "markdown",
      "source": [
        "-> 폴드별 성능 평가 수치와 전체 폴드의 평균 성능 평가 수치\n",
        "\n",
        "### 파라미터 튜닝 진행"
      ],
      "metadata": {
        "id": "yoVVKy3H_4uU"
      }
    },
    {
      "cell_type": "code",
      "source": [
        "from surprise.model_selection import GridSearchCV\n",
        "\n",
        "#최적화할 파라미터를 딕셔너리 형태로 지정.\n",
        "param_grid={'n_epochs':[20, 40, 60],\n",
        "            'n_factors':[50, 100, 200]}\n",
        "\n",
        "#CV를 3개 폴드 세트로 지정, 성능 평가를 rmse, mse로 수행하도록 gridsearchcv 구성\n",
        "gs=GridSearchCV(SVD, param_grid, measures=['rmse', 'mae'], cv=3)\n",
        "gs.fit(data)\n",
        "\n",
        "#최고 RMSE evaluation 점수와 그때의 하이퍼 파라미터\n",
        "print(gs.best_score['rmse'])\n",
        "print(gs.best_params['rmse'])"
      ],
      "metadata": {
        "colab": {
          "base_uri": "https://localhost:8080/"
        },
        "id": "hr7g-qjTAP2E",
        "outputId": "7685071b-db15-4f75-d3b8-5f235b53d54a"
      },
      "execution_count": 32,
      "outputs": [
        {
          "output_type": "stream",
          "name": "stdout",
          "text": [
            "0.8769331573617863\n",
            "{'n_epochs': 20, 'n_factors': 50}\n"
          ]
        }
      ]
    },
    {
      "cell_type": "markdown",
      "source": [
        "### Surprise를 이용한 개인화 영화 추천 시스템 구축\n",
        "\n",
        "잠재 요인 협업 필터링 기반의 개인화된 영화 추천을 구현\n",
        "\n",
        "이제 surprise패키지로 학습된 추천 알고리즘을 기반으로 특정 사용자가 아직 평점을 매기지 않은 영화 중에서 개인 취향에 가장 적절한 영화를 추천해보자."
      ],
      "metadata": {
        "id": "k5c-C5gwAUzr"
      }
    },
    {
      "cell_type": "code",
      "source": [
        "# 분리하지 않고 데이터 사용시 오류\n",
        "\n",
        "#data=Dataset.load_from_df(ratings[['userId', 'movieId', 'rating']], reader)\n",
        "#algo=SVD(n_factors=50, random_state=0)\n",
        "#algo.fit(data)"
      ],
      "metadata": {
        "id": "hMrXVzMnAqaU"
      },
      "execution_count": null,
      "outputs": []
    },
    {
      "cell_type": "markdown",
      "source": [
        "데이터 세트 전체를 학습 데이터로 사용하려면 ? DatasetAutoFolds 클래스를 사용!"
      ],
      "metadata": {
        "id": "xiirJRugAvCR"
      }
    },
    {
      "cell_type": "code",
      "source": [
        "from surprise.dataset import DatasetAutoFolds\n",
        "\n",
        "reader=Reader(line_format='user item rating timestamp', sep=',', rating_scale=(0.5, 5))\n",
        "#datasetaufofolds 클래스를 ratings_noh.csv 기반으로 생성\n",
        "data_folds=DatasetAutoFolds(ratings_file='/content/drive/MyDrive/ESAA_data/ratings_noh.csv', reader=reader)\n",
        "\n",
        "#전체 데이터를 학습 데이터로 생성\n",
        "trainset=data_folds.build_full_trainset()"
      ],
      "metadata": {
        "id": "-JAwrEFSAy6R"
      },
      "execution_count": 39,
      "outputs": []
    },
    {
      "cell_type": "code",
      "source": [
        "algo=SVD(n_epochs=20, n_factors=50, random_state=0)\n",
        "algo.fit(trainset)"
      ],
      "metadata": {
        "colab": {
          "base_uri": "https://localhost:8080/"
        },
        "id": "O8PZ6aEfA2VA",
        "outputId": "10528b8f-710f-497a-faaa-7024b01c389e"
      },
      "execution_count": 34,
      "outputs": [
        {
          "output_type": "execute_result",
          "data": {
            "text/plain": [
              "<surprise.prediction_algorithms.matrix_factorization.SVD at 0x7f1fc44e8af0>"
            ]
          },
          "metadata": {},
          "execution_count": 34
        }
      ]
    },
    {
      "cell_type": "code",
      "source": [
        "#특정 사용자 9로 지정하기.\n",
        "#영화에 대한 상세 속성 정보 DataFrame 로딩\n",
        "movies=pd.read_csv('/content/drive/MyDrive/ESAA_data/movies.csv')\n",
        "\n",
        "#userId=9의 movieId 데이터를 추출해 movieId=42 데이터가 있는지 확인\n",
        "movieIds=ratings[ratings['userId']==9]['movieId']\n",
        "\n",
        "if movieIds[movieIds==42].count()==0:\n",
        "  print('사용자 아이디 9는 영화 아이디 42의 평점 없음')\n",
        "\n",
        "print(movies[movies['movieId']==42])"
      ],
      "metadata": {
        "colab": {
          "base_uri": "https://localhost:8080/"
        },
        "id": "bQ9veyDWA4T8",
        "outputId": "989f30ee-8cd2-470a-dff9-33aa024c4673"
      },
      "execution_count": 41,
      "outputs": [
        {
          "output_type": "stream",
          "name": "stdout",
          "text": [
            "사용자 아이디 9는 영화 아이디 42의 평점 없음\n",
            "    movieId                   title              genres\n",
            "38       42  Dead Presidents (1995)  Action|Crime|Drama\n"
          ]
        }
      ]
    },
    {
      "cell_type": "code",
      "source": [
        "uid=str(9)\n",
        "iid=str(42)\n",
        "\n",
        "pred=algo.predict(uid, iid, verbose=True)"
      ],
      "metadata": {
        "colab": {
          "base_uri": "https://localhost:8080/"
        },
        "id": "dC6nznrOBsxT",
        "outputId": "4d4db07b-32a9-4b58-e05f-92ba810e9f7f"
      },
      "execution_count": 42,
      "outputs": [
        {
          "output_type": "stream",
          "name": "stdout",
          "text": [
            "user: 9          item: 42         r_ui = None   est = 3.50   {'was_impossible': False}\n"
          ]
        }
      ]
    },
    {
      "cell_type": "markdown",
      "source": [
        "이제 사용자가 평점을 매기지 않은 전체 영화를 추출하고, 예측 평점 순으로 영화를 추천해보자. "
      ],
      "metadata": {
        "id": "pnh09lUsBe9A"
      }
    },
    {
      "cell_type": "code",
      "source": [
        "def get_unseen_surprise(ratings, movies, userId):\n",
        "  #입력값으로 들어온 userId에 해당하는 사용자가 평점을 매긴 모든 영화를 리스트로 생성\n",
        "  seen_movies=ratings[ratings['userId']==userId]['movieId'].tolist()\n",
        "\n",
        "  #모든 영화의 movieId를 리스트로 생성\n",
        "  total_movies=movies['movieId'].tolist()\n",
        "\n",
        "  #모든 영화의 movieId 중 이미 평점을 매긴 영화의 movieId를 제외한 후 리스트로 생성\n",
        "  unseen_movies=[movie for movie in total_movies if movie not in seen_movies]\n",
        "  print('평점 매긴 영화 수:', len(seen_movies), '추천 대상 영화 수:', len(unseen_movies), '전체 영화 수:', len(total_movies))\n",
        "\n",
        "  return unseen_movies\n",
        "\n",
        "unseen_movies=get_unseen_surprise(ratings, movies, 9)"
      ],
      "metadata": {
        "colab": {
          "base_uri": "https://localhost:8080/"
        },
        "id": "Wv3JvXmMB0hK",
        "outputId": "ee0cf71d-0df5-44e6-dfdf-6ea58c67149c"
      },
      "execution_count": 43,
      "outputs": [
        {
          "output_type": "stream",
          "name": "stdout",
          "text": [
            "평점 매긴 영화 수: 46 추천 대상 영화 수: 9696 전체 영화 수: 9742\n"
          ]
        }
      ]
    },
    {
      "cell_type": "markdown",
      "source": [
        "함수 생성) 인자로 학습이 완료된 추천 알고리즘 객체, 추천 대상 사용자 아이디, 추천 대상 영화의 리스트 객체, 그리고 추천 상위 N개 개수를 받는다."
      ],
      "metadata": {
        "id": "YOV8mGjDCDcb"
      }
    },
    {
      "cell_type": "code",
      "source": [
        "def recomm_movie_by_surprise(algo, userId, unseen_movies, top_n=10):\n",
        "  #알고리즘 객체의 predict() 메서드를 평점이 없는 영화에 반복 수행한 후 결과를 list로 저장\n",
        "  predictions=[algo.predict(str(userId), str(movieId)) for movieId in unseen_movies]\n",
        "\n",
        "  #predictions list 객체는 surprise의 predictions 객체를 원소로 갖고 있다.\n",
        "  # [Prediction(uid='9', iid='1', est=3.69), Predictions(uid='9', iid='2', est=2.98),,,]\n",
        "\n",
        "  #이를 est 값으로 정렬하기 위해 아리애 sortkey_est 함수 정의\n",
        "  #sortdey_est 함수는 list 객체의 sort() 함수의 키 값으로 사용되어 정렬 수행\n",
        "  def sortkey_est(pred):\n",
        "    return pred.est\n",
        "\n",
        "  #sortkey_est() 반환값의 내림차순으로 정렬 수행하고 top_n개의 최상위 값 추출\n",
        "  predictions.sort(key=sortkey_est, reverse=True)\n",
        "  top_predictions=predictions[:top_n]\n",
        "\n",
        "  #top_n 으로 추출된 영화의 정보 추출. 영화 아이디, 추천 예상 평점, 제목 추출\n",
        "  top_movie_ids=[int(pred.iid) for pred in top_predictions]\n",
        "  top_movie_rating=[pred.est for pred in top_predictions]\n",
        "  top_movie_titles=movies[movies.movieId.isin(top_movie_ids)]['title']\n",
        "  top_movie_preds=[ (id, title, rating) for id, title, rating in zip(top_movie_ids, top_movie_titles, top_movie_rating)]\n",
        "\n",
        "  return top_movie_preds\n",
        "\n",
        "unseen_movies=get_unseen_surprise(ratings, movies, 9)\n",
        "top_movie_preds=recomm_movie_by_surprise(algo, 9, unseen_movies, top_n=10)\n",
        "\n",
        "print('### top-10 추천 영화 리스트 ###')\n",
        "for top_movie in top_movie_preds:\n",
        "  print(top_movie[1], ':', top_movie[2])"
      ],
      "metadata": {
        "colab": {
          "base_uri": "https://localhost:8080/"
        },
        "id": "H_eQF8fFCFe6",
        "outputId": "884bebf0-c200-466c-f57c-e807f6535a06"
      },
      "execution_count": 44,
      "outputs": [
        {
          "output_type": "stream",
          "name": "stdout",
          "text": [
            "평점 매긴 영화 수: 46 추천 대상 영화 수: 9696 전체 영화 수: 9742\n",
            "### top-10 추천 영화 리스트 ###\n",
            "Toy Story (1995) : 3.5002644558160445\n",
            "Jumanji (1995) : 3.5002644558160445\n",
            "Grumpier Old Men (1995) : 3.5002644558160445\n",
            "Waiting to Exhale (1995) : 3.5002644558160445\n",
            "Father of the Bride Part II (1995) : 3.5002644558160445\n",
            "Heat (1995) : 3.5002644558160445\n",
            "Sabrina (1995) : 3.5002644558160445\n",
            "Tom and Huck (1995) : 3.5002644558160445\n",
            "Sudden Death (1995) : 3.5002644558160445\n",
            "GoldenEye (1995) : 3.5002644558160445\n"
          ]
        }
      ]
    }
  ]
}