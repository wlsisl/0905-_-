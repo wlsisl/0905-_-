{
  "nbformat": 4,
  "nbformat_minor": 0,
  "metadata": {
    "colab": {
      "provenance": [],
      "authorship_tag": "ABX9TyP3MrFGVbbrMwu5RIhaa/kD",
      "include_colab_link": true
    },
    "kernelspec": {
      "name": "python3",
      "display_name": "Python 3"
    },
    "language_info": {
      "name": "python"
    }
  },
  "cells": [
    {
      "cell_type": "markdown",
      "metadata": {
        "id": "view-in-github",
        "colab_type": "text"
      },
      "source": [
        "<a href=\"https://colab.research.google.com/github/wlsisl/ESAA_/blob/main/%EB%94%A5%EB%9F%AC%EB%8B%9D_%EC%BC%80%EB%9D%BC%EC%8A%A4(2).ipynb\" target=\"_parent\"><img src=\"https://colab.research.google.com/assets/colab-badge.svg\" alt=\"Open In Colab\"/></a>"
      ]
    },
    {
      "cell_type": "markdown",
      "source": [
        "## 04. 모델 세부 설정"
      ],
      "metadata": {
        "id": "r3glmnw9t1dK"
      }
    },
    {
      "cell_type": "code",
      "source": [
        "import tensorflow as tf\n",
        "\n",
        "#케라스의 내장 데이터셋에서 mnist 데이터 로드\n",
        "mnist=tf.keras.datasets.mnist\n",
        "\n",
        "#load_data()로 데이터 로드\n",
        "(x_train, y_train), (x_test, y_test)=mnist.load_data()\n",
        "\n",
        "#로드된 데이터셋 확인\n",
        "print('train set:', x_train.shape, y_train.shape)\n",
        "print('test set:', x_test.shape, y_test.shape)\n",
        "\n",
        "#데이터 정규화\n",
        "x_train=x_train/x_train.max()\n",
        "x_test=x_test/x_test.max()"
      ],
      "metadata": {
        "colab": {
          "base_uri": "https://localhost:8080/"
        },
        "id": "1ykV8x-Lt5CJ",
        "outputId": "0cb45c47-e1e7-4cfb-ae5f-b110d26f57f9"
      },
      "execution_count": 1,
      "outputs": [
        {
          "output_type": "stream",
          "name": "stdout",
          "text": [
            "Downloading data from https://storage.googleapis.com/tensorflow/tf-keras-datasets/mnist.npz\n",
            "11490434/11490434 [==============================] - 0s 0us/step\n",
            "train set: (60000, 28, 28) (60000,)\n",
            "test set: (10000, 28, 28) (10000,)\n"
          ]
        }
      ]
    },
    {
      "cell_type": "markdown",
      "source": [
        "## 4-1 초기값 설정\n",
        "\n",
        " dense 레이어는 기본 초기화 방법으로 Glorot Uniform 방법 사"
      ],
      "metadata": {
        "id": "eH1V7OAft-zF"
      }
    },
    {
      "cell_type": "code",
      "source": [
        "dense=tf.keras.layers.Dense(256, activation='relu')\n",
        "dense.get_config()['kernel_initializer']"
      ],
      "metadata": {
        "colab": {
          "base_uri": "https://localhost:8080/"
        },
        "id": "y0HI2GgnuAM9",
        "outputId": "fc7635d5-50e2-4a91-d327-d5ab5d17e591"
      },
      "execution_count": 4,
      "outputs": [
        {
          "output_type": "execute_result",
          "data": {
            "text/plain": [
              "{'class_name': 'GlorotUniform', 'config': {'seed': None}}"
            ]
          },
          "metadata": {},
          "execution_count": 4
        }
      ]
    },
    {
      "cell_type": "markdown",
      "source": [
        "문자열 초기화 방법을 HeNoramal로 변경하기위해 kernel_initializer 매개변수에 설"
      ],
      "metadata": {
        "id": "e7sO8JSOyFRp"
      }
    },
    {
      "cell_type": "code",
      "source": [
        "#문자열 초기화\n",
        "dense=tf.keras.layers.Dense(256, kernel_initializer='he_normal', activation='relu')\n",
        "print(dense.get_config()['kernel_initializer'])\n",
        "\n",
        "#클래스 인스턴스 초기화\n",
        "he_normal=tf.keras.initializers.HeNormal()\n",
        "dense=tf.keras.layers.Dense(256, kernel_initializer=he_normal, activation='relu')\n",
        "print(dense.get_config()['kernel_initializer'])"
      ],
      "metadata": {
        "colab": {
          "base_uri": "https://localhost:8080/"
        },
        "id": "SAKQhgO_uBjJ",
        "outputId": "4646b237-da4e-43a6-a6fa-271c70dbc84a"
      },
      "execution_count": 5,
      "outputs": [
        {
          "output_type": "stream",
          "name": "stdout",
          "text": [
            "{'class_name': 'HeNormal', 'config': {'seed': None}}\n",
            "{'class_name': 'HeNormal', 'config': {'seed': None}}\n"
          ]
        }
      ]
    },
    {
      "cell_type": "markdown",
      "source": [
        "케라스에서 지원하는 자주 사용되는 초기화 목록\n",
        "\n",
        "glorot_normal / glorot_uniform : 글로럿 초기화\n",
        "\n",
        "lecun_normal / lecun_uniform : Yann Lecun 초기화\n",
        "\n",
        "he_normal / he_uniform: He초기화\n",
        "\n",
        "random_normal / random_uniform : 정규 분포\n"
      ],
      "metadata": {
        "id": "JofKkWIzyLfi"
      }
    },
    {
      "cell_type": "markdown",
      "source": [
        "## 4-2 규제\n",
        "\n",
        "과대적합을 해소하기 위해 규제 사용한다."
      ],
      "metadata": {
        "id": "c7ClqPHhuDAG"
      }
    },
    {
      "cell_type": "code",
      "source": [
        "#기본값\n",
        "dense=tf.keras.layers.Dense(256, activation='relu')\n",
        "dense.get_config()"
      ],
      "metadata": {
        "colab": {
          "base_uri": "https://localhost:8080/"
        },
        "id": "Wu-LajdFuD2H",
        "outputId": "003a9fe6-e731-4321-e00e-77e7aa7a69e5"
      },
      "execution_count": 6,
      "outputs": [
        {
          "output_type": "execute_result",
          "data": {
            "text/plain": [
              "{'name': 'dense_3',\n",
              " 'trainable': True,\n",
              " 'dtype': 'float32',\n",
              " 'units': 256,\n",
              " 'activation': 'relu',\n",
              " 'use_bias': True,\n",
              " 'kernel_initializer': {'class_name': 'GlorotUniform',\n",
              "  'config': {'seed': None}},\n",
              " 'bias_initializer': {'class_name': 'Zeros', 'config': {}},\n",
              " 'kernel_regularizer': None,\n",
              " 'bias_regularizer': None,\n",
              " 'activity_regularizer': None,\n",
              " 'kernel_constraint': None,\n",
              " 'bias_constraint': None}"
            ]
          },
          "metadata": {},
          "execution_count": 6
        }
      ]
    },
    {
      "cell_type": "code",
      "source": [
        "#L1 규제 적용\n",
        "dense=tf.keras.layers.Dense(256, kernel_regularizer='l1', activation='relu')\n",
        "print(dense.get_config()['kernel_regularizer'])\n",
        "\n",
        "#클래스 인스턴스 적용, alpha=0.1 변경\n",
        "regularizer=tf.keras.regularizers.l1(l1=0.1)\n",
        "dense=tf.keras.layers.Dense(256, kernel_regularizer=regularizer, activation='relu')\n",
        "print(dense.get_config()['kernel_regularizer'])"
      ],
      "metadata": {
        "colab": {
          "base_uri": "https://localhost:8080/"
        },
        "id": "T3jw8DmXuFCh",
        "outputId": "e4984b87-a374-44a7-8a1e-7569d9d8487d"
      },
      "execution_count": 7,
      "outputs": [
        {
          "output_type": "stream",
          "name": "stdout",
          "text": [
            "{'class_name': 'L1', 'config': {'l1': 0.009999999776482582}}\n",
            "{'class_name': 'L1', 'config': {'l1': 0.10000000149011612}}\n"
          ]
        }
      ]
    },
    {
      "cell_type": "markdown",
      "source": [
        "## 4-3 드롭아웃\n",
        "\n",
        "딥러닝의 문제는 과대적합의 문제가 큰 난제인데 드롭아웃이 이를 해결해줌.\n",
        "\n",
        "노드들의 일부 신호를 임의로 삭제하게 되면, 모델이 쉽게 과대적합 되는 것을 방지할 수 있다."
      ],
      "metadata": {
        "id": "yKQddtZEuGUQ"
      }
    },
    {
      "cell_type": "code",
      "source": [
        "#dropout 25% 비율 적용 (25% 노드가 삭제)\n",
        "tf.keras.layers.Dropout(0.25)"
      ],
      "metadata": {
        "colab": {
          "base_uri": "https://localhost:8080/"
        },
        "id": "6fpTizHWuHPf",
        "outputId": "a702fd29-5ecb-4380-8bc8-30e56704cb26"
      },
      "execution_count": 8,
      "outputs": [
        {
          "output_type": "execute_result",
          "data": {
            "text/plain": [
              "<keras.layers.regularization.dropout.Dropout at 0x7f950e4546a0>"
            ]
          },
          "metadata": {},
          "execution_count": 8
        }
      ]
    },
    {
      "cell_type": "markdown",
      "source": [
        "## 4-4 배치정규화\n",
        "\n",
        "다음 층으로 데이터가 전달되기 전에 스케일을 조정한다."
      ],
      "metadata": {
        "id": "F0ArZ7A_uI8d"
      }
    },
    {
      "cell_type": "code",
      "source": [
        "#model A: Dense+ReLu\n",
        "model_a=tf.keras.Sequential([\n",
        "    tf.keras.layers.Flatten(input_shape=(28, 28)),\n",
        "    tf.keras.layers.Dense(64, activation='relu'),\n",
        "    tf.keras.layers.Dense(32, activation='relu'),\n",
        "    tf.keras.layers.Dense(10, activation='softmax')\n",
        "])\n",
        "\n",
        "model_a.summary()"
      ],
      "metadata": {
        "colab": {
          "base_uri": "https://localhost:8080/"
        },
        "id": "rE6wT9Z1uMq-",
        "outputId": "b07ad04e-ec0a-4d74-cd04-2158bed1a97a"
      },
      "execution_count": 9,
      "outputs": [
        {
          "output_type": "stream",
          "name": "stdout",
          "text": [
            "Model: \"sequential\"\n",
            "_________________________________________________________________\n",
            " Layer (type)                Output Shape              Param #   \n",
            "=================================================================\n",
            " flatten (Flatten)           (None, 784)               0         \n",
            "                                                                 \n",
            " dense_6 (Dense)             (None, 64)                50240     \n",
            "                                                                 \n",
            " dense_7 (Dense)             (None, 32)                2080      \n",
            "                                                                 \n",
            " dense_8 (Dense)             (None, 10)                330       \n",
            "                                                                 \n",
            "=================================================================\n",
            "Total params: 52,650\n",
            "Trainable params: 52,650\n",
            "Non-trainable params: 0\n",
            "_________________________________________________________________\n"
          ]
        }
      ]
    },
    {
      "cell_type": "code",
      "source": [
        "#model B: Dense+BatchNorm+ReLU\n",
        "model_b=tf.keras.Sequential([\n",
        "    tf.keras.layers.Flatten(input_shape=(28, 28)),\n",
        "    tf.keras.layers.Dense(64),\n",
        "    #여기서 배치 정규화 적용\n",
        "    tf.keras.layers.BatchNormalization(),\n",
        "    #배치 정규화 후 활성화 함수 적용\n",
        "    tf.keras.layers.Activation('relu'),\n",
        "\n",
        "    tf.keras.layers.Dense(32),\n",
        "    #배치 정규화 적용\n",
        "    tf.keras.layers.BatchNormalization(),\n",
        "    #배치 정규화 후 활성화 함수 적용\n",
        "    tf.keras.layers.Activation('relu'),\n",
        "\n",
        "    tf.keras.layers.Dense(10, activation='softmax')\n",
        "])\n",
        "\n",
        "model_b.summary()\n",
        "    "
      ],
      "metadata": {
        "colab": {
          "base_uri": "https://localhost:8080/"
        },
        "id": "RMPTbl7KuOAn",
        "outputId": "a69b14ec-ab81-4369-9963-896d15bd159a"
      },
      "execution_count": 10,
      "outputs": [
        {
          "output_type": "stream",
          "name": "stdout",
          "text": [
            "Model: \"sequential_1\"\n",
            "_________________________________________________________________\n",
            " Layer (type)                Output Shape              Param #   \n",
            "=================================================================\n",
            " flatten_1 (Flatten)         (None, 784)               0         \n",
            "                                                                 \n",
            " dense_9 (Dense)             (None, 64)                50240     \n",
            "                                                                 \n",
            " batch_normalization (BatchN  (None, 64)               256       \n",
            " ormalization)                                                   \n",
            "                                                                 \n",
            " activation (Activation)     (None, 64)                0         \n",
            "                                                                 \n",
            " dense_10 (Dense)            (None, 32)                2080      \n",
            "                                                                 \n",
            " batch_normalization_1 (Batc  (None, 32)               128       \n",
            " hNormalization)                                                 \n",
            "                                                                 \n",
            " activation_1 (Activation)   (None, 32)                0         \n",
            "                                                                 \n",
            " dense_11 (Dense)            (None, 10)                330       \n",
            "                                                                 \n",
            "=================================================================\n",
            "Total params: 53,034\n",
            "Trainable params: 52,842\n",
            "Non-trainable params: 192\n",
            "_________________________________________________________________\n"
          ]
        }
      ]
    },
    {
      "cell_type": "markdown",
      "source": [
        "## 4-5 활성화함수\n",
        "\n",
        "주로 relu 활성화 함수를 지정했다.\n",
        "\n",
        "다른 것도 사용해보자."
      ],
      "metadata": {
        "id": "G7NCoEXLuPe_"
      }
    },
    {
      "cell_type": "code",
      "source": [
        "#LeakyReLU 기본 설정\n",
        "tf.keras.layers.LeakyReLU()\n",
        "\n",
        "#LeakyReLU, alpha=0.2로 변경\n",
        "tf.keras.layers.LeakyReLU(alpha=0.2)"
      ],
      "metadata": {
        "colab": {
          "base_uri": "https://localhost:8080/"
        },
        "id": "S5LaOvHKuQa8",
        "outputId": "4606f1a4-300f-465d-d1a4-b40089b4b57f"
      },
      "execution_count": 11,
      "outputs": [
        {
          "output_type": "execute_result",
          "data": {
            "text/plain": [
              "<keras.layers.activation.leaky_relu.LeakyReLU at 0x7f94843eb1f0>"
            ]
          },
          "metadata": {},
          "execution_count": 11
        }
      ]
    },
    {
      "cell_type": "code",
      "source": [
        "#model C: Dense+BatchNorm+LeakyReLU(0,2)\n",
        "model_c=tf.keras.Sequential([\n",
        "    tf.keras.layers.Flatten(input_shape=(28, 28)),\n",
        "    tf.keras.layers.Dense(64),\n",
        "    #여기서 배치 정규화 적용\n",
        "    tf.keras.layers.BatchNormalization(),\n",
        "    #배치 정규화 후 활성화 함수 (LeakyReLU, alpha=0.2) 적용\n",
        "    tf.keras.layers.LeakyReLU(alpha=0.2),\n",
        "\n",
        "    tf.keras.layers.Dense(32),\n",
        "    #배치 정규화 적용\n",
        "    tf.keras.layers.BatchNormalization(),\n",
        "    #배치 정규화 후 활성화 함수 적용\n",
        "    tf.keras.layers.LeakyReLU(alpha=0.2),\n",
        "\n",
        "    tf.keras.layers.Dense(10, activation='softmax')\n",
        "])\n",
        "\n",
        "model_c.summary()"
      ],
      "metadata": {
        "colab": {
          "base_uri": "https://localhost:8080/"
        },
        "id": "kqwMLV0huSLr",
        "outputId": "6a6a6f70-3448-4ce3-fb24-04342c9f9c00"
      },
      "execution_count": 12,
      "outputs": [
        {
          "output_type": "stream",
          "name": "stdout",
          "text": [
            "Model: \"sequential_2\"\n",
            "_________________________________________________________________\n",
            " Layer (type)                Output Shape              Param #   \n",
            "=================================================================\n",
            " flatten_2 (Flatten)         (None, 784)               0         \n",
            "                                                                 \n",
            " dense_12 (Dense)            (None, 64)                50240     \n",
            "                                                                 \n",
            " batch_normalization_2 (Batc  (None, 64)               256       \n",
            " hNormalization)                                                 \n",
            "                                                                 \n",
            " leaky_re_lu_2 (LeakyReLU)   (None, 64)                0         \n",
            "                                                                 \n",
            " dense_13 (Dense)            (None, 32)                2080      \n",
            "                                                                 \n",
            " batch_normalization_3 (Batc  (None, 32)               128       \n",
            " hNormalization)                                                 \n",
            "                                                                 \n",
            " leaky_re_lu_3 (LeakyReLU)   (None, 32)                0         \n",
            "                                                                 \n",
            " dense_14 (Dense)            (None, 10)                330       \n",
            "                                                                 \n",
            "=================================================================\n",
            "Total params: 53,034\n",
            "Trainable params: 52,842\n",
            "Non-trainable params: 192\n",
            "_________________________________________________________________\n"
          ]
        }
      ]
    },
    {
      "cell_type": "code",
      "source": [
        "model_a.compile(optimizer='adam', loss='sparse_categorical_crossentropy', metrics=['accuracy'])\n",
        "model_b.compile(optimizer='adam', loss='sparse_categorical_crossentropy', metrics=['accuracy'])\n",
        "model_c.compile(optimizer='adam', loss='sparse_categorical_crossentropy', metrics=['accuracy'])\n",
        "\n",
        "#Model A : Dense + ReLU\n",
        "history_a=model_a.fit(x_train, y_train,\n",
        "                      validation_data=(x_test, y_test), epochs=10)\n",
        "#Model B : Dense + BatchNorm + ReLU\n",
        "history_b=model_b.fit(x_train, y_train,\n",
        "                      validation_data=(x_test, y_test), epochs=10)\n",
        "#Model C : Dense + BatchNorm + LeakyReLU(0,2)\n",
        "history_c=model_c.fit(x_train, y_train,\n",
        "                      validation_data=(x_test, y_test), epochs=10)"
      ],
      "metadata": {
        "colab": {
          "base_uri": "https://localhost:8080/"
        },
        "id": "bKxqXVJ5uUHa",
        "outputId": "e00e5571-f0f6-4051-8098-87137be387f5"
      },
      "execution_count": 13,
      "outputs": [
        {
          "output_type": "stream",
          "name": "stdout",
          "text": [
            "Epoch 1/10\n",
            "1875/1875 [==============================] - 7s 3ms/step - loss: 0.3008 - accuracy: 0.9121 - val_loss: 0.1490 - val_accuracy: 0.9552\n",
            "Epoch 2/10\n",
            "1875/1875 [==============================] - 8s 4ms/step - loss: 0.1383 - accuracy: 0.9583 - val_loss: 0.1216 - val_accuracy: 0.9628\n",
            "Epoch 3/10\n",
            "1875/1875 [==============================] - 7s 4ms/step - loss: 0.1005 - accuracy: 0.9701 - val_loss: 0.1061 - val_accuracy: 0.9658\n",
            "Epoch 4/10\n",
            "1875/1875 [==============================] - 7s 4ms/step - loss: 0.0807 - accuracy: 0.9754 - val_loss: 0.0993 - val_accuracy: 0.9689\n",
            "Epoch 5/10\n",
            "1875/1875 [==============================] - 9s 5ms/step - loss: 0.0652 - accuracy: 0.9793 - val_loss: 0.0901 - val_accuracy: 0.9713\n",
            "Epoch 6/10\n",
            "1875/1875 [==============================] - 7s 4ms/step - loss: 0.0537 - accuracy: 0.9828 - val_loss: 0.0906 - val_accuracy: 0.9711\n",
            "Epoch 7/10\n",
            "1875/1875 [==============================] - 13s 7ms/step - loss: 0.0467 - accuracy: 0.9852 - val_loss: 0.0820 - val_accuracy: 0.9746\n",
            "Epoch 8/10\n",
            "1875/1875 [==============================] - 13s 7ms/step - loss: 0.0408 - accuracy: 0.9866 - val_loss: 0.0945 - val_accuracy: 0.9723\n",
            "Epoch 9/10\n",
            "1875/1875 [==============================] - 6s 3ms/step - loss: 0.0351 - accuracy: 0.9885 - val_loss: 0.0893 - val_accuracy: 0.9758\n",
            "Epoch 10/10\n",
            "1875/1875 [==============================] - 7s 4ms/step - loss: 0.0306 - accuracy: 0.9898 - val_loss: 0.0986 - val_accuracy: 0.9723\n",
            "Epoch 1/10\n",
            "1875/1875 [==============================] - 11s 5ms/step - loss: 0.3269 - accuracy: 0.9108 - val_loss: 0.1368 - val_accuracy: 0.9602\n",
            "Epoch 2/10\n",
            "1875/1875 [==============================] - 10s 5ms/step - loss: 0.1468 - accuracy: 0.9566 - val_loss: 0.1054 - val_accuracy: 0.9687\n",
            "Epoch 3/10\n",
            "1875/1875 [==============================] - 8s 4ms/step - loss: 0.1135 - accuracy: 0.9651 - val_loss: 0.0900 - val_accuracy: 0.9725\n",
            "Epoch 4/10\n",
            "1875/1875 [==============================] - 8s 4ms/step - loss: 0.0959 - accuracy: 0.9699 - val_loss: 0.0813 - val_accuracy: 0.9748\n",
            "Epoch 5/10\n",
            "1875/1875 [==============================] - 8s 4ms/step - loss: 0.0835 - accuracy: 0.9737 - val_loss: 0.0813 - val_accuracy: 0.9748\n",
            "Epoch 6/10\n",
            "1875/1875 [==============================] - 9s 5ms/step - loss: 0.0747 - accuracy: 0.9756 - val_loss: 0.0895 - val_accuracy: 0.9734\n",
            "Epoch 7/10\n",
            "1875/1875 [==============================] - 8s 4ms/step - loss: 0.0685 - accuracy: 0.9775 - val_loss: 0.0783 - val_accuracy: 0.9764\n",
            "Epoch 8/10\n",
            "1875/1875 [==============================] - 10s 5ms/step - loss: 0.0622 - accuracy: 0.9806 - val_loss: 0.0818 - val_accuracy: 0.9760\n",
            "Epoch 9/10\n",
            "1875/1875 [==============================] - 7s 4ms/step - loss: 0.0572 - accuracy: 0.9812 - val_loss: 0.0851 - val_accuracy: 0.9749\n",
            "Epoch 10/10\n",
            "1875/1875 [==============================] - 8s 4ms/step - loss: 0.0538 - accuracy: 0.9821 - val_loss: 0.0804 - val_accuracy: 0.9771\n",
            "Epoch 1/10\n",
            "1875/1875 [==============================] - 8s 4ms/step - loss: 0.3186 - accuracy: 0.9105 - val_loss: 0.1482 - val_accuracy: 0.9552\n",
            "Epoch 2/10\n",
            "1875/1875 [==============================] - 8s 4ms/step - loss: 0.1562 - accuracy: 0.9535 - val_loss: 0.1154 - val_accuracy: 0.9650\n",
            "Epoch 3/10\n",
            "1875/1875 [==============================] - 6s 3ms/step - loss: 0.1252 - accuracy: 0.9617 - val_loss: 0.1016 - val_accuracy: 0.9679\n",
            "Epoch 4/10\n",
            "1875/1875 [==============================] - 11s 6ms/step - loss: 0.1066 - accuracy: 0.9666 - val_loss: 0.0871 - val_accuracy: 0.9731\n",
            "Epoch 5/10\n",
            "1875/1875 [==============================] - 9s 5ms/step - loss: 0.0938 - accuracy: 0.9703 - val_loss: 0.0937 - val_accuracy: 0.9710\n",
            "Epoch 6/10\n",
            "1875/1875 [==============================] - 9s 5ms/step - loss: 0.0833 - accuracy: 0.9743 - val_loss: 0.0837 - val_accuracy: 0.9741\n",
            "Epoch 7/10\n",
            "1875/1875 [==============================] - 14s 7ms/step - loss: 0.0795 - accuracy: 0.9746 - val_loss: 0.0770 - val_accuracy: 0.9755\n",
            "Epoch 8/10\n",
            "1875/1875 [==============================] - 10s 6ms/step - loss: 0.0723 - accuracy: 0.9762 - val_loss: 0.0834 - val_accuracy: 0.9749\n",
            "Epoch 9/10\n",
            "1875/1875 [==============================] - 7s 4ms/step - loss: 0.0677 - accuracy: 0.9779 - val_loss: 0.0766 - val_accuracy: 0.9761\n",
            "Epoch 10/10\n",
            "1875/1875 [==============================] - 9s 5ms/step - loss: 0.0629 - accuracy: 0.9788 - val_loss: 0.0796 - val_accuracy: 0.9761\n"
          ]
        }
      ]
    },
    {
      "cell_type": "code",
      "source": [
        "import matplotlib.pyplot as plt\n",
        "import numpy as np\n",
        "\n",
        "plt.figure(figsize=(12, 9))\n",
        "plt.plot(np.arange(1, 11), history_a.history['val_loss'], color='navy', linestyle=':')\n",
        "plt.plot(np.arange(1, 11), history_b.history['val_loss'], color='tomato', linestyle='-.')\n",
        "plt.plot(np.arange(1, 11), history_c.history['val_loss'], color='green', linestyle='-')\n",
        "\n",
        "plt.title('Losses', fontsize=20)\n",
        "plt.xlabel('epochs')\n",
        "plt.ylabel('Losses')\n",
        "plt.legend(['ReLU', 'BatchNorm+ReLU', 'BatchNorm+LeakyReLU'], fontsize=12)\n",
        "plt.show()"
      ],
      "metadata": {
        "colab": {
          "base_uri": "https://localhost:8080/",
          "height": 803
        },
        "id": "A8cMNq9GuVsB",
        "outputId": "2910ce2f-2ccb-40e4-a54b-5db9ebfc981f"
      },
      "execution_count": 14,
      "outputs": [
        {
          "output_type": "display_data",
          "data": {
            "text/plain": [
              "<Figure size 1200x900 with 1 Axes>"
            ],
            "image/png": "[encoded data removed]"
          },
          "metadata": {}
        }
      ]
    },
    {
      "cell_type": "markdown",
      "source": [
        "수렴속도 차이를 보는데, 별 차이가 크지 않다.\n",
        "\n",
        "좀 더 복잡한 데이터셋이면 모델의 훈련 추이를 관찰할 수 있음."
      ],
      "metadata": {
        "id": "bgMKryYEzFq2"
      }
    },
    {
      "cell_type": "markdown",
      "source": [
        "## 6. 모델 저장 및 불러오기\n",
        "\n",
        "## 6-1 모델 저장 "
      ],
      "metadata": {
        "id": "ph01lLC7uYUQ"
      }
    },
    {
      "cell_type": "code",
      "source": [
        "from google.colab import drive\n",
        "drive.mount('/content/mydrive')\n",
        "\n",
        "#모델명을 h5 포맷으로 저장\n",
        "model_b.save('/content/mydrive/MyDrive/ESAA_data/h5-model.h5')"
      ],
      "metadata": {
        "colab": {
          "base_uri": "https://localhost:8080/"
        },
        "id": "H66deJX5uZcb",
        "outputId": "ad81451e-d4a7-4524-80ae-423a5a123351"
      },
      "execution_count": 17,
      "outputs": [
        {
          "output_type": "stream",
          "name": "stdout",
          "text": [
            "Drive already mounted at /content/mydrive; to attempt to forcibly remount, call drive.mount(\"/content/mydrive\", force_remount=True).\n"
          ]
        }
      ]
    },
    {
      "cell_type": "markdown",
      "source": [
        "## 6-2 복원"
      ],
      "metadata": {
        "id": "kLRyDd8Kufwy"
      }
    },
    {
      "cell_type": "code",
      "source": [
        "#모델 복원\n",
        "h5_model=tf.keras.models.load_model('/content/mydrive/MyDrive/ESAA_data/h5-model.h5')\n",
        "h5_model.summary()"
      ],
      "metadata": {
        "colab": {
          "base_uri": "https://localhost:8080/"
        },
        "id": "suwpE4PduguM",
        "outputId": "717e0af8-dc79-4e0e-e3ff-019d22e2c79f"
      },
      "execution_count": 18,
      "outputs": [
        {
          "output_type": "stream",
          "name": "stdout",
          "text": [
            "Model: \"sequential_1\"\n",
            "_________________________________________________________________\n",
            " Layer (type)                Output Shape              Param #   \n",
            "=================================================================\n",
            " flatten_1 (Flatten)         (None, 784)               0         \n",
            "                                                                 \n",
            " dense_9 (Dense)             (None, 64)                50240     \n",
            "                                                                 \n",
            " batch_normalization (BatchN  (None, 64)               256       \n",
            " ormalization)                                                   \n",
            "                                                                 \n",
            " activation (Activation)     (None, 64)                0         \n",
            "                                                                 \n",
            " dense_10 (Dense)            (None, 32)                2080      \n",
            "                                                                 \n",
            " batch_normalization_1 (Batc  (None, 32)               128       \n",
            " hNormalization)                                                 \n",
            "                                                                 \n",
            " activation_1 (Activation)   (None, 32)                0         \n",
            "                                                                 \n",
            " dense_11 (Dense)            (None, 10)                330       \n",
            "                                                                 \n",
            "=================================================================\n",
            "Total params: 53,034\n",
            "Trainable params: 52,842\n",
            "Non-trainable params: 192\n",
            "_________________________________________________________________\n"
          ]
        }
      ]
    },
    {
      "cell_type": "markdown",
      "source": [
        "복원이 잘 되었는지 검증셋을 evaluate함수에 대입해 손실 함수와 평가지표를 계산한다."
      ],
      "metadata": {
        "id": "3QvExBfEztHx"
      }
    },
    {
      "cell_type": "code",
      "source": [
        "#모델 검증\n",
        "loss, acc=h5_model.evaluate(x_test, y_test, verbose=0)\n",
        "print(f'h5_model] loss: {loss:.5f}, acc: {acc:.5f}')"
      ],
      "metadata": {
        "colab": {
          "base_uri": "https://localhost:8080/"
        },
        "id": "V3v7tMu9uiLs",
        "outputId": "dc4d4a74-dfbc-4ede-d0f6-ebc1ee80d719"
      },
      "execution_count": 19,
      "outputs": [
        {
          "output_type": "stream",
          "name": "stdout",
          "text": [
            "h5_model] loss: 0.08039, acc: 0.97710\n"
          ]
        }
      ]
    },
    {
      "cell_type": "code",
      "source": [
        "#모델을 SavedModel 포맷으로 저장\n",
        "model_b.save('/content/mydrive/MyDrive/ESAA_data/saved-model')"
      ],
      "metadata": {
        "colab": {
          "base_uri": "https://localhost:8080/"
        },
        "id": "Q0Ec6K6sujIc",
        "outputId": "fb47a9a9-4c5b-4d5a-9d54-5dcc0b238cae"
      },
      "execution_count": 20,
      "outputs": [
        {
          "output_type": "stream",
          "name": "stderr",
          "text": [
            "WARNING:absl:Found untraced functions such as _update_step_xla while saving (showing 1 of 1). These functions will not be directly callable after loading.\n"
          ]
        }
      ]
    },
    {
      "cell_type": "code",
      "source": [
        "#모델 복원\n",
        "saved_model=tf.keras.models.load_model('/content/mydrive/MyDrive/ESAA_data/saved-model')\n",
        "saved_model.summary()"
      ],
      "metadata": {
        "colab": {
          "base_uri": "https://localhost:8080/"
        },
        "id": "Rp8BIiB_ukXb",
        "outputId": "39f43b32-9ef6-4a78-fd52-587e31de7fab"
      },
      "execution_count": 21,
      "outputs": [
        {
          "output_type": "stream",
          "name": "stdout",
          "text": [
            "Model: \"sequential_1\"\n",
            "_________________________________________________________________\n",
            " Layer (type)                Output Shape              Param #   \n",
            "=================================================================\n",
            " flatten_1 (Flatten)         (None, 784)               0         \n",
            "                                                                 \n",
            " dense_9 (Dense)             (None, 64)                50240     \n",
            "                                                                 \n",
            " batch_normalization (BatchN  (None, 64)               256       \n",
            " ormalization)                                                   \n",
            "                                                                 \n",
            " activation (Activation)     (None, 64)                0         \n",
            "                                                                 \n",
            " dense_10 (Dense)            (None, 32)                2080      \n",
            "                                                                 \n",
            " batch_normalization_1 (Batc  (None, 32)               128       \n",
            " hNormalization)                                                 \n",
            "                                                                 \n",
            " activation_1 (Activation)   (None, 32)                0         \n",
            "                                                                 \n",
            " dense_11 (Dense)            (None, 10)                330       \n",
            "                                                                 \n",
            "=================================================================\n",
            "Total params: 53,034\n",
            "Trainable params: 52,842\n",
            "Non-trainable params: 192\n",
            "_________________________________________________________________\n"
          ]
        }
      ]
    },
    {
      "cell_type": "code",
      "source": [
        "#모델 검증 (HDF5 포맷)\n",
        "loss, acc=h5_model.evaluate(x_test, y_test, verbose=0)\n",
        "print(f'h5_model] loss: {loss:.5f}, acc: {acc:.5f}')\n",
        "\n",
        "#모델 검증 (SavedModel 포맷)\n",
        "loss, acc=saved_model.evaluate(x_test, y_test, verbose= 0)\n",
        "print(f'saved_model] loss: {loss:.5f}, acc: {acc:.5f}')"
      ],
      "metadata": {
        "colab": {
          "base_uri": "https://localhost:8080/"
        },
        "id": "Ra_3NYv6ul-w",
        "outputId": "d422ab73-5cf1-4bab-8d6c-a7b9034f5301"
      },
      "execution_count": 22,
      "outputs": [
        {
          "output_type": "stream",
          "name": "stdout",
          "text": [
            "h5_model] loss: 0.08039, acc: 0.97710\n",
            "saved_model] loss: 0.08039, acc: 0.97710\n"
          ]
        }
      ]
    },
    {
      "cell_type": "markdown",
      "source": [
        "## 07. 복잡한 모델 생성\n",
        "\n",
        "## 7-1 함수형 api\n",
        "\n",
        "함수의 입력 매개변수를 여러 개 갖는 다중입력, 함수의 return값을 여러 개 갖는 다중 출력, 같은 레벨에 여러 개의 층을 배치하여 입력과 출력을 공유하는 구조도 가능하다.\n",
        "\n",
        "* Sequential API를 사용하는 경우 단방향의 Sequential모델만 구현할 수 있다는 제약이 있다.\n",
        "\n",
        "<먼저 input 레이어 정의>"
      ],
      "metadata": {
        "id": "PyPt1DfeunL1"
      }
    },
    {
      "cell_type": "code",
      "source": [
        "import tensorflow as tf\n",
        "\n",
        "#모델의 레이어를 체인 구조로 연결 input 레이어 정의\n",
        "input_layer=tf.keras.Input(shape=(28, 28), name='InputLayer')\n",
        "\n",
        "#모델의 레이어를 체인 구조로 연결\n",
        "x1=tf.keras.layers.Flatten(name='Flatten')(input_layer)\n",
        "x2=tf.keras.layers.Dense(256, activation='relu', name='Dense1')(x1)\n",
        "x3=tf.keras.layers.Dense(64, activation='relu', name='Dense2')(x2)\n",
        "x4=tf.keras.layers.Dense(10, activation='softmax', name='OutputLayer')(x3)"
      ],
      "metadata": {
        "id": "R9dKZRknunyd"
      },
      "execution_count": 23,
      "outputs": []
    },
    {
      "cell_type": "code",
      "source": [
        "#모델 생성\n",
        "func_model=tf.keras.Model(inputs=input_layer, outputs=x4, name='FunctionalModel')\n",
        "\n",
        "#모델 요약\n",
        "func_model.summary() #name 위에 설정하면 summary에 출력됨.ㅎ"
      ],
      "metadata": {
        "colab": {
          "base_uri": "https://localhost:8080/"
        },
        "id": "-6TdGpQeusTD",
        "outputId": "7ae5a6f8-728f-4ee9-f65a-2b4efe7d4e40"
      },
      "execution_count": 24,
      "outputs": [
        {
          "output_type": "stream",
          "name": "stdout",
          "text": [
            "Model: \"FunctionalModel\"\n",
            "_________________________________________________________________\n",
            " Layer (type)                Output Shape              Param #   \n",
            "=================================================================\n",
            " InputLayer (InputLayer)     [(None, 28, 28)]          0         \n",
            "                                                                 \n",
            " Flatten (Flatten)           (None, 784)               0         \n",
            "                                                                 \n",
            " Dense1 (Dense)              (None, 256)               200960    \n",
            "                                                                 \n",
            " Dense2 (Dense)              (None, 64)                16448     \n",
            "                                                                 \n",
            " OutputLayer (Dense)         (None, 10)                650       \n",
            "                                                                 \n",
            "=================================================================\n",
            "Total params: 218,058\n",
            "Trainable params: 218,058\n",
            "Non-trainable params: 0\n",
            "_________________________________________________________________\n"
          ]
        }
      ]
    },
    {
      "cell_type": "code",
      "source": [
        "from tensorflow.keras.utils import plot_model\n",
        "\n",
        "#구조도 시각화\n",
        "plot_model(func_model, show_shapes=True, show_layer_names=True, to_file='model.png')"
      ],
      "metadata": {
        "colab": {
          "base_uri": "https://localhost:8080/",
          "height": 533
        },
        "id": "3iHCL4k-uted",
        "outputId": "bbec1969-8027-4d98-9048-cdab1c325d01"
      },
      "execution_count": 25,
      "outputs": [
        {
          "output_type": "execute_result",
          "data": {
            "image/png": "[encoded data removed]",
            "text/plain": [
              "<IPython.core.display.Image object>"
            ]
          },
          "metadata": {},
          "execution_count": 25
        }
      ]
    },
    {
      "cell_type": "markdown",
      "source": [
        "함수형 api로 생성한 모델도 Sequential api로 생성한 모델과 동일한 방식으로 훈련할 수 있다."
      ],
      "metadata": {
        "id": "YB73Uw151p4I"
      }
    },
    {
      "cell_type": "code",
      "source": [
        "#컴파일\n",
        "func_model.compile(optimizer='adam', loss='sparse_categorical_crossentropy', metrics=['accuracy'])\n",
        "\n",
        "#훈련\n",
        "func_model.fit(x_train, y_train, epochs=3)\n",
        "\n",
        "#검증\n",
        "loss, acc=func_model.evaluate(x_test, y_test, verbose=0)\n",
        "print(f'Functional Model] loss: {loss:.5f}, acc: {acc:.5f}')"
      ],
      "metadata": {
        "colab": {
          "base_uri": "https://localhost:8080/"
        },
        "id": "-yaEvoInuvAb",
        "outputId": "03628854-df0a-4be0-e6c4-6a8874078795"
      },
      "execution_count": 26,
      "outputs": [
        {
          "output_type": "stream",
          "name": "stdout",
          "text": [
            "Epoch 1/3\n",
            "1875/1875 [==============================] - 10s 5ms/step - loss: 0.2133 - accuracy: 0.9364\n",
            "Epoch 2/3\n",
            "1875/1875 [==============================] - 11s 6ms/step - loss: 0.0869 - accuracy: 0.9732\n",
            "Epoch 3/3\n",
            "1875/1875 [==============================] - 13s 7ms/step - loss: 0.0596 - accuracy: 0.9813\n",
            "Functional Model] loss: 0.06942, acc: 0.97780\n"
          ]
        }
      ]
    },
    {
      "cell_type": "markdown",
      "source": [
        "## 7-2. 모델 서브클래싱\n",
        "\n",
        "텐서플로 케라스는 모델 클래스를 제공하고, 이를 기반으로 딥러닝 모델을 구현하고 있다.\n",
        "\n",
        "이 클래스를 직접 상속받아 사용자가 직접 서브클래스로 딥러닝 모델을 만들 수도 있다.\n",
        "\n",
        "Model Subclassing으로 모델 인스턴스를 생성하기 위해서는 tf.keras.Model을 상속받아 생성하고자 하는 모델 클래스를 구현한다."
      ],
      "metadata": {
        "id": "DTCbkp6IuwQp"
      }
    },
    {
      "cell_type": "code",
      "source": [
        "\n",
        "class MyModel(tf.keras.Model):\n",
        "  def __init__(self):\n",
        "    super(MyModel, self).__init__()\n",
        "    #초기값 설정\n",
        "    self.flatten=tf.keras.layers.Flatten()\n",
        "    self.dense1=tf.keras.layers.Dense(256, activation='relu')\n",
        "    self.dense2=tf.keras.layers.Dense(64, activation='relu')\n",
        "    self.dense3=tf.keras.layers.Dense(10, activation='softmax')\n",
        "\n",
        "  #method overiding\n",
        "  #훈련용 함수 정의\n",
        "  #x는 input\n",
        "  def call(self, x):\n",
        "    x=self.flatten(x)\n",
        "    x=self.dense1(x)\n",
        "    x=self.dense2(x)\n",
        "    x=self.dense3(x)\n",
        "    return x\n"
      ],
      "metadata": {
        "id": "byaeSDHKuxum"
      },
      "execution_count": 27,
      "outputs": []
    },
    {
      "cell_type": "markdown",
      "source": [
        "call()함수는 fit 메서드가 호출되어 훈련하는 경우 호출될 함수이다.\n",
        "\n",
        "해당 함수 내부에서는 모델의 입력, 출력, 순전파를 정의한다."
      ],
      "metadata": {
        "id": "YQ2JML9E2EdB"
      }
    },
    {
      "cell_type": "code",
      "source": [
        "#모델 생성\n",
        "mymodel=MyModel()\n",
        "\n",
        "#모델의 이름 설정\n",
        "mymodel._name='subclass_model'\n",
        "\n",
        "#모델 input 정의\n",
        "mymodel(tf.keras.layers.Input(shape=(28, 28)))\n",
        "\n",
        "#모델 요약\n",
        "mymodel.summary()"
      ],
      "metadata": {
        "colab": {
          "base_uri": "https://localhost:8080/"
        },
        "id": "79dg-OcGuy5U",
        "outputId": "32782d58-72ab-48fb-eb8f-a490b94f94d2"
      },
      "execution_count": 28,
      "outputs": [
        {
          "output_type": "stream",
          "name": "stdout",
          "text": [
            "Model: \"subclass_model\"\n",
            "_________________________________________________________________\n",
            " Layer (type)                Output Shape              Param #   \n",
            "=================================================================\n",
            " flatten_3 (Flatten)         multiple                  0         \n",
            "                                                                 \n",
            " dense_15 (Dense)            multiple                  200960    \n",
            "                                                                 \n",
            " dense_16 (Dense)            multiple                  16448     \n",
            "                                                                 \n",
            " dense_17 (Dense)            multiple                  650       \n",
            "                                                                 \n",
            "=================================================================\n",
            "Total params: 218,058\n",
            "Trainable params: 218,058\n",
            "Non-trainable params: 0\n",
            "_________________________________________________________________\n"
          ]
        }
      ]
    },
    {
      "cell_type": "markdown",
      "source": [
        "input shape가 지정되어야 summary로 요약이 가능하다."
      ],
      "metadata": {
        "id": "HZixh3162P9F"
      }
    },
    {
      "cell_type": "code",
      "source": [
        "#컴파일\n",
        "mymodel.compile(optimizer='adam', loss='sparse_categorical_crossentropy', metrics=['accuracy'])\n",
        "\n",
        "#훈련\n",
        "mymodel.fit(x_train, y_train, epochs=3)\n",
        "\n",
        "#검증\n",
        "loss, acc=mymodel.evaluate(x_test, y_test, verbose=0)\n",
        "print(f'Subclassing Model] loss: {loss:.5f}, acc: {acc:.5f}')"
      ],
      "metadata": {
        "colab": {
          "base_uri": "https://localhost:8080/"
        },
        "id": "BuE-nQ2Qu0SV",
        "outputId": "746a1843-013c-4259-c3b2-56f3cfa68618"
      },
      "execution_count": 29,
      "outputs": [
        {
          "output_type": "stream",
          "name": "stdout",
          "text": [
            "Epoch 1/3\n",
            "1875/1875 [==============================] - 13s 7ms/step - loss: 0.2161 - accuracy: 0.9356\n",
            "Epoch 2/3\n",
            "1875/1875 [==============================] - 14s 7ms/step - loss: 0.0883 - accuracy: 0.9728\n",
            "Epoch 3/3\n",
            "1875/1875 [==============================] - 15s 8ms/step - loss: 0.0582 - accuracy: 0.9814\n",
            "Subclassing Model] loss: 0.08241, acc: 0.97580\n"
          ]
        }
      ]
    },
    {
      "cell_type": "markdown",
      "source": [
        "## 7-3. 서브클래싱 모델 파라미터를 활용한 생성\n",
        "\n",
        "[Model subclassing의 장점]\n",
        "\n",
        "* 생성자 파라미터로 모델 내부 레이어의 하이퍼 파라미터를 지정할 수 있음\n",
        "\n",
        "\\\n",
        "\n",
        "모델의 생성자 파라미터를 추가해 동적으로 레이어의 유닛 개수를 초기화하는 예제\n"
      ],
      "metadata": {
        "id": "DGn4SpUbu1g-"
      }
    },
    {
      "cell_type": "code",
      "source": [
        "class MyModel(tf.keras.Model):\n",
        "\n",
        "  #생성자 파라미터 추가\n",
        "  def __init__(self, units, num_classes):\n",
        "    super(MyModel, self).__init__()\n",
        "    #초기값 설정\n",
        "    self.flatten=tf.keras.layers.Flatten()\n",
        "    self.dense1=tf.keras.layers.Dense(units, activation='relu')\n",
        "    self.dense2=tf.keras.layers.Dense(units/4, activation='relu')\n",
        "    self.dense3=tf.keras.layers.Dense(num_classes, activation='softmax')\n",
        "\n",
        "  #class overiding\n",
        "  #훈련용 함수 정의\n",
        "  #x는 input\n",
        "  def call(self, x):\n",
        "    x=self.flatten(x)\n",
        "    x=self.dense1(x)\n",
        "    x=self.dense2(x)\n",
        "    x=self.dense3(x)\n",
        "    return x"
      ],
      "metadata": {
        "id": "MyMsRtbfu3ht"
      },
      "execution_count": 30,
      "outputs": []
    },
    {
      "cell_type": "markdown",
      "source": [
        "모델의 생성자 파라미터로 기준이 되는 unit의 개수를 입력받아 dense 레이어의 유닛 개수를 계산하여 설정한다."
      ],
      "metadata": {
        "id": "wIhM-mH22jQT"
      }
    },
    {
      "cell_type": "code",
      "source": [
        "#모델 생성\n",
        "mymodel=MyModel(256, 10)\n",
        "\n",
        "#모델 input 정의\n",
        "mymodel(tf.keras.layers.Input(shape=(28, 28)))\n",
        "\n",
        "#모델 요약\n",
        "mymodel.summary()"
      ],
      "metadata": {
        "colab": {
          "base_uri": "https://localhost:8080/"
        },
        "id": "RCXxveTgu4iR",
        "outputId": "a074ceb0-ba40-47d4-ef52-a956792d77fd"
      },
      "execution_count": 31,
      "outputs": [
        {
          "output_type": "stream",
          "name": "stdout",
          "text": [
            "Model: \"my_model_1\"\n",
            "_________________________________________________________________\n",
            " Layer (type)                Output Shape              Param #   \n",
            "=================================================================\n",
            " flatten_4 (Flatten)         multiple                  0         \n",
            "                                                                 \n",
            " dense_18 (Dense)            multiple                  200960    \n",
            "                                                                 \n",
            " dense_19 (Dense)            multiple                  16448     \n",
            "                                                                 \n",
            " dense_20 (Dense)            multiple                  650       \n",
            "                                                                 \n",
            "=================================================================\n",
            "Total params: 218,058\n",
            "Trainable params: 218,058\n",
            "Non-trainable params: 0\n",
            "_________________________________________________________________\n"
          ]
        }
      ]
    },
    {
      "cell_type": "code",
      "source": [
        "#컴파일\n",
        "mymodel.compile(optimizer='adam', loss='sparse_categorical_crossentropy', metrics=['accuracy'])\n",
        "\n",
        "#훈련\n",
        "mymodel.fit(x_train, y_train, epochs=3)\n",
        "\n",
        "#검증\n",
        "loss, acc=mymodel.evaluate(x_test, y_test, verbose=0)\n",
        "print(f'Subclassing Model w.parameters] loss: {loss:.5f}, acc: {acc:.5f}')"
      ],
      "metadata": {
        "colab": {
          "base_uri": "https://localhost:8080/"
        },
        "id": "DQvL36_Su6AB",
        "outputId": "7d86d16b-11fa-45f2-bd4f-602c9e0042ad"
      },
      "execution_count": 32,
      "outputs": [
        {
          "output_type": "stream",
          "name": "stdout",
          "text": [
            "Epoch 1/3\n",
            "1875/1875 [==============================] - 16s 8ms/step - loss: 0.2087 - accuracy: 0.9385\n",
            "Epoch 2/3\n",
            "1875/1875 [==============================] - 10s 5ms/step - loss: 0.0854 - accuracy: 0.9733\n",
            "Epoch 3/3\n",
            "1875/1875 [==============================] - 13s 7ms/step - loss: 0.0585 - accuracy: 0.9819\n",
            "Subclassing Model w.parameters] loss: 0.07458, acc: 0.97710\n"
          ]
        }
      ]
    }
  ]
}