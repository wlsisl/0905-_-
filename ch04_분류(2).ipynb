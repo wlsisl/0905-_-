{
  "nbformat": 4,
  "nbformat_minor": 0,
  "metadata": {
    "colab": {
      "provenance": [],
      "collapsed_sections": [],
      "authorship_tag": "ABX9TyPNqsToYY5ed2R2rFl3uQdA",
      "include_colab_link": true
    },
    "kernelspec": {
      "name": "python3",
      "display_name": "Python 3"
    },
    "language_info": {
      "name": "python"
    }
  },
  "cells": [
    {
      "cell_type": "markdown",
      "metadata": {
        "id": "view-in-github",
        "colab_type": "text"
      },
      "source": [
        "<a href=\"https://colab.research.google.com/github/wlsisl/ESAA_22-2/blob/main/classification_1.ipynb\" target=\"_parent\"><img src=\"https://colab.research.google.com/assets/colab-badge.svg\" alt=\"Open In Colab\"/></a>"
      ]
    },
    {
      "cell_type": "code",
      "execution_count": null,
      "metadata": {
        "id": "CzwVDDw6aJtc"
      },
      "outputs": [],
      "source": []
    },
    {
      "cell_type": "markdown",
      "source": [
        "## 06 XGBoost( eXtra Gradient Boost)\n",
        "\n",
        "XGBoost : GBM에 기반하고 있지만 GBM의 단점인 느린 수행 시간 및 과적합 규제 부재 등의 문제를 해결하고있다. 특히 병렬 cpu환경에서 병렬 학습이 가능해 기존 gbm보다 빠르게 학습을 완료할 수 있다.\n",
        "\n",
        "<XGBoost의 장점>\n",
        "1. 뛰어난 예측 성능\n",
        "2. GBM대비 빠른 수행 시간\n",
        "3. 과적합 규제\n",
        "4. Tree pruning 나무 가지치기 - GBM은 분할 시 부정 손실이 발생하면 분할을 더이상 수행하지 않지만 이 방식도 지나치게 많은 분할을 발생할 수 있다. 그래서 이것을 통해 더 이상 긍정 이득이 없는 분할을 가지치기 해서 분하 ㄹ수를 더 줄임\n",
        "5. 자체 내장된 교차 검증\n",
        "6. 결손값 자체 처리\n",
        "\n",
        "파이썬 패키지명 : xgboost\n",
        "XGBoost 고유의 프레임워크를  파이썬 언어 기반에서 구현한 것으로 별도의 API기반이었다. 사이킷런 프레임워크를 기반으로 한 것이 아니기에 사이킷런의 fit(), predict())메서드와 같은 고유의 아키텍처가 적용될 수 없으며, 다양한 유틸리티와 함께 사용될 수 없었다. \n",
        "-> 래퍼 클래스를 제공하여 사이킷런과 연동할 수 있게 함. \n",
        "\n",
        "* 사이킷런의 래퍼 클래서 : XGBClassifier , XGBRegressor  를 이용한다.\n",
        "\n",
        "* 독자적인 XGBoost 프레임 워크 기반과 사이킷런과 연동되는 모듈, 이 두가지를 구분하고 사용시 주의해야함.\n",
        "\n"
      ],
      "metadata": {
        "id": "rl0JQb3LaYy3"
      }
    },
    {
      "cell_type": "code",
      "source": [
        "import xgboost as xgb\n",
        "from xgboost import XGBClassifier"
      ],
      "metadata": {
        "id": "QbwMTCYmaZcj"
      },
      "execution_count": 3,
      "outputs": []
    },
    {
      "cell_type": "markdown",
      "source": [
        "### 파이썬 래퍼 XGBoost 하이퍼 파라미터\n",
        "- GBM과 유사한 하이퍼 파라미터 동일 + 조기중단 + 과적합 규제 위한 파라미터\n",
        "\n",
        "여기서 아까 언급하였던 파이썬 본래의 XGBoost모듈과 사이킷런의 XGBoost모듈의 일부 하이퍼 파라미터가 다르다.( 같은기능이지만)\n",
        "\n",
        "1. 파이썬 래퍼의 XGBoost 하이퍼 파라미터 종류\n",
        " * 일반 파라미터 : 일반적으로 실행시 스레드의 개수나 silent 모드 등의 선택을 위한 파라미터로서 디폴트 파라미터 값을 바꾸는 경우는 거의 없다.\n",
        "\n",
        "    1) booster : gbtree 또는 gblinear선택. 디폴트는 전자.\n",
        "\n",
        "    2) silent: 디폴트는 0, 출력 메시지를 나타내고 싶지 않을 경우\n",
        "\n",
        "    3) nthread: cpu의 실행 스레드 개수를 조정하며, 디폴트는 cpu의 전체 스레드를 다 사용하는 것. 멀티 코어/스레드 cpu시스템에서 전체 cpu를 사용하지 않고 일부 cpu만 사용해 ml애플리케이션을 구동하는 경우 변경함\n",
        "\n",
        " * 부스터 파라미터 : 트리 최적화, 부스팅, regularization등과 관련 파라미터 등을 지칭한다.\n",
        "\n",
        "    1) eta : GBM의 학습률과 같음. 0에서 1사이의 값을 지정하며 부스팅 스텝을 반복적으로 수행할 때 업데이트 되는 학습률 값. 디폴트는 0.1이며 보통 0.01~0.2사이 값을 선호\n",
        "\n",
        "    2) num_boost_rounds: GBM의 n_estimators와 같은 파라미터\n",
        "\n",
        "    3) min_child_weight[default=1] : 트리에서 추가적으로 가지를 나눌지를 결정하기 위해 필요하 ㄴ데이터들의 weight 총합. ( 이 값이 클수록 분할을 자제한다. 즉 과적합을 조절함)\n",
        "\n",
        "    4) gamma : 트리의 리프 노드를 추가적으로 나눌지를 결정할 최소 손실 감소 값이다. 해당 값보다 큰 손실이 감소된 경우에 리프 노드를 분리한다. 값이 클수록 과적합 감소 효과가 있다. \n",
        "\n",
        "    5) max_depth[default=6] : 트리 기반 알고리즘의 max_depth와 같다. 0을 지정하면 깊이에 제한이 없다. 이 값이 높으면 특정 피처 조건에 특화되어 룰 조건이 만들어지므로 과적합 가능성이 높아지며 보통 3~10 사이 값을 적용한다.\n",
        "\n",
        "    6) sub_sample[default=1] : GBM의 subsample과 동일하다. 트리가 커져서 과적합되느 ㄴ것을 제어하기 위해 데이터를 샘플링하는 비율을 지정한다. \n",
        "\n",
        "    7) colsample_bytree[default=1] : GBM의 max_features와 유사. 트리 생성에 필요한 피처를 임의로 샘플링 하는 데 사용. 매우 많은 피처(칼럼)가 있는 경우 과적합을 조정하는데 적용\n",
        "\n",
        "    8) lambda[default=1] : L2 Regularization적용값임. 피처 개수가 많을 경우 적용을 검토하며 값이 클수록 과적합 감소효과가 있음.\n",
        "\n",
        "    9) alpha[default=0] : L1 Regularization적용값. 피처 개수가 많을 경우 적용을 검토하며 값이 클수록 과적합 감소 효과가 있다.\n",
        "\n",
        "    10) scale_pos_weight[default=1] : 특정 값으로 치우친 비대칭한 클래스로 구성된 데이터 세트의 균형을 유지하기 위한 파라미터  \n",
        "\n",
        " * 학습 태스크 파라미터: 학습 수행 시의 객체 함수, 평가를 위한 지표 등을 설정하느 ㄴ파라미터이다. \n",
        "\n",
        "    1) objective: 최솟값을 가져야할 손실 함수를 정의 많은 유형의 손실 함수를 사용할 수 있는데 이진분류인지 다중 분류인지에 따라 달라짐.\n",
        "\n",
        "    2) binary:logistic:이진 분류일 때 적용 \n",
        "\n",
        "    3) multi:softmax: 다중 분류일 때 적용. num_class를 지정해야함(레이블 클래스 개수)\n",
        "    \n",
        "    4) multi:softprob: 위와 유사하나 개별 레이블 클래스의 해당되는 예측 확률을 반환한다.\n",
        "\n",
        "    5) eval_metric:검증에 사용되는 함수를 정의한다. \n",
        "    \n",
        "    기본값은 회귀인 경우: rmse, 분류일 경우: error\n",
        "    \n",
        "      - mae , logloss, merror, mlogloss, auc 등이 있음.\n",
        "\n",
        "  \n",
        "<과적합 문제가 심각하다면 해결책>\n",
        "* eta값을 낮춘다. num_round는 반대로 높여줘야한다.\n",
        "* max_depth 값을 낮춘다.\n",
        "* min_child_weight값을 높인다.\n",
        "* gamma 값을 높인다.\n",
        "* subsample과 colsample_bytree를 조정하는 것도 트리가 너무 복잡하게 생성되는 것을 막아 과적합 문제에 도움이 된다.\n",
        "\n",
        "XGBoost자체적으로 교차검증/ 성능 평가/피처 중요도 등 시각화 기능을 가지고 있다. \n",
        "\n",
        "\n"
      ],
      "metadata": {
        "id": "_HSWcSDEaZiD"
      }
    },
    {
      "cell_type": "code",
      "source": [
        "import xgboost\n",
        "\n",
        "print(xgboost.__version__)"
      ],
      "metadata": {
        "colab": {
          "base_uri": "https://localhost:8080/"
        },
        "id": "A6CCa1pnaZmy",
        "outputId": "c1ee8116-574e-44f3-c72e-5b354b8d5a51"
      },
      "execution_count": 4,
      "outputs": [
        {
          "output_type": "stream",
          "name": "stdout",
          "text": [
            "0.90\n"
          ]
        }
      ]
    },
    {
      "cell_type": "markdown",
      "source": [
        "### 파이썬 래퍼 XGBoost적용 : 위스콘신 유방암 예측\n",
        "\n",
        "위스콘신 유방암 데이터 세트를 활용하여 파이썬 래퍼 XGBoost API의 사용법을 살표보자.\n",
        "\n",
        "데이터 설명 : 종양의 크기, 모양 등의 다양한 속성값을 기반으로 악성 종양인지 양성 종양인지를 분류한 데이터 세트이다. \n",
        "\n",
        "해당 데이터 세트에 기반해 종양의 다양한 피처에 따라 악성종양인지 일반 양성종양인지를 xgboost를 이용해 예측해보자."
      ],
      "metadata": {
        "id": "ooZ-XTeKaZqv"
      }
    },
    {
      "cell_type": "code",
      "source": [
        "import xgboost as xgb\n",
        "from xgboost import plot_importance\n",
        "import pandas as pd\n",
        "import numpy as np\n",
        "from sklearn.datasets import load_breast_cancer\n",
        "from sklearn.model_selection import train_test_split\n",
        "import warnings\n",
        "warnings.filterwarnings('ignore')\n",
        "\n",
        "dataset = load_breast_cancer()\n",
        "X_features = dataset.data\n",
        "y_label=dataset.target\n",
        "cancer_df = pd.DataFrame(data=X_features, columns=dataset.feature_names)\n",
        "cancer_df['target']=y_label\n",
        "cancer_df.head(3)\n",
        "\n"
      ],
      "metadata": {
        "colab": {
          "base_uri": "https://localhost:8080/",
          "height": 174
        },
        "id": "8XOTfX6RaZuX",
        "outputId": "c3fbf5a4-3fce-4b0d-f070-051db850545f"
      },
      "execution_count": 5,
      "outputs": [
        {
          "output_type": "execute_result",
          "data": {
            "text/plain": [
              "   mean radius  mean texture  mean perimeter  mean area  mean smoothness  \\\n",
              "0        17.99         10.38           122.8     1001.0          0.11840   \n",
              "1        20.57         17.77           132.9     1326.0          0.08474   \n",
              "2        19.69         21.25           130.0     1203.0          0.10960   \n",
              "\n",
              "   mean compactness  mean concavity  mean concave points  mean symmetry  \\\n",
              "0           0.27760          0.3001              0.14710         0.2419   \n",
              "1           0.07864          0.0869              0.07017         0.1812   \n",
              "2           0.15990          0.1974              0.12790         0.2069   \n",
              "\n",
              "   mean fractal dimension  ...  worst texture  worst perimeter  worst area  \\\n",
              "0                 0.07871  ...          17.33            184.6      2019.0   \n",
              "1                 0.05667  ...          23.41            158.8      1956.0   \n",
              "2                 0.05999  ...          25.53            152.5      1709.0   \n",
              "\n",
              "   worst smoothness  worst compactness  worst concavity  worst concave points  \\\n",
              "0            0.1622             0.6656           0.7119                0.2654   \n",
              "1            0.1238             0.1866           0.2416                0.1860   \n",
              "2            0.1444             0.4245           0.4504                0.2430   \n",
              "\n",
              "   worst symmetry  worst fractal dimension  target  \n",
              "0          0.4601                  0.11890       0  \n",
              "1          0.2750                  0.08902       0  \n",
              "2          0.3613                  0.08758       0  \n",
              "\n",
              "[3 rows x 31 columns]"
            ],
            "text/html": [
              "\n",
              "  <div id=\"df-6293c3b3-50a4-4f1d-8f88-7136f9d072a7\">\n",
              "    <div class=\"colab-df-container\">\n",
              "      <div>\n",
              "<style scoped>\n",
              "    .dataframe tbody tr th:only-of-type {\n",
              "        vertical-align: middle;\n",
              "    }\n",
              "\n",
              "    .dataframe tbody tr th {\n",
              "        vertical-align: top;\n",
              "    }\n",
              "\n",
              "    .dataframe thead th {\n",
              "        text-align: right;\n",
              "    }\n",
              "</style>\n",
              "<table border=\"1\" class=\"dataframe\">\n",
              "  <thead>\n",
              "    <tr style=\"text-align: right;\">\n",
              "      <th></th>\n",
              "      <th>mean radius</th>\n",
              "      <th>mean texture</th>\n",
              "      <th>mean perimeter</th>\n",
              "      <th>mean area</th>\n",
              "      <th>mean smoothness</th>\n",
              "      <th>mean compactness</th>\n",
              "      <th>mean concavity</th>\n",
              "      <th>mean concave points</th>\n",
              "      <th>mean symmetry</th>\n",
              "      <th>mean fractal dimension</th>\n",
              "      <th>...</th>\n",
              "      <th>worst texture</th>\n",
              "      <th>worst perimeter</th>\n",
              "      <th>worst area</th>\n",
              "      <th>worst smoothness</th>\n",
              "      <th>worst compactness</th>\n",
              "      <th>worst concavity</th>\n",
              "      <th>worst concave points</th>\n",
              "      <th>worst symmetry</th>\n",
              "      <th>worst fractal dimension</th>\n",
              "      <th>target</th>\n",
              "    </tr>\n",
              "  </thead>\n",
              "  <tbody>\n",
              "    <tr>\n",
              "      <th>0</th>\n",
              "      <td>17.99</td>\n",
              "      <td>10.38</td>\n",
              "      <td>122.8</td>\n",
              "      <td>1001.0</td>\n",
              "      <td>0.11840</td>\n",
              "      <td>0.27760</td>\n",
              "      <td>0.3001</td>\n",
              "      <td>0.14710</td>\n",
              "      <td>0.2419</td>\n",
              "      <td>0.07871</td>\n",
              "      <td>...</td>\n",
              "      <td>17.33</td>\n",
              "      <td>184.6</td>\n",
              "      <td>2019.0</td>\n",
              "      <td>0.1622</td>\n",
              "      <td>0.6656</td>\n",
              "      <td>0.7119</td>\n",
              "      <td>0.2654</td>\n",
              "      <td>0.4601</td>\n",
              "      <td>0.11890</td>\n",
              "      <td>0</td>\n",
              "    </tr>\n",
              "    <tr>\n",
              "      <th>1</th>\n",
              "      <td>20.57</td>\n",
              "      <td>17.77</td>\n",
              "      <td>132.9</td>\n",
              "      <td>1326.0</td>\n",
              "      <td>0.08474</td>\n",
              "      <td>0.07864</td>\n",
              "      <td>0.0869</td>\n",
              "      <td>0.07017</td>\n",
              "      <td>0.1812</td>\n",
              "      <td>0.05667</td>\n",
              "      <td>...</td>\n",
              "      <td>23.41</td>\n",
              "      <td>158.8</td>\n",
              "      <td>1956.0</td>\n",
              "      <td>0.1238</td>\n",
              "      <td>0.1866</td>\n",
              "      <td>0.2416</td>\n",
              "      <td>0.1860</td>\n",
              "      <td>0.2750</td>\n",
              "      <td>0.08902</td>\n",
              "      <td>0</td>\n",
              "    </tr>\n",
              "    <tr>\n",
              "      <th>2</th>\n",
              "      <td>19.69</td>\n",
              "      <td>21.25</td>\n",
              "      <td>130.0</td>\n",
              "      <td>1203.0</td>\n",
              "      <td>0.10960</td>\n",
              "      <td>0.15990</td>\n",
              "      <td>0.1974</td>\n",
              "      <td>0.12790</td>\n",
              "      <td>0.2069</td>\n",
              "      <td>0.05999</td>\n",
              "      <td>...</td>\n",
              "      <td>25.53</td>\n",
              "      <td>152.5</td>\n",
              "      <td>1709.0</td>\n",
              "      <td>0.1444</td>\n",
              "      <td>0.4245</td>\n",
              "      <td>0.4504</td>\n",
              "      <td>0.2430</td>\n",
              "      <td>0.3613</td>\n",
              "      <td>0.08758</td>\n",
              "      <td>0</td>\n",
              "    </tr>\n",
              "  </tbody>\n",
              "</table>\n",
              "<p>3 rows × 31 columns</p>\n",
              "</div>\n",
              "      <button class=\"colab-df-convert\" onclick=\"convertToInteractive('df-6293c3b3-50a4-4f1d-8f88-7136f9d072a7')\"\n",
              "              title=\"Convert this dataframe to an interactive table.\"\n",
              "              style=\"display:none;\">\n",
              "        \n",
              "  <svg xmlns=\"http://www.w3.org/2000/svg\" height=\"24px\"viewBox=\"0 0 24 24\"\n",
              "       width=\"24px\">\n",
              "    <path d=\"M0 0h24v24H0V0z\" fill=\"none\"/>\n",
              "    <path d=\"M18.56 5.44l.94 2.06.94-2.06 2.06-.94-2.06-.94-.94-2.06-.94 2.06-2.06.94zm-11 1L8.5 8.5l.94-2.06 2.06-.94-2.06-.94L8.5 2.5l-.94 2.06-2.06.94zm10 10l.94 2.06.94-2.06 2.06-.94-2.06-.94-.94-2.06-.94 2.06-2.06.94z\"/><path d=\"M17.41 7.96l-1.37-1.37c-.4-.4-.92-.59-1.43-.59-.52 0-1.04.2-1.43.59L10.3 9.45l-7.72 7.72c-.78.78-.78 2.05 0 2.83L4 21.41c.39.39.9.59 1.41.59.51 0 1.02-.2 1.41-.59l7.78-7.78 2.81-2.81c.8-.78.8-2.07 0-2.86zM5.41 20L4 18.59l7.72-7.72 1.47 1.35L5.41 20z\"/>\n",
              "  </svg>\n",
              "      </button>\n",
              "      \n",
              "  <style>\n",
              "    .colab-df-container {\n",
              "      display:flex;\n",
              "      flex-wrap:wrap;\n",
              "      gap: 12px;\n",
              "    }\n",
              "\n",
              "    .colab-df-convert {\n",
              "      background-color: #E8F0FE;\n",
              "      border: none;\n",
              "      border-radius: 50%;\n",
              "      cursor: pointer;\n",
              "      display: none;\n",
              "      fill: #1967D2;\n",
              "      height: 32px;\n",
              "      padding: 0 0 0 0;\n",
              "      width: 32px;\n",
              "    }\n",
              "\n",
              "    .colab-df-convert:hover {\n",
              "      background-color: #E2EBFA;\n",
              "      box-shadow: 0px 1px 2px rgba(60, 64, 67, 0.3), 0px 1px 3px 1px rgba(60, 64, 67, 0.15);\n",
              "      fill: #174EA6;\n",
              "    }\n",
              "\n",
              "    [theme=dark] .colab-df-convert {\n",
              "      background-color: #3B4455;\n",
              "      fill: #D2E3FC;\n",
              "    }\n",
              "\n",
              "    [theme=dark] .colab-df-convert:hover {\n",
              "      background-color: #434B5C;\n",
              "      box-shadow: 0px 1px 3px 1px rgba(0, 0, 0, 0.15);\n",
              "      filter: drop-shadow(0px 1px 2px rgba(0, 0, 0, 0.3));\n",
              "      fill: #FFFFFF;\n",
              "    }\n",
              "  </style>\n",
              "\n",
              "      <script>\n",
              "        const buttonEl =\n",
              "          document.querySelector('#df-6293c3b3-50a4-4f1d-8f88-7136f9d072a7 button.colab-df-convert');\n",
              "        buttonEl.style.display =\n",
              "          google.colab.kernel.accessAllowed ? 'block' : 'none';\n",
              "\n",
              "        async function convertToInteractive(key) {\n",
              "          const element = document.querySelector('#df-6293c3b3-50a4-4f1d-8f88-7136f9d072a7');\n",
              "          const dataTable =\n",
              "            await google.colab.kernel.invokeFunction('convertToInteractive',\n",
              "                                                     [key], {});\n",
              "          if (!dataTable) return;\n",
              "\n",
              "          const docLinkHtml = 'Like what you see? Visit the ' +\n",
              "            '<a target=\"_blank\" href=https://colab.research.google.com/notebooks/data_table.ipynb>data table notebook</a>'\n",
              "            + ' to learn more about interactive tables.';\n",
              "          element.innerHTML = '';\n",
              "          dataTable['output_type'] = 'display_data';\n",
              "          await google.colab.output.renderOutput(dataTable, element);\n",
              "          const docLink = document.createElement('div');\n",
              "          docLink.innerHTML = docLinkHtml;\n",
              "          element.appendChild(docLink);\n",
              "        }\n",
              "      </script>\n",
              "    </div>\n",
              "  </div>\n",
              "  "
            ]
          },
          "metadata": {},
          "execution_count": 5
        }
      ]
    },
    {
      "cell_type": "markdown",
      "source": [
        "-> 종양의 크기와 모양에 관련된 많은 속성이 숫자형 값으로 돼있다. 타깃 레이블 값의 종류는 악성인 'malignant'가 0 , 양성인 'benign'이 1로 돼있다. "
      ],
      "metadata": {
        "id": "nv5Tu-IDaZy8"
      }
    },
    {
      "cell_type": "code",
      "source": [
        "#값의 분포보기\n",
        "print(dataset.target_names)\n",
        "print(cancer_df['target'].value_counts())"
      ],
      "metadata": {
        "colab": {
          "base_uri": "https://localhost:8080/"
        },
        "id": "bAP430xBaZ2U",
        "outputId": "0aecd1e8-6b26-46b3-cc13-d8b3967398e6"
      },
      "execution_count": 6,
      "outputs": [
        {
          "output_type": "stream",
          "name": "stdout",
          "text": [
            "['malignant' 'benign']\n",
            "1    357\n",
            "0    212\n",
            "Name: target, dtype: int64\n"
          ]
        }
      ]
    },
    {
      "cell_type": "code",
      "source": [
        "#전체 데이터 중 80%는 학습용데이터 20%는 테스트용 데이터 추출\n",
        "X_train, X_test, y_train, y_test = train_test_split(X_features,y_label,test_size=0.2, random_state=156 )\n",
        "\n",
        "print(X_train.shape,X_test.shape)"
      ],
      "metadata": {
        "colab": {
          "base_uri": "https://localhost:8080/"
        },
        "id": "3xGeKKCZj_at",
        "outputId": "eb499642-6fc0-441a-9fd4-3b017386e3db"
      },
      "execution_count": 7,
      "outputs": [
        {
          "output_type": "stream",
          "name": "stdout",
          "text": [
            "(455, 30) (114, 30)\n"
          ]
        }
      ]
    },
    {
      "cell_type": "markdown",
      "source": [
        "-> 파이썬 래퍼 XGBoost는 사이킷런과 차이가 여러가지 있지만 눈에 띄는 차이는 학습용과 테스트용 데이터 세트를 위해 별도의 객체인 DMatrix를 생성한다는 점이다. 주요 파라미터는 data(피처 데이터 세트), label( 분류의 경우 레이블 데이터 세트, 회귀의 경우 숫자형 종솟값 데이터 세트)\n",
        "\n"
      ],
      "metadata": {
        "id": "t0l9RC9BaZ5_"
      }
    },
    {
      "cell_type": "code",
      "source": [
        "# 넘파이 형태의 학습데이터 세트와 테스트 데이터 세트를 DMatrix로 변환하는 예제  \n",
        "dtrain = xgb.DMatrix(data=X_train, label = y_train)\n",
        "dtest= xgb.DMatrix(data=X_train, label = y_train)"
      ],
      "metadata": {
        "id": "H0GAKCqOaZ9g"
      },
      "execution_count": 8,
      "outputs": []
    },
    {
      "cell_type": "markdown",
      "source": [
        "파이썬 래퍼 XGBoost모듈인 xgboost를 이용해 학습을 수행하기 전 먼저 XGBoost의 하이퍼 파라미터를 설정한다. \n",
        "\n",
        "* max_depth(트리 최대 깊이)는 3.\n",
        "* 학습률 eta는 0.1\n",
        "* 예제 데이터가 0또는 1 이진 분류이므로 목적함수(objective)는 이진 로지스틱(binary:logistic)\n",
        "* 오류 함수의 평가 성능지표는 logloss\n",
        "* num_rounds(부스팅 반복 횟수)는 400회."
      ],
      "metadata": {
        "id": "jwmAhwzMaaA1"
      }
    },
    {
      "cell_type": "code",
      "source": [
        "params = { 'max_depth':3, 'eta':0.1, 'objective':'binary:logistic', 'eval_metric':'logloss', 'early_stoppings':100}\n",
        "num_rounds = 400"
      ],
      "metadata": {
        "id": "wyUvQOVOaaD8"
      },
      "execution_count": 9,
      "outputs": []
    },
    {
      "cell_type": "markdown",
      "source": [
        "이제 모델을 학습시켜보자. 파이썬 래퍼 XGBoost는 하이퍼 파라미터를 xgboost모듈의 train()함수에 파라미터로 전달한다. (사이킷런의 경우는 estimator의 생성자를 하이퍼 파라미터로 전달하는데 반해 차이가 있음)\n",
        "\n",
        "조기중단: xgboost의 trian()함수에 early_stopping_rounds 파라미터를 입력하여 설정\n",
        "이때 반드시 eval_set과 eval_metric이 함께 설정 돼야 한다. \n",
        "\n",
        "* eval_set : 성능 평가를 수행할 평가용 데이터 세트를 설정\n",
        "* eval_metric: 평가 세트에 적용할 성능 평가 방법. 분류일 경우 주로 error, logloss를 적용"
      ],
      "metadata": {
        "id": "Eeu1GblAaaHD"
      }
    },
    {
      "cell_type": "code",
      "source": [
        "#train 데이터 세트는 'train', evaluation(test)데이터 세트는 'eval'로 명기\n",
        "wlist=[(dtrain, 'train'),(dtest, 'eval')]\n",
        "#하이퍼 파라미터와 early stopping 파라미터를 train()함수의 파라미터로 전달\n",
        "xgb_model = xgb.train(params=params, dtrain=dtrain, num_boost_round= num_rounds, early_stopping_rounds=100, evals=wlist)"
      ],
      "metadata": {
        "colab": {
          "base_uri": "https://localhost:8080/"
        },
        "id": "v5ZlP8NxaccR",
        "outputId": "c96f21cc-9792-4c86-9760-c3dd5b0e53fe"
      },
      "execution_count": 10,
      "outputs": [
        {
          "output_type": "stream",
          "name": "stdout",
          "text": [
            "[0]\ttrain-logloss:0.609688\teval-logloss:0.609688\n",
            "Multiple eval metrics have been passed: 'eval-logloss' will be used for early stopping.\n",
            "\n",
            "Will train until eval-logloss hasn't improved in 100 rounds.\n",
            "[1]\ttrain-logloss:0.540803\teval-logloss:0.540803\n",
            "[2]\ttrain-logloss:0.483753\teval-logloss:0.483753\n",
            "[3]\ttrain-logloss:0.434457\teval-logloss:0.434457\n",
            "[4]\ttrain-logloss:0.39055\teval-logloss:0.39055\n",
            "[5]\ttrain-logloss:0.354146\teval-logloss:0.354146\n",
            "[6]\ttrain-logloss:0.321222\teval-logloss:0.321222\n",
            "[7]\ttrain-logloss:0.292593\teval-logloss:0.292593\n",
            "[8]\ttrain-logloss:0.267467\teval-logloss:0.267467\n",
            "[9]\ttrain-logloss:0.245153\teval-logloss:0.245153\n",
            "[10]\ttrain-logloss:0.225694\teval-logloss:0.225694\n",
            "[11]\ttrain-logloss:0.207938\teval-logloss:0.207938\n",
            "[12]\ttrain-logloss:0.192184\teval-logloss:0.192184\n",
            "[13]\ttrain-logloss:0.177916\teval-logloss:0.177916\n",
            "[14]\ttrain-logloss:0.165222\teval-logloss:0.165222\n",
            "[15]\ttrain-logloss:0.153622\teval-logloss:0.153622\n",
            "[16]\ttrain-logloss:0.14333\teval-logloss:0.14333\n",
            "[17]\ttrain-logloss:0.133985\teval-logloss:0.133985\n",
            "[18]\ttrain-logloss:0.125599\teval-logloss:0.125599\n",
            "[19]\ttrain-logloss:0.117286\teval-logloss:0.117286\n",
            "[20]\ttrain-logloss:0.109688\teval-logloss:0.109688\n",
            "[21]\ttrain-logloss:0.102975\teval-logloss:0.102975\n",
            "[22]\ttrain-logloss:0.097067\teval-logloss:0.097067\n",
            "[23]\ttrain-logloss:0.091428\teval-logloss:0.091428\n",
            "[24]\ttrain-logloss:0.086335\teval-logloss:0.086335\n",
            "[25]\ttrain-logloss:0.081311\teval-logloss:0.081311\n",
            "[26]\ttrain-logloss:0.076857\teval-logloss:0.076857\n",
            "[27]\ttrain-logloss:0.072836\teval-logloss:0.072836\n",
            "[28]\ttrain-logloss:0.069248\teval-logloss:0.069248\n",
            "[29]\ttrain-logloss:0.065549\teval-logloss:0.065549\n",
            "[30]\ttrain-logloss:0.062414\teval-logloss:0.062414\n",
            "[31]\ttrain-logloss:0.059591\teval-logloss:0.059591\n",
            "[32]\ttrain-logloss:0.057096\teval-logloss:0.057096\n",
            "[33]\ttrain-logloss:0.054407\teval-logloss:0.054407\n",
            "[34]\ttrain-logloss:0.052036\teval-logloss:0.052036\n",
            "[35]\ttrain-logloss:0.049751\teval-logloss:0.049751\n",
            "[36]\ttrain-logloss:0.04775\teval-logloss:0.04775\n",
            "[37]\ttrain-logloss:0.045853\teval-logloss:0.045853\n",
            "[38]\ttrain-logloss:0.044015\teval-logloss:0.044015\n",
            "[39]\ttrain-logloss:0.042263\teval-logloss:0.042263\n",
            "[40]\ttrain-logloss:0.040649\teval-logloss:0.040649\n",
            "[41]\ttrain-logloss:0.039126\teval-logloss:0.039126\n",
            "[42]\ttrain-logloss:0.037377\teval-logloss:0.037377\n",
            "[43]\ttrain-logloss:0.036106\teval-logloss:0.036106\n",
            "[44]\ttrain-logloss:0.034941\teval-logloss:0.034941\n",
            "[45]\ttrain-logloss:0.033654\teval-logloss:0.033654\n",
            "[46]\ttrain-logloss:0.032528\teval-logloss:0.032528\n",
            "[47]\ttrain-logloss:0.031485\teval-logloss:0.031485\n",
            "[48]\ttrain-logloss:0.030389\teval-logloss:0.030389\n",
            "[49]\ttrain-logloss:0.029467\teval-logloss:0.029467\n",
            "[50]\ttrain-logloss:0.028545\teval-logloss:0.028545\n",
            "[51]\ttrain-logloss:0.027525\teval-logloss:0.027525\n",
            "[52]\ttrain-logloss:0.026555\teval-logloss:0.026555\n",
            "[53]\ttrain-logloss:0.025682\teval-logloss:0.025682\n",
            "[54]\ttrain-logloss:0.025004\teval-logloss:0.025004\n",
            "[55]\ttrain-logloss:0.024297\teval-logloss:0.024297\n",
            "[56]\ttrain-logloss:0.023574\teval-logloss:0.023574\n",
            "[57]\ttrain-logloss:0.022965\teval-logloss:0.022965\n",
            "[58]\ttrain-logloss:0.022488\teval-logloss:0.022488\n",
            "[59]\ttrain-logloss:0.021854\teval-logloss:0.021854\n",
            "[60]\ttrain-logloss:0.021316\teval-logloss:0.021316\n",
            "[61]\ttrain-logloss:0.020794\teval-logloss:0.020794\n",
            "[62]\ttrain-logloss:0.020218\teval-logloss:0.020218\n",
            "[63]\ttrain-logloss:0.019701\teval-logloss:0.019701\n",
            "[64]\ttrain-logloss:0.01918\teval-logloss:0.01918\n",
            "[65]\ttrain-logloss:0.018724\teval-logloss:0.018724\n",
            "[66]\ttrain-logloss:0.018325\teval-logloss:0.018325\n",
            "[67]\ttrain-logloss:0.017867\teval-logloss:0.017867\n",
            "[68]\ttrain-logloss:0.017598\teval-logloss:0.017598\n",
            "[69]\ttrain-logloss:0.017243\teval-logloss:0.017243\n",
            "[70]\ttrain-logloss:0.01688\teval-logloss:0.01688\n",
            "[71]\ttrain-logloss:0.016641\teval-logloss:0.016641\n",
            "[72]\ttrain-logloss:0.016287\teval-logloss:0.016287\n",
            "[73]\ttrain-logloss:0.015983\teval-logloss:0.015983\n",
            "[74]\ttrain-logloss:0.015658\teval-logloss:0.015658\n",
            "[75]\ttrain-logloss:0.015393\teval-logloss:0.015393\n",
            "[76]\ttrain-logloss:0.015151\teval-logloss:0.015151\n",
            "[77]\ttrain-logloss:0.01488\teval-logloss:0.01488\n",
            "[78]\ttrain-logloss:0.014637\teval-logloss:0.014637\n",
            "[79]\ttrain-logloss:0.014491\teval-logloss:0.014491\n",
            "[80]\ttrain-logloss:0.014185\teval-logloss:0.014185\n",
            "[81]\ttrain-logloss:0.014005\teval-logloss:0.014005\n",
            "[82]\ttrain-logloss:0.013772\teval-logloss:0.013772\n",
            "[83]\ttrain-logloss:0.013568\teval-logloss:0.013568\n",
            "[84]\ttrain-logloss:0.013414\teval-logloss:0.013414\n",
            "[85]\ttrain-logloss:0.013253\teval-logloss:0.013253\n",
            "[86]\ttrain-logloss:0.013109\teval-logloss:0.013109\n",
            "[87]\ttrain-logloss:0.012926\teval-logloss:0.012926\n",
            "[88]\ttrain-logloss:0.012714\teval-logloss:0.012714\n",
            "[89]\ttrain-logloss:0.012544\teval-logloss:0.012544\n",
            "[90]\ttrain-logloss:0.012353\teval-logloss:0.012353\n",
            "[91]\ttrain-logloss:0.012226\teval-logloss:0.012226\n",
            "[92]\ttrain-logloss:0.012065\teval-logloss:0.012065\n",
            "[93]\ttrain-logloss:0.011927\teval-logloss:0.011927\n",
            "[94]\ttrain-logloss:0.011821\teval-logloss:0.011821\n",
            "[95]\ttrain-logloss:0.011649\teval-logloss:0.011649\n",
            "[96]\ttrain-logloss:0.011482\teval-logloss:0.011482\n",
            "[97]\ttrain-logloss:0.01136\teval-logloss:0.01136\n",
            "[98]\ttrain-logloss:0.011239\teval-logloss:0.011239\n",
            "[99]\ttrain-logloss:0.011132\teval-logloss:0.011132\n",
            "[100]\ttrain-logloss:0.011002\teval-logloss:0.011002\n",
            "[101]\ttrain-logloss:0.010852\teval-logloss:0.010852\n",
            "[102]\ttrain-logloss:0.010755\teval-logloss:0.010755\n",
            "[103]\ttrain-logloss:0.010636\teval-logloss:0.010636\n",
            "[104]\ttrain-logloss:0.0105\teval-logloss:0.0105\n",
            "[105]\ttrain-logloss:0.010395\teval-logloss:0.010395\n",
            "[106]\ttrain-logloss:0.010305\teval-logloss:0.010305\n",
            "[107]\ttrain-logloss:0.010197\teval-logloss:0.010197\n",
            "[108]\ttrain-logloss:0.010072\teval-logloss:0.010072\n",
            "[109]\ttrain-logloss:0.01\teval-logloss:0.01\n",
            "[110]\ttrain-logloss:0.009914\teval-logloss:0.009914\n",
            "[111]\ttrain-logloss:0.009798\teval-logloss:0.009798\n",
            "[112]\ttrain-logloss:0.00971\teval-logloss:0.00971\n",
            "[113]\ttrain-logloss:0.009628\teval-logloss:0.009628\n",
            "[114]\ttrain-logloss:0.009558\teval-logloss:0.009558\n",
            "[115]\ttrain-logloss:0.009483\teval-logloss:0.009483\n",
            "[116]\ttrain-logloss:0.009416\teval-logloss:0.009416\n",
            "[117]\ttrain-logloss:0.009306\teval-logloss:0.009306\n",
            "[118]\ttrain-logloss:0.009228\teval-logloss:0.009228\n",
            "[119]\ttrain-logloss:0.009154\teval-logloss:0.009154\n",
            "[120]\ttrain-logloss:0.009118\teval-logloss:0.009118\n",
            "[121]\ttrain-logloss:0.009016\teval-logloss:0.009016\n",
            "[122]\ttrain-logloss:0.008972\teval-logloss:0.008972\n",
            "[123]\ttrain-logloss:0.008904\teval-logloss:0.008904\n",
            "[124]\ttrain-logloss:0.008837\teval-logloss:0.008837\n",
            "[125]\ttrain-logloss:0.008803\teval-logloss:0.008803\n",
            "[126]\ttrain-logloss:0.008709\teval-logloss:0.008709\n",
            "[127]\ttrain-logloss:0.008645\teval-logloss:0.008645\n",
            "[128]\ttrain-logloss:0.008613\teval-logloss:0.008613\n",
            "[129]\ttrain-logloss:0.008555\teval-logloss:0.008555\n",
            "[130]\ttrain-logloss:0.008463\teval-logloss:0.008463\n",
            "[131]\ttrain-logloss:0.008416\teval-logloss:0.008416\n",
            "[132]\ttrain-logloss:0.008385\teval-logloss:0.008385\n",
            "[133]\ttrain-logloss:0.0083\teval-logloss:0.0083\n",
            "[134]\ttrain-logloss:0.00827\teval-logloss:0.00827\n",
            "[135]\ttrain-logloss:0.008218\teval-logloss:0.008218\n",
            "[136]\ttrain-logloss:0.008157\teval-logloss:0.008157\n",
            "[137]\ttrain-logloss:0.008076\teval-logloss:0.008076\n",
            "[138]\ttrain-logloss:0.008047\teval-logloss:0.008047\n",
            "[139]\ttrain-logloss:0.007973\teval-logloss:0.007973\n",
            "[140]\ttrain-logloss:0.007946\teval-logloss:0.007946\n",
            "[141]\ttrain-logloss:0.007898\teval-logloss:0.007898\n",
            "[142]\ttrain-logloss:0.007872\teval-logloss:0.007872\n",
            "[143]\ttrain-logloss:0.007847\teval-logloss:0.007847\n",
            "[144]\ttrain-logloss:0.007776\teval-logloss:0.007776\n",
            "[145]\ttrain-logloss:0.007752\teval-logloss:0.007752\n",
            "[146]\ttrain-logloss:0.007728\teval-logloss:0.007728\n",
            "[147]\ttrain-logloss:0.007689\teval-logloss:0.007689\n",
            "[148]\ttrain-logloss:0.007621\teval-logloss:0.007621\n",
            "[149]\ttrain-logloss:0.007598\teval-logloss:0.007598\n",
            "[150]\ttrain-logloss:0.007575\teval-logloss:0.007575\n",
            "[151]\ttrain-logloss:0.007521\teval-logloss:0.007521\n",
            "[152]\ttrain-logloss:0.007498\teval-logloss:0.007498\n",
            "[153]\ttrain-logloss:0.007464\teval-logloss:0.007464\n",
            "[154]\ttrain-logloss:0.00741\teval-logloss:0.00741\n",
            "[155]\ttrain-logloss:0.007389\teval-logloss:0.007389\n",
            "[156]\ttrain-logloss:0.007367\teval-logloss:0.007367\n",
            "[157]\ttrain-logloss:0.007345\teval-logloss:0.007345\n",
            "[158]\ttrain-logloss:0.007323\teval-logloss:0.007323\n",
            "[159]\ttrain-logloss:0.007303\teval-logloss:0.007303\n",
            "[160]\ttrain-logloss:0.007282\teval-logloss:0.007282\n",
            "[161]\ttrain-logloss:0.007261\teval-logloss:0.007261\n",
            "[162]\ttrain-logloss:0.007241\teval-logloss:0.007241\n",
            "[163]\ttrain-logloss:0.007221\teval-logloss:0.007221\n",
            "[164]\ttrain-logloss:0.0072\teval-logloss:0.0072\n",
            "[165]\ttrain-logloss:0.00718\teval-logloss:0.00718\n",
            "[166]\ttrain-logloss:0.007161\teval-logloss:0.007161\n",
            "[167]\ttrain-logloss:0.007142\teval-logloss:0.007142\n",
            "[168]\ttrain-logloss:0.007122\teval-logloss:0.007122\n",
            "[169]\ttrain-logloss:0.007103\teval-logloss:0.007103\n",
            "[170]\ttrain-logloss:0.007084\teval-logloss:0.007084\n",
            "[171]\ttrain-logloss:0.007065\teval-logloss:0.007065\n",
            "[172]\ttrain-logloss:0.007047\teval-logloss:0.007047\n",
            "[173]\ttrain-logloss:0.007028\teval-logloss:0.007028\n",
            "[174]\ttrain-logloss:0.007009\teval-logloss:0.007009\n",
            "[175]\ttrain-logloss:0.006991\teval-logloss:0.006991\n",
            "[176]\ttrain-logloss:0.006973\teval-logloss:0.006973\n",
            "[177]\ttrain-logloss:0.006955\teval-logloss:0.006955\n",
            "[178]\ttrain-logloss:0.006937\teval-logloss:0.006937\n",
            "[179]\ttrain-logloss:0.00692\teval-logloss:0.00692\n",
            "[180]\ttrain-logloss:0.006901\teval-logloss:0.006901\n",
            "[181]\ttrain-logloss:0.006884\teval-logloss:0.006884\n",
            "[182]\ttrain-logloss:0.006866\teval-logloss:0.006866\n",
            "[183]\ttrain-logloss:0.006849\teval-logloss:0.006849\n",
            "[184]\ttrain-logloss:0.006831\teval-logloss:0.006831\n",
            "[185]\ttrain-logloss:0.006815\teval-logloss:0.006815\n",
            "[186]\ttrain-logloss:0.006798\teval-logloss:0.006798\n",
            "[187]\ttrain-logloss:0.006781\teval-logloss:0.006781\n",
            "[188]\ttrain-logloss:0.006764\teval-logloss:0.006764\n",
            "[189]\ttrain-logloss:0.006747\teval-logloss:0.006747\n",
            "[190]\ttrain-logloss:0.00673\teval-logloss:0.00673\n",
            "[191]\ttrain-logloss:0.006714\teval-logloss:0.006714\n",
            "[192]\ttrain-logloss:0.006698\teval-logloss:0.006698\n",
            "[193]\ttrain-logloss:0.006682\teval-logloss:0.006682\n",
            "[194]\ttrain-logloss:0.006666\teval-logloss:0.006666\n",
            "[195]\ttrain-logloss:0.00665\teval-logloss:0.00665\n",
            "[196]\ttrain-logloss:0.006634\teval-logloss:0.006634\n",
            "[197]\ttrain-logloss:0.006618\teval-logloss:0.006618\n",
            "[198]\ttrain-logloss:0.006603\teval-logloss:0.006603\n",
            "[199]\ttrain-logloss:0.006587\teval-logloss:0.006587\n",
            "[200]\ttrain-logloss:0.006572\teval-logloss:0.006572\n",
            "[201]\ttrain-logloss:0.006556\teval-logloss:0.006556\n",
            "[202]\ttrain-logloss:0.006542\teval-logloss:0.006542\n",
            "[203]\ttrain-logloss:0.006527\teval-logloss:0.006527\n",
            "[204]\ttrain-logloss:0.006512\teval-logloss:0.006512\n",
            "[205]\ttrain-logloss:0.006497\teval-logloss:0.006497\n",
            "[206]\ttrain-logloss:0.006483\teval-logloss:0.006483\n",
            "[207]\ttrain-logloss:0.006469\teval-logloss:0.006469\n",
            "[208]\ttrain-logloss:0.006455\teval-logloss:0.006455\n",
            "[209]\ttrain-logloss:0.00644\teval-logloss:0.00644\n",
            "[210]\ttrain-logloss:0.006427\teval-logloss:0.006427\n",
            "[211]\ttrain-logloss:0.006413\teval-logloss:0.006413\n",
            "[212]\ttrain-logloss:0.006399\teval-logloss:0.006399\n",
            "[213]\ttrain-logloss:0.006385\teval-logloss:0.006385\n",
            "[214]\ttrain-logloss:0.006372\teval-logloss:0.006372\n",
            "[215]\ttrain-logloss:0.006359\teval-logloss:0.006359\n",
            "[216]\ttrain-logloss:0.006345\teval-logloss:0.006345\n",
            "[217]\ttrain-logloss:0.006332\teval-logloss:0.006332\n",
            "[218]\ttrain-logloss:0.006319\teval-logloss:0.006319\n",
            "[219]\ttrain-logloss:0.006306\teval-logloss:0.006306\n",
            "[220]\ttrain-logloss:0.006293\teval-logloss:0.006293\n",
            "[221]\ttrain-logloss:0.00628\teval-logloss:0.00628\n",
            "[222]\ttrain-logloss:0.006268\teval-logloss:0.006268\n",
            "[223]\ttrain-logloss:0.006255\teval-logloss:0.006255\n",
            "[224]\ttrain-logloss:0.006242\teval-logloss:0.006242\n",
            "[225]\ttrain-logloss:0.00623\teval-logloss:0.00623\n",
            "[226]\ttrain-logloss:0.006218\teval-logloss:0.006218\n",
            "[227]\ttrain-logloss:0.006206\teval-logloss:0.006206\n",
            "[228]\ttrain-logloss:0.006194\teval-logloss:0.006194\n",
            "[229]\ttrain-logloss:0.006182\teval-logloss:0.006182\n",
            "[230]\ttrain-logloss:0.00617\teval-logloss:0.00617\n",
            "[231]\ttrain-logloss:0.006158\teval-logloss:0.006158\n",
            "[232]\ttrain-logloss:0.006147\teval-logloss:0.006147\n",
            "[233]\ttrain-logloss:0.006135\teval-logloss:0.006135\n",
            "[234]\ttrain-logloss:0.006124\teval-logloss:0.006124\n",
            "[235]\ttrain-logloss:0.006112\teval-logloss:0.006112\n",
            "[236]\ttrain-logloss:0.006101\teval-logloss:0.006101\n",
            "[237]\ttrain-logloss:0.00609\teval-logloss:0.00609\n",
            "[238]\ttrain-logloss:0.006079\teval-logloss:0.006079\n",
            "[239]\ttrain-logloss:0.006068\teval-logloss:0.006068\n",
            "[240]\ttrain-logloss:0.006057\teval-logloss:0.006057\n",
            "[241]\ttrain-logloss:0.006046\teval-logloss:0.006046\n",
            "[242]\ttrain-logloss:0.006036\teval-logloss:0.006036\n",
            "[243]\ttrain-logloss:0.006025\teval-logloss:0.006025\n",
            "[244]\ttrain-logloss:0.006014\teval-logloss:0.006014\n",
            "[245]\ttrain-logloss:0.006004\teval-logloss:0.006004\n",
            "[246]\ttrain-logloss:0.005993\teval-logloss:0.005993\n",
            "[247]\ttrain-logloss:0.005983\teval-logloss:0.005983\n",
            "[248]\ttrain-logloss:0.005972\teval-logloss:0.005972\n",
            "[249]\ttrain-logloss:0.005962\teval-logloss:0.005962\n",
            "[250]\ttrain-logloss:0.005952\teval-logloss:0.005952\n",
            "[251]\ttrain-logloss:0.005942\teval-logloss:0.005942\n",
            "[252]\ttrain-logloss:0.005932\teval-logloss:0.005932\n",
            "[253]\ttrain-logloss:0.005922\teval-logloss:0.005922\n",
            "[254]\ttrain-logloss:0.005912\teval-logloss:0.005912\n",
            "[255]\ttrain-logloss:0.005903\teval-logloss:0.005903\n",
            "[256]\ttrain-logloss:0.005893\teval-logloss:0.005893\n",
            "[257]\ttrain-logloss:0.005883\teval-logloss:0.005883\n",
            "[258]\ttrain-logloss:0.005874\teval-logloss:0.005874\n",
            "[259]\ttrain-logloss:0.005864\teval-logloss:0.005864\n",
            "[260]\ttrain-logloss:0.005855\teval-logloss:0.005855\n",
            "[261]\ttrain-logloss:0.005845\teval-logloss:0.005845\n",
            "[262]\ttrain-logloss:0.005836\teval-logloss:0.005836\n",
            "[263]\ttrain-logloss:0.005827\teval-logloss:0.005827\n",
            "[264]\ttrain-logloss:0.005818\teval-logloss:0.005818\n",
            "[265]\ttrain-logloss:0.005809\teval-logloss:0.005809\n",
            "[266]\ttrain-logloss:0.0058\teval-logloss:0.0058\n",
            "[267]\ttrain-logloss:0.005791\teval-logloss:0.005791\n",
            "[268]\ttrain-logloss:0.005782\teval-logloss:0.005782\n",
            "[269]\ttrain-logloss:0.005773\teval-logloss:0.005773\n",
            "[270]\ttrain-logloss:0.005764\teval-logloss:0.005764\n",
            "[271]\ttrain-logloss:0.005755\teval-logloss:0.005755\n",
            "[272]\ttrain-logloss:0.005747\teval-logloss:0.005747\n",
            "[273]\ttrain-logloss:0.005738\teval-logloss:0.005738\n",
            "[274]\ttrain-logloss:0.005729\teval-logloss:0.005729\n",
            "[275]\ttrain-logloss:0.005721\teval-logloss:0.005721\n",
            "[276]\ttrain-logloss:0.005712\teval-logloss:0.005712\n",
            "[277]\ttrain-logloss:0.005704\teval-logloss:0.005704\n",
            "[278]\ttrain-logloss:0.005696\teval-logloss:0.005696\n",
            "[279]\ttrain-logloss:0.005687\teval-logloss:0.005687\n",
            "[280]\ttrain-logloss:0.005679\teval-logloss:0.005679\n",
            "[281]\ttrain-logloss:0.005671\teval-logloss:0.005671\n",
            "[282]\ttrain-logloss:0.005663\teval-logloss:0.005663\n",
            "[283]\ttrain-logloss:0.005655\teval-logloss:0.005655\n",
            "[284]\ttrain-logloss:0.005646\teval-logloss:0.005646\n",
            "[285]\ttrain-logloss:0.005639\teval-logloss:0.005639\n",
            "[286]\ttrain-logloss:0.005631\teval-logloss:0.005631\n",
            "[287]\ttrain-logloss:0.005623\teval-logloss:0.005623\n",
            "[288]\ttrain-logloss:0.005615\teval-logloss:0.005615\n",
            "[289]\ttrain-logloss:0.005608\teval-logloss:0.005608\n",
            "[290]\ttrain-logloss:0.0056\teval-logloss:0.0056\n",
            "[291]\ttrain-logloss:0.005593\teval-logloss:0.005593\n",
            "[292]\ttrain-logloss:0.005585\teval-logloss:0.005585\n",
            "[293]\ttrain-logloss:0.005577\teval-logloss:0.005577\n",
            "[294]\ttrain-logloss:0.00557\teval-logloss:0.00557\n",
            "[295]\ttrain-logloss:0.005563\teval-logloss:0.005563\n",
            "[296]\ttrain-logloss:0.005556\teval-logloss:0.005556\n",
            "[297]\ttrain-logloss:0.005548\teval-logloss:0.005548\n",
            "[298]\ttrain-logloss:0.005541\teval-logloss:0.005541\n",
            "[299]\ttrain-logloss:0.005534\teval-logloss:0.005534\n",
            "[300]\ttrain-logloss:0.005526\teval-logloss:0.005526\n",
            "[301]\ttrain-logloss:0.005519\teval-logloss:0.005519\n",
            "[302]\ttrain-logloss:0.005512\teval-logloss:0.005512\n",
            "[303]\ttrain-logloss:0.005505\teval-logloss:0.005505\n",
            "[304]\ttrain-logloss:0.005498\teval-logloss:0.005498\n",
            "[305]\ttrain-logloss:0.005491\teval-logloss:0.005491\n",
            "[306]\ttrain-logloss:0.005484\teval-logloss:0.005484\n",
            "[307]\ttrain-logloss:0.005478\teval-logloss:0.005478\n",
            "[308]\ttrain-logloss:0.005471\teval-logloss:0.005471\n",
            "[309]\ttrain-logloss:0.005464\teval-logloss:0.005464\n",
            "[310]\ttrain-logloss:0.005457\teval-logloss:0.005457\n",
            "[311]\ttrain-logloss:0.00545\teval-logloss:0.00545\n",
            "[312]\ttrain-logloss:0.005444\teval-logloss:0.005444\n",
            "[313]\ttrain-logloss:0.005437\teval-logloss:0.005437\n",
            "[314]\ttrain-logloss:0.00543\teval-logloss:0.00543\n",
            "[315]\ttrain-logloss:0.005424\teval-logloss:0.005424\n",
            "[316]\ttrain-logloss:0.005417\teval-logloss:0.005417\n",
            "[317]\ttrain-logloss:0.005411\teval-logloss:0.005411\n",
            "[318]\ttrain-logloss:0.005404\teval-logloss:0.005404\n",
            "[319]\ttrain-logloss:0.005398\teval-logloss:0.005398\n",
            "[320]\ttrain-logloss:0.005392\teval-logloss:0.005392\n",
            "[321]\ttrain-logloss:0.005385\teval-logloss:0.005385\n",
            "[322]\ttrain-logloss:0.005379\teval-logloss:0.005379\n",
            "[323]\ttrain-logloss:0.005373\teval-logloss:0.005373\n",
            "[324]\ttrain-logloss:0.005366\teval-logloss:0.005366\n",
            "[325]\ttrain-logloss:0.00536\teval-logloss:0.00536\n",
            "[326]\ttrain-logloss:0.005354\teval-logloss:0.005354\n",
            "[327]\ttrain-logloss:0.005348\teval-logloss:0.005348\n",
            "[328]\ttrain-logloss:0.005342\teval-logloss:0.005342\n",
            "[329]\ttrain-logloss:0.005336\teval-logloss:0.005336\n",
            "[330]\ttrain-logloss:0.00533\teval-logloss:0.00533\n",
            "[331]\ttrain-logloss:0.005324\teval-logloss:0.005324\n",
            "[332]\ttrain-logloss:0.005318\teval-logloss:0.005318\n",
            "[333]\ttrain-logloss:0.005312\teval-logloss:0.005312\n",
            "[334]\ttrain-logloss:0.005306\teval-logloss:0.005306\n",
            "[335]\ttrain-logloss:0.0053\teval-logloss:0.0053\n",
            "[336]\ttrain-logloss:0.005294\teval-logloss:0.005294\n",
            "[337]\ttrain-logloss:0.005288\teval-logloss:0.005288\n",
            "[338]\ttrain-logloss:0.005283\teval-logloss:0.005283\n",
            "[339]\ttrain-logloss:0.005277\teval-logloss:0.005277\n",
            "[340]\ttrain-logloss:0.005271\teval-logloss:0.005271\n",
            "[341]\ttrain-logloss:0.005265\teval-logloss:0.005265\n",
            "[342]\ttrain-logloss:0.00526\teval-logloss:0.00526\n",
            "[343]\ttrain-logloss:0.005254\teval-logloss:0.005254\n",
            "[344]\ttrain-logloss:0.005249\teval-logloss:0.005249\n",
            "[345]\ttrain-logloss:0.005243\teval-logloss:0.005243\n",
            "[346]\ttrain-logloss:0.005237\teval-logloss:0.005237\n",
            "[347]\ttrain-logloss:0.005232\teval-logloss:0.005232\n",
            "[348]\ttrain-logloss:0.005227\teval-logloss:0.005227\n",
            "[349]\ttrain-logloss:0.005221\teval-logloss:0.005221\n",
            "[350]\ttrain-logloss:0.005216\teval-logloss:0.005216\n",
            "[351]\ttrain-logloss:0.00521\teval-logloss:0.00521\n",
            "[352]\ttrain-logloss:0.005205\teval-logloss:0.005205\n",
            "[353]\ttrain-logloss:0.0052\teval-logloss:0.0052\n",
            "[354]\ttrain-logloss:0.005195\teval-logloss:0.005195\n",
            "[355]\ttrain-logloss:0.005189\teval-logloss:0.005189\n",
            "[356]\ttrain-logloss:0.005184\teval-logloss:0.005184\n",
            "[357]\ttrain-logloss:0.005179\teval-logloss:0.005179\n",
            "[358]\ttrain-logloss:0.005174\teval-logloss:0.005174\n",
            "[359]\ttrain-logloss:0.005169\teval-logloss:0.005169\n",
            "[360]\ttrain-logloss:0.005164\teval-logloss:0.005164\n",
            "[361]\ttrain-logloss:0.005159\teval-logloss:0.005159\n",
            "[362]\ttrain-logloss:0.005153\teval-logloss:0.005153\n",
            "[363]\ttrain-logloss:0.005149\teval-logloss:0.005149\n",
            "[364]\ttrain-logloss:0.005144\teval-logloss:0.005144\n",
            "[365]\ttrain-logloss:0.005139\teval-logloss:0.005139\n",
            "[366]\ttrain-logloss:0.005134\teval-logloss:0.005134\n",
            "[367]\ttrain-logloss:0.005129\teval-logloss:0.005129\n",
            "[368]\ttrain-logloss:0.005124\teval-logloss:0.005124\n",
            "[369]\ttrain-logloss:0.005119\teval-logloss:0.005119\n",
            "[370]\ttrain-logloss:0.005114\teval-logloss:0.005114\n",
            "[371]\ttrain-logloss:0.00511\teval-logloss:0.00511\n",
            "[372]\ttrain-logloss:0.005105\teval-logloss:0.005105\n",
            "[373]\ttrain-logloss:0.0051\teval-logloss:0.0051\n",
            "[374]\ttrain-logloss:0.005096\teval-logloss:0.005096\n",
            "[375]\ttrain-logloss:0.005091\teval-logloss:0.005091\n",
            "[376]\ttrain-logloss:0.005086\teval-logloss:0.005086\n",
            "[377]\ttrain-logloss:0.005082\teval-logloss:0.005082\n",
            "[378]\ttrain-logloss:0.005077\teval-logloss:0.005077\n",
            "[379]\ttrain-logloss:0.005073\teval-logloss:0.005073\n",
            "[380]\ttrain-logloss:0.005068\teval-logloss:0.005068\n",
            "[381]\ttrain-logloss:0.005064\teval-logloss:0.005064\n",
            "[382]\ttrain-logloss:0.00506\teval-logloss:0.00506\n",
            "[383]\ttrain-logloss:0.005055\teval-logloss:0.005055\n",
            "[384]\ttrain-logloss:0.005051\teval-logloss:0.005051\n",
            "[385]\ttrain-logloss:0.005047\teval-logloss:0.005047\n",
            "[386]\ttrain-logloss:0.005042\teval-logloss:0.005042\n",
            "[387]\ttrain-logloss:0.005038\teval-logloss:0.005038\n",
            "[388]\ttrain-logloss:0.005034\teval-logloss:0.005034\n",
            "[389]\ttrain-logloss:0.005029\teval-logloss:0.005029\n",
            "[390]\ttrain-logloss:0.005025\teval-logloss:0.005025\n",
            "[391]\ttrain-logloss:0.005021\teval-logloss:0.005021\n",
            "[392]\ttrain-logloss:0.005017\teval-logloss:0.005017\n",
            "[393]\ttrain-logloss:0.005013\teval-logloss:0.005013\n",
            "[394]\ttrain-logloss:0.005009\teval-logloss:0.005009\n",
            "[395]\ttrain-logloss:0.005005\teval-logloss:0.005005\n",
            "[396]\ttrain-logloss:0.005\teval-logloss:0.005\n",
            "[397]\ttrain-logloss:0.004996\teval-logloss:0.004996\n",
            "[398]\ttrain-logloss:0.004992\teval-logloss:0.004992\n",
            "[399]\ttrain-logloss:0.004988\teval-logloss:0.004988\n"
          ]
        }
      ]
    },
    {
      "cell_type": "markdown",
      "source": [
        "-> train으로 학습을 수행하면 반복 시 train-error 와 eval-logloss가 지속적으로 감소한다. \n",
        "\n",
        "이제 모델 학습이 완료 됐으면, 이를 이용해 테스트 데이터 세트에 예측을 수행해보자.\n",
        "\n",
        "**차이점) xgboost의 predict()는 예측 결괏값이 아니라 예측 결과를 추정할 수 있는 확률 값을 반환한다.**\n",
        "\n"
      ],
      "metadata": {
        "id": "O4DyPWEKaaKH"
      }
    },
    {
      "cell_type": "code",
      "source": [
        "pred_probs = xgb_model.predict(dtest)\n",
        "print('predict()수행 결괏값을 10개만 표시, 예측 확률값으로 표시됨')\n",
        "print(np.round(pred_probs[:10],3))\n",
        "\n",
        "#예측 확률이 0.5보다 크면 1, 그렇지 않으면 0으로 예측값 결정해 리스트 객체인 preds에 저장\n",
        "preds= [1 if x>0.5 else 0 for x in pred_probs]\n",
        "print('예측값 10개만 표시:', preds[:0])"
      ],
      "metadata": {
        "colab": {
          "base_uri": "https://localhost:8080/"
        },
        "id": "-XnOziZJac15",
        "outputId": "ace3a23b-3e3c-4f4a-ca01-c0474e3a0339"
      },
      "execution_count": 11,
      "outputs": [
        {
          "output_type": "stream",
          "name": "stdout",
          "text": [
            "predict()수행 결괏값을 10개만 표시, 예측 확률값으로 표시됨\n",
            "[0.007 0.998 1.    0.998 0.978 0.023 1.    0.001 0.001 0.998]\n",
            "예측값 10개만 표시: []\n"
          ]
        }
      ]
    },
    {
      "cell_type": "code",
      "source": [
        "# 테스트 실제 레이블 값을 가지는 y_test와 예측 레이블인 preds를 인자로 입력한다. \n",
        "import numpy as np\n",
        "import pandas as pd\n",
        "import matplotlib.pyplot as plt\n",
        "%matplotlib inline\n",
        "\n",
        "from sklearn.model_selection import train_test_split\n",
        "from sklearn.metrics import accuracy_score, precision_score, recall_score, roc_auc_score\n",
        "from sklearn.metrics import f1_score, confusion_matrix, precision_recall_curve, roc_curve\n",
        "from sklearn.preprocessing import StandardScaler\n",
        "from sklearn.linear_model import LogisticRegression\n",
        "\n",
        "#get_clf_eval 함수 생성\n",
        "def get_clf_eval(y_test, pred=None, pred_proba=None):\n",
        "  confusion=confusion_matrix(y_test, pred)\n",
        "  accuracy=accuracy_score(y_test, pred)\n",
        "  precision=precision_score(y_test, pred)\n",
        "  recall=recall_score(y_test, pred)\n",
        "  f1=f1_score(y_test, pred)\n",
        "  roc_auc=roc_auc_score(y_test, pred_proba)\n",
        "  print('오차 행렬')\n",
        "  print(confusion)\n",
        "  print('정확도: {0:.4f}, 정밀도: {1:.4f}, 재현율: {2:.4f}, \\\n",
        "   F1: {3:.4f}, roc_auc:{4:.4f}'.format(accuracy, precision, recall, f1, roc_auc))\n",
        "\n",
        "get_clf_eval(y_test, preds, pred_probs)"
      ],
      "metadata": {
        "colab": {
          "base_uri": "https://localhost:8080/",
          "height": 346
        },
        "id": "u78TUtukpyiT",
        "outputId": "4165bf65-8d06-4798-f14f-2fee24ed51a4"
      },
      "execution_count": 12,
      "outputs": [
        {
          "output_type": "error",
          "ename": "ValueError",
          "evalue": "ignored",
          "traceback": [
            "\u001b[0;31m---------------------------------------------------------------------------\u001b[0m",
            "\u001b[0;31mValueError\u001b[0m                                Traceback (most recent call last)",
            "\u001b[0;32m<ipython-input-12-10981739f528>\u001b[0m in \u001b[0;36m<module>\u001b[0;34m\u001b[0m\n\u001b[1;32m     24\u001b[0m    F1: {3:.4f}, roc_auc:{4:.4f}'.format(accuracy, precision, recall, f1, roc_auc))\n\u001b[1;32m     25\u001b[0m \u001b[0;34m\u001b[0m\u001b[0m\n\u001b[0;32m---> 26\u001b[0;31m \u001b[0mget_clf_eval\u001b[0m\u001b[0;34m(\u001b[0m\u001b[0my_test\u001b[0m\u001b[0;34m,\u001b[0m \u001b[0mpreds\u001b[0m\u001b[0;34m,\u001b[0m \u001b[0mpred_probs\u001b[0m\u001b[0;34m)\u001b[0m\u001b[0;34m\u001b[0m\u001b[0;34m\u001b[0m\u001b[0m\n\u001b[0m",
            "\u001b[0;32m<ipython-input-12-10981739f528>\u001b[0m in \u001b[0;36mget_clf_eval\u001b[0;34m(y_test, pred, pred_proba)\u001b[0m\n\u001b[1;32m     13\u001b[0m \u001b[0;31m#get_clf_eval 함수 생성\u001b[0m\u001b[0;34m\u001b[0m\u001b[0;34m\u001b[0m\u001b[0;34m\u001b[0m\u001b[0m\n\u001b[1;32m     14\u001b[0m \u001b[0;32mdef\u001b[0m \u001b[0mget_clf_eval\u001b[0m\u001b[0;34m(\u001b[0m\u001b[0my_test\u001b[0m\u001b[0;34m,\u001b[0m \u001b[0mpred\u001b[0m\u001b[0;34m=\u001b[0m\u001b[0;32mNone\u001b[0m\u001b[0;34m,\u001b[0m \u001b[0mpred_proba\u001b[0m\u001b[0;34m=\u001b[0m\u001b[0;32mNone\u001b[0m\u001b[0;34m)\u001b[0m\u001b[0;34m:\u001b[0m\u001b[0;34m\u001b[0m\u001b[0;34m\u001b[0m\u001b[0m\n\u001b[0;32m---> 15\u001b[0;31m   \u001b[0mconfusion\u001b[0m\u001b[0;34m=\u001b[0m\u001b[0mconfusion_matrix\u001b[0m\u001b[0;34m(\u001b[0m\u001b[0my_test\u001b[0m\u001b[0;34m,\u001b[0m \u001b[0mpred\u001b[0m\u001b[0;34m)\u001b[0m\u001b[0;34m\u001b[0m\u001b[0;34m\u001b[0m\u001b[0m\n\u001b[0m\u001b[1;32m     16\u001b[0m   \u001b[0maccuracy\u001b[0m\u001b[0;34m=\u001b[0m\u001b[0maccuracy_score\u001b[0m\u001b[0;34m(\u001b[0m\u001b[0my_test\u001b[0m\u001b[0;34m,\u001b[0m \u001b[0mpred\u001b[0m\u001b[0;34m)\u001b[0m\u001b[0;34m\u001b[0m\u001b[0;34m\u001b[0m\u001b[0m\n\u001b[1;32m     17\u001b[0m   \u001b[0mprecision\u001b[0m\u001b[0;34m=\u001b[0m\u001b[0mprecision_score\u001b[0m\u001b[0;34m(\u001b[0m\u001b[0my_test\u001b[0m\u001b[0;34m,\u001b[0m \u001b[0mpred\u001b[0m\u001b[0;34m)\u001b[0m\u001b[0;34m\u001b[0m\u001b[0;34m\u001b[0m\u001b[0m\n",
            "\u001b[0;32m/usr/local/lib/python3.7/dist-packages/sklearn/metrics/_classification.py\u001b[0m in \u001b[0;36mconfusion_matrix\u001b[0;34m(y_true, y_pred, labels, sample_weight, normalize)\u001b[0m\n\u001b[1;32m    305\u001b[0m     \u001b[0;34m(\u001b[0m\u001b[0;36m0\u001b[0m\u001b[0;34m,\u001b[0m \u001b[0;36m2\u001b[0m\u001b[0;34m,\u001b[0m \u001b[0;36m1\u001b[0m\u001b[0;34m,\u001b[0m \u001b[0;36m1\u001b[0m\u001b[0;34m)\u001b[0m\u001b[0;34m\u001b[0m\u001b[0;34m\u001b[0m\u001b[0m\n\u001b[1;32m    306\u001b[0m     \"\"\"\n\u001b[0;32m--> 307\u001b[0;31m     \u001b[0my_type\u001b[0m\u001b[0;34m,\u001b[0m \u001b[0my_true\u001b[0m\u001b[0;34m,\u001b[0m \u001b[0my_pred\u001b[0m \u001b[0;34m=\u001b[0m \u001b[0m_check_targets\u001b[0m\u001b[0;34m(\u001b[0m\u001b[0my_true\u001b[0m\u001b[0;34m,\u001b[0m \u001b[0my_pred\u001b[0m\u001b[0;34m)\u001b[0m\u001b[0;34m\u001b[0m\u001b[0;34m\u001b[0m\u001b[0m\n\u001b[0m\u001b[1;32m    308\u001b[0m     \u001b[0;32mif\u001b[0m \u001b[0my_type\u001b[0m \u001b[0;32mnot\u001b[0m \u001b[0;32min\u001b[0m \u001b[0;34m(\u001b[0m\u001b[0;34m\"binary\"\u001b[0m\u001b[0;34m,\u001b[0m \u001b[0;34m\"multiclass\"\u001b[0m\u001b[0;34m)\u001b[0m\u001b[0;34m:\u001b[0m\u001b[0;34m\u001b[0m\u001b[0;34m\u001b[0m\u001b[0m\n\u001b[1;32m    309\u001b[0m         \u001b[0;32mraise\u001b[0m \u001b[0mValueError\u001b[0m\u001b[0;34m(\u001b[0m\u001b[0;34m\"%s is not supported\"\u001b[0m \u001b[0;34m%\u001b[0m \u001b[0my_type\u001b[0m\u001b[0;34m)\u001b[0m\u001b[0;34m\u001b[0m\u001b[0;34m\u001b[0m\u001b[0m\n",
            "\u001b[0;32m/usr/local/lib/python3.7/dist-packages/sklearn/metrics/_classification.py\u001b[0m in \u001b[0;36m_check_targets\u001b[0;34m(y_true, y_pred)\u001b[0m\n\u001b[1;32m     82\u001b[0m     \u001b[0my_pred\u001b[0m \u001b[0;34m:\u001b[0m \u001b[0marray\u001b[0m \u001b[0;32mor\u001b[0m \u001b[0mindicator\u001b[0m \u001b[0mmatrix\u001b[0m\u001b[0;34m\u001b[0m\u001b[0;34m\u001b[0m\u001b[0m\n\u001b[1;32m     83\u001b[0m     \"\"\"\n\u001b[0;32m---> 84\u001b[0;31m     \u001b[0mcheck_consistent_length\u001b[0m\u001b[0;34m(\u001b[0m\u001b[0my_true\u001b[0m\u001b[0;34m,\u001b[0m \u001b[0my_pred\u001b[0m\u001b[0;34m)\u001b[0m\u001b[0;34m\u001b[0m\u001b[0;34m\u001b[0m\u001b[0m\n\u001b[0m\u001b[1;32m     85\u001b[0m     \u001b[0mtype_true\u001b[0m \u001b[0;34m=\u001b[0m \u001b[0mtype_of_target\u001b[0m\u001b[0;34m(\u001b[0m\u001b[0my_true\u001b[0m\u001b[0;34m)\u001b[0m\u001b[0;34m\u001b[0m\u001b[0;34m\u001b[0m\u001b[0m\n\u001b[1;32m     86\u001b[0m     \u001b[0mtype_pred\u001b[0m \u001b[0;34m=\u001b[0m \u001b[0mtype_of_target\u001b[0m\u001b[0;34m(\u001b[0m\u001b[0my_pred\u001b[0m\u001b[0;34m)\u001b[0m\u001b[0;34m\u001b[0m\u001b[0;34m\u001b[0m\u001b[0m\n",
            "\u001b[0;32m/usr/local/lib/python3.7/dist-packages/sklearn/utils/validation.py\u001b[0m in \u001b[0;36mcheck_consistent_length\u001b[0;34m(*arrays)\u001b[0m\n\u001b[1;32m    332\u001b[0m         raise ValueError(\n\u001b[1;32m    333\u001b[0m             \u001b[0;34m\"Found input variables with inconsistent numbers of samples: %r\"\u001b[0m\u001b[0;34m\u001b[0m\u001b[0;34m\u001b[0m\u001b[0m\n\u001b[0;32m--> 334\u001b[0;31m             \u001b[0;34m%\u001b[0m \u001b[0;34m[\u001b[0m\u001b[0mint\u001b[0m\u001b[0;34m(\u001b[0m\u001b[0ml\u001b[0m\u001b[0;34m)\u001b[0m \u001b[0;32mfor\u001b[0m \u001b[0ml\u001b[0m \u001b[0;32min\u001b[0m \u001b[0mlengths\u001b[0m\u001b[0;34m]\u001b[0m\u001b[0;34m\u001b[0m\u001b[0;34m\u001b[0m\u001b[0m\n\u001b[0m\u001b[1;32m    335\u001b[0m         )\n\u001b[1;32m    336\u001b[0m \u001b[0;34m\u001b[0m\u001b[0m\n",
            "\u001b[0;31mValueError\u001b[0m: Found input variables with inconsistent numbers of samples: [114, 455]"
          ]
        }
      ]
    },
    {
      "cell_type": "markdown",
      "source": [
        "이제 xgboost패키지에 내장된 시각화 기능을 수행해보자. \n",
        "plot_importance() API :피처의 중요도를 막대그래프 형식으로 나타냄. 기본 평가 지표로 f1스코어를 기반으로 해 각 피처의 중요도를 나타낸다. "
      ],
      "metadata": {
        "id": "8qVj_hIlaaOO"
      }
    },
    {
      "cell_type": "code",
      "source": [
        "from xgboost import plot_importance\n",
        "import matplotlib.pyplot as plt\n",
        "%matplotlib inline\n",
        "\n",
        "fig, ax= plt.subplots(figsize=(10,12))\n",
        "plot_importance(xgb_model, ax=ax)"
      ],
      "metadata": {
        "colab": {
          "base_uri": "https://localhost:8080/",
          "height": 747
        },
        "id": "muiekE7xaaSo",
        "outputId": "b509b3ca-4eaa-44a9-f997-ba2c0f6403fa"
      },
      "execution_count": 13,
      "outputs": [
        {
          "output_type": "execute_result",
          "data": {
            "text/plain": [
              "<matplotlib.axes._subplots.AxesSubplot at 0x7fe5cd470d10>"
            ]
          },
          "metadata": {},
          "execution_count": 13
        },
        {
          "output_type": "display_data",
          "data": {
            "text/plain": [
              "<Figure size 720x864 with 1 Axes>"
            ],
            "image/png": "[encoded data removed]"
          },
          "metadata": {
            "needs_background": "light"
          }
        }
      ]
    },
    {
      "cell_type": "markdown",
      "source": [
        "결정 트리에서 보여준 트리 기반 규칙 구조도 xgboost에서 시각화 할 수 있다. \n",
        "\n",
        "* to_graphviz() API를 이용하면 주피터 노트북에 바로 규칙 트리 구조를 그릴 수 있다. \n",
        "\n",
        "* cv() API : 데이터 세트에 대한 교차검증 수행후 최적 파라미터를 구할 수 있는 방법"
      ],
      "metadata": {
        "id": "ZmBhlymxaaVz"
      }
    },
    {
      "cell_type": "code",
      "source": [
        "xgboost.cv(params, dtrain, num_boost_round=10, nfold=3, stratified=False, folds=None, \\\n",
        "           metrics=(), obj=None, feval=None, maximize=False, early_stopping_rounds=None, fpreproc=None, as_pandas=True,\\\n",
        "           verbose_eval=None, show_stdv=True, seed=0, callbacks=None, shuffle=True)"
      ],
      "metadata": {
        "colab": {
          "base_uri": "https://localhost:8080/",
          "height": 364
        },
        "id": "oqjYj3jOaaZe",
        "outputId": "c2223beb-b85b-4e7c-c3d8-bc8eb73497ad"
      },
      "execution_count": 14,
      "outputs": [
        {
          "output_type": "execute_result",
          "data": {
            "text/plain": [
              "   train-logloss-mean  train-logloss-std  test-logloss-mean  test-logloss-std\n",
              "0            0.610037           0.000064           0.617447          0.004961\n",
              "1            0.541817           0.000202           0.555140          0.008989\n",
              "2            0.483717           0.000955           0.503529          0.012238\n",
              "3            0.434676           0.001311           0.459869          0.015795\n",
              "4            0.392310           0.001686           0.423058          0.016788\n",
              "5            0.355129           0.001390           0.391187          0.019785\n",
              "6            0.322530           0.001908           0.361119          0.019378\n",
              "7            0.294159           0.001618           0.337140          0.021086\n",
              "8            0.269083           0.002068           0.314903          0.019972\n",
              "9            0.246208           0.001940           0.295012          0.019237"
            ],
            "text/html": [
              "\n",
              "  <div id=\"df-1a329f66-4ddb-4c76-8e0b-1eb27ca68087\">\n",
              "    <div class=\"colab-df-container\">\n",
              "      <div>\n",
              "<style scoped>\n",
              "    .dataframe tbody tr th:only-of-type {\n",
              "        vertical-align: middle;\n",
              "    }\n",
              "\n",
              "    .dataframe tbody tr th {\n",
              "        vertical-align: top;\n",
              "    }\n",
              "\n",
              "    .dataframe thead th {\n",
              "        text-align: right;\n",
              "    }\n",
              "</style>\n",
              "<table border=\"1\" class=\"dataframe\">\n",
              "  <thead>\n",
              "    <tr style=\"text-align: right;\">\n",
              "      <th></th>\n",
              "      <th>train-logloss-mean</th>\n",
              "      <th>train-logloss-std</th>\n",
              "      <th>test-logloss-mean</th>\n",
              "      <th>test-logloss-std</th>\n",
              "    </tr>\n",
              "  </thead>\n",
              "  <tbody>\n",
              "    <tr>\n",
              "      <th>0</th>\n",
              "      <td>0.610037</td>\n",
              "      <td>0.000064</td>\n",
              "      <td>0.617447</td>\n",
              "      <td>0.004961</td>\n",
              "    </tr>\n",
              "    <tr>\n",
              "      <th>1</th>\n",
              "      <td>0.541817</td>\n",
              "      <td>0.000202</td>\n",
              "      <td>0.555140</td>\n",
              "      <td>0.008989</td>\n",
              "    </tr>\n",
              "    <tr>\n",
              "      <th>2</th>\n",
              "      <td>0.483717</td>\n",
              "      <td>0.000955</td>\n",
              "      <td>0.503529</td>\n",
              "      <td>0.012238</td>\n",
              "    </tr>\n",
              "    <tr>\n",
              "      <th>3</th>\n",
              "      <td>0.434676</td>\n",
              "      <td>0.001311</td>\n",
              "      <td>0.459869</td>\n",
              "      <td>0.015795</td>\n",
              "    </tr>\n",
              "    <tr>\n",
              "      <th>4</th>\n",
              "      <td>0.392310</td>\n",
              "      <td>0.001686</td>\n",
              "      <td>0.423058</td>\n",
              "      <td>0.016788</td>\n",
              "    </tr>\n",
              "    <tr>\n",
              "      <th>5</th>\n",
              "      <td>0.355129</td>\n",
              "      <td>0.001390</td>\n",
              "      <td>0.391187</td>\n",
              "      <td>0.019785</td>\n",
              "    </tr>\n",
              "    <tr>\n",
              "      <th>6</th>\n",
              "      <td>0.322530</td>\n",
              "      <td>0.001908</td>\n",
              "      <td>0.361119</td>\n",
              "      <td>0.019378</td>\n",
              "    </tr>\n",
              "    <tr>\n",
              "      <th>7</th>\n",
              "      <td>0.294159</td>\n",
              "      <td>0.001618</td>\n",
              "      <td>0.337140</td>\n",
              "      <td>0.021086</td>\n",
              "    </tr>\n",
              "    <tr>\n",
              "      <th>8</th>\n",
              "      <td>0.269083</td>\n",
              "      <td>0.002068</td>\n",
              "      <td>0.314903</td>\n",
              "      <td>0.019972</td>\n",
              "    </tr>\n",
              "    <tr>\n",
              "      <th>9</th>\n",
              "      <td>0.246208</td>\n",
              "      <td>0.001940</td>\n",
              "      <td>0.295012</td>\n",
              "      <td>0.019237</td>\n",
              "    </tr>\n",
              "  </tbody>\n",
              "</table>\n",
              "</div>\n",
              "      <button class=\"colab-df-convert\" onclick=\"convertToInteractive('df-1a329f66-4ddb-4c76-8e0b-1eb27ca68087')\"\n",
              "              title=\"Convert this dataframe to an interactive table.\"\n",
              "              style=\"display:none;\">\n",
              "        \n",
              "  <svg xmlns=\"http://www.w3.org/2000/svg\" height=\"24px\"viewBox=\"0 0 24 24\"\n",
              "       width=\"24px\">\n",
              "    <path d=\"M0 0h24v24H0V0z\" fill=\"none\"/>\n",
              "    <path d=\"M18.56 5.44l.94 2.06.94-2.06 2.06-.94-2.06-.94-.94-2.06-.94 2.06-2.06.94zm-11 1L8.5 8.5l.94-2.06 2.06-.94-2.06-.94L8.5 2.5l-.94 2.06-2.06.94zm10 10l.94 2.06.94-2.06 2.06-.94-2.06-.94-.94-2.06-.94 2.06-2.06.94z\"/><path d=\"M17.41 7.96l-1.37-1.37c-.4-.4-.92-.59-1.43-.59-.52 0-1.04.2-1.43.59L10.3 9.45l-7.72 7.72c-.78.78-.78 2.05 0 2.83L4 21.41c.39.39.9.59 1.41.59.51 0 1.02-.2 1.41-.59l7.78-7.78 2.81-2.81c.8-.78.8-2.07 0-2.86zM5.41 20L4 18.59l7.72-7.72 1.47 1.35L5.41 20z\"/>\n",
              "  </svg>\n",
              "      </button>\n",
              "      \n",
              "  <style>\n",
              "    .colab-df-container {\n",
              "      display:flex;\n",
              "      flex-wrap:wrap;\n",
              "      gap: 12px;\n",
              "    }\n",
              "\n",
              "    .colab-df-convert {\n",
              "      background-color: #E8F0FE;\n",
              "      border: none;\n",
              "      border-radius: 50%;\n",
              "      cursor: pointer;\n",
              "      display: none;\n",
              "      fill: #1967D2;\n",
              "      height: 32px;\n",
              "      padding: 0 0 0 0;\n",
              "      width: 32px;\n",
              "    }\n",
              "\n",
              "    .colab-df-convert:hover {\n",
              "      background-color: #E2EBFA;\n",
              "      box-shadow: 0px 1px 2px rgba(60, 64, 67, 0.3), 0px 1px 3px 1px rgba(60, 64, 67, 0.15);\n",
              "      fill: #174EA6;\n",
              "    }\n",
              "\n",
              "    [theme=dark] .colab-df-convert {\n",
              "      background-color: #3B4455;\n",
              "      fill: #D2E3FC;\n",
              "    }\n",
              "\n",
              "    [theme=dark] .colab-df-convert:hover {\n",
              "      background-color: #434B5C;\n",
              "      box-shadow: 0px 1px 3px 1px rgba(0, 0, 0, 0.15);\n",
              "      filter: drop-shadow(0px 1px 2px rgba(0, 0, 0, 0.3));\n",
              "      fill: #FFFFFF;\n",
              "    }\n",
              "  </style>\n",
              "\n",
              "      <script>\n",
              "        const buttonEl =\n",
              "          document.querySelector('#df-1a329f66-4ddb-4c76-8e0b-1eb27ca68087 button.colab-df-convert');\n",
              "        buttonEl.style.display =\n",
              "          google.colab.kernel.accessAllowed ? 'block' : 'none';\n",
              "\n",
              "        async function convertToInteractive(key) {\n",
              "          const element = document.querySelector('#df-1a329f66-4ddb-4c76-8e0b-1eb27ca68087');\n",
              "          const dataTable =\n",
              "            await google.colab.kernel.invokeFunction('convertToInteractive',\n",
              "                                                     [key], {});\n",
              "          if (!dataTable) return;\n",
              "\n",
              "          const docLinkHtml = 'Like what you see? Visit the ' +\n",
              "            '<a target=\"_blank\" href=https://colab.research.google.com/notebooks/data_table.ipynb>data table notebook</a>'\n",
              "            + ' to learn more about interactive tables.';\n",
              "          element.innerHTML = '';\n",
              "          dataTable['output_type'] = 'display_data';\n",
              "          await google.colab.output.renderOutput(dataTable, element);\n",
              "          const docLink = document.createElement('div');\n",
              "          docLink.innerHTML = docLinkHtml;\n",
              "          element.appendChild(docLink);\n",
              "        }\n",
              "      </script>\n",
              "    </div>\n",
              "  </div>\n",
              "  "
            ]
          },
          "metadata": {},
          "execution_count": 14
        }
      ]
    },
    {
      "cell_type": "markdown",
      "source": [
        "* params : 부스터 파라미터\n",
        "* dtrain : 학습데이터\n",
        "* num_boost_round : 부스팅 반복 횟수\n",
        "* nfold : cv폴드 개수.\n",
        "* stratified : cv 수행 시 층화 표본 추출 수행 여부\n",
        "* metrics : cv수행시 모니터링할 성능 평가 지표\n",
        "* early_stopping_rounds : 조기 중단을 활성화시킴. 반복 횟수 지정.\n",
        "\n",
        "\n",
        "\n",
        "---\n",
        "\n",
        "### 사이킷런 래퍼 XGBoost의 개요 및 적용\n",
        "\n",
        "사이킷런의 기본 estimator을 그대로 상속해 만들었기 대문에 다른 estimator와 동일하게 fit()과 predict()만으로 학습과 예측이 가능하고 gridsearchcv, pipeline 등 사이킷런읟 ㅏ른 유틸리티를 그대로 사용할 수 있기 때문에 기존의 다른 머신러닝 알고리즘으로 만들어놓은 프로그램이 있더라도 알고리즘 클래스만 xgboost 래퍼 클래스로 바꾸면 사용 가능하다.\n",
        "\n",
        "분류를 위한 래퍼클래스 : XGBClassifier\n",
        "\n",
        "회귀를 위한 래퍼 클래스 : XGBRegressor\n",
        "\n",
        "<파이썬 래퍼 xgboost와 파라미터 차이>\n",
        "* eta -> learning_rate\n",
        "* sub_sample -> subsample\n",
        "* lambda -> reg_lambda\n",
        "* alpha -> reg_alpha\n",
        "* n_estimators가 num_boost_round보다 우선순위\n"
      ],
      "metadata": {
        "id": "N8duFM3naadH"
      }
    },
    {
      "cell_type": "code",
      "source": [
        "#사이킷런 래퍼 XGBoost 클래스인 XGBClassifier 임포트\n",
        "from xgboost import XGBClassifier\n",
        "xgb_wrapper = XGBClassifier(n_estimators=400, learning_rate=0.1, max_depth=3)\n",
        "xgb_wrapper.fit(X_train, y_train)\n",
        "w_preds = xgb_wrapper.predict(X_test)\n",
        "w_pred_proba= xgb_wrapper.predict_proba(X_test)[:,1]"
      ],
      "metadata": {
        "id": "B_yC9bmDaagW"
      },
      "execution_count": 15,
      "outputs": []
    },
    {
      "cell_type": "markdown",
      "source": [],
      "metadata": {
        "id": "1eZP6yEbaaj6"
      }
    },
    {
      "cell_type": "code",
      "source": [
        "get_clf_eval(y_test, w_preds, w_pred_proba)"
      ],
      "metadata": {
        "id": "M1ekIGuPaanr",
        "colab": {
          "base_uri": "https://localhost:8080/"
        },
        "outputId": "f75c260d-ddaf-47ef-c310-44457ea67650"
      },
      "execution_count": 16,
      "outputs": [
        {
          "output_type": "stream",
          "name": "stdout",
          "text": [
            "오차 행렬\n",
            "[[35  2]\n",
            " [ 1 76]]\n",
            "정확도: 0.9737, 정밀도: 0.9744, 재현율: 0.9870,    F1: 0.9806, roc_auc:0.9951\n"
          ]
        }
      ]
    },
    {
      "cell_type": "markdown",
      "source": [
        "-> 파이썬 래퍼 xgboost와 동일한 평가 결과가 나옴.\n",
        "\n",
        "여기서도 조기 중단을 수행할 수 있는데 \n",
        "\n",
        "early_stopping_rounds : 평가 지표가 향상될 수 있는 반복 횟수 정의\n",
        "\n",
        "eval_metric : 조기 중단을 위한 평가 지표\n",
        "\n",
        "eval_set : 성능 평가를 수행할 데이터세트\n",
        "\n",
        "* 성능 평가를 수행할 데이터 세트는 학습 데이터가 아니라 별도의 데이터 세트여야 한다. 데스트 데이터 세트는 학습 시에는 완전히 알려지지 않은 데이터 세트를 사용해야 한다. 평가에 테스트 데이터 세트를 사용하면 학습 시에 미리 참고가 되어 과적합할 수 있기 때문."
      ],
      "metadata": {
        "id": "Ai6P3uKuaaq-"
      }
    },
    {
      "cell_type": "code",
      "source": [
        "#but 이 예제는 데이터 세트의 크기가 작아 테스트 데이터를 평가용으로 사용함.\n",
        "\n",
        "from xgboost import XGBClassifier\n",
        "\n",
        "xgb_wrapper = XGBClassifier(n_estimators=400, learning_rate=0.1, max_depth=3)\n",
        "evals = [(X_test, y_test)]\n",
        "xgb_wrapper.fit(X_train, y_train, early_stopping_rounds=100, eval_metric=\"logloss\", eval_set = evals, verbose=True)\n",
        "\n",
        "ws100_preds = xgb_wrapper.predict(X_test)\n",
        "ws100_pred_proba= xgb_wrapper.predict_proba(X_test)[:,1]"
      ],
      "metadata": {
        "id": "fH_ARRKMaaug",
        "colab": {
          "base_uri": "https://localhost:8080/"
        },
        "outputId": "c11be0f2-2f71-4791-a042-0ce09f4a6742"
      },
      "execution_count": 17,
      "outputs": [
        {
          "output_type": "stream",
          "name": "stdout",
          "text": [
            "[0]\tvalidation_0-logloss:0.61352\n",
            "Will train until validation_0-logloss hasn't improved in 100 rounds.\n",
            "[1]\tvalidation_0-logloss:0.547842\n",
            "[2]\tvalidation_0-logloss:0.494247\n",
            "[3]\tvalidation_0-logloss:0.447986\n",
            "[4]\tvalidation_0-logloss:0.409109\n",
            "[5]\tvalidation_0-logloss:0.374977\n",
            "[6]\tvalidation_0-logloss:0.345714\n",
            "[7]\tvalidation_0-logloss:0.320529\n",
            "[8]\tvalidation_0-logloss:0.29721\n",
            "[9]\tvalidation_0-logloss:0.277991\n",
            "[10]\tvalidation_0-logloss:0.260302\n",
            "[11]\tvalidation_0-logloss:0.246037\n",
            "[12]\tvalidation_0-logloss:0.231556\n",
            "[13]\tvalidation_0-logloss:0.22005\n",
            "[14]\tvalidation_0-logloss:0.208572\n",
            "[15]\tvalidation_0-logloss:0.199993\n",
            "[16]\tvalidation_0-logloss:0.190118\n",
            "[17]\tvalidation_0-logloss:0.181818\n",
            "[18]\tvalidation_0-logloss:0.174729\n",
            "[19]\tvalidation_0-logloss:0.167657\n",
            "[20]\tvalidation_0-logloss:0.158202\n",
            "[21]\tvalidation_0-logloss:0.154725\n",
            "[22]\tvalidation_0-logloss:0.148947\n",
            "[23]\tvalidation_0-logloss:0.143308\n",
            "[24]\tvalidation_0-logloss:0.136344\n",
            "[25]\tvalidation_0-logloss:0.132778\n",
            "[26]\tvalidation_0-logloss:0.127912\n",
            "[27]\tvalidation_0-logloss:0.125263\n",
            "[28]\tvalidation_0-logloss:0.119978\n",
            "[29]\tvalidation_0-logloss:0.116412\n",
            "[30]\tvalidation_0-logloss:0.114502\n",
            "[31]\tvalidation_0-logloss:0.112572\n",
            "[32]\tvalidation_0-logloss:0.11154\n",
            "[33]\tvalidation_0-logloss:0.108681\n",
            "[34]\tvalidation_0-logloss:0.106681\n",
            "[35]\tvalidation_0-logloss:0.104207\n",
            "[36]\tvalidation_0-logloss:0.102962\n",
            "[37]\tvalidation_0-logloss:0.100576\n",
            "[38]\tvalidation_0-logloss:0.098683\n",
            "[39]\tvalidation_0-logloss:0.096444\n",
            "[40]\tvalidation_0-logloss:0.095869\n",
            "[41]\tvalidation_0-logloss:0.094242\n",
            "[42]\tvalidation_0-logloss:0.094715\n",
            "[43]\tvalidation_0-logloss:0.094272\n",
            "[44]\tvalidation_0-logloss:0.093894\n",
            "[45]\tvalidation_0-logloss:0.094184\n",
            "[46]\tvalidation_0-logloss:0.09402\n",
            "[47]\tvalidation_0-logloss:0.09236\n",
            "[48]\tvalidation_0-logloss:0.093012\n",
            "[49]\tvalidation_0-logloss:0.091272\n",
            "[50]\tvalidation_0-logloss:0.090051\n",
            "[51]\tvalidation_0-logloss:0.089605\n",
            "[52]\tvalidation_0-logloss:0.089577\n",
            "[53]\tvalidation_0-logloss:0.090703\n",
            "[54]\tvalidation_0-logloss:0.089579\n",
            "[55]\tvalidation_0-logloss:0.090357\n",
            "[56]\tvalidation_0-logloss:0.091587\n",
            "[57]\tvalidation_0-logloss:0.091527\n",
            "[58]\tvalidation_0-logloss:0.091986\n",
            "[59]\tvalidation_0-logloss:0.091951\n",
            "[60]\tvalidation_0-logloss:0.091939\n",
            "[61]\tvalidation_0-logloss:0.091461\n",
            "[62]\tvalidation_0-logloss:0.090311\n",
            "[63]\tvalidation_0-logloss:0.089407\n",
            "[64]\tvalidation_0-logloss:0.089719\n",
            "[65]\tvalidation_0-logloss:0.089743\n",
            "[66]\tvalidation_0-logloss:0.089622\n",
            "[67]\tvalidation_0-logloss:0.088734\n",
            "[68]\tvalidation_0-logloss:0.088621\n",
            "[69]\tvalidation_0-logloss:0.089739\n",
            "[70]\tvalidation_0-logloss:0.089981\n",
            "[71]\tvalidation_0-logloss:0.089782\n",
            "[72]\tvalidation_0-logloss:0.089584\n",
            "[73]\tvalidation_0-logloss:0.089533\n",
            "[74]\tvalidation_0-logloss:0.088748\n",
            "[75]\tvalidation_0-logloss:0.088597\n",
            "[76]\tvalidation_0-logloss:0.08812\n",
            "[77]\tvalidation_0-logloss:0.088396\n",
            "[78]\tvalidation_0-logloss:0.088736\n",
            "[79]\tvalidation_0-logloss:0.088153\n",
            "[80]\tvalidation_0-logloss:0.087577\n",
            "[81]\tvalidation_0-logloss:0.087412\n",
            "[82]\tvalidation_0-logloss:0.08849\n",
            "[83]\tvalidation_0-logloss:0.088575\n",
            "[84]\tvalidation_0-logloss:0.08807\n",
            "[85]\tvalidation_0-logloss:0.087641\n",
            "[86]\tvalidation_0-logloss:0.087416\n",
            "[87]\tvalidation_0-logloss:0.087611\n",
            "[88]\tvalidation_0-logloss:0.087065\n",
            "[89]\tvalidation_0-logloss:0.08727\n",
            "[90]\tvalidation_0-logloss:0.087161\n",
            "[91]\tvalidation_0-logloss:0.086962\n",
            "[92]\tvalidation_0-logloss:0.087166\n",
            "[93]\tvalidation_0-logloss:0.087067\n",
            "[94]\tvalidation_0-logloss:0.086592\n",
            "[95]\tvalidation_0-logloss:0.086116\n",
            "[96]\tvalidation_0-logloss:0.087139\n",
            "[97]\tvalidation_0-logloss:0.086768\n",
            "[98]\tvalidation_0-logloss:0.086694\n",
            "[99]\tvalidation_0-logloss:0.086547\n",
            "[100]\tvalidation_0-logloss:0.086498\n",
            "[101]\tvalidation_0-logloss:0.08641\n",
            "[102]\tvalidation_0-logloss:0.086288\n",
            "[103]\tvalidation_0-logloss:0.086258\n",
            "[104]\tvalidation_0-logloss:0.086835\n",
            "[105]\tvalidation_0-logloss:0.086767\n",
            "[106]\tvalidation_0-logloss:0.087321\n",
            "[107]\tvalidation_0-logloss:0.087304\n",
            "[108]\tvalidation_0-logloss:0.08728\n",
            "[109]\tvalidation_0-logloss:0.087298\n",
            "[110]\tvalidation_0-logloss:0.087289\n",
            "[111]\tvalidation_0-logloss:0.088002\n",
            "[112]\tvalidation_0-logloss:0.087936\n",
            "[113]\tvalidation_0-logloss:0.087843\n",
            "[114]\tvalidation_0-logloss:0.088066\n",
            "[115]\tvalidation_0-logloss:0.087649\n",
            "[116]\tvalidation_0-logloss:0.087298\n",
            "[117]\tvalidation_0-logloss:0.087799\n",
            "[118]\tvalidation_0-logloss:0.087751\n",
            "[119]\tvalidation_0-logloss:0.08768\n",
            "[120]\tvalidation_0-logloss:0.087626\n",
            "[121]\tvalidation_0-logloss:0.08757\n",
            "[122]\tvalidation_0-logloss:0.087547\n",
            "[123]\tvalidation_0-logloss:0.087156\n",
            "[124]\tvalidation_0-logloss:0.08767\n",
            "[125]\tvalidation_0-logloss:0.087737\n",
            "[126]\tvalidation_0-logloss:0.088275\n",
            "[127]\tvalidation_0-logloss:0.088309\n",
            "[128]\tvalidation_0-logloss:0.088266\n",
            "[129]\tvalidation_0-logloss:0.087886\n",
            "[130]\tvalidation_0-logloss:0.088861\n",
            "[131]\tvalidation_0-logloss:0.088675\n",
            "[132]\tvalidation_0-logloss:0.088743\n",
            "[133]\tvalidation_0-logloss:0.089218\n",
            "[134]\tvalidation_0-logloss:0.089179\n",
            "[135]\tvalidation_0-logloss:0.088821\n",
            "[136]\tvalidation_0-logloss:0.088512\n",
            "[137]\tvalidation_0-logloss:0.08848\n",
            "[138]\tvalidation_0-logloss:0.088386\n",
            "[139]\tvalidation_0-logloss:0.089145\n",
            "[140]\tvalidation_0-logloss:0.08911\n",
            "[141]\tvalidation_0-logloss:0.088765\n",
            "[142]\tvalidation_0-logloss:0.088678\n",
            "[143]\tvalidation_0-logloss:0.088389\n",
            "[144]\tvalidation_0-logloss:0.089271\n",
            "[145]\tvalidation_0-logloss:0.089238\n",
            "[146]\tvalidation_0-logloss:0.089139\n",
            "[147]\tvalidation_0-logloss:0.088907\n",
            "[148]\tvalidation_0-logloss:0.089416\n",
            "[149]\tvalidation_0-logloss:0.089388\n",
            "[150]\tvalidation_0-logloss:0.089108\n",
            "[151]\tvalidation_0-logloss:0.088735\n",
            "[152]\tvalidation_0-logloss:0.088717\n",
            "[153]\tvalidation_0-logloss:0.088484\n",
            "[154]\tvalidation_0-logloss:0.088471\n",
            "[155]\tvalidation_0-logloss:0.088545\n",
            "[156]\tvalidation_0-logloss:0.088521\n",
            "[157]\tvalidation_0-logloss:0.088547\n",
            "[158]\tvalidation_0-logloss:0.088275\n",
            "[159]\tvalidation_0-logloss:0.0883\n",
            "[160]\tvalidation_0-logloss:0.08828\n",
            "[161]\tvalidation_0-logloss:0.088013\n",
            "[162]\tvalidation_0-logloss:0.087758\n",
            "[163]\tvalidation_0-logloss:0.087784\n",
            "[164]\tvalidation_0-logloss:0.087777\n",
            "[165]\tvalidation_0-logloss:0.087517\n",
            "[166]\tvalidation_0-logloss:0.087542\n",
            "[167]\tvalidation_0-logloss:0.087642\n",
            "[168]\tvalidation_0-logloss:0.08739\n",
            "[169]\tvalidation_0-logloss:0.087377\n",
            "[170]\tvalidation_0-logloss:0.087298\n",
            "[171]\tvalidation_0-logloss:0.087368\n",
            "[172]\tvalidation_0-logloss:0.087395\n",
            "[173]\tvalidation_0-logloss:0.087385\n",
            "[174]\tvalidation_0-logloss:0.087132\n",
            "[175]\tvalidation_0-logloss:0.087159\n",
            "[176]\tvalidation_0-logloss:0.086955\n",
            "[177]\tvalidation_0-logloss:0.087053\n",
            "[178]\tvalidation_0-logloss:0.08697\n",
            "[179]\tvalidation_0-logloss:0.086973\n",
            "[180]\tvalidation_0-logloss:0.087038\n",
            "[181]\tvalidation_0-logloss:0.086799\n",
            "[182]\tvalidation_0-logloss:0.086826\n",
            "[183]\tvalidation_0-logloss:0.086582\n",
            "[184]\tvalidation_0-logloss:0.086588\n",
            "[185]\tvalidation_0-logloss:0.086614\n",
            "[186]\tvalidation_0-logloss:0.086372\n",
            "[187]\tvalidation_0-logloss:0.086369\n",
            "[188]\tvalidation_0-logloss:0.086297\n",
            "[189]\tvalidation_0-logloss:0.086104\n",
            "[190]\tvalidation_0-logloss:0.086023\n",
            "[191]\tvalidation_0-logloss:0.08605\n",
            "[192]\tvalidation_0-logloss:0.086149\n",
            "[193]\tvalidation_0-logloss:0.085916\n",
            "[194]\tvalidation_0-logloss:0.085915\n",
            "[195]\tvalidation_0-logloss:0.085984\n",
            "[196]\tvalidation_0-logloss:0.086012\n",
            "[197]\tvalidation_0-logloss:0.085922\n",
            "[198]\tvalidation_0-logloss:0.085853\n",
            "[199]\tvalidation_0-logloss:0.085874\n",
            "[200]\tvalidation_0-logloss:0.085888\n",
            "[201]\tvalidation_0-logloss:0.08595\n",
            "[202]\tvalidation_0-logloss:0.08573\n",
            "[203]\tvalidation_0-logloss:0.08573\n",
            "[204]\tvalidation_0-logloss:0.085753\n",
            "[205]\tvalidation_0-logloss:0.085821\n",
            "[206]\tvalidation_0-logloss:0.08584\n",
            "[207]\tvalidation_0-logloss:0.085776\n",
            "[208]\tvalidation_0-logloss:0.085686\n",
            "[209]\tvalidation_0-logloss:0.08571\n",
            "[210]\tvalidation_0-logloss:0.085806\n",
            "[211]\tvalidation_0-logloss:0.085593\n",
            "[212]\tvalidation_0-logloss:0.085801\n",
            "[213]\tvalidation_0-logloss:0.085806\n",
            "[214]\tvalidation_0-logloss:0.085744\n",
            "[215]\tvalidation_0-logloss:0.085658\n",
            "[216]\tvalidation_0-logloss:0.085843\n",
            "[217]\tvalidation_0-logloss:0.085632\n",
            "[218]\tvalidation_0-logloss:0.085726\n",
            "[219]\tvalidation_0-logloss:0.085783\n",
            "[220]\tvalidation_0-logloss:0.085791\n",
            "[221]\tvalidation_0-logloss:0.085817\n",
            "[222]\tvalidation_0-logloss:0.085757\n",
            "[223]\tvalidation_0-logloss:0.085674\n",
            "[224]\tvalidation_0-logloss:0.08586\n",
            "[225]\tvalidation_0-logloss:0.085871\n",
            "[226]\tvalidation_0-logloss:0.085927\n",
            "[227]\tvalidation_0-logloss:0.085954\n",
            "[228]\tvalidation_0-logloss:0.085874\n",
            "[229]\tvalidation_0-logloss:0.086057\n",
            "[230]\tvalidation_0-logloss:0.086002\n",
            "[231]\tvalidation_0-logloss:0.085922\n",
            "[232]\tvalidation_0-logloss:0.086102\n",
            "[233]\tvalidation_0-logloss:0.086115\n",
            "[234]\tvalidation_0-logloss:0.086169\n",
            "[235]\tvalidation_0-logloss:0.086263\n",
            "[236]\tvalidation_0-logloss:0.086292\n",
            "[237]\tvalidation_0-logloss:0.086217\n",
            "[238]\tvalidation_0-logloss:0.086395\n",
            "[239]\tvalidation_0-logloss:0.086342\n",
            "[240]\tvalidation_0-logloss:0.08618\n",
            "[241]\tvalidation_0-logloss:0.086195\n",
            "[242]\tvalidation_0-logloss:0.086248\n",
            "[243]\tvalidation_0-logloss:0.086263\n",
            "[244]\tvalidation_0-logloss:0.086293\n",
            "[245]\tvalidation_0-logloss:0.086222\n",
            "[246]\tvalidation_0-logloss:0.086398\n",
            "[247]\tvalidation_0-logloss:0.086347\n",
            "[248]\tvalidation_0-logloss:0.086276\n",
            "[249]\tvalidation_0-logloss:0.086448\n",
            "[250]\tvalidation_0-logloss:0.086294\n",
            "[251]\tvalidation_0-logloss:0.086312\n",
            "[252]\tvalidation_0-logloss:0.086364\n",
            "[253]\tvalidation_0-logloss:0.086394\n",
            "[254]\tvalidation_0-logloss:0.08649\n",
            "[255]\tvalidation_0-logloss:0.086441\n",
            "[256]\tvalidation_0-logloss:0.08629\n",
            "[257]\tvalidation_0-logloss:0.08646\n",
            "[258]\tvalidation_0-logloss:0.086391\n",
            "[259]\tvalidation_0-logloss:0.086441\n",
            "[260]\tvalidation_0-logloss:0.086461\n",
            "[261]\tvalidation_0-logloss:0.086491\n",
            "[262]\tvalidation_0-logloss:0.086445\n",
            "[263]\tvalidation_0-logloss:0.086466\n",
            "[264]\tvalidation_0-logloss:0.086319\n",
            "[265]\tvalidation_0-logloss:0.086488\n",
            "[266]\tvalidation_0-logloss:0.086538\n",
            "[267]\tvalidation_0-logloss:0.086471\n",
            "[268]\tvalidation_0-logloss:0.086501\n",
            "[269]\tvalidation_0-logloss:0.086522\n",
            "[270]\tvalidation_0-logloss:0.086689\n",
            "[271]\tvalidation_0-logloss:0.086738\n",
            "[272]\tvalidation_0-logloss:0.08683\n",
            "[273]\tvalidation_0-logloss:0.086684\n",
            "[274]\tvalidation_0-logloss:0.08664\n",
            "[275]\tvalidation_0-logloss:0.086496\n",
            "[276]\tvalidation_0-logloss:0.086355\n",
            "[277]\tvalidation_0-logloss:0.086519\n",
            "[278]\tvalidation_0-logloss:0.086567\n",
            "[279]\tvalidation_0-logloss:0.08659\n",
            "[280]\tvalidation_0-logloss:0.086679\n",
            "[281]\tvalidation_0-logloss:0.086637\n",
            "[282]\tvalidation_0-logloss:0.086499\n",
            "[283]\tvalidation_0-logloss:0.086356\n",
            "[284]\tvalidation_0-logloss:0.086405\n",
            "[285]\tvalidation_0-logloss:0.086429\n",
            "[286]\tvalidation_0-logloss:0.086456\n",
            "[287]\tvalidation_0-logloss:0.086504\n",
            "[288]\tvalidation_0-logloss:0.08637\n",
            "[289]\tvalidation_0-logloss:0.086457\n",
            "[290]\tvalidation_0-logloss:0.086453\n",
            "[291]\tvalidation_0-logloss:0.086322\n",
            "[292]\tvalidation_0-logloss:0.086284\n",
            "[293]\tvalidation_0-logloss:0.086148\n",
            "[294]\tvalidation_0-logloss:0.086196\n",
            "[295]\tvalidation_0-logloss:0.086221\n",
            "[296]\tvalidation_0-logloss:0.086308\n",
            "[297]\tvalidation_0-logloss:0.086178\n",
            "[298]\tvalidation_0-logloss:0.086263\n",
            "[299]\tvalidation_0-logloss:0.086131\n",
            "[300]\tvalidation_0-logloss:0.086179\n",
            "[301]\tvalidation_0-logloss:0.086052\n",
            "[302]\tvalidation_0-logloss:0.086016\n",
            "[303]\tvalidation_0-logloss:0.086101\n",
            "[304]\tvalidation_0-logloss:0.085977\n",
            "[305]\tvalidation_0-logloss:0.086059\n",
            "[306]\tvalidation_0-logloss:0.085971\n",
            "[307]\tvalidation_0-logloss:0.085998\n",
            "[308]\tvalidation_0-logloss:0.085999\n",
            "[309]\tvalidation_0-logloss:0.085877\n",
            "[310]\tvalidation_0-logloss:0.085923\n",
            "[311]\tvalidation_0-logloss:0.085948\n",
            "Stopping. Best iteration:\n",
            "[211]\tvalidation_0-logloss:0.085593\n",
            "\n"
          ]
        }
      ]
    },
    {
      "cell_type": "markdown",
      "source": [
        "-> 400으로 설정해도 311번 반복한 후 학습을 완료했다.\n",
        "\n",
        "그 이유는 211번 반복시 logloss가 0.085593이고 311번 반복시 logloss가 0.085948인데, 211번에서 311번까지 early_stopping_rounds=100으로 지정한 100번의 반복동안 성능 평가 지수가 향상되지 않았기 때문에 반복하지 않고 중단함."
      ],
      "metadata": {
        "id": "d2ToBhMoaaxy"
      }
    },
    {
      "cell_type": "code",
      "source": [
        "#조기 중단으로 학습된 XGBClassifier의 예측 성능\n",
        "get_clf_eval(y_test, ws100_preds, ws100_pred_proba)"
      ],
      "metadata": {
        "id": "86bvS5Cgaa1i",
        "colab": {
          "base_uri": "https://localhost:8080/"
        },
        "outputId": "e388a9ac-f445-4738-c0d2-915425bafd77"
      },
      "execution_count": 18,
      "outputs": [
        {
          "output_type": "stream",
          "name": "stdout",
          "text": [
            "오차 행렬\n",
            "[[34  3]\n",
            " [ 1 76]]\n",
            "정확도: 0.9649, 정밀도: 0.9620, 재현율: 0.9870,    F1: 0.9744, roc_auc:0.9954\n"
          ]
        }
      ]
    },
    {
      "cell_type": "markdown",
      "source": [
        "-> 조기 중단값을 너무 급격하게 줄이면 예측 성능이 저하될 우려가 크다. 즉  early_stopping_rounds를 너무 적게 설정하면 그 반복수 이후로 향상되는 값이 나올 수 있기 때문에 예측 성능이 나빠질 수 있다."
      ],
      "metadata": {
        "id": "fTO7jF2iaa5k"
      }
    },
    {
      "cell_type": "code",
      "source": [
        "# early_stopping_rounds를 10으로 설정하고 재학습.\n",
        "\n",
        "xgb_wrapper.fit(X_train, y_train, early_stopping_rounds=10, eval_metric=\"logloss\", eval_set = evals, verbose=True)\n",
        "\n",
        "ws10_preds = xgb_wrapper.predict(X_test)\n",
        "ws10_pred_proba= xgb_wrapper.predict_proba(X_test)[:,1]\n",
        "get_clf_eval(y_test, ws10_preds, ws10_pred_proba)"
      ],
      "metadata": {
        "id": "U6XELb9PabvM",
        "colab": {
          "base_uri": "https://localhost:8080/"
        },
        "outputId": "d3f14214-f742-487f-bcc3-9e4794b8e84d"
      },
      "execution_count": 19,
      "outputs": [
        {
          "output_type": "stream",
          "name": "stdout",
          "text": [
            "[0]\tvalidation_0-logloss:0.61352\n",
            "Will train until validation_0-logloss hasn't improved in 10 rounds.\n",
            "[1]\tvalidation_0-logloss:0.547842\n",
            "[2]\tvalidation_0-logloss:0.494247\n",
            "[3]\tvalidation_0-logloss:0.447986\n",
            "[4]\tvalidation_0-logloss:0.409109\n",
            "[5]\tvalidation_0-logloss:0.374977\n",
            "[6]\tvalidation_0-logloss:0.345714\n",
            "[7]\tvalidation_0-logloss:0.320529\n",
            "[8]\tvalidation_0-logloss:0.29721\n",
            "[9]\tvalidation_0-logloss:0.277991\n",
            "[10]\tvalidation_0-logloss:0.260302\n",
            "[11]\tvalidation_0-logloss:0.246037\n",
            "[12]\tvalidation_0-logloss:0.231556\n",
            "[13]\tvalidation_0-logloss:0.22005\n",
            "[14]\tvalidation_0-logloss:0.208572\n",
            "[15]\tvalidation_0-logloss:0.199993\n",
            "[16]\tvalidation_0-logloss:0.190118\n",
            "[17]\tvalidation_0-logloss:0.181818\n",
            "[18]\tvalidation_0-logloss:0.174729\n",
            "[19]\tvalidation_0-logloss:0.167657\n",
            "[20]\tvalidation_0-logloss:0.158202\n",
            "[21]\tvalidation_0-logloss:0.154725\n",
            "[22]\tvalidation_0-logloss:0.148947\n",
            "[23]\tvalidation_0-logloss:0.143308\n",
            "[24]\tvalidation_0-logloss:0.136344\n",
            "[25]\tvalidation_0-logloss:0.132778\n",
            "[26]\tvalidation_0-logloss:0.127912\n",
            "[27]\tvalidation_0-logloss:0.125263\n",
            "[28]\tvalidation_0-logloss:0.119978\n",
            "[29]\tvalidation_0-logloss:0.116412\n",
            "[30]\tvalidation_0-logloss:0.114502\n",
            "[31]\tvalidation_0-logloss:0.112572\n",
            "[32]\tvalidation_0-logloss:0.11154\n",
            "[33]\tvalidation_0-logloss:0.108681\n",
            "[34]\tvalidation_0-logloss:0.106681\n",
            "[35]\tvalidation_0-logloss:0.104207\n",
            "[36]\tvalidation_0-logloss:0.102962\n",
            "[37]\tvalidation_0-logloss:0.100576\n",
            "[38]\tvalidation_0-logloss:0.098683\n",
            "[39]\tvalidation_0-logloss:0.096444\n",
            "[40]\tvalidation_0-logloss:0.095869\n",
            "[41]\tvalidation_0-logloss:0.094242\n",
            "[42]\tvalidation_0-logloss:0.094715\n",
            "[43]\tvalidation_0-logloss:0.094272\n",
            "[44]\tvalidation_0-logloss:0.093894\n",
            "[45]\tvalidation_0-logloss:0.094184\n",
            "[46]\tvalidation_0-logloss:0.09402\n",
            "[47]\tvalidation_0-logloss:0.09236\n",
            "[48]\tvalidation_0-logloss:0.093012\n",
            "[49]\tvalidation_0-logloss:0.091272\n",
            "[50]\tvalidation_0-logloss:0.090051\n",
            "[51]\tvalidation_0-logloss:0.089605\n",
            "[52]\tvalidation_0-logloss:0.089577\n",
            "[53]\tvalidation_0-logloss:0.090703\n",
            "[54]\tvalidation_0-logloss:0.089579\n",
            "[55]\tvalidation_0-logloss:0.090357\n",
            "[56]\tvalidation_0-logloss:0.091587\n",
            "[57]\tvalidation_0-logloss:0.091527\n",
            "[58]\tvalidation_0-logloss:0.091986\n",
            "[59]\tvalidation_0-logloss:0.091951\n",
            "[60]\tvalidation_0-logloss:0.091939\n",
            "[61]\tvalidation_0-logloss:0.091461\n",
            "[62]\tvalidation_0-logloss:0.090311\n",
            "Stopping. Best iteration:\n",
            "[52]\tvalidation_0-logloss:0.089577\n",
            "\n",
            "오차 행렬\n",
            "[[34  3]\n",
            " [ 2 75]]\n",
            "정확도: 0.9561, 정밀도: 0.9615, 재현율: 0.9740,    F1: 0.9677, roc_auc:0.9947\n"
          ]
        }
      ]
    },
    {
      "cell_type": "markdown",
      "source": [
        "-> 62번 반복까지만 수행된 후 학습이 종료됐는데 이때 예측 결과 정확도는 early_stopping_rounds가 100일때보다 낮다.\n",
        "\n"
      ],
      "metadata": {
        "id": "Ov-K19Jqaa-E"
      }
    },
    {
      "cell_type": "code",
      "source": [
        "from xgboost import plot_importance\n",
        "import matplotlib.pyplot as plt\n",
        "%matplotlib inline\n",
        "\n",
        "fig, ax= plt.subplots(figsize=(10,12))\n",
        "#사이킷런 Wrapper 클래스를 입력해도 무방.\n",
        "plot_importance(xgb_wrapper, ax=ax)"
      ],
      "metadata": {
        "colab": {
          "base_uri": "https://localhost:8080/",
          "height": 747
        },
        "id": "SXo38qGlyPJq",
        "outputId": "0b6970c3-91c3-4996-b304-e66875cd769d"
      },
      "execution_count": 20,
      "outputs": [
        {
          "output_type": "execute_result",
          "data": {
            "text/plain": [
              "<matplotlib.axes._subplots.AxesSubplot at 0x7fe5cd4707d0>"
            ]
          },
          "metadata": {},
          "execution_count": 20
        },
        {
          "output_type": "display_data",
          "data": {
            "text/plain": [
              "<Figure size 720x864 with 1 Axes>"
            ],
            "image/png": "[encoded data removed]"
          },
          "metadata": {
            "needs_background": "light"
          }
        }
      ]
    },
    {
      "cell_type": "markdown",
      "source": [
        "\n",
        "\n",
        "---\n",
        "### 07 LightGBM\n",
        "* 부스팅 계열 알고리즘에서 각광 받고 있다.\n",
        "* XGBoost보다 학습에 걸리는 시간이 훨씬 적고 메모리 사용량도 적다. \n",
        "* 단점은 적은 데이터 세트에 적용할 경우 과적합이 발생하기 쉽다. (일반적으로 만건 이하의 데이터 세트정도가 적은 데이터 세트)\n",
        "* GBM계열의 트리 분할 방법과 다르게 **리프 중심 트리 분할 방식을 사용함.**\n",
        "* 최대 손실값을 가지는 리프 노드를 지속적으로 분할해 생성된 규칙 트리는 학습을 반복할수록 결국은 균형 트리 분할 방식보다 예측 오류 손실을 최소화 할 수 있다.\n",
        "\n",
        "정리하면, \n",
        "1. 더빠른 학습과 예측 수행시간.\n",
        "\n",
        "2. 더 작은 메모리 사용량\n",
        "\n",
        "3. 카테고리형 피처의 자동변환과 최적 분할( 원-핫 인코딩 등을 사용하지 않고도 카테고리형 피처를 최적으로 변환하고 이에 따른 노드 분할 수행)\n",
        "\n",
        "패키지명 : LightGBM\n",
        "분류를 위한 클랫 : LGBMClassifier\n",
        "회귀를 위한 클래스: LGBMRegressor\n",
        "\n"
      ],
      "metadata": {
        "id": "qL24s05yyPPm"
      }
    },
    {
      "cell_type": "markdown",
      "source": [
        "### LightGBM 하이퍼 파라미터\n",
        "\n",
        "* 주요 파라미터\n",
        "  * num_iterations: 반복수행하려는 트리의 개수를 지정 크게 지정할수록 에측 성능이 높아질 수 있으나, 너무 크면 과적합으로 성능 저하. n_estimator와 같음.\n",
        "  * learning_rate: 0에서 1사이의 값을 지정해 부스팅 스텝을 반복적으로 수행할 때 업데이트되는 학습률 값. 일반적으로 n_estimator를 크게 하고, learning_rate를 작게 해서 예측 성능을 향상시킬 수 있으나, 과적합 이슈와 학습 시간이 길어지는 영향이 있을 수도 있음.\n",
        "  * max_depth: 트리기반 알고리즘의 max_depth와 같음.\n",
        "  * min_data_in_deaf [default=20]: 최종 결정 크래스인 리프 노드가 되기 위해서 최소한으로 필요한 레코드 수이며, 과적합을 제어하기 위한 파라미터. 사이킷런 래퍼 LightGBM 클래스인 LightGBMClassifier에서는 min_child_samples 파라미터로 이름이 변경.\n",
        "  * num_leaves: 하나의 트리가 가질 수 있는 최대 리프 개수\n",
        "  * boosting: 부스팅 트리를 생성하는 알고리즘 기술\n",
        "     * gbdt: 일반적인 그래디언트 부스팅 결정 트리\n",
        "     * rf: 랜덤 포레스트\n",
        "  * bagging_fraction [default=1.0]:트리가 커져 과적합 되는 것을 제어하기 위해 데이터를 샘플링하는 비율 지정\n",
        "  * feature_fraction [default=1.0]: 개별 트리를 학습할 때마다 무작위로 선택하는 피처의 비율. 과적합을 막기 위해 사용됨\n",
        "  * lambda_l2: 앞서와 동일\n",
        "  * labmda_l1: 앞서와 동일\n",
        "\n",
        "* Learning Task파라미터\n",
        "  * objective: 최솟값을 가져야 할 손실함수를 정의.회귀, 다중 클래스 분류, 이진 분류인지에 따라서 손실함수가 지정됨.\n",
        "\n",
        "### 하이퍼 파라미터 튜닝 방안\n",
        "num_leaves의 개수를 중심으로 min_child_sampels(min_data_in_leaf), max_depth를 함께 조정하면서 모델의 복잡도를 줄이는 것이 기본 튜닝 방안\n",
        "\n",
        "  * num_leaves: 개별 트리가 가질 수 있는 최대 리프의 개수, LightGBM 모델의 복잡도를 제어하는 주요 파라미터. 일반적으로 num_leaves의 개수를 높이면 정확도가 높아지지만, 반대로 트리의 깊이가 깊어지고 모델이 복잡도가 커져 과적합 영향도가 커진다.\n",
        "  * min_data_in_leaf: 사이킷런 래퍼 클래스에서는 min_child_samples. 과적합을 개선하기 위한 중요 파라미터. num_leaves와 학습 데이터의 크기에 따라 달라지지만, 보통 큰 값으로 설정하면 트리가 깊어지는 것을 방지한다.\n",
        "  * max_depth는 명시적으로 깊이의 크기를 제한한다. num_leaves,min_data_in_leaf와 결합해 과적합을 개선하는 데 사용.\n",
        "\n",
        "learning_rate를 작게 하면서 n_estimators를 크게 하는 것은 부스팅 계열 튜닝에서 가장 기본적인 튜닝 방안이므로 이를 적용하는 것도 좋다.\n",
        "n_estimators를 너무 크게 하는 것은 과적합으로 오히려 성능이 저하될 수 있음을 유념해야 한다.\n",
        "\n",
        "이밖에 과적합을 제어하기 위해서 reg_lambda, reg_alpha와 같은 regularization을 적용하거나 학습 데이터에 사용할 피처의 개수나 데이터 샘플링 레코드 개수를 줄이기 위해 colsample_bytree, subsample 파라미터를 적용할 수 있다.\n",
        "\n",
        "### 파이썬 래퍼 LightGBM과 사이킷런 래퍼 XGBoost, LightGBM 하이퍼 파라미터 비교\n",
        "\n",
        "LightGBM은 사이킷런과 호환하기 위해 분류를 위한 LGBMClassifier와 회귀를 위한 LGBMRegressor 클래스를 래퍼 클래스로 생성\n",
        "사이킷런 래퍼 클래스를 제공한 XGBoost는 사이킷런 하이퍼 명명 규칙에 따라 자신의 하이퍼 파라미터를 변경\n",
        "\n",
        "LightGBM은 XGBoost와 많은 유사한 기능이 있었기에 사이킷런 LightGBM의 하이퍼 파라미터를 사이킷런 XGboost에 맞춰서 변경. 이 때문에 사이킷런 래퍼 LightGBM 클래스와 사이킷런 래퍼 XGBoost 클래스는 많은 하이퍼 파라미터가 똑같다.\n",
        "\n",
        "\n",
        "---\n",
        "\n",
        "\n",
        "### LightGBM 적용 - 위스콘신 유방암 예측"
      ],
      "metadata": {
        "id": "iFb9W56EyPaT"
      }
    },
    {
      "cell_type": "code",
      "source": [
        "# LightGBM의 파이썬 패키지인 lightgbm 에서 LGBMClassifier 임포트\n",
        "from lightgbm import LGBMClassifier\n",
        "\n",
        "import pandas as pd\n",
        "import numpy as np\n",
        "from sklearn.datasets import load_breast_cancer\n",
        "from sklearn.model_selection import train_test_split\n",
        "\n",
        "dataset = load_breast_cancer()\n",
        "ftr = dataset.data\n",
        "target = dataset.target\n",
        "\n",
        "# 전체 데이터 중 80%는 학습용 데이터, 20%는 테스트용 데이터 추출\n",
        "X_train, X_test, y_train, y_test = train_test_split(ftr, target, test_size=0.2, random_state=156)\n",
        "\n",
        "# 앞서 XGBoost와 동일하게 n_estimators는 400 설정\n",
        "lgbm_wrapper = LGBMClassifier(n_estimators=400)\n",
        "\n",
        "# LightGBM도 XGBoost와 동일하게 조기 중단 수행 가능. \n",
        "evals = [(X_test, y_test)]\n",
        "lgbm_wrapper.fit(X_train, y_train, early_stopping_rounds=100, eval_metric=\"logloss\",\n",
        "                 eval_set=evals, verbose=True)\n",
        "preds = lgbm_wrapper.predict(X_test)\n",
        "pred_proba = lgbm_wrapper.predict_proba(X_test)[:, 1]"
      ],
      "metadata": {
        "id": "PgZLrcGFyPez",
        "colab": {
          "base_uri": "https://localhost:8080/"
        },
        "outputId": "d82337dc-2d8c-4dcd-9040-dc398487a21b"
      },
      "execution_count": 21,
      "outputs": [
        {
          "output_type": "stream",
          "name": "stdout",
          "text": [
            "[1]\tvalid_0's binary_logloss: 0.565079\tvalid_0's binary_logloss: 0.565079\n",
            "Training until validation scores don't improve for 100 rounds.\n",
            "[2]\tvalid_0's binary_logloss: 0.507451\tvalid_0's binary_logloss: 0.507451\n",
            "[3]\tvalid_0's binary_logloss: 0.458489\tvalid_0's binary_logloss: 0.458489\n",
            "[4]\tvalid_0's binary_logloss: 0.417481\tvalid_0's binary_logloss: 0.417481\n",
            "[5]\tvalid_0's binary_logloss: 0.385507\tvalid_0's binary_logloss: 0.385507\n",
            "[6]\tvalid_0's binary_logloss: 0.355846\tvalid_0's binary_logloss: 0.355846\n",
            "[7]\tvalid_0's binary_logloss: 0.330897\tvalid_0's binary_logloss: 0.330897\n",
            "[8]\tvalid_0's binary_logloss: 0.306923\tvalid_0's binary_logloss: 0.306923\n",
            "[9]\tvalid_0's binary_logloss: 0.28776\tvalid_0's binary_logloss: 0.28776\n",
            "[10]\tvalid_0's binary_logloss: 0.26917\tvalid_0's binary_logloss: 0.26917\n",
            "[11]\tvalid_0's binary_logloss: 0.250954\tvalid_0's binary_logloss: 0.250954\n",
            "[12]\tvalid_0's binary_logloss: 0.23847\tvalid_0's binary_logloss: 0.23847\n",
            "[13]\tvalid_0's binary_logloss: 0.225865\tvalid_0's binary_logloss: 0.225865\n",
            "[14]\tvalid_0's binary_logloss: 0.215076\tvalid_0's binary_logloss: 0.215076\n",
            "[15]\tvalid_0's binary_logloss: 0.205996\tvalid_0's binary_logloss: 0.205996\n",
            "[16]\tvalid_0's binary_logloss: 0.196091\tvalid_0's binary_logloss: 0.196091\n",
            "[17]\tvalid_0's binary_logloss: 0.186395\tvalid_0's binary_logloss: 0.186395\n",
            "[18]\tvalid_0's binary_logloss: 0.17942\tvalid_0's binary_logloss: 0.17942\n",
            "[19]\tvalid_0's binary_logloss: 0.174727\tvalid_0's binary_logloss: 0.174727\n",
            "[20]\tvalid_0's binary_logloss: 0.168563\tvalid_0's binary_logloss: 0.168563\n",
            "[21]\tvalid_0's binary_logloss: 0.165432\tvalid_0's binary_logloss: 0.165432\n",
            "[22]\tvalid_0's binary_logloss: 0.160356\tvalid_0's binary_logloss: 0.160356\n",
            "[23]\tvalid_0's binary_logloss: 0.155508\tvalid_0's binary_logloss: 0.155508\n",
            "[24]\tvalid_0's binary_logloss: 0.151598\tvalid_0's binary_logloss: 0.151598\n",
            "[25]\tvalid_0's binary_logloss: 0.149861\tvalid_0's binary_logloss: 0.149861\n",
            "[26]\tvalid_0's binary_logloss: 0.149873\tvalid_0's binary_logloss: 0.149873\n",
            "[27]\tvalid_0's binary_logloss: 0.147032\tvalid_0's binary_logloss: 0.147032\n",
            "[28]\tvalid_0's binary_logloss: 0.145077\tvalid_0's binary_logloss: 0.145077\n",
            "[29]\tvalid_0's binary_logloss: 0.139891\tvalid_0's binary_logloss: 0.139891\n",
            "[30]\tvalid_0's binary_logloss: 0.137416\tvalid_0's binary_logloss: 0.137416\n",
            "[31]\tvalid_0's binary_logloss: 0.138393\tvalid_0's binary_logloss: 0.138393\n",
            "[32]\tvalid_0's binary_logloss: 0.135948\tvalid_0's binary_logloss: 0.135948\n",
            "[33]\tvalid_0's binary_logloss: 0.132968\tvalid_0's binary_logloss: 0.132968\n",
            "[34]\tvalid_0's binary_logloss: 0.129697\tvalid_0's binary_logloss: 0.129697\n",
            "[35]\tvalid_0's binary_logloss: 0.131102\tvalid_0's binary_logloss: 0.131102\n",
            "[36]\tvalid_0's binary_logloss: 0.129382\tvalid_0's binary_logloss: 0.129382\n",
            "[37]\tvalid_0's binary_logloss: 0.128044\tvalid_0's binary_logloss: 0.128044\n",
            "[38]\tvalid_0's binary_logloss: 0.127325\tvalid_0's binary_logloss: 0.127325\n",
            "[39]\tvalid_0's binary_logloss: 0.128091\tvalid_0's binary_logloss: 0.128091\n",
            "[40]\tvalid_0's binary_logloss: 0.129045\tvalid_0's binary_logloss: 0.129045\n",
            "[41]\tvalid_0's binary_logloss: 0.127023\tvalid_0's binary_logloss: 0.127023\n",
            "[42]\tvalid_0's binary_logloss: 0.129314\tvalid_0's binary_logloss: 0.129314\n",
            "[43]\tvalid_0's binary_logloss: 0.129175\tvalid_0's binary_logloss: 0.129175\n",
            "[44]\tvalid_0's binary_logloss: 0.128212\tvalid_0's binary_logloss: 0.128212\n",
            "[45]\tvalid_0's binary_logloss: 0.126664\tvalid_0's binary_logloss: 0.126664\n",
            "[46]\tvalid_0's binary_logloss: 0.127662\tvalid_0's binary_logloss: 0.127662\n",
            "[47]\tvalid_0's binary_logloss: 0.126108\tvalid_0's binary_logloss: 0.126108\n",
            "[48]\tvalid_0's binary_logloss: 0.129371\tvalid_0's binary_logloss: 0.129371\n",
            "[49]\tvalid_0's binary_logloss: 0.129573\tvalid_0's binary_logloss: 0.129573\n",
            "[50]\tvalid_0's binary_logloss: 0.130876\tvalid_0's binary_logloss: 0.130876\n",
            "[51]\tvalid_0's binary_logloss: 0.131366\tvalid_0's binary_logloss: 0.131366\n",
            "[52]\tvalid_0's binary_logloss: 0.131336\tvalid_0's binary_logloss: 0.131336\n",
            "[53]\tvalid_0's binary_logloss: 0.13208\tvalid_0's binary_logloss: 0.13208\n",
            "[54]\tvalid_0's binary_logloss: 0.13306\tvalid_0's binary_logloss: 0.13306\n",
            "[55]\tvalid_0's binary_logloss: 0.132342\tvalid_0's binary_logloss: 0.132342\n",
            "[56]\tvalid_0's binary_logloss: 0.134836\tvalid_0's binary_logloss: 0.134836\n",
            "[57]\tvalid_0's binary_logloss: 0.135208\tvalid_0's binary_logloss: 0.135208\n",
            "[58]\tvalid_0's binary_logloss: 0.13328\tvalid_0's binary_logloss: 0.13328\n",
            "[59]\tvalid_0's binary_logloss: 0.134147\tvalid_0's binary_logloss: 0.134147\n",
            "[60]\tvalid_0's binary_logloss: 0.134549\tvalid_0's binary_logloss: 0.134549\n",
            "[61]\tvalid_0's binary_logloss: 0.133202\tvalid_0's binary_logloss: 0.133202\n",
            "[62]\tvalid_0's binary_logloss: 0.135726\tvalid_0's binary_logloss: 0.135726\n",
            "[63]\tvalid_0's binary_logloss: 0.134011\tvalid_0's binary_logloss: 0.134011\n",
            "[64]\tvalid_0's binary_logloss: 0.131493\tvalid_0's binary_logloss: 0.131493\n",
            "[65]\tvalid_0's binary_logloss: 0.134114\tvalid_0's binary_logloss: 0.134114\n",
            "[66]\tvalid_0's binary_logloss: 0.134525\tvalid_0's binary_logloss: 0.134525\n",
            "[67]\tvalid_0's binary_logloss: 0.131412\tvalid_0's binary_logloss: 0.131412\n",
            "[68]\tvalid_0's binary_logloss: 0.12878\tvalid_0's binary_logloss: 0.12878\n",
            "[69]\tvalid_0's binary_logloss: 0.129571\tvalid_0's binary_logloss: 0.129571\n",
            "[70]\tvalid_0's binary_logloss: 0.129671\tvalid_0's binary_logloss: 0.129671\n",
            "[71]\tvalid_0's binary_logloss: 0.129935\tvalid_0's binary_logloss: 0.129935\n",
            "[72]\tvalid_0's binary_logloss: 0.128951\tvalid_0's binary_logloss: 0.128951\n",
            "[73]\tvalid_0's binary_logloss: 0.128977\tvalid_0's binary_logloss: 0.128977\n",
            "[74]\tvalid_0's binary_logloss: 0.127121\tvalid_0's binary_logloss: 0.127121\n",
            "[75]\tvalid_0's binary_logloss: 0.128107\tvalid_0's binary_logloss: 0.128107\n",
            "[76]\tvalid_0's binary_logloss: 0.129796\tvalid_0's binary_logloss: 0.129796\n",
            "[77]\tvalid_0's binary_logloss: 0.131663\tvalid_0's binary_logloss: 0.131663\n",
            "[78]\tvalid_0's binary_logloss: 0.132483\tvalid_0's binary_logloss: 0.132483\n",
            "[79]\tvalid_0's binary_logloss: 0.131578\tvalid_0's binary_logloss: 0.131578\n",
            "[80]\tvalid_0's binary_logloss: 0.130352\tvalid_0's binary_logloss: 0.130352\n",
            "[81]\tvalid_0's binary_logloss: 0.129895\tvalid_0's binary_logloss: 0.129895\n",
            "[82]\tvalid_0's binary_logloss: 0.131587\tvalid_0's binary_logloss: 0.131587\n",
            "[83]\tvalid_0's binary_logloss: 0.132763\tvalid_0's binary_logloss: 0.132763\n",
            "[84]\tvalid_0's binary_logloss: 0.133677\tvalid_0's binary_logloss: 0.133677\n",
            "[85]\tvalid_0's binary_logloss: 0.137552\tvalid_0's binary_logloss: 0.137552\n",
            "[86]\tvalid_0's binary_logloss: 0.136055\tvalid_0's binary_logloss: 0.136055\n",
            "[87]\tvalid_0's binary_logloss: 0.137904\tvalid_0's binary_logloss: 0.137904\n",
            "[88]\tvalid_0's binary_logloss: 0.139524\tvalid_0's binary_logloss: 0.139524\n",
            "[89]\tvalid_0's binary_logloss: 0.138434\tvalid_0's binary_logloss: 0.138434\n",
            "[90]\tvalid_0's binary_logloss: 0.138402\tvalid_0's binary_logloss: 0.138402\n",
            "[91]\tvalid_0's binary_logloss: 0.139384\tvalid_0's binary_logloss: 0.139384\n",
            "[92]\tvalid_0's binary_logloss: 0.139642\tvalid_0's binary_logloss: 0.139642\n",
            "[93]\tvalid_0's binary_logloss: 0.138006\tvalid_0's binary_logloss: 0.138006\n",
            "[94]\tvalid_0's binary_logloss: 0.141612\tvalid_0's binary_logloss: 0.141612\n",
            "[95]\tvalid_0's binary_logloss: 0.142319\tvalid_0's binary_logloss: 0.142319\n",
            "[96]\tvalid_0's binary_logloss: 0.145095\tvalid_0's binary_logloss: 0.145095\n",
            "[97]\tvalid_0's binary_logloss: 0.141542\tvalid_0's binary_logloss: 0.141542\n",
            "[98]\tvalid_0's binary_logloss: 0.144993\tvalid_0's binary_logloss: 0.144993\n",
            "[99]\tvalid_0's binary_logloss: 0.147936\tvalid_0's binary_logloss: 0.147936\n",
            "[100]\tvalid_0's binary_logloss: 0.147432\tvalid_0's binary_logloss: 0.147432\n",
            "[101]\tvalid_0's binary_logloss: 0.149689\tvalid_0's binary_logloss: 0.149689\n",
            "[102]\tvalid_0's binary_logloss: 0.153542\tvalid_0's binary_logloss: 0.153542\n",
            "[103]\tvalid_0's binary_logloss: 0.154556\tvalid_0's binary_logloss: 0.154556\n",
            "[104]\tvalid_0's binary_logloss: 0.155458\tvalid_0's binary_logloss: 0.155458\n",
            "[105]\tvalid_0's binary_logloss: 0.159357\tvalid_0's binary_logloss: 0.159357\n",
            "[106]\tvalid_0's binary_logloss: 0.160176\tvalid_0's binary_logloss: 0.160176\n",
            "[107]\tvalid_0's binary_logloss: 0.163369\tvalid_0's binary_logloss: 0.163369\n",
            "[108]\tvalid_0's binary_logloss: 0.163494\tvalid_0's binary_logloss: 0.163494\n",
            "[109]\tvalid_0's binary_logloss: 0.161111\tvalid_0's binary_logloss: 0.161111\n",
            "[110]\tvalid_0's binary_logloss: 0.16332\tvalid_0's binary_logloss: 0.16332\n",
            "[111]\tvalid_0's binary_logloss: 0.1663\tvalid_0's binary_logloss: 0.1663\n",
            "[112]\tvalid_0's binary_logloss: 0.166363\tvalid_0's binary_logloss: 0.166363\n",
            "[113]\tvalid_0's binary_logloss: 0.169834\tvalid_0's binary_logloss: 0.169834\n",
            "[114]\tvalid_0's binary_logloss: 0.166509\tvalid_0's binary_logloss: 0.166509\n",
            "[115]\tvalid_0's binary_logloss: 0.165823\tvalid_0's binary_logloss: 0.165823\n",
            "[116]\tvalid_0's binary_logloss: 0.167059\tvalid_0's binary_logloss: 0.167059\n",
            "[117]\tvalid_0's binary_logloss: 0.169086\tvalid_0's binary_logloss: 0.169086\n",
            "[118]\tvalid_0's binary_logloss: 0.170012\tvalid_0's binary_logloss: 0.170012\n",
            "[119]\tvalid_0's binary_logloss: 0.168639\tvalid_0's binary_logloss: 0.168639\n",
            "[120]\tvalid_0's binary_logloss: 0.16907\tvalid_0's binary_logloss: 0.16907\n",
            "[121]\tvalid_0's binary_logloss: 0.16918\tvalid_0's binary_logloss: 0.16918\n",
            "[122]\tvalid_0's binary_logloss: 0.170233\tvalid_0's binary_logloss: 0.170233\n",
            "[123]\tvalid_0's binary_logloss: 0.165655\tvalid_0's binary_logloss: 0.165655\n",
            "[124]\tvalid_0's binary_logloss: 0.16695\tvalid_0's binary_logloss: 0.16695\n",
            "[125]\tvalid_0's binary_logloss: 0.170955\tvalid_0's binary_logloss: 0.170955\n",
            "[126]\tvalid_0's binary_logloss: 0.168916\tvalid_0's binary_logloss: 0.168916\n",
            "[127]\tvalid_0's binary_logloss: 0.172316\tvalid_0's binary_logloss: 0.172316\n",
            "[128]\tvalid_0's binary_logloss: 0.173734\tvalid_0's binary_logloss: 0.173734\n",
            "[129]\tvalid_0's binary_logloss: 0.174309\tvalid_0's binary_logloss: 0.174309\n",
            "[130]\tvalid_0's binary_logloss: 0.176719\tvalid_0's binary_logloss: 0.176719\n",
            "[131]\tvalid_0's binary_logloss: 0.176591\tvalid_0's binary_logloss: 0.176591\n",
            "[132]\tvalid_0's binary_logloss: 0.180168\tvalid_0's binary_logloss: 0.180168\n",
            "[133]\tvalid_0's binary_logloss: 0.179856\tvalid_0's binary_logloss: 0.179856\n",
            "[134]\tvalid_0's binary_logloss: 0.179251\tvalid_0's binary_logloss: 0.179251\n",
            "[135]\tvalid_0's binary_logloss: 0.18315\tvalid_0's binary_logloss: 0.18315\n",
            "[136]\tvalid_0's binary_logloss: 0.184656\tvalid_0's binary_logloss: 0.184656\n",
            "[137]\tvalid_0's binary_logloss: 0.187475\tvalid_0's binary_logloss: 0.187475\n",
            "[138]\tvalid_0's binary_logloss: 0.188721\tvalid_0's binary_logloss: 0.188721\n",
            "[139]\tvalid_0's binary_logloss: 0.188542\tvalid_0's binary_logloss: 0.188542\n",
            "[140]\tvalid_0's binary_logloss: 0.18817\tvalid_0's binary_logloss: 0.18817\n",
            "[141]\tvalid_0's binary_logloss: 0.185899\tvalid_0's binary_logloss: 0.185899\n",
            "[142]\tvalid_0's binary_logloss: 0.185452\tvalid_0's binary_logloss: 0.185452\n",
            "[143]\tvalid_0's binary_logloss: 0.186084\tvalid_0's binary_logloss: 0.186084\n",
            "[144]\tvalid_0's binary_logloss: 0.185302\tvalid_0's binary_logloss: 0.185302\n",
            "[145]\tvalid_0's binary_logloss: 0.187856\tvalid_0's binary_logloss: 0.187856\n",
            "[146]\tvalid_0's binary_logloss: 0.190334\tvalid_0's binary_logloss: 0.190334\n",
            "[147]\tvalid_0's binary_logloss: 0.192769\tvalid_0's binary_logloss: 0.192769\n",
            "Early stopping, best iteration is:\n",
            "[47]\tvalid_0's binary_logloss: 0.126108\tvalid_0's binary_logloss: 0.126108\n"
          ]
        }
      ]
    },
    {
      "cell_type": "code",
      "source": [
        "get_clf_eval(y_test, preds, pred_proba)"
      ],
      "metadata": {
        "colab": {
          "base_uri": "https://localhost:8080/"
        },
        "id": "7AGURXzQNIBS",
        "outputId": "f69f2e2b-b955-4b1b-c496-6d6b737e5050"
      },
      "execution_count": 22,
      "outputs": [
        {
          "output_type": "stream",
          "name": "stdout",
          "text": [
            "오차 행렬\n",
            "[[33  4]\n",
            " [ 2 75]]\n",
            "정확도: 0.9474, 정밀도: 0.9494, 재현율: 0.9740,    F1: 0.9615, roc_auc:0.9926\n"
          ]
        }
      ]
    },
    {
      "cell_type": "markdown",
      "source": [
        "-> 정확도가 약 94.74%이다. 앞 예제의 XGBoost인 경우보다는 작지만 워낙 데이터 세트 크기가 작아 성능 비교는 큰 의미가 없다. \n"
      ],
      "metadata": {
        "id": "1rq2d0BGyPkP"
      }
    },
    {
      "cell_type": "code",
      "source": [
        "#피처 중요도 시각화 제공\n",
        "from lightgbm import plot_importance\n",
        "import matplotlib.pyplot as plt\n",
        "%matplotlib inline\n",
        "\n",
        "fig, ax = plt.subplots(figsize=(10, 12))\n",
        "plot_importance(lgbm_wrapper, ax=ax)"
      ],
      "metadata": {
        "id": "DYiVpqu-yPpf",
        "colab": {
          "base_uri": "https://localhost:8080/",
          "height": 747
        },
        "outputId": "82418d8e-98f8-4724-d4e7-286c1bc63251"
      },
      "execution_count": 23,
      "outputs": [
        {
          "output_type": "execute_result",
          "data": {
            "text/plain": [
              "<matplotlib.axes._subplots.AxesSubplot at 0x7fe5cc31ad50>"
            ]
          },
          "metadata": {},
          "execution_count": 23
        },
        {
          "output_type": "display_data",
          "data": {
            "text/plain": [
              "<Figure size 720x864 with 1 Axes>"
            ],
            "image/png": "[encoded data removed]"
          },
          "metadata": {
            "needs_background": "light"
          }
        }
      ]
    },
    {
      "cell_type": "markdown",
      "source": [
        "## 10 스태킹 앙상블\n",
        "\n",
        " 스태킹(Staking)은 개별적인 여러 알고리즘을 서로 결합해 예측 결과를 도출한다는 점에서 앞에 소개한 배깅(Bagging) 및 부스팅(Boosting)과 공통점을 가지고 있다.\n",
        "\n",
        "가장 큰 차이점은 개별 알고리즘으로 예측한 데이터를 기반으로 다시 예측을 수행한다는 것이다. 즉, 개별 알고리즘의 예측 결과 데이터 세트를 최종적인 메타 데이터 세트로 만들의 별도의 ML 알고리즘으로 최종 학습을 수행하고 테스트 데이터를 기반으로 다시 최종 예측을 수행하는 방식이다.\n",
        "\n",
        "메타 모델: 개별 모델의 예측된 데이터 세트를 다시 기반으로 하여 학습하고 예측하는 방식\n",
        "\n",
        "------------------\n",
        "스태킹 모델은 두 종류의 모델이 필요하다.\n",
        "\n",
        "1. 개별적인 기반 모델\n",
        "\n",
        "2. 최종 메타 모델\n",
        "\n",
        "핵심: 여러 개별 모델의 예측 데이터를 각각 스태킹 형태로 결합해 최종 메타 모델의 학습용 피처 데이터 세트와 테스트용 피처 데이터 세트를 만드는 것.\n",
        "\n",
        "스태킹을 적용할 때는 많은 개별 모델이 필요함: 2~3개의 개별 모델만을 결합해서는 쉽게 예측 성능을 향상시킬 수 없으며, 스태킹을 적용한다고 해서 반드시 성능 향상이 되리라는 보장도 없음. 일반적으로 성능이 비슷한 모델을 결합해 좀 더 나은 성능 향상을 도출하기 위해 적용된다.\n",
        "\n",
        "즉, 여러 개의 모델에 대한 예측값을 합한 후, 스태킹 형태로 쌓은 뒤 이에 대한 예측을 다시 수행하는 것\n",
        "\n",
        "\n",
        "\n",
        "---\n",
        "### 기본 스태킹 모델\n"
      ],
      "metadata": {
        "id": "2y0kxdtayPuR"
      }
    },
    {
      "cell_type": "code",
      "source": [
        "import numpy as np\n",
        "\n",
        "from sklearn.neighbors import KNeighborsClassifier\n",
        "from sklearn.ensemble import RandomForestClassifier\n",
        "from sklearn.ensemble import AdaBoostClassifier\n",
        "from sklearn.tree import DecisionTreeClassifier\n",
        "from sklearn.linear_model import LogisticRegression\n",
        "\n",
        "from sklearn.datasets import load_breast_cancer\n",
        "from sklearn.model_selection import train_test_split\n",
        "from sklearn.metrics import accuracy_score\n",
        "\n",
        "cancer_data = load_breast_cancer()\n",
        "\n",
        "X_data = cancer_data.data\n",
        "y_label = cancer_data.target\n",
        "\n",
        "X_train, X_test, y_train, y_test = train_test_split(X_data, y_label, test_size=0.2, random_state=0)"
      ],
      "metadata": {
        "id": "kHs0delpyPzO"
      },
      "execution_count": 24,
      "outputs": []
    },
    {
      "cell_type": "markdown",
      "source": [
        "스태킹에 사용될 머신러닝 알고리즘 클래스 생성\n",
        "\n",
        "개별 모델은 KNN, 랜덤 포레스트, 결정트리, 에이다부스트이며, 이들 모델의 예측 결과를 합한 데이터 세트로 학습/예측하는 최종 모델은 로지스틱 회귀이다."
      ],
      "metadata": {
        "id": "-DNwXiE1yP4L"
      }
    },
    {
      "cell_type": "code",
      "source": [
        "# 개별 ML 모델 생성\n",
        "knn_clf = KNeighborsClassifier(n_neighbors=4)\n",
        "rf_clf = RandomForestClassifier(n_estimators=100, random_state=0)\n",
        "dt_clf = DecisionTreeClassifier()\n",
        "ada_clf = AdaBoostClassifier(n_estimators=100)\n",
        "\n",
        "# 스태킹으로 만들어진 데이터 세트를 학습, 예측할 최종 모델\n",
        "lr_final = LogisticRegression(C=10)"
      ],
      "metadata": {
        "id": "FIdfrP0PyP9r"
      },
      "execution_count": 25,
      "outputs": []
    },
    {
      "cell_type": "markdown",
      "source": [],
      "metadata": {
        "id": "ZQz-6jrmyQCK"
      }
    },
    {
      "cell_type": "code",
      "source": [
        "# 개별 모델들을 학습.\n",
        "knn_clf.fit(X_train, y_train)\n",
        "rf_clf.fit(X_train, y_train)\n",
        "dt_clf.fit(X_train, y_train)\n",
        "ada_clf.fit(X_train, y_train)"
      ],
      "metadata": {
        "id": "viJjxiUTyQHf",
        "colab": {
          "base_uri": "https://localhost:8080/"
        },
        "outputId": "ec59b3e3-99a4-40bf-d29e-6c7dd5d50fc8"
      },
      "execution_count": 26,
      "outputs": [
        {
          "output_type": "execute_result",
          "data": {
            "text/plain": [
              "AdaBoostClassifier(n_estimators=100)"
            ]
          },
          "metadata": {},
          "execution_count": 26
        }
      ]
    },
    {
      "cell_type": "markdown",
      "source": [
        "개별 모델의 예측 데이터 세트를 반환하고 각 모델의 예측 정확도살펴보자."
      ],
      "metadata": {
        "id": "gC1-qOWRyQMj"
      }
    },
    {
      "cell_type": "code",
      "source": [
        "knn_pred = knn_clf.predict(X_test)\n",
        "rf_pred = rf_clf.predict(X_test)\n",
        "dt_pred = dt_clf.predict(X_test)\n",
        "ada_pred = ada_clf.predict(X_test)\n",
        "\n",
        "print('KNN 정확도: {0:.4f}'.format(accuracy_score(y_test, knn_pred)))\n",
        "print('랜덤 포레스트 정확도: {0:.4f}'.format(accuracy_score(y_test, rf_pred)))\n",
        "print('결정 트리 정확도: {0:.4f}'.format(accuracy_score(y_test, dt_pred)))\n",
        "print('에어다부스트 정확도: {0:.4f}'.format(accuracy_score(y_test, ada_pred)))"
      ],
      "metadata": {
        "id": "u8TIu16tyQQ_",
        "colab": {
          "base_uri": "https://localhost:8080/"
        },
        "outputId": "65567538-0126-4335-e2e7-12ae86b96c8c"
      },
      "execution_count": 28,
      "outputs": [
        {
          "output_type": "stream",
          "name": "stdout",
          "text": [
            "KNN 정확도: 0.9211\n",
            "랜덤 포레스트 정확도: 0.9649\n",
            "결정 트리 정확도: 0.9035\n",
            "에어다부스트 정확도: 0.9561\n"
          ]
        }
      ]
    },
    {
      "cell_type": "markdown",
      "source": [
        "개별 알고리즘으로부터 예측된 예측값을 칼럼 레벨로 옆으로 붙여서 피처 값으로 만들어, 최종 메타 모델인 로지스틱 회귀에서 학습 데이터로 다시 사용한다.\n",
        "\n",
        "반환된 예측 데이터 세트는 1차원 형태의 ndarray이므로 먼저 반환된 예측 결과를 행 형태로 붙인 뒤, 넘파이의 transpose()를 이용해 행과 열 위치를 바꾼 ndarray로 변환하면 된다."
      ],
      "metadata": {
        "id": "hYpA5004yQVH"
      }
    },
    {
      "cell_type": "code",
      "source": [
        "pred = np.array([knn_pred, rf_pred, dt_pred, ada_pred])\n",
        "print(pred.shape)\n",
        "\n",
        "# transpose를 이용해 행과 열의 위치 교환. 칼럼 레벨로 각 알고리즘의 예측 결과를 피처로 만듦\n",
        "pred = np.transpose(pred)\n",
        "print(pred.shape)"
      ],
      "metadata": {
        "id": "EVyezoAtyQal",
        "colab": {
          "base_uri": "https://localhost:8080/"
        },
        "outputId": "166882e1-f397-44d4-85ad-a9d9908c06c6"
      },
      "execution_count": 29,
      "outputs": [
        {
          "output_type": "stream",
          "name": "stdout",
          "text": [
            "(4, 114)\n",
            "(114, 4)\n"
          ]
        }
      ]
    },
    {
      "cell_type": "markdown",
      "source": [
        "이렇게 예측 데이터로 생성된 데이터 세트를 기반으로 최종 메타 모델인 로지스틱 회귀를 학습하고 예측 정확도를 측정한다."
      ],
      "metadata": {
        "id": "juym3TieyQex"
      }
    },
    {
      "cell_type": "code",
      "source": [
        "lr_final.fit(pred, y_test)\n",
        "final = lr_final.predict(pred)\n",
        "\n",
        "print('최종 메타 모델의 예측 정확도: {0:.4f}'.format(accuracy_score(y_test, final)))"
      ],
      "metadata": {
        "colab": {
          "base_uri": "https://localhost:8080/"
        },
        "id": "iyokTkwiPHt4",
        "outputId": "f6038491-bd64-4165-a75e-7325578fc426"
      },
      "execution_count": 30,
      "outputs": [
        {
          "output_type": "stream",
          "name": "stdout",
          "text": [
            "최종 메타 모델의 예측 정확도: 0.9649\n"
          ]
        }
      ]
    },
    {
      "cell_type": "markdown",
      "source": [
        "-> 개별 모델의 예측 데이터를 스태킹으로 재구성해 최종 메타 모델에서 학습하고 예측한 결과, 정확도가 97.37%로 개별 모델 정확도보다 향상됨.\n",
        "\n",
        "-------------\n",
        "이제 과적합 개선하기 위한 cv세트 기반의 스태킹 모델을 살펴보자.\n",
        "\n",
        "### CV세트 기반의 스태킹\n",
        "\n",
        "\n",
        "이 모델은 과적합을 개선하기 위해 최종 메타 모델을 위한 데이터 세트를 만들 때 교차 검증 기반으로 예측된 결과 데이터 세트를 이용한다. \n",
        "\n",
        "개별 모델들이 각각 교차 검증으로 메타 모델을 위한 학습용 스태킹 데이터 생성과 예측을 위한 테스트용 스태킹 데이터를 생성한 뒤 이를 기반으로 메타 모델이 학습과 예측을 수행한다. \n",
        "\n",
        "* 스텝1: 각 모델별로 원본 학습/테스트 데이터를 예측한 결과 값을 기반으로 메타 모델을 위한 학습용/테스트용 데이터를 생성한다.\n",
        "\n",
        "* 스텝2: 스텝1에서 개별 모델들이 생성한 학습용 데이터를 모두 스태킹 형태로 합쳐서 메타 모델이 학습할 최종 학습용 데이터 세트를 생성. 마찬가지로 각 모델들이 생성한 테스트용 데이터를 모두 스태킹 형태로 합쳐서 메타 모델이 예측할 최종 테스트 데이터 세트를 생성. 메타 모델은 최종적으로 생성된 학습 데이터 세트와 원본 학습 데이터의 레이블 데이터를 기반으로 학습한 뒤, 최종적으로 생성된 테스트 데이터 세트를 예측하고, 원본 테스트 데이터의 레이블 데이터를 기반으로 평가한다.\n",
        "\n",
        "\n",
        "\n",
        "---\n",
        "\n",
        "### step 1구현"
      ],
      "metadata": {
        "id": "lG7HPVP5PH0i"
      }
    },
    {
      "cell_type": "code",
      "source": [
        "from sklearn.model_selection import KFold\n",
        "from sklearn.metrics import mean_absolute_error\n",
        "\n",
        "# 개별 기반 모델에서 최종 메타 모델이 사용할 학습 및 테스트용 데이터를 생성하기 위한 함수\n",
        "def get_stacking_base_datasets(model, X_train_n, y_train_n, X_test_n, n_folds) :\n",
        "  # 지정된 n_folds값으로 KFold 생성\n",
        "  kf = KFold(n_splits=n_folds, shuffle=False)\n",
        "  # 추후에 메타 모델이 사용할 학습 데이터 반환을 위해 넘파이 배열 초기화\n",
        "  train_fold_pred = np.zeros((X_train_n.shape[0], 1))\n",
        "  test_pred = np.zeros((X_test_n.shape[0], n_folds))\n",
        "  print(model.__class__.__name__, 'model 시작')\n",
        "\n",
        "  for folder_counter, (train_index, valid_index) in enumerate(kf.split(X_train_n)):\n",
        "    # 입력된 학습 데이터에서 기반모델이 학습/예측할 폴드 데이터 세트 추출\n",
        "    print('\\t 폴드 세트: ', folder_counter, '시작')\n",
        "    X_tr = X_train_n[train_index]\n",
        "    y_tr = y_train_n[train_index]\n",
        "    X_te = X_train_n[valid_index]\n",
        "\n",
        "    # 폴드 세트 내부에서 다시 만들어진 학습 데이터로 기반 모델의 학습 수행\n",
        "    model.fit(X_tr, y_tr)\n",
        "    # 폴드 세트 내부에서 다시 만들어진 검증 데이터로 기반 모델 예측 후 데이터 저장\n",
        "    train_fold_pred[valid_index, :] = model.predict(X_te).reshape(-1,1)\n",
        "    # 입력된 원본 테스트 데이터를 폴드 세트 내 학습된 기반 모델에서 예측 후 데이터 저장\n",
        "    test_pred[:, folder_counter] = model.predict(X_test_n)\n",
        "\n",
        "  # 폴드 세트 내에서 원본 테스트 데이터를 예측한 데이터를 평균하여 테스트 데이터로 생성\n",
        "  test_pred_mean = np.mean(test_pred, axis=1).reshape(-1,1)\n",
        "\n",
        "  # train_fold_pred는 최종 메타 모델이 사용하는 학습 데이터, test_pred_mean은 테스트 데이터\n",
        "  return train_fold_pred, test_pred_mean"
      ],
      "metadata": {
        "id": "liETx9WsPH5h"
      },
      "execution_count": 34,
      "outputs": []
    },
    {
      "cell_type": "markdown",
      "source": [
        "이제 여러 개의 분류 모델별로 stack_base_model()함수를 수행한다."
      ],
      "metadata": {
        "id": "r4t2nwPXPIFR"
      }
    },
    {
      "cell_type": "code",
      "source": [
        "knn_train, knn_test = get_stacking_base_datasets(knn_clf, X_train, y_train, X_test, 7)\n",
        "rf_train, rf_test = get_stacking_base_datasets(rf_clf, X_train, y_train, X_test, 7)\n",
        "dt_train, dt_test = get_stacking_base_datasets(dt_clf, X_train, y_train, X_test, 7)\n",
        "ada_train, ada_test = get_stacking_base_datasets(ada_clf, X_train, y_train, X_test, 7)"
      ],
      "metadata": {
        "colab": {
          "base_uri": "https://localhost:8080/"
        },
        "id": "B8pY1270PIJW",
        "outputId": "fc83feea-28c1-43f3-f7b0-1da12214b9e9"
      },
      "execution_count": 33,
      "outputs": [
        {
          "output_type": "stream",
          "name": "stdout",
          "text": [
            "KNeighborsClassifier model 시작\n",
            "\t 폴드 세트:  0 시작\n",
            "\t 폴드 세트:  1 시작\n",
            "\t 폴드 세트:  2 시작\n",
            "\t 폴드 세트:  3 시작\n",
            "\t 폴드 세트:  4 시작\n",
            "\t 폴드 세트:  5 시작\n",
            "\t 폴드 세트:  6 시작\n",
            "RandomForestClassifier model 시작\n",
            "\t 폴드 세트:  0 시작\n",
            "\t 폴드 세트:  1 시작\n",
            "\t 폴드 세트:  2 시작\n",
            "\t 폴드 세트:  3 시작\n",
            "\t 폴드 세트:  4 시작\n",
            "\t 폴드 세트:  5 시작\n",
            "\t 폴드 세트:  6 시작\n",
            "DecisionTreeClassifier model 시작\n",
            "\t 폴드 세트:  0 시작\n",
            "\t 폴드 세트:  1 시작\n",
            "\t 폴드 세트:  2 시작\n",
            "\t 폴드 세트:  3 시작\n",
            "\t 폴드 세트:  4 시작\n",
            "\t 폴드 세트:  5 시작\n",
            "\t 폴드 세트:  6 시작\n",
            "AdaBoostClassifier model 시작\n",
            "\t 폴드 세트:  0 시작\n",
            "\t 폴드 세트:  1 시작\n",
            "\t 폴드 세트:  2 시작\n",
            "\t 폴드 세트:  3 시작\n",
            "\t 폴드 세트:  4 시작\n",
            "\t 폴드 세트:  5 시작\n",
            "\t 폴드 세트:  6 시작\n"
          ]
        }
      ]
    },
    {
      "cell_type": "markdown",
      "source": [
        "### step 2구현\n",
        " 앞의 예제에서 get_stacking_base_datasets()호출로 반환된 각 모델별 학습 데이터와 테스트데이터를 합치기만 하면 된다.\n",
        "\n",
        " * concatenate() : 여러 개의 넘파이 배열을 칼럼 또는 로우 레벨로 합쳐주는 기능 제공"
      ],
      "metadata": {
        "id": "SDnsFWBwPIMe"
      }
    },
    {
      "cell_type": "code",
      "source": [
        "Stack_final_X_train = np.concatenate((knn_train, rf_train, dt_train, ada_train), axis=1)\n",
        "Stack_final_X_test = np.concatenate((knn_test, rf_test, dt_test, ada_test), axis=1)\n",
        "print('원본 학습 피처 데이터 Shape:', X_train.shape, '원본 테스트 피처 Shape:', X_test.shape)\n",
        "print('스태킹 학습 피처 데이터 Shape:', Stack_final_X_train.shape,\n",
        "      '스태킹 테스트 피처 데이터 Shape:', Stack_final_X_test.shape)"
      ],
      "metadata": {
        "colab": {
          "base_uri": "https://localhost:8080/"
        },
        "id": "EpEDEfeePIPw",
        "outputId": "821742de-152e-457d-9cef-a8e3f563e6fb"
      },
      "execution_count": 35,
      "outputs": [
        {
          "output_type": "stream",
          "name": "stdout",
          "text": [
            "원본 학습 피처 데이터 Shape: (455, 30) 원본 테스트 피처 Shape: (114, 30)\n",
            "스태킹 학습 피처 데이터 Shape: (455, 4) 스태킹 테스트 피처 데이터 Shape: (114, 4)\n"
          ]
        }
      ]
    },
    {
      "cell_type": "markdown",
      "source": [
        "Stack_final_X_train: 메타 모델이 학습할 학습용 피처 데이터 세트\n",
        "\n",
        "Stack_final_X_test: 메타 모델이 예측할 테스트용 피처 데이터 세트\n",
        "\n",
        "스태킹 학습 피처 데이터는 원본 학습 피처 데이터와 로우 크기는 같으며, 4개의 개별 모델 예측값을 합친 것이므로, 칼럼 크기는 4\n",
        "\n",
        "\n",
        "---\n",
        "\n",
        "\n",
        "\n",
        "이제 최종 메타 모델인 로지스틱 회귀를 스태킹된 학습용 피처 데이터 세트와 원본 학습 레이블 데이터로 학습한 후, 스태킹된 테스트 데이터 세트로 예측하고, 예측 결과를 원본 테스트 레이블 데이터와 비교해 정확도 측정해보자. "
      ],
      "metadata": {
        "id": "nOEFrEwGPITq"
      }
    },
    {
      "cell_type": "code",
      "source": [
        "lr_final.fit(Stack_final_X_train, y_train)\n",
        "stack_final = lr_final.predict(Stack_final_X_test)\n",
        "\n",
        "print('최종 메타 모델의 예측 정확도: {0:.4f}'.format(accuracy_score(y_test, stack_final)))"
      ],
      "metadata": {
        "colab": {
          "base_uri": "https://localhost:8080/"
        },
        "id": "RqM1wS1dPIWU",
        "outputId": "301a0918-01d8-4607-ad20-e5ffdaeb4b43"
      },
      "execution_count": 36,
      "outputs": [
        {
          "output_type": "stream",
          "name": "stdout",
          "text": [
            "최종 메타 모델의 예측 정확도: 0.9737\n"
          ]
        }
      ]
    },
    {
      "cell_type": "markdown",
      "source": [
        "### 정리\n",
        "\n",
        "1. 앙상블 기법 : 결정 트리 기반의 다수의 약한 학습기를 결합해 변동성을 줄여 예측 오류를 줄이고 성능을 개선하고 있다.\n",
        "\n",
        "2. 배깅: 학습 데이터를 중복을 허용하면서 다수의 세트로 샘플링하여 이를 다수의 약한 학습기가 학습한 뒤 최종 결과를 결합해 예측 하는 방식\n",
        "   - 랜덤 포레스트 \n",
        "\n",
        "3. 부스팅: 학습기들이 순차적으로 학습을 진행하면서 예측이 ㅊ틀린 데이터에 대해서는 가중치를 부여해 다음번 학습기가 학습할 때에는 이전에 예측이 틀린 데이터에 대해서는 보다 높은 정확도로 예측할 수 있도록 함\n",
        "   - XGBoost, LightGBM\n",
        "\n",
        "4. 스태킹 : 여러 개의 개별 모델들이 생성한 예측 데이터를 기반으로 최종 메타 모델이 학습할 별도의 학습 데이터 세트와 예측할 테스트 데이터 세트를 재 생성하는 기법"
      ],
      "metadata": {
        "id": "QXK5IjVTyQxk"
      }
    }
  ]
}
