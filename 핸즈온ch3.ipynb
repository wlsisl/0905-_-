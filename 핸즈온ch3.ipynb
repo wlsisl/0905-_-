{
  "cells": [
    {
      "cell_type": "markdown",
      "metadata": {
        "id": "view-in-github",
        "colab_type": "text"
      },
      "source": [
        "<a href=\"https://colab.research.google.com/github/wlsisl/ESAA_22-2/blob/main/%ED%95%B8%EC%A6%88%EC%98%A8ch3.ipynb\" target=\"_parent\"><img src=\"https://colab.research.google.com/assets/colab-badge.svg\" alt=\"Open In Colab\"/></a>"
      ]
    },
    {
      "cell_type": "markdown",
      "metadata": {
        "id": "5weiVs8j6-vb"
      },
      "source": [
        "##CHAPTER 3 분류\n",
        "\n",
        "> 지도 학습 작업 \n",
        "\n",
        "회귀(값 예측) , 분류 (클래스 예측)\n",
        "\n",
        "## 3.1 MNIST \n",
        "사용할 데이터셋 : 고등학생과 미국 인구조사국 직원들이 손으로 쓴 7만개의 작은 숫자 이미지를 모은 MNIST"
      ]
    },
    {
      "cell_type": "code",
      "execution_count": 1,
      "metadata": {
        "id": "BSLXsHqegQYb"
      },
      "outputs": [],
      "source": [
        "# import package\n",
        "import numpy as np\n",
        "import pandas as pd"
      ]
    },
    {
      "cell_type": "code",
      "execution_count": 2,
      "metadata": {
        "colab": {
          "base_uri": "https://localhost:8080/"
        },
        "id": "BO9qTTer6WH-",
        "outputId": "64a12d90-2581-4f42-bd68-f3fac7972587"
      },
      "outputs": [
        {
          "output_type": "stream",
          "name": "stderr",
          "text": [
            "/usr/local/lib/python3.9/dist-packages/sklearn/datasets/_openml.py:932: FutureWarning: The default value of `parser` will change from `'liac-arff'` to `'auto'` in 1.4. You can set `parser='auto'` to silence this warning. Therefore, an `ImportError` will be raised from 1.4 if the dataset is dense and pandas is not installed. Note that the pandas parser may return different data types. See the Notes Section in fetch_openml's API doc for details.\n",
            "  warn(\n"
          ]
        },
        {
          "output_type": "execute_result",
          "data": {
            "text/plain": [
              "dict_keys(['data', 'target', 'frame', 'categories', 'feature_names', 'target_names', 'DESCR', 'details', 'url'])"
            ]
          },
          "metadata": {},
          "execution_count": 2
        }
      ],
      "source": [
        "from sklearn.datasets import fetch_openml\n",
        "mnist = fetch_openml('mnist_784', version=1, as_frame=False)\n",
        "mnist.keys()"
      ]
    },
    {
      "cell_type": "markdown",
      "metadata": {
        "id": "m3Mv0_Bs77vX"
      },
      "source": [
        "사이킷런에서 읽어들인 데이터셋들은 일반적으로 딕셔너리 구조를 가짐\n",
        "\n",
        "* 데이터셋을 설명하는 DESCR 키\n",
        "* 샘플이 하나의 행, 특성이 하나의 열로 구성된 배열을 가진 data 키\n",
        "* 레이블 배열을 담은 target 키"
      ]
    },
    {
      "cell_type": "code",
      "execution_count": 3,
      "metadata": {
        "colab": {
          "base_uri": "https://localhost:8080/"
        },
        "id": "57fg1ljE7722",
        "outputId": "28bb59a8-8548-4cf1-fe7b-d6bfa32a0c5a"
      },
      "outputs": [
        {
          "output_type": "execute_result",
          "data": {
            "text/plain": [
              "(70000, 784)"
            ]
          },
          "metadata": {},
          "execution_count": 3
        }
      ],
      "source": [
        "X,y = mnist[\"data\"], mnist[\"target\"]\n",
        "X.shape"
      ]
    },
    {
      "cell_type": "code",
      "execution_count": 4,
      "metadata": {
        "colab": {
          "base_uri": "https://localhost:8080/"
        },
        "id": "jQgoe8Pq8ckh",
        "outputId": "a797d39e-9f06-44a9-fd4a-7ca89891523a"
      },
      "outputs": [
        {
          "output_type": "execute_result",
          "data": {
            "text/plain": [
              "(70000,)"
            ]
          },
          "metadata": {},
          "execution_count": 4
        }
      ],
      "source": [
        "y.shape"
      ]
    },
    {
      "cell_type": "markdown",
      "metadata": {
        "id": "3mddmpIM77-7"
      },
      "source": [
        "-> 이미지가 7만개 있고 각 이미지에는 784개의 특성이 있다. 이미지가 28x28픽셀이기 때문이다. \n",
        "개개의 특성은 단순히 0(흰색)부터 255(검은색)까지의 픽셀 강도를 나타낸다."
      ]
    },
    {
      "cell_type": "code",
      "execution_count": 5,
      "metadata": {
        "id": "sO7soH-C78F9"
      },
      "outputs": [],
      "source": [
        "#샘플의 특성 벡터를 추출해서 28x28 배열로 크기를 바꾸고 맷플롯립의 imshow()함수를 사용\n",
        "import matplotlib as mpl\n",
        "import matplotlib.pyplot as plt"
      ]
    },
    {
      "cell_type": "code",
      "execution_count": 6,
      "metadata": {
        "colab": {
          "base_uri": "https://localhost:8080/",
          "height": 248
        },
        "id": "oFbgaSqigDc4",
        "outputId": "cb3e042d-216c-4338-ffde-443ad0477b3a"
      },
      "outputs": [
        {
          "output_type": "display_data",
          "data": {
            "text/plain": [
              "<Figure size 432x288 with 1 Axes>"
            ],
            "image/png": "[encoded data removed]"
          },
          "metadata": {
            "needs_background": "light"
          }
        }
      ],
      "source": [
        "some_digit = X[0]\n",
        "some_digit_image=np.array(some_digit).reshape(28,28)\n",
        "\n",
        "plt.imshow(some_digit_image,cmap=\"binary\")\n",
        "plt.axis(\"off\")\n",
        "plt.show()"
      ]
    },
    {
      "cell_type": "code",
      "execution_count": 7,
      "metadata": {
        "colab": {
          "base_uri": "https://localhost:8080/",
          "height": 35
        },
        "id": "WBOGAeLLfCOV",
        "outputId": "1b480f06-c9cf-4268-8ae6-d3cfd42a4048"
      },
      "outputs": [
        {
          "output_type": "execute_result",
          "data": {
            "text/plain": [
              "'5'"
            ],
            "application/vnd.google.colaboratory.intrinsic+json": {
              "type": "string"
            }
          },
          "metadata": {},
          "execution_count": 7
        }
      ],
      "source": [
        "y[0]"
      ]
    },
    {
      "cell_type": "code",
      "execution_count": 8,
      "metadata": {
        "id": "nI-r-1SLfGBs"
      },
      "outputs": [],
      "source": [
        "import numpy as np\n",
        "y=y.astype(np.uint8)"
      ]
    },
    {
      "cell_type": "markdown",
      "metadata": {
        "id": "rAv2sjJJfWiG"
      },
      "source": [
        "** 데이터를 자세히 조사하기 전에 항상 테스트 세트를 만들고 따로 떼어놓아야한다.\n",
        "MNIST 데이터셋은 이미 훈련세트와 테스트세트로 나누어 놓았다."
      ]
    },
    {
      "cell_type": "code",
      "execution_count": 9,
      "metadata": {
        "id": "vmnWJL-vfd0G"
      },
      "outputs": [],
      "source": [
        "X_train, X_test, y_train, y_test = X[:60000], X[60000:], y[:60000], y[60000:]"
      ]
    },
    {
      "cell_type": "markdown",
      "metadata": {
        "id": "aRUKp4tkgxgI"
      },
      "source": [
        "훈련 샘플의 순서에 민감해서 많은 비슷한 샘플이 연이어 나타나면 성능이 나빠지므로 데이터셋을 섞어 이런 문제를 방지해야함.\n",
        "주의! 시계열 데이터를 다룰 때는 섞는 것이 좋지 않음.\n",
        "\n",
        "##3.2 이진 분류기 훈련\n",
        "\n",
        "이진 분류기: 두 개의 클래스를 구분할 수 있음"
      ]
    },
    {
      "cell_type": "code",
      "execution_count": 10,
      "metadata": {
        "id": "wWNsvJvKhALy"
      },
      "outputs": [],
      "source": [
        "#타깃 벡터 만들기\n",
        "y_train_5 = (y_train ==5)\n",
        "y_test_5 = (y_test ==5)"
      ]
    },
    {
      "cell_type": "code",
      "execution_count": 11,
      "metadata": {
        "colab": {
          "base_uri": "https://localhost:8080/",
          "height": 75
        },
        "id": "B6bempeBhK7Z",
        "outputId": "4995297c-f51d-4302-b096-8ba97238a5a8"
      },
      "outputs": [
        {
          "output_type": "execute_result",
          "data": {
            "text/plain": [
              "SGDClassifier(random_state=42)"
            ],
            "text/html": [
              "<style>#sk-container-id-1 {color: black;background-color: white;}#sk-container-id-1 pre{padding: 0;}#sk-container-id-1 div.sk-toggleable {background-color: white;}#sk-container-id-1 label.sk-toggleable__label {cursor: pointer;display: block;width: 100%;margin-bottom: 0;padding: 0.3em;box-sizing: border-box;text-align: center;}#sk-container-id-1 label.sk-toggleable__label-arrow:before {content: \"▸\";float: left;margin-right: 0.25em;color: #696969;}#sk-container-id-1 label.sk-toggleable__label-arrow:hover:before {color: black;}#sk-container-id-1 div.sk-estimator:hover label.sk-toggleable__label-arrow:before {color: black;}#sk-container-id-1 div.sk-toggleable__content {max-height: 0;max-width: 0;overflow: hidden;text-align: left;background-color: #f0f8ff;}#sk-container-id-1 div.sk-toggleable__content pre {margin: 0.2em;color: black;border-radius: 0.25em;background-color: #f0f8ff;}#sk-container-id-1 input.sk-toggleable__control:checked~div.sk-toggleable__content {max-height: 200px;max-width: 100%;overflow: auto;}#sk-container-id-1 input.sk-toggleable__control:checked~label.sk-toggleable__label-arrow:before {content: \"▾\";}#sk-container-id-1 div.sk-estimator input.sk-toggleable__control:checked~label.sk-toggleable__label {background-color: #d4ebff;}#sk-container-id-1 div.sk-label input.sk-toggleable__control:checked~label.sk-toggleable__label {background-color: #d4ebff;}#sk-container-id-1 input.sk-hidden--visually {border: 0;clip: rect(1px 1px 1px 1px);clip: rect(1px, 1px, 1px, 1px);height: 1px;margin: -1px;overflow: hidden;padding: 0;position: absolute;width: 1px;}#sk-container-id-1 div.sk-estimator {font-family: monospace;background-color: #f0f8ff;border: 1px dotted black;border-radius: 0.25em;box-sizing: border-box;margin-bottom: 0.5em;}#sk-container-id-1 div.sk-estimator:hover {background-color: #d4ebff;}#sk-container-id-1 div.sk-parallel-item::after {content: \"\";width: 100%;border-bottom: 1px solid gray;flex-grow: 1;}#sk-container-id-1 div.sk-label:hover label.sk-toggleable__label {background-color: #d4ebff;}#sk-container-id-1 div.sk-serial::before {content: \"\";position: absolute;border-left: 1px solid gray;box-sizing: border-box;top: 0;bottom: 0;left: 50%;z-index: 0;}#sk-container-id-1 div.sk-serial {display: flex;flex-direction: column;align-items: center;background-color: white;padding-right: 0.2em;padding-left: 0.2em;position: relative;}#sk-container-id-1 div.sk-item {position: relative;z-index: 1;}#sk-container-id-1 div.sk-parallel {display: flex;align-items: stretch;justify-content: center;background-color: white;position: relative;}#sk-container-id-1 div.sk-item::before, #sk-container-id-1 div.sk-parallel-item::before {content: \"\";position: absolute;border-left: 1px solid gray;box-sizing: border-box;top: 0;bottom: 0;left: 50%;z-index: -1;}#sk-container-id-1 div.sk-parallel-item {display: flex;flex-direction: column;z-index: 1;position: relative;background-color: white;}#sk-container-id-1 div.sk-parallel-item:first-child::after {align-self: flex-end;width: 50%;}#sk-container-id-1 div.sk-parallel-item:last-child::after {align-self: flex-start;width: 50%;}#sk-container-id-1 div.sk-parallel-item:only-child::after {width: 0;}#sk-container-id-1 div.sk-dashed-wrapped {border: 1px dashed gray;margin: 0 0.4em 0.5em 0.4em;box-sizing: border-box;padding-bottom: 0.4em;background-color: white;}#sk-container-id-1 div.sk-label label {font-family: monospace;font-weight: bold;display: inline-block;line-height: 1.2em;}#sk-container-id-1 div.sk-label-container {text-align: center;}#sk-container-id-1 div.sk-container {/* jupyter's `normalize.less` sets `[hidden] { display: none; }` but bootstrap.min.css set `[hidden] { display: none !important; }` so we also need the `!important` here to be able to override the default hidden behavior on the sphinx rendered scikit-learn.org. See: https://github.com/scikit-learn/scikit-learn/issues/21755 */display: inline-block !important;position: relative;}#sk-container-id-1 div.sk-text-repr-fallback {display: none;}</style><div id=\"sk-container-id-1\" class=\"sk-top-container\"><div class=\"sk-text-repr-fallback\"><pre>SGDClassifier(random_state=42)</pre><b>In a Jupyter environment, please rerun this cell to show the HTML representation or trust the notebook. <br />On GitHub, the HTML representation is unable to render, please try loading this page with nbviewer.org.</b></div><div class=\"sk-container\" hidden><div class=\"sk-item\"><div class=\"sk-estimator sk-toggleable\"><input class=\"sk-toggleable__control sk-hidden--visually\" id=\"sk-estimator-id-1\" type=\"checkbox\" checked><label for=\"sk-estimator-id-1\" class=\"sk-toggleable__label sk-toggleable__label-arrow\">SGDClassifier</label><div class=\"sk-toggleable__content\"><pre>SGDClassifier(random_state=42)</pre></div></div></div></div></div>"
            ]
          },
          "metadata": {},
          "execution_count": 11
        }
      ],
      "source": [
        "#확률적 경사 하강법(SGD)분류기 사용\n",
        "from sklearn.linear_model import SGDClassifier\n",
        "sgd_clf = SGDClassifier(random_state=42)\n",
        "sgd_clf.fit(X_train, y_train_5)"
      ]
    },
    {
      "cell_type": "code",
      "execution_count": 13,
      "metadata": {
        "colab": {
          "base_uri": "https://localhost:8080/"
        },
        "id": "sGf8ioUUho7e",
        "outputId": "35fa7544-79b9-426c-c738-e2b5b2db9314"
      },
      "outputs": [
        {
          "output_type": "execute_result",
          "data": {
            "text/plain": [
              "array([ True])"
            ]
          },
          "metadata": {},
          "execution_count": 13
        }
      ],
      "source": [
        "sgd_clf.predict([some_digit])"
      ]
    },
    {
      "cell_type": "markdown",
      "metadata": {
        "id": "JPDgfqXOhs2Z"
      },
      "source": [
        "-> 분류기는 이 이미지가 5를 나타낸다고 추측하였음.\n",
        "\n",
        "##3.3 성능 측정\n",
        "###1) 3.3.1 교차 검증을 사용한 정확도 측정\n",
        "\n",
        "\n",
        "\n",
        "> StratifiedKFold는 클래스별 비율이 유지되도록 폴드를 만들기 위해 계층적 샘플링을 수행한다. 매 반복에서 분류기 객체를 복제하여 훈련 폴드로 훈련시키고 테스트 폴드로 예측을 만든다. \n",
        "\n"
      ]
    },
    {
      "cell_type": "code",
      "execution_count": 14,
      "metadata": {
        "colab": {
          "base_uri": "https://localhost:8080/"
        },
        "id": "uAGmNK_PiF_8",
        "outputId": "80a3f330-f68c-4671-daca-b8faa447da5b"
      },
      "outputs": [
        {
          "output_type": "stream",
          "name": "stdout",
          "text": [
            "0.9669\n",
            "0.91625\n",
            "0.96785\n"
          ]
        }
      ],
      "source": [
        "from sklearn.model_selection import StratifiedKFold\n",
        "from sklearn.base import clone\n",
        "\n",
        "skfolds = StratifiedKFold(n_splits=3, random_state=42, shuffle=True) # error가 떠서 shuffle = True 설정\n",
        "\n",
        "for train_index, test_index in skfolds.split(X_train, y_train_5):\n",
        "    clone_clf = clone(sgd_clf)\n",
        "    X_train_folds = X_train[train_index]\n",
        "    y_train_folds = y_train_5[train_index]\n",
        "    X_test_fold = X_train[test_index]\n",
        "    y_test_fold = y_train_5[test_index]\n",
        "\n",
        "    clone_clf.fit(X_train_folds, y_train_folds)\n",
        "    y_pred = clone_clf.predict(X_test_fold)\n",
        "    n_correct = sum(y_pred == y_test_fold)\n",
        "    print(n_correct / len(y_pred))"
      ]
    },
    {
      "cell_type": "markdown",
      "metadata": {
        "id": "We4qIWcMi_Jd"
      },
      "source": [
        "cross_Val_score() 함수로 폴드가 3개인 k-겹 교차 검증을 사용해 SGDClassifier 모델을 평가해보자."
      ]
    },
    {
      "cell_type": "code",
      "execution_count": 15,
      "metadata": {
        "colab": {
          "base_uri": "https://localhost:8080/"
        },
        "id": "UnIxPmibidLY",
        "outputId": "c4580a4b-6c4f-4759-b463-1d2bccdbf6cd"
      },
      "outputs": [
        {
          "output_type": "execute_result",
          "data": {
            "text/plain": [
              "array([0.95035, 0.96035, 0.9604 ])"
            ]
          },
          "metadata": {},
          "execution_count": 15
        }
      ],
      "source": [
        "from sklearn.model_selection import cross_val_score\n",
        "cross_val_score(sgd_clf, X_train,y_train_5, cv=3 , scoring=\"accuracy\")"
      ]
    },
    {
      "cell_type": "markdown",
      "metadata": {
        "id": "czdq37AyhLBV"
      },
      "source": [
        "-> 정확도가 95% 이상.\n",
        "\n",
        "다음은 모든 이미지를 '5 아님 '클래스로 분류하는 더미 분류기를 만들어 비교해보자."
      ]
    },
    {
      "cell_type": "code",
      "execution_count": 16,
      "metadata": {
        "id": "wF_lGPfVhLJk"
      },
      "outputs": [],
      "source": [
        "from sklearn.base import BaseEstimator\n",
        "\n",
        "class Never5Classifier(BaseEstimator):\n",
        "  def fit(self,X,y=None):\n",
        "    return self\n",
        "  def predict(self, X):\n",
        "    return np.zeros((len(X),1), dtype= bool)"
      ]
    },
    {
      "cell_type": "code",
      "execution_count": 17,
      "metadata": {
        "colab": {
          "base_uri": "https://localhost:8080/"
        },
        "id": "NXB1HTtxjiNL",
        "outputId": "bb96fc6e-9201-4159-c0f4-2d864a6ecd92"
      },
      "outputs": [
        {
          "output_type": "execute_result",
          "data": {
            "text/plain": [
              "array([0.91125, 0.90855, 0.90915])"
            ]
          },
          "metadata": {},
          "execution_count": 17
        }
      ],
      "source": [
        "never_5_clf = Never5Classifier()\n",
        "cross_val_score(never_5_clf, X_train, y_train_5, cv=3, scoring=\"accuracy\")"
      ]
    },
    {
      "cell_type": "markdown",
      "metadata": {
        "id": "hrZjEfBkhLQR"
      },
      "source": [
        "-> 90%이상 정확도가 나옴.\n",
        "\n",
        "이는 정확도를 분류기의 성능 측정 지표로 선호하지 않는 이유를 보여줌.\n",
        "특히 불균형한 데이터셋을 다룰 때 더욱 그렇다.\n",
        "\n",
        "###2) 3.3.2 오차 행렬\n",
        ": 분류기의 성능을 평가하는 방법\n",
        "\n",
        "오차행렬을 만들기 위해서는 실제 타깃과 비교할 수 있도록 예측값을 먼저 만들어야함.\n",
        "\n",
        "테스트 세트로 예측을 만들 수 있지만 여기서 사용하면 안 됨!\n",
        "\n",
        "* 테스트 세트는 분류기가 출시 준비를 마치고 나서 프로젝트의 맨 마지막에 사용되는 것기 때문에!!!! \n"
      ]
    },
    {
      "cell_type": "code",
      "execution_count": 18,
      "metadata": {
        "id": "8c5wCU3u9738"
      },
      "outputs": [],
      "source": [
        "from sklearn.model_selection import cross_val_predict\n",
        "\n",
        "y_train_pred = cross_val_predict(sgd_clf, X_train, y_train_5, cv=3)"
      ]
    },
    {
      "cell_type": "markdown",
      "metadata": {
        "id": "0rvxwBti-Hdk"
      },
      "source": [
        "* cross_val_score() , cross_val_predict() 함수\n",
        "k-겹 굧 검증을 수행하지만 평가 점수를 반환하지 않고 각 테스트 폴드에서 얻은 예측을 반환함."
      ]
    },
    {
      "cell_type": "code",
      "execution_count": 19,
      "metadata": {
        "colab": {
          "base_uri": "https://localhost:8080/"
        },
        "id": "wkseXs0m-HtB",
        "outputId": "ed30da77-fbb2-4dfe-9d56-f742c7c095a5"
      },
      "outputs": [
        {
          "output_type": "execute_result",
          "data": {
            "text/plain": [
              "array([[53892,   687],\n",
              "       [ 1891,  3530]])"
            ]
          },
          "metadata": {},
          "execution_count": 19
        }
      ],
      "source": [
        "from sklearn.metrics import confusion_matrix\n",
        "confusion_matrix(y_train_5, y_train_pred)"
      ]
    },
    {
      "cell_type": "markdown",
      "metadata": {
        "id": "PrcPjg33-H2T"
      },
      "source": [
        "오차행렬의 행 : 실제 클래스\n",
        "\n",
        "오차 행렬의 열 : 예측한 클래스\n"
      ]
    },
    {
      "cell_type": "code",
      "execution_count": 20,
      "metadata": {
        "colab": {
          "base_uri": "https://localhost:8080/"
        },
        "id": "ZA109e-S-H_t",
        "outputId": "fa57544e-d2f1-4a29-863e-d72af1c3591e"
      },
      "outputs": [
        {
          "output_type": "execute_result",
          "data": {
            "text/plain": [
              "array([[54579,     0],\n",
              "       [    0,  5421]])"
            ]
          },
          "metadata": {},
          "execution_count": 20
        }
      ],
      "source": [
        "#완벽한 분류기일 경우 주 대각선만 0이 아닌 값이 된다.\n",
        "y_train_perfect_predictions = y_train_5\n",
        "confusion_matrix(y_train_5, y_train_perfect_predictions)"
      ]
    },
    {
      "cell_type": "markdown",
      "metadata": {
        "id": "ZPOM_534_-i4"
      },
      "source": [
        "\n",
        "\n",
        "### 3.3.3 정밀도와 재현율\n",
        "정밀도 = TP / TP+FP\n",
        "\n",
        "재현율 = TP / TP+FN"
      ]
    },
    {
      "cell_type": "code",
      "execution_count": 21,
      "metadata": {
        "colab": {
          "base_uri": "https://localhost:8080/"
        },
        "id": "kMKUO1LJAdnG",
        "outputId": "8b1200b1-8ca0-485d-b221-8a58c441cbcf"
      },
      "outputs": [
        {
          "output_type": "execute_result",
          "data": {
            "text/plain": [
              "0.8370879772350012"
            ]
          },
          "metadata": {},
          "execution_count": 21
        }
      ],
      "source": [
        "from sklearn.metrics import precision_score, recall_score\n",
        "precision_score(y_train_5, y_train_pred)\n"
      ]
    },
    {
      "cell_type": "code",
      "execution_count": 22,
      "metadata": {
        "colab": {
          "base_uri": "https://localhost:8080/"
        },
        "id": "C9H_yfbYBlnr",
        "outputId": "e07e9e28-7d1c-4c27-a325-7804c32e60cb"
      },
      "outputs": [
        {
          "output_type": "execute_result",
          "data": {
            "text/plain": [
              "0.6511713705958311"
            ]
          },
          "metadata": {},
          "execution_count": 22
        }
      ],
      "source": [
        "recall_score(y_train_5, y_train_pred)"
      ]
    },
    {
      "cell_type": "markdown",
      "metadata": {
        "id": "r2hABfTWBv9e"
      },
      "source": [
        " F1 점수 : 정밀도와 재현율의 조화 평균 \n",
        " ![image.png](data:image/png;base64,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)"
      ]
    },
    {
      "cell_type": "code",
      "execution_count": 23,
      "metadata": {
        "colab": {
          "base_uri": "https://localhost:8080/"
        },
        "id": "6aQOj8g4Bq90",
        "outputId": "cbdaf395-a2a0-4eac-dc73-01b482fe847f"
      },
      "outputs": [
        {
          "output_type": "execute_result",
          "data": {
            "text/plain": [
              "0.7325171197343846"
            ]
          },
          "metadata": {},
          "execution_count": 23
        }
      ],
      "source": [
        "from sklearn.metrics import f1_score\n",
        "f1_score(y_train_5, y_train_pred)"
      ]
    },
    {
      "cell_type": "markdown",
      "metadata": {
        "id": "f-gEpPEdDfMj"
      },
      "source": [
        "### 3.3.4 정밀도/ 재현율 프레이드오프\n",
        "\n",
        "SGDClassifier 분류 결정 과정\n",
        "\n",
        "1. 결정함수를 사용하여 각 샘플의 점수 계산\n",
        "2. 점수 > 임곗값 이라면 샘플을 양성 클래스에 할당하고 그렇지 않으면 음성 클래스에 할당"
      ]
    },
    {
      "cell_type": "code",
      "execution_count": 24,
      "metadata": {
        "colab": {
          "base_uri": "https://localhost:8080/"
        },
        "id": "oqnYqSyXFAhc",
        "outputId": "c4ecf45b-5ce3-4d33-f15d-2bcd6089e959"
      },
      "outputs": [
        {
          "output_type": "execute_result",
          "data": {
            "text/plain": [
              "array([2164.22030239])"
            ]
          },
          "metadata": {},
          "execution_count": 24
        }
      ],
      "source": [
        "y_scores = sgd_clf.decision_function([some_digit])\n",
        "y_scores"
      ]
    },
    {
      "cell_type": "code",
      "execution_count": 25,
      "metadata": {
        "id": "9GkM8kXXFHHE"
      },
      "outputs": [],
      "source": [
        "threshold=0\n",
        "y_some_digit_pred = (y_scores> threshold)"
      ]
    },
    {
      "cell_type": "markdown",
      "metadata": {
        "id": "JUPGD58XFNw7"
      },
      "source": [
        "SGDClassifier의 임곗값이 0이므로 위 코드는 predict()메서드와 같은 결과를 반환함"
      ]
    },
    {
      "cell_type": "code",
      "execution_count": 26,
      "metadata": {
        "colab": {
          "base_uri": "https://localhost:8080/"
        },
        "id": "C3rSsynFFVhG",
        "outputId": "a94d5fce-8302-4755-ca43-13b4ddaff118"
      },
      "outputs": [
        {
          "output_type": "execute_result",
          "data": {
            "text/plain": [
              "array([False])"
            ]
          },
          "metadata": {},
          "execution_count": 26
        }
      ],
      "source": [
        "threshold= 8000\n",
        "y_some_digit_pred = (y_scores > threshold)\n",
        "y_some_digit_pred"
      ]
    },
    {
      "cell_type": "markdown",
      "metadata": {
        "id": "JYYeOMMHFe2L"
      },
      "source": [
        "-> 이 결과는 임곗값을 높이면 재현율이 줄어든다는 것을 보여줌\n"
      ]
    },
    {
      "cell_type": "code",
      "execution_count": 27,
      "metadata": {
        "id": "kHlcFSKEFe7U"
      },
      "outputs": [],
      "source": [
        "y_scores = cross_val_predict(sgd_clf, X_train, y_train_5, cv=3 , method = \"decision_function\")"
      ]
    },
    {
      "cell_type": "markdown",
      "metadata": {
        "id": "6oZiYRbKFe-X"
      },
      "source": [
        "해당 점수로 precision_recall_curve()함수를 사용하여 가능한 모든 임곗값에 대해 정밀도와 재현율을 계산할 수 있다. "
      ]
    },
    {
      "cell_type": "code",
      "execution_count": 28,
      "metadata": {
        "id": "M4RJjQkdFfBx"
      },
      "outputs": [],
      "source": [
        "from sklearn.metrics import precision_recall_curve\n",
        "\n",
        "precisions, recalls, thresholds = precision_recall_curve(y_train_5, y_scores)\n"
      ]
    },
    {
      "cell_type": "code",
      "execution_count": 29,
      "metadata": {
        "colab": {
          "base_uri": "https://localhost:8080/",
          "height": 265
        },
        "id": "AIx-WYG6IoF-",
        "outputId": "4be5c1a4-d304-440a-ec16-f6d5417115f5"
      },
      "outputs": [
        {
          "output_type": "display_data",
          "data": {
            "text/plain": [
              "<Figure size 432x288 with 1 Axes>"
            ],
            "image/png": "[encoded data removed]"
          },
          "metadata": {
            "needs_background": "light"
          }
        }
      ],
      "source": [
        "#맷플롯립을 이용해 임곗값의 함수로 정밀도와 재현율 그리기\n",
        "def plot_precision_recall_vs_threshold(precisions, recalls, thresholds):\n",
        "  plt.plot(thresholds, precisions[:-1], \"b--\", label=\"정밀도\")\n",
        "  plt.plot(thresholds, recalls[:-1], \"g-\", label=\"재현율\")\n",
        "  [...]\n",
        "\n",
        "plot_precision_recall_vs_threshold(precisions, recalls, thresholds)\n",
        "plt.show()"
      ]
    },
    {
      "cell_type": "markdown",
      "metadata": {
        "id": "rUsf5fdAFfE2"
      },
      "source": [
        "-> 재현율 80%근처에서 정밀도가 급격하게 줄어들기 때문에 이 하강점 직절을 정밀도/재현율 프레이드오프로 선택!\n",
        "\n"
      ]
    },
    {
      "cell_type": "code",
      "execution_count": 30,
      "metadata": {
        "colab": {
          "base_uri": "https://localhost:8080/"
        },
        "id": "4gFbZo26FfJN",
        "outputId": "b87cc5ea-99c8-4480-fe76-8bfde27c54fd"
      },
      "outputs": [
        {
          "output_type": "execute_result",
          "data": {
            "text/plain": [
              "3370.0194991439557"
            ]
          },
          "metadata": {},
          "execution_count": 30
        }
      ],
      "source": [
        "threshold_90_precision = thresholds[np.argmax(precisions>=0.90)]\n",
        "threshold_90_precision"
      ]
    },
    {
      "cell_type": "code",
      "execution_count": 31,
      "metadata": {
        "id": "gMorbIc0KC86"
      },
      "outputs": [],
      "source": [
        "y_train_pred_90=(y_scores >= threshold_90_precision)"
      ]
    },
    {
      "cell_type": "code",
      "execution_count": 32,
      "metadata": {
        "colab": {
          "base_uri": "https://localhost:8080/"
        },
        "id": "LUhsec-tKJqV",
        "outputId": "7d4cc6cb-c4fd-4142-d70d-5b598b8ea50e"
      },
      "outputs": [
        {
          "output_type": "execute_result",
          "data": {
            "text/plain": [
              "0.9000345901072293"
            ]
          },
          "metadata": {},
          "execution_count": 32
        }
      ],
      "source": [
        "#정밀도\n",
        "precision_score(y_train_5, y_train_pred_90)\n",
        "\n"
      ]
    },
    {
      "cell_type": "code",
      "execution_count": 33,
      "metadata": {
        "colab": {
          "base_uri": "https://localhost:8080/"
        },
        "id": "9n9mr098ax8E",
        "outputId": "ff6a5a4e-34db-4e8d-e184-125b19131929"
      },
      "outputs": [
        {
          "output_type": "execute_result",
          "data": {
            "text/plain": [
              "0.4799852425751706"
            ]
          },
          "metadata": {},
          "execution_count": 33
        }
      ],
      "source": [
        "#재현율\n",
        "recall_score(y_train_5, y_train_pred_90)"
      ]
    },
    {
      "cell_type": "markdown",
      "metadata": {
        "id": "h0S4VDt_FfMa"
      },
      "source": [
        "### 3.3.5 ROC 곡선\n",
        "\n",
        ": 거짓 양성 비율에 대한 진짜 양성 비율의 곡선\n",
        "\n"
      ]
    },
    {
      "cell_type": "code",
      "execution_count": 34,
      "metadata": {
        "id": "VQ8nJ4ksFfPK"
      },
      "outputs": [],
      "source": [
        "from sklearn.metrics import roc_curve\n",
        "\n",
        "fpr, tpr, thresholds = roc_curve(y_train_5, y_scores)"
      ]
    },
    {
      "cell_type": "code",
      "execution_count": 35,
      "metadata": {
        "colab": {
          "base_uri": "https://localhost:8080/",
          "height": 265
        },
        "id": "YOxSlQ5rLBnb",
        "outputId": "faf5fe8d-5c4a-48e0-f987-d85520bc16a4"
      },
      "outputs": [
        {
          "output_type": "display_data",
          "data": {
            "text/plain": [
              "<Figure size 432x288 with 1 Axes>"
            ],
            "image/png": "[encoded data removed]"
          },
          "metadata": {
            "needs_background": "light"
          }
        }
      ],
      "source": [
        "def plot_roc_curve(fpr, tpr, label=None):\n",
        "  plt.plot(fpr, tpr, linewidth=2, label=label)\n",
        "  plt.plot([0,1],[0,1],'k--')\n",
        "  [...]\n",
        "\n",
        "plot_roc_curve(fpr, tpr)\n",
        "plt.show()"
      ]
    },
    {
      "cell_type": "markdown",
      "metadata": {
        "id": "5MqqcKdsFfSS"
      },
      "source": [
        "-> 재현율이 높을수록 분류기가 만드는 거짓 양성(FPR)이 늘어난다.\n",
        "\n",
        "점선은 완전한 랜덤 분류기의 ROC 곡선을 뜻한다. 좋은 분류기는 이 점선에서 최대한 멀리 떨어져 있다. \n",
        "\n",
        "- 곡선 아래의 면적(AUC)가 1인 경우 완벽한 분류기이고 완전한 랜덤 분류기는 0.5이다."
      ]
    },
    {
      "cell_type": "code",
      "execution_count": 36,
      "metadata": {
        "colab": {
          "base_uri": "https://localhost:8080/"
        },
        "id": "3m8nCsq9Lsfb",
        "outputId": "4b8b6332-ff70-4706-b32b-d73dbe0b7fe4"
      },
      "outputs": [
        {
          "output_type": "execute_result",
          "data": {
            "text/plain": [
              "0.9604938554008616"
            ]
          },
          "metadata": {},
          "execution_count": 36
        }
      ],
      "source": [
        "# roc의 auc를 계산하는 함수를 사이킷런에서 제공\n",
        "from sklearn.metrics import roc_auc_score\n",
        "roc_auc_score(y_train_5, y_scores)"
      ]
    },
    {
      "cell_type": "markdown",
      "metadata": {
        "id": "TSEsoJcHL89v"
      },
      "source": [
        "> ROC 곡선 : 거짓음성보다 거짓 양성이 더 중요할 때 정밀도/재현율 곡선보다 ROC를 사용함.\n",
        "\n"
      ]
    },
    {
      "cell_type": "code",
      "execution_count": 37,
      "metadata": {
        "id": "RZLgv6wqMLHN"
      },
      "outputs": [],
      "source": [
        "#랜덤포레스트 훈련 후 ROC AUC점수와 ROC곡선 비교\n",
        "\n",
        "from sklearn.ensemble import RandomForestClassifier\n",
        "forest_clf = RandomForestClassifier(random_state=42)\n",
        "y_probas_forest = cross_val_predict(forest_clf, X_train, y_train_5, cv=3, method=\"predict_proba\")"
      ]
    },
    {
      "cell_type": "code",
      "execution_count": 38,
      "metadata": {
        "id": "Lo1SCXVtMjOb"
      },
      "outputs": [],
      "source": [
        "y_scores_forest = y_probas_forest[:,1] #양성 클래스에 대한 확률을 점수로 사용\n",
        "fpr_forest, tpr_forest, thresholds_forest = roc_curve(y_train_5, y_scores_forest)"
      ]
    },
    {
      "cell_type": "code",
      "execution_count": 39,
      "metadata": {
        "colab": {
          "base_uri": "https://localhost:8080/",
          "height": 485
        },
        "id": "nyfyQup3Mu-7",
        "outputId": "259a17a9-d0ad-4609-92fc-dcb7d9bd3f17"
      },
      "outputs": [
        {
          "output_type": "stream",
          "name": "stderr",
          "text": [
            "/usr/local/lib/python3.9/dist-packages/IPython/core/pylabtools.py:128: UserWarning: Glyph 47004 (\\N{HANGUL SYLLABLE RAEN}) missing from current font.\n",
            "  fig.canvas.print_figure(bytes_io, **kw)\n",
            "/usr/local/lib/python3.9/dist-packages/IPython/core/pylabtools.py:128: UserWarning: Glyph 45924 (\\N{HANGUL SYLLABLE DEOM}) missing from current font.\n",
            "  fig.canvas.print_figure(bytes_io, **kw)\n",
            "/usr/local/lib/python3.9/dist-packages/IPython/core/pylabtools.py:128: UserWarning: Glyph 54252 (\\N{HANGUL SYLLABLE PO}) missing from current font.\n",
            "  fig.canvas.print_figure(bytes_io, **kw)\n",
            "/usr/local/lib/python3.9/dist-packages/IPython/core/pylabtools.py:128: UserWarning: Glyph 47112 (\\N{HANGUL SYLLABLE RE}) missing from current font.\n",
            "  fig.canvas.print_figure(bytes_io, **kw)\n",
            "/usr/local/lib/python3.9/dist-packages/IPython/core/pylabtools.py:128: UserWarning: Glyph 49828 (\\N{HANGUL SYLLABLE SEU}) missing from current font.\n",
            "  fig.canvas.print_figure(bytes_io, **kw)\n",
            "/usr/local/lib/python3.9/dist-packages/IPython/core/pylabtools.py:128: UserWarning: Glyph 53944 (\\N{HANGUL SYLLABLE TEU}) missing from current font.\n",
            "  fig.canvas.print_figure(bytes_io, **kw)\n"
          ]
        },
        {
          "output_type": "display_data",
          "data": {
            "text/plain": [
              "<Figure size 432x288 with 1 Axes>"
            ],
            "image/png": "[encoded data removed]"
          },
          "metadata": {
            "needs_background": "light"
          }
        }
      ],
      "source": [
        "plt.plot(fpr, tpr, \"b:\", label=\"SGD\")\n",
        "plot_roc_curve(fpr_forest, tpr_forest, \"랜덤 포레스트\")\n",
        "plt.legend(loc=\"lower right\")\n",
        "plt.show()"
      ]
    },
    {
      "cell_type": "markdown",
      "metadata": {
        "id": "kFXC00OdNAtA"
      },
      "source": [
        "AUC 값이 큰 랜덤포레스트 분류기가 훨씬 좋다."
      ]
    },
    {
      "cell_type": "code",
      "execution_count": 40,
      "metadata": {
        "colab": {
          "base_uri": "https://localhost:8080/"
        },
        "id": "rYaJM8P0NHef",
        "outputId": "775f6451-6e4f-4e2f-93dc-88e23fdfca2a"
      },
      "outputs": [
        {
          "output_type": "execute_result",
          "data": {
            "text/plain": [
              "0.9983436731328145"
            ]
          },
          "metadata": {},
          "execution_count": 40
        }
      ],
      "source": [
        "roc_auc_score(y_train_5, y_scores_forest)"
      ]
    },
    {
      "cell_type": "markdown",
      "metadata": {
        "id": "7ah294eXNtDY"
      },
      "source": [
        "### 3.4 다중 분류\n",
        "\n",
        "이진 분류가 두 개의 클래스를 구별하는 반면 다중 분류기는 둘 이상의 클래스를 구별할 수 있음.\n",
        "\n",
        "* (SGD분류기, 랜덤 포레스트 분류기, 나이브 베이즈) 일부 알고리즘은 여러개의 클래스를 직접 처리 할 수 있음\n",
        "* (로지스틱 회귀나 서포트 벡터 머신 분류기)등 다른 알고리즘은 이진 분류만 가능"
      ]
    },
    {
      "cell_type": "code",
      "execution_count": 41,
      "metadata": {
        "colab": {
          "base_uri": "https://localhost:8080/"
        },
        "id": "qTkDhZLMO6dm",
        "outputId": "12e05889-baca-42bc-f0e9-8f1c9d6509d9"
      },
      "outputs": [
        {
          "output_type": "execute_result",
          "data": {
            "text/plain": [
              "array([5], dtype=uint8)"
            ]
          },
          "metadata": {},
          "execution_count": 41
        }
      ],
      "source": [
        "from sklearn.svm import SVC\n",
        "svm_clf= SVC()\n",
        "svm_clf.fit(X_train, y_train) #y_train_5가 아니고 y_train을 사용\n",
        "svm_clf.predict([some_digit])"
      ]
    },
    {
      "cell_type": "markdown",
      "metadata": {
        "id": "DrXDZl4mPOmU"
      },
      "source": [
        "-> 5를 구별한 타깃 클래스(y_train_5)대신 0에서 9까지의 원래 타깃클랫(y_train)를 사용해 SVC를 훈련시킨다. \n",
        "\n",
        "그런 다음 예측 하나를 만들어낸다.  내부에서는 사이킷런이 OvO 전략을 사용해 10개의 이진 분류기를 훈련시키고 각갂의 결정 점수를 얻어 점수가 가장 높은 클래스를 선택한다. "
      ]
    },
    {
      "cell_type": "code",
      "execution_count": 42,
      "metadata": {
        "id": "icnT2TU2O-kq",
        "colab": {
          "base_uri": "https://localhost:8080/"
        },
        "outputId": "deafcda4-75df-4557-c888-30c81333e871"
      },
      "outputs": [
        {
          "output_type": "execute_result",
          "data": {
            "text/plain": [
              "array([[ 1.72501977,  2.72809088,  7.2510018 ,  8.3076379 , -0.31087254,\n",
              "         9.3132482 ,  1.70975103,  2.76765202,  6.23049537,  4.84771048]])"
            ]
          },
          "metadata": {},
          "execution_count": 42
        }
      ],
      "source": [
        "some_digit_scores = svm_clf.decision_function([some_digit])\n",
        "some_digit_scores"
      ]
    },
    {
      "cell_type": "markdown",
      "metadata": {
        "id": "2najohhGPkNb"
      },
      "source": [
        "->샘플당 10개의 점수를 반환하는데 이 점수는 클래스마다 하나씩이다. "
      ]
    },
    {
      "cell_type": "code",
      "execution_count": 43,
      "metadata": {
        "id": "iHq9sdFZPoxQ",
        "colab": {
          "base_uri": "https://localhost:8080/"
        },
        "outputId": "29dafe7c-ec2f-41e8-be6c-edfdfe6662b9"
      },
      "outputs": [
        {
          "output_type": "execute_result",
          "data": {
            "text/plain": [
              "5"
            ]
          },
          "metadata": {},
          "execution_count": 43
        }
      ],
      "source": [
        "np.argmax(some_digit_scores)\n"
      ]
    },
    {
      "cell_type": "code",
      "execution_count": 44,
      "metadata": {
        "id": "_AzaTWUIPun6",
        "colab": {
          "base_uri": "https://localhost:8080/"
        },
        "outputId": "2292e026-0470-4aa4-aaba-cd39c7845b16"
      },
      "outputs": [
        {
          "output_type": "execute_result",
          "data": {
            "text/plain": [
              "array([0, 1, 2, 3, 4, 5, 6, 7, 8, 9], dtype=uint8)"
            ]
          },
          "metadata": {},
          "execution_count": 44
        }
      ],
      "source": [
        "svm_clf.classes_"
      ]
    },
    {
      "cell_type": "code",
      "execution_count": 45,
      "metadata": {
        "id": "K9DQRroSPvQF",
        "colab": {
          "base_uri": "https://localhost:8080/"
        },
        "outputId": "f8db1228-fd5b-4ea9-d103-c944ce9cc3b9"
      },
      "outputs": [
        {
          "output_type": "execute_result",
          "data": {
            "text/plain": [
              "5"
            ]
          },
          "metadata": {},
          "execution_count": 45
        }
      ],
      "source": [
        "svm_clf.classes_[5]"
      ]
    },
    {
      "cell_type": "markdown",
      "metadata": {
        "id": "fqLLfDgePoO0"
      },
      "source": [
        "사이킷런에서 ovo나 ovr을 사용하도록 강제하려면 OneVsOneCassifier 나 OenVsRestClassifier를 사용한다."
      ]
    },
    {
      "cell_type": "code",
      "execution_count": 46,
      "metadata": {
        "id": "wA-9Qp5uP1py",
        "colab": {
          "base_uri": "https://localhost:8080/"
        },
        "outputId": "4a437c2b-ce1d-4935-c4ee-facb841fb562"
      },
      "outputs": [
        {
          "output_type": "execute_result",
          "data": {
            "text/plain": [
              "array([5], dtype=uint8)"
            ]
          },
          "metadata": {},
          "execution_count": 46
        }
      ],
      "source": [
        "#SVC기반으로 OvR전략을 사용하는 다중 분류기를 만드는 코드\n",
        "from sklearn.multiclass import OneVsRestClassifier\n",
        "ovr_clf = OneVsRestClassifier(SVC())\n",
        "ovr_clf.fit(X_train, y_train)\n",
        "ovr_clf.predict([some_digit])"
      ]
    },
    {
      "cell_type": "code",
      "execution_count": 47,
      "metadata": {
        "id": "vD35TCmoQRqb",
        "colab": {
          "base_uri": "https://localhost:8080/"
        },
        "outputId": "5c097f49-04c9-4b90-882d-2f7c2a5b103c"
      },
      "outputs": [
        {
          "output_type": "execute_result",
          "data": {
            "text/plain": [
              "10"
            ]
          },
          "metadata": {},
          "execution_count": 47
        }
      ],
      "source": [
        "len(ovr_clf.estimators_)"
      ]
    },
    {
      "cell_type": "code",
      "execution_count": 48,
      "metadata": {
        "id": "GYLi7WlNQWKO",
        "colab": {
          "base_uri": "https://localhost:8080/"
        },
        "outputId": "19134aa4-0858-471f-de9d-13948e684deb"
      },
      "outputs": [
        {
          "output_type": "execute_result",
          "data": {
            "text/plain": [
              "array([3], dtype=uint8)"
            ]
          },
          "metadata": {},
          "execution_count": 48
        }
      ],
      "source": [
        "#SGDClassifier 훈련\n",
        "sgd_clf.fit(X_train, y_train)\n",
        "sgd_clf.predict([some_digit])"
      ]
    },
    {
      "cell_type": "markdown",
      "metadata": {
        "id": "4ThbnfuIQe1X"
      },
      "source": [
        "위의 경우 SGD 분류기는 직접 새플을 다중 클래스로 분류할 수 있기 때문에 별도로 사이킷런의 OvR이나 ovo를 적용할 필요가 없다. "
      ]
    },
    {
      "cell_type": "code",
      "execution_count": 49,
      "metadata": {
        "id": "ePFSyR3HQmAC",
        "colab": {
          "base_uri": "https://localhost:8080/"
        },
        "outputId": "9b6c21b2-e79c-4238-9027-132efdeaa5ac"
      },
      "outputs": [
        {
          "output_type": "execute_result",
          "data": {
            "text/plain": [
              "array([[-31893.03095419, -34419.69069632,  -9530.63950739,\n",
              "          1823.73154031, -22320.14822878,  -1385.80478895,\n",
              "        -26188.91070951, -16147.51323997,  -4604.35491274,\n",
              "        -12050.767298  ]])"
            ]
          },
          "metadata": {},
          "execution_count": 49
        }
      ],
      "source": [
        "#SGD분류기가 클래스마다 부여한 점수를 확인\n",
        "sgd_clf.decision_function([some_digit])"
      ]
    },
    {
      "cell_type": "code",
      "execution_count": 50,
      "metadata": {
        "id": "65ipjM_uQ0fw",
        "colab": {
          "base_uri": "https://localhost:8080/"
        },
        "outputId": "81591324-5cc5-4015-9690-2d46955dc13d"
      },
      "outputs": [
        {
          "output_type": "execute_result",
          "data": {
            "text/plain": [
              "array([0.87365, 0.85835, 0.8689 ])"
            ]
          },
          "metadata": {},
          "execution_count": 50
        }
      ],
      "source": [
        "#분류기 평가 교차검증 사용\n",
        "cross_val_score(sgd_clf, X_train, y_train, cv=3, scoring=\"accuracy\")"
      ]
    },
    {
      "cell_type": "code",
      "execution_count": 51,
      "metadata": {
        "id": "5iyKxy0ZQ_Gs",
        "colab": {
          "base_uri": "https://localhost:8080/"
        },
        "outputId": "f30aed2d-6769-447c-f023-6fa7ea2ddaa0"
      },
      "outputs": [
        {
          "output_type": "execute_result",
          "data": {
            "text/plain": [
              "array([0.8983, 0.891 , 0.9018])"
            ]
          },
          "metadata": {},
          "execution_count": 51
        }
      ],
      "source": [
        "#스케일 조정하여 정확도 높이기\n",
        "from sklearn.preprocessing import StandardScaler\n",
        "scaler = StandardScaler()\n",
        "X_train_scaled = scaler.fit_transform(X_train.astype(np.float64))\n",
        "cross_val_score(sgd_clf, X_train_scaled, y_train, cv=3, scoring=\"accuracy\")"
      ]
    },
    {
      "cell_type": "markdown",
      "metadata": {
        "id": "ablJNKwpRSSV"
      },
      "source": [
        "### 3.5 에러 분석\n",
        "\n",
        "가능성이 높은 모델을 하나 찾았다고 가정하고 모델의 성능을 향상 시킬 방법을 알아보자. 그 중 한가지 방법은 에러의 종류를 분석하는 것이다 \n",
        "\n",
        "1) 오차 행렬 살펴보기"
      ]
    },
    {
      "cell_type": "code",
      "execution_count": 52,
      "metadata": {
        "id": "DAriQQbWRm6B",
        "colab": {
          "base_uri": "https://localhost:8080/"
        },
        "outputId": "c6f7bab2-7fc1-49f6-e9ab-abb31e1aa7c7"
      },
      "outputs": [
        {
          "output_type": "execute_result",
          "data": {
            "text/plain": [
              "array([[5577,    0,   22,    5,    8,   43,   36,    6,  225,    1],\n",
              "       [   0, 6400,   37,   24,    4,   44,    4,    7,  212,   10],\n",
              "       [  27,   27, 5220,   92,   73,   27,   67,   36,  378,   11],\n",
              "       [  22,   17,  117, 5227,    2,  203,   27,   40,  403,   73],\n",
              "       [  12,   14,   41,    9, 5182,   12,   34,   27,  347,  164],\n",
              "       [  27,   15,   30,  168,   53, 4444,   75,   14,  535,   60],\n",
              "       [  30,   15,   42,    3,   44,   97, 5552,    3,  131,    1],\n",
              "       [  21,   10,   51,   30,   49,   12,    3, 5684,  195,  210],\n",
              "       [  17,   63,   48,   86,    3,  126,   25,   10, 5429,   44],\n",
              "       [  25,   18,   30,   64,  118,   36,    1,  179,  371, 5107]])"
            ]
          },
          "metadata": {},
          "execution_count": 52
        }
      ],
      "source": [
        "y_train_pred = cross_val_predict(sgd_clf, X_train_scaled, y_train, cv=3)\n",
        "conf_mx = confusion_matrix(y_train, y_train_pred)\n",
        "conf_mx"
      ]
    },
    {
      "cell_type": "code",
      "execution_count": 53,
      "metadata": {
        "id": "PYZBaVdtR1Dt",
        "colab": {
          "base_uri": "https://localhost:8080/",
          "height": 275
        },
        "outputId": "153cdb1c-a830-4017-bdd5-5203d8de6b7f"
      },
      "outputs": [
        {
          "output_type": "display_data",
          "data": {
            "text/plain": [
              "<Figure size 288x288 with 1 Axes>"
            ],
            "image/png": "[encoded data removed]"
          },
          "metadata": {
            "needs_background": "light"
          }
        }
      ],
      "source": [
        "plt.matshow(conf_mx, cmap=plt.cm.gray)\n",
        "plt.show()"
      ]
    },
    {
      "cell_type": "markdown",
      "metadata": {
        "id": "8oV3sWItR9ls"
      },
      "source": [
        "-> 이 오차행렬은 대부분의 이미지가 올바르게 분류되었음을 나타내는 주대각선에 있으므로 매우 좋아보임. \n",
        "\n",
        "그래프의 에러 부분에 초점을 맞춰보자.\n",
        "먼저 오차 행렬의 각 값을 대응되는 클래스의 이미지 개수로 나누어 에러 비율을 비교한다. "
      ]
    },
    {
      "cell_type": "code",
      "execution_count": 54,
      "metadata": {
        "id": "ZFXfK6TiSKhg"
      },
      "outputs": [],
      "source": [
        "row_sums = conf_mx.sum(axis=1, keepdims = True)\n",
        "norm_conf_mx = conf_mx / row_sums"
      ]
    },
    {
      "cell_type": "code",
      "execution_count": 55,
      "metadata": {
        "id": "HEwVaGLFSSQG",
        "colab": {
          "base_uri": "https://localhost:8080/",
          "height": 275
        },
        "outputId": "74351b08-4990-4b74-84ba-01403b483f54"
      },
      "outputs": [
        {
          "output_type": "display_data",
          "data": {
            "text/plain": [
              "<Figure size 288x288 with 1 Axes>"
            ],
            "image/png": "[encoded data removed]"
          },
          "metadata": {
            "needs_background": "light"
          }
        }
      ],
      "source": [
        "#다른 항목 유지, 주대각선만 0으로 채워서 그래프 그리기\n",
        "np.fill_diagonal(norm_conf_mx, 0)\n",
        "plt.matshow(norm_conf_mx, cmap=plt.cm.gray)\n",
        "plt.show()"
      ]
    },
    {
      "cell_type": "markdown",
      "metadata": {
        "id": "IUNEhSk0TFTh"
      },
      "source": [
        "-> 8의 열이 상당히 밝지만 8행은 밝지 않아서 실제 8이 8로 분류된 것은 맞음.\n",
        "\n",
        "오차행렬은 반드시 대칭인 것은 아님. \n",
        "\n",
        "그치만 8열에 오류가 많아 보이기 때문에 8로 잘못 분류되는 것을 줄이도록 개선할 필요가 있다는 판단이 섬. \n",
        "\n",
        "8처럼 보이는 숫자 훈련 데이터를 더 ㅁ낳이 모아서 실제 8과 구분하도록 분류기를 학습시킬 수 있다. "
      ]
    },
    {
      "cell_type": "code",
      "source": [
        "#3과 5의 샘플 \n",
        "cl_a, cl_b= 3,5\n",
        "X_aa = X_train[(y_train == cl_a) & (y_train_pred == cl_a)]\n",
        "X_ab = X_train[(y_train == cl_a) & (y_train_pred == cl_b)]\n",
        "X_ba = X_train[(y_train == cl_b) & (y_train_pred == cl_a)]\n",
        "X_bb = X_train[(y_train == cl_b) & (y_train_pred == cl_b)]\n",
        "\n",
        "plt.figure(figsize=(8,8))\n",
        "plt.subplot(221); plot_digits(X_aa[:25], images_per_row=5)\n",
        "plt.subplot(222); plot_digits(X_ab[:25], images_per_row=5)\n",
        "plt.subplot(223); plot_digits(X_ba[:25], images_per_row=5)\n",
        "plt.subplot(224); plot_digits(X_bb[:25], images_per_row=5)\n",
        "plt.show()"
      ],
      "metadata": {
        "id": "JlIt-R5nTZzr"
      },
      "execution_count": null,
      "outputs": []
    },
    {
      "cell_type": "markdown",
      "metadata": {
        "id": "XgzyMF0qTeYp"
      },
      "source": [
        "-> 3과 5를 분류할 때 이미지의 위치나 회전 방향에 분류기가 매우 민감하게 반응 함. 따라서 3과 5의 에러를 줄이는 방법은 이미지를 ㅇ중앙에 위치시키고 회전되어 있지 않도록 전처리 하는 것이다. \n",
        "\n",
        "### 3.6 다중 레이블 분류\n",
        "\n",
        "분류기가 샘플마다 여러개의 클래스를 출력해야하는 경우 = 여러 개의 이진 꼬리표를 출력하는 분류 시스템\n",
        "\n"
      ]
    },
    {
      "cell_type": "code",
      "execution_count": 63,
      "metadata": {
        "id": "4-JtCck3UiA2",
        "colab": {
          "base_uri": "https://localhost:8080/",
          "height": 75
        },
        "outputId": "75af609a-44ff-4897-952e-befdb0f103c8"
      },
      "outputs": [
        {
          "output_type": "execute_result",
          "data": {
            "text/plain": [
              "KNeighborsClassifier()"
            ],
            "text/html": [
              "<style>#sk-container-id-2 {color: black;background-color: white;}#sk-container-id-2 pre{padding: 0;}#sk-container-id-2 div.sk-toggleable {background-color: white;}#sk-container-id-2 label.sk-toggleable__label {cursor: pointer;display: block;width: 100%;margin-bottom: 0;padding: 0.3em;box-sizing: border-box;text-align: center;}#sk-container-id-2 label.sk-toggleable__label-arrow:before {content: \"▸\";float: left;margin-right: 0.25em;color: #696969;}#sk-container-id-2 label.sk-toggleable__label-arrow:hover:before {color: black;}#sk-container-id-2 div.sk-estimator:hover label.sk-toggleable__label-arrow:before {color: black;}#sk-container-id-2 div.sk-toggleable__content {max-height: 0;max-width: 0;overflow: hidden;text-align: left;background-color: #f0f8ff;}#sk-container-id-2 div.sk-toggleable__content pre {margin: 0.2em;color: black;border-radius: 0.25em;background-color: #f0f8ff;}#sk-container-id-2 input.sk-toggleable__control:checked~div.sk-toggleable__content {max-height: 200px;max-width: 100%;overflow: auto;}#sk-container-id-2 input.sk-toggleable__control:checked~label.sk-toggleable__label-arrow:before {content: \"▾\";}#sk-container-id-2 div.sk-estimator input.sk-toggleable__control:checked~label.sk-toggleable__label {background-color: #d4ebff;}#sk-container-id-2 div.sk-label input.sk-toggleable__control:checked~label.sk-toggleable__label {background-color: #d4ebff;}#sk-container-id-2 input.sk-hidden--visually {border: 0;clip: rect(1px 1px 1px 1px);clip: rect(1px, 1px, 1px, 1px);height: 1px;margin: -1px;overflow: hidden;padding: 0;position: absolute;width: 1px;}#sk-container-id-2 div.sk-estimator {font-family: monospace;background-color: #f0f8ff;border: 1px dotted black;border-radius: 0.25em;box-sizing: border-box;margin-bottom: 0.5em;}#sk-container-id-2 div.sk-estimator:hover {background-color: #d4ebff;}#sk-container-id-2 div.sk-parallel-item::after {content: \"\";width: 100%;border-bottom: 1px solid gray;flex-grow: 1;}#sk-container-id-2 div.sk-label:hover label.sk-toggleable__label {background-color: #d4ebff;}#sk-container-id-2 div.sk-serial::before {content: \"\";position: absolute;border-left: 1px solid gray;box-sizing: border-box;top: 0;bottom: 0;left: 50%;z-index: 0;}#sk-container-id-2 div.sk-serial {display: flex;flex-direction: column;align-items: center;background-color: white;padding-right: 0.2em;padding-left: 0.2em;position: relative;}#sk-container-id-2 div.sk-item {position: relative;z-index: 1;}#sk-container-id-2 div.sk-parallel {display: flex;align-items: stretch;justify-content: center;background-color: white;position: relative;}#sk-container-id-2 div.sk-item::before, #sk-container-id-2 div.sk-parallel-item::before {content: \"\";position: absolute;border-left: 1px solid gray;box-sizing: border-box;top: 0;bottom: 0;left: 50%;z-index: -1;}#sk-container-id-2 div.sk-parallel-item {display: flex;flex-direction: column;z-index: 1;position: relative;background-color: white;}#sk-container-id-2 div.sk-parallel-item:first-child::after {align-self: flex-end;width: 50%;}#sk-container-id-2 div.sk-parallel-item:last-child::after {align-self: flex-start;width: 50%;}#sk-container-id-2 div.sk-parallel-item:only-child::after {width: 0;}#sk-container-id-2 div.sk-dashed-wrapped {border: 1px dashed gray;margin: 0 0.4em 0.5em 0.4em;box-sizing: border-box;padding-bottom: 0.4em;background-color: white;}#sk-container-id-2 div.sk-label label {font-family: monospace;font-weight: bold;display: inline-block;line-height: 1.2em;}#sk-container-id-2 div.sk-label-container {text-align: center;}#sk-container-id-2 div.sk-container {/* jupyter's `normalize.less` sets `[hidden] { display: none; }` but bootstrap.min.css set `[hidden] { display: none !important; }` so we also need the `!important` here to be able to override the default hidden behavior on the sphinx rendered scikit-learn.org. See: https://github.com/scikit-learn/scikit-learn/issues/21755 */display: inline-block !important;position: relative;}#sk-container-id-2 div.sk-text-repr-fallback {display: none;}</style><div id=\"sk-container-id-2\" class=\"sk-top-container\"><div class=\"sk-text-repr-fallback\"><pre>KNeighborsClassifier()</pre><b>In a Jupyter environment, please rerun this cell to show the HTML representation or trust the notebook. <br />On GitHub, the HTML representation is unable to render, please try loading this page with nbviewer.org.</b></div><div class=\"sk-container\" hidden><div class=\"sk-item\"><div class=\"sk-estimator sk-toggleable\"><input class=\"sk-toggleable__control sk-hidden--visually\" id=\"sk-estimator-id-2\" type=\"checkbox\" checked><label for=\"sk-estimator-id-2\" class=\"sk-toggleable__label sk-toggleable__label-arrow\">KNeighborsClassifier</label><div class=\"sk-toggleable__content\"><pre>KNeighborsClassifier()</pre></div></div></div></div></div>"
            ]
          },
          "metadata": {},
          "execution_count": 63
        }
      ],
      "source": [
        "from sklearn.neighbors import KNeighborsClassifier\n",
        "y_train_large = (y_train >= 7)\n",
        "y_train_odd = (y_train % 2 == 1)\n",
        "y_multilabel = np.c_[y_train_large, y_train_odd]\n",
        "\n",
        "knn_clf = KNeighborsClassifier()\n",
        "knn_clf.fit(X_train, y_multilabel)"
      ]
    },
    {
      "cell_type": "code",
      "execution_count": 64,
      "metadata": {
        "id": "bD--lu1MVGtq",
        "colab": {
          "base_uri": "https://localhost:8080/"
        },
        "outputId": "013c3667-7d61-4557-a174-dee691e12e19"
      },
      "outputs": [
        {
          "output_type": "execute_result",
          "data": {
            "text/plain": [
              "array([[False,  True]])"
            ]
          },
          "metadata": {},
          "execution_count": 64
        }
      ],
      "source": [
        "knn_clf.predict([some_digit])"
      ]
    },
    {
      "cell_type": "markdown",
      "metadata": {
        "id": "Dv4ajQEaU6J6"
      },
      "source": [
        "-> 각 숫자 이미지에 두 개의 타깃 레이블이 담긴 y_multilabel배열을 만듦\n",
        "\n",
        "[\n",
        "숫자가 큰 값인지 나타내고, 홀수인지 나타냄]"
      ]
    },
    {
      "cell_type": "code",
      "execution_count": 65,
      "metadata": {
        "id": "0-8rEU6uVT3z",
        "colab": {
          "base_uri": "https://localhost:8080/"
        },
        "outputId": "c036645d-ae67-4f94-fb04-00b1663f2b3c"
      },
      "outputs": [
        {
          "output_type": "execute_result",
          "data": {
            "text/plain": [
              "0.976410265560605"
            ]
          },
          "metadata": {},
          "execution_count": 65
        }
      ],
      "source": [
        "#F1점수 구하고 간단하게 평균 점수 계싼\n",
        "y_train_knn_pred = cross_val_predict(knn_clf, X_train, y_multilabel, cv=3)\n",
        "f1_score(y_multilabel, y_train_knn_pred, average = \"macro\") #지지도를 가중치로 두려면 average = \"weighted\" 로 설정"
      ]
    },
    {
      "cell_type": "markdown",
      "metadata": {
        "id": "Ucf7Y0pdVre3"
      },
      "source": [
        "### 3.7 다중 출력 분류\n",
        "\n",
        "다중 레이블 분류에서 한 레이블이 다중 클래스가 될 수 있도록 일반화한 것.\n",
        "\n",
        "<이미지에서 잡음을 제거하는 시스템 만들기>\n",
        "\n",
        "잡음이 많은 숫자 이미지를 입력으로 받고 깨끗한 숫자 이미지를 MNIST이미지처럼 픽셀의 강도를 담은 배열로 출력. \n",
        "\n",
        "분류기의 출력이 다중 레이블이고 각 레이블은 값을 여러개 가짐.\n"
      ]
    },
    {
      "cell_type": "code",
      "execution_count": 66,
      "metadata": {
        "id": "0m-O3O48XBB9"
      },
      "outputs": [],
      "source": [
        "#MNIST 이미지에서 추출한 훈련 세트와 테스트 세트에 넘파이의 randint()함수를 사용하여 픽셀 강도에 잡음 추가\n",
        "noise= np.random.randint(0,100, (len(X_train), 784))\n",
        "X_train_mod = X_train + noise\n",
        "noise = np.random.randint(0,100, (len(X_test), 784))\n",
        "X_test_mod = X_test + noise\n",
        "y_train_mod = X_train\n",
        "y_test_mod = X_test"
      ]
    },
    {
      "cell_type": "code",
      "source": [
        "knn_clf.fit(X_train_mod, y_train_mod)\n",
        "clean_digit = knn_clf.predict([X_test_mod[some_index]])\n",
        "plot_digit(clean_digit)"
      ],
      "metadata": {
        "id": "vqRsZSE5UOa5"
      },
      "execution_count": null,
      "outputs": []
    },
    {
      "cell_type": "markdown",
      "metadata": {
        "id": "sECJ9J78X8eV"
      },
      "source": [
        "-> 분류기를 훈련시켜 이미지를 깨끗하게 만들었다. "
      ]
    }
  ],
  "metadata": {
    "colab": {
      "provenance": [],
      "authorship_tag": "ABX9TyOH1ZaIid2gRWNJgMxBarxK",
      "include_colab_link": true
    },
    "kernelspec": {
      "display_name": "Python 3",
      "name": "python3"
    },
    "language_info": {
      "name": "python"
    }
  },
  "nbformat": 4,
  "nbformat_minor": 0
}