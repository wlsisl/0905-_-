{
  "nbformat": 4,
  "nbformat_minor": 0,
  "metadata": {
    "colab": {
      "provenance": [],
      "collapsed_sections": [],
      "authorship_tag": "ABX9TyNyv9n7EzrDokmrtBu5BvSk",
      "include_colab_link": true
    },
    "kernelspec": {
      "name": "python3",
      "display_name": "Python 3"
    },
    "language_info": {
      "name": "python"
    }
  },
  "cells": [
    {
      "cell_type": "markdown",
      "metadata": {
        "id": "view-in-github",
        "colab_type": "text"
      },
      "source": [
        "<a href=\"https://colab.research.google.com/github/wlsisl/ESAA_22-2/blob/main/datetime_assignment.ipynb\" target=\"_parent\"><img src=\"https://colab.research.google.com/assets/colab-badge.svg\" alt=\"Open In Colab\"/></a>"
      ]
    },
    {
      "cell_type": "markdown",
      "source": [
        "## 12-1\n",
        "### datetime 오브젝트\n",
        "\n",
        "datetime 라이브러리: 날짜와 시간을 처리하는 등의 다양한 기능을 제공하는 파이썬 라이브러리\n",
        "\n",
        "* date 오브젝트 : 날자를 처리함\n",
        "\n",
        "* time 오브젝트 : 시간을 처리함\n",
        "\n",
        "* datetime 오브젝트 : 날짜와 시간을 모두 처리함\n",
        "\n",
        "\n",
        "datetime 오브젝트 사용하기\n",
        "1. datetime오브젝트를 사용하기 위해 라이브러리를 불러온다."
      ],
      "metadata": {
        "id": "NbSsswJFUSOc"
      }
    },
    {
      "cell_type": "code",
      "execution_count": 1,
      "metadata": {
        "id": "DnJ006ByxcNG"
      },
      "outputs": [],
      "source": [
        "from datetime import datetime "
      ]
    },
    {
      "cell_type": "markdown",
      "source": [
        "2. now, today 메서드를 사용하면 다음과 같이 현재 시간을 출력할 수 있다."
      ],
      "metadata": {
        "id": "Q_trjf_1UzhS"
      }
    },
    {
      "cell_type": "code",
      "source": [
        "now1 = datetime.now()\n",
        "print(now1)"
      ],
      "metadata": {
        "colab": {
          "base_uri": "https://localhost:8080/"
        },
        "id": "dyqBVKYxUz6z",
        "outputId": "84461ba3-6a32-48dd-ea5c-bc88977c8cbe"
      },
      "execution_count": 2,
      "outputs": [
        {
          "output_type": "stream",
          "name": "stdout",
          "text": [
            "2022-10-10 05:16:50.511010\n"
          ]
        }
      ]
    },
    {
      "cell_type": "code",
      "source": [
        "now2=datetime.today()\n",
        "print(now2)"
      ],
      "metadata": {
        "colab": {
          "base_uri": "https://localhost:8080/"
        },
        "id": "E0kbhZIIVD7z",
        "outputId": "ad4d2f98-6cb0-4ece-bd96-8dd1cb6238a4"
      },
      "execution_count": 3,
      "outputs": [
        {
          "output_type": "stream",
          "name": "stdout",
          "text": [
            "2022-10-10 05:16:50.529839\n"
          ]
        }
      ]
    },
    {
      "cell_type": "markdown",
      "source": [
        "3. 다음은 datetime오브젝트를 생성할 때 시간을 직접 입력하여 인자로 전달한 것이다.\n",
        "각 변수를 출력하여 확인해보면 입력한 시간을 바탕으로 datetime오브젝트가 생성된다."
      ],
      "metadata": {
        "id": "5BgJgZjLU0Xc"
      }
    },
    {
      "cell_type": "code",
      "source": [
        "t1= datetime.now()\n",
        "t2= datetime(1970,1,1)\n",
        "t3= datetime(1970,12,12,13,24,34)\n",
        "\n",
        "print(t1)\n",
        "print(t2)\n",
        "print(t3)"
      ],
      "metadata": {
        "colab": {
          "base_uri": "https://localhost:8080/"
        },
        "id": "epjLE4ZUU0jH",
        "outputId": "b30566d3-b6eb-4bd3-d012-06ae29a5111a"
      },
      "execution_count": 4,
      "outputs": [
        {
          "output_type": "stream",
          "name": "stdout",
          "text": [
            "2022-10-10 05:16:50.545867\n",
            "1970-01-01 00:00:00\n",
            "1970-12-12 13:24:34\n"
          ]
        }
      ]
    },
    {
      "cell_type": "markdown",
      "source": [
        "4.datetime오브젝트를 사용하는 이유 중 하나는 **시간 계산**을 할 수 있다는 점이다. 다음 두 datetime오브젝트의 차이를 구한 것이다."
      ],
      "metadata": {
        "id": "FPob_09wU0_M"
      }
    },
    {
      "cell_type": "code",
      "source": [
        "diff1 = t1-t2\n",
        "\n",
        "print(diff1)\n",
        "print(type(diff1))"
      ],
      "metadata": {
        "colab": {
          "base_uri": "https://localhost:8080/"
        },
        "id": "tqZEVxI0U1Mi",
        "outputId": "c2c099ee-ac34-454f-da22-f025ed440a28"
      },
      "execution_count": 5,
      "outputs": [
        {
          "output_type": "stream",
          "name": "stdout",
          "text": [
            "19275 days, 5:16:50.545867\n",
            "<class 'datetime.timedelta'>\n"
          ]
        }
      ]
    },
    {
      "cell_type": "code",
      "source": [
        "diff2 = t2-t1\n",
        "\n",
        "print(diff2)\n",
        "print(type(diff2))"
      ],
      "metadata": {
        "colab": {
          "base_uri": "https://localhost:8080/"
        },
        "id": "StIs32ykVouD",
        "outputId": "5e59182d-8bd9-4ae6-998f-36862db4af3d"
      },
      "execution_count": 6,
      "outputs": [
        {
          "output_type": "stream",
          "name": "stdout",
          "text": [
            "-19276 days, 18:43:09.454133\n",
            "<class 'datetime.timedelta'>\n"
          ]
        }
      ]
    },
    {
      "cell_type": "markdown",
      "source": [
        "p.256-263\n",
        "### 테슬라 주식 데이터로 시간 계산하기\n",
        "\n",
        "pandas-datareader 라이브러리를 이용하여 주식 데이터를 불러오자.\n",
        "이 라이브러리는 처음 설치해본다."
      ],
      "metadata": {
        "id": "4a8WVM3ZU1ZD"
      }
    },
    {
      "cell_type": "code",
      "source": [
        "!pip install pandas-datareader"
      ],
      "metadata": {
        "colab": {
          "base_uri": "https://localhost:8080/"
        },
        "id": "idlAYNzwUy1e",
        "outputId": "6e45d941-ba93-473f-d603-1f34020da422"
      },
      "execution_count": 10,
      "outputs": [
        {
          "output_type": "stream",
          "name": "stdout",
          "text": [
            "Looking in indexes: https://pypi.org/simple, https://us-python.pkg.dev/colab-wheels/public/simple/\n",
            "Requirement already satisfied: pandas-datareader in /usr/local/lib/python3.7/dist-packages (0.9.0)\n",
            "Requirement already satisfied: pandas>=0.23 in /usr/local/lib/python3.7/dist-packages (from pandas-datareader) (1.3.5)\n",
            "Requirement already satisfied: requests>=2.19.0 in /usr/local/lib/python3.7/dist-packages (from pandas-datareader) (2.23.0)\n",
            "Requirement already satisfied: lxml in /usr/local/lib/python3.7/dist-packages (from pandas-datareader) (4.9.1)\n",
            "Requirement already satisfied: numpy>=1.17.3 in /usr/local/lib/python3.7/dist-packages (from pandas>=0.23->pandas-datareader) (1.21.6)\n",
            "Requirement already satisfied: python-dateutil>=2.7.3 in /usr/local/lib/python3.7/dist-packages (from pandas>=0.23->pandas-datareader) (2.8.2)\n",
            "Requirement already satisfied: pytz>=2017.3 in /usr/local/lib/python3.7/dist-packages (from pandas>=0.23->pandas-datareader) (2022.4)\n",
            "Requirement already satisfied: six>=1.5 in /usr/local/lib/python3.7/dist-packages (from python-dateutil>=2.7.3->pandas>=0.23->pandas-datareader) (1.15.0)\n",
            "Requirement already satisfied: urllib3!=1.25.0,!=1.25.1,<1.26,>=1.21.1 in /usr/local/lib/python3.7/dist-packages (from requests>=2.19.0->pandas-datareader) (1.24.3)\n",
            "Requirement already satisfied: certifi>=2017.4.17 in /usr/local/lib/python3.7/dist-packages (from requests>=2.19.0->pandas-datareader) (2022.9.24)\n",
            "Requirement already satisfied: chardet<4,>=3.0.2 in /usr/local/lib/python3.7/dist-packages (from requests>=2.19.0->pandas-datareader) (3.0.4)\n",
            "Requirement already satisfied: idna<3,>=2.5 in /usr/local/lib/python3.7/dist-packages (from requests>=2.19.0->pandas-datareader) (2.10)\n"
          ]
        }
      ]
    },
    {
      "cell_type": "markdown",
      "source": [
        "1.다음은 `get_data_quanal 메서드`에 TSLA라는 문자열을 전달하여 테슬라의 주식 데이터를 내려받고\n",
        "\n",
        "`to_csv메서드`를 사용하여 data폴더 안에 'tesla_stock_quandl.csv' 라는 이름으로 저장한다."
      ],
      "metadata": {
        "id": "KOpw46M9WD1v"
      }
    },
    {
      "cell_type": "code",
      "source": [
        "from google.colab import drive\n",
        "drive.mount('/content/drive')\n",
        "\n",
        "import numpy as np\n",
        "import pandas as pd"
      ],
      "metadata": {
        "colab": {
          "base_uri": "https://localhost:8080/"
        },
        "id": "OW8bfgbweVLV",
        "outputId": "7fe75ab5-c054-43ef-a419-9b85a20003be"
      },
      "execution_count": 17,
      "outputs": [
        {
          "output_type": "stream",
          "name": "stdout",
          "text": [
            "Drive already mounted at /content/drive; to attempt to forcibly remount, call drive.mount(\"/content/drive\", force_remount=True).\n"
          ]
        }
      ]
    },
    {
      "cell_type": "code",
      "source": [
        "pd.core.common.is_list_like = pd.api.types.is_list_like\n",
        "import pandas_datareader as pdr\n",
        "\n",
        "#tesla에는 데이터프레임이 저장된다.\n",
        "tesla=pdr.get_data_quandl('TSLA', api_key ='ysbh-4SJ9FsYHyQ6HQpx')\n",
        "\n",
        "#tesla에 저장된 데이터프레임을 파일로 저장한다.\n",
        "tesla.to_csv('/content/drive/MyDrive/tesla_stock_quandl.csv')"
      ],
      "metadata": {
        "id": "7Ati6I0JWED3"
      },
      "execution_count": 18,
      "outputs": []
    },
    {
      "cell_type": "markdown",
      "source": [
        "2. tesla 뎅터 프레임의 date열은 문자열로 저장되어 있다. 즉, datetime오브젝트로 자료형을 변환해야 시간 계산을 할 수 있다.\n"
      ],
      "metadata": {
        "id": "DZ3hWBq9YAAz"
      }
    },
    {
      "cell_type": "code",
      "source": [
        "print(tesla.head())"
      ],
      "metadata": {
        "id": "AYSU29xNWEFz",
        "colab": {
          "base_uri": "https://localhost:8080/"
        },
        "outputId": "9014bcfd-cd9a-439f-9826-ac14258392c6"
      },
      "execution_count": 19,
      "outputs": [
        {
          "output_type": "stream",
          "name": "stdout",
          "text": [
            "              Open    High     Low   Close      Volume  ExDividend  \\\n",
            "Date                                                                 \n",
            "2018-03-27  304.00  304.27  277.18  279.18  13696168.0         0.0   \n",
            "2018-03-26  307.34  307.59  291.36  304.18   8324639.0         0.0   \n",
            "2018-03-23  311.25  311.61  300.45  301.54   6600538.0         0.0   \n",
            "2018-03-22  313.89  318.82  308.18  309.10   4914307.0         0.0   \n",
            "2018-03-21  310.25  322.44  310.19  316.53   5927881.0         0.0   \n",
            "\n",
            "            SplitRatio  AdjOpen  AdjHigh  AdjLow  AdjClose   AdjVolume  \n",
            "Date                                                                    \n",
            "2018-03-27         1.0   304.00   304.27  277.18    279.18  13696168.0  \n",
            "2018-03-26         1.0   307.34   307.59  291.36    304.18   8324639.0  \n",
            "2018-03-23         1.0   311.25   311.61  300.45    301.54   6600538.0  \n",
            "2018-03-22         1.0   313.89   318.82  308.18    309.10   4914307.0  \n",
            "2018-03-21         1.0   310.25   322.44  310.19    316.53   5927881.0  \n"
          ]
        }
      ]
    },
    {
      "cell_type": "markdown",
      "source": [
        "3. Date열을 Datetime 형으로 변환하려면 read_csv메서드로 데이터 집합을 불러올 때 parse_dates 인자에 date열을 전달하면 된다."
      ],
      "metadata": {
        "id": "8xef5M3JYMKi"
      }
    },
    {
      "cell_type": "code",
      "source": [
        "tesla=pd.read_csv('/content/drive/MyDrive/tesla_stock_quandl.csv', parse_dates=[0])\n",
        "print(tesla.info())"
      ],
      "metadata": {
        "id": "7dc1yPstWEH6",
        "colab": {
          "base_uri": "https://localhost:8080/"
        },
        "outputId": "6540f4bf-d489-454d-9f94-ebdaa6b2f276"
      },
      "execution_count": 20,
      "outputs": [
        {
          "output_type": "stream",
          "name": "stdout",
          "text": [
            "<class 'pandas.core.frame.DataFrame'>\n",
            "RangeIndex: 114 entries, 0 to 113\n",
            "Data columns (total 13 columns):\n",
            " #   Column      Non-Null Count  Dtype         \n",
            "---  ------      --------------  -----         \n",
            " 0   Date        114 non-null    datetime64[ns]\n",
            " 1   Open        114 non-null    float64       \n",
            " 2   High        114 non-null    float64       \n",
            " 3   Low         114 non-null    float64       \n",
            " 4   Close       114 non-null    float64       \n",
            " 5   Volume      114 non-null    float64       \n",
            " 6   ExDividend  114 non-null    float64       \n",
            " 7   SplitRatio  114 non-null    float64       \n",
            " 8   AdjOpen     114 non-null    float64       \n",
            " 9   AdjHigh     114 non-null    float64       \n",
            " 10  AdjLow      114 non-null    float64       \n",
            " 11  AdjClose    114 non-null    float64       \n",
            " 12  AdjVolume   114 non-null    float64       \n",
            "dtypes: datetime64[ns](1), float64(12)\n",
            "memory usage: 11.7 KB\n",
            "None\n"
          ]
        }
      ]
    },
    {
      "cell_type": "markdown",
      "source": [
        "4. Date열의 자료형이 datetime 오브젝트로 변환되었다. 이제 dt접근자를 사용할 수 있다. 다음은 불린 추출로 2010년 6월의 데이터만 추출한 것이다."
      ],
      "metadata": {
        "id": "Y8OuxV-aYcno"
      }
    },
    {
      "cell_type": "code",
      "source": [
        "print(tesla.loc[(tesla.Date.dt.year == 2010)& (tesla.Date.dt.month ==6)])"
      ],
      "metadata": {
        "id": "Y8KC9ZuBWEJ8",
        "colab": {
          "base_uri": "https://localhost:8080/"
        },
        "outputId": "654d83e0-9688-48ee-c6d5-21137395cabe"
      },
      "execution_count": 21,
      "outputs": [
        {
          "output_type": "stream",
          "name": "stdout",
          "text": [
            "Empty DataFrame\n",
            "Columns: [Date, Open, High, Low, Close, Volume, ExDividend, SplitRatio, AdjOpen, AdjHigh, AdjLow, AdjClose, AdjVolume]\n",
            "Index: []\n"
          ]
        }
      ]
    },
    {
      "cell_type": "markdown",
      "source": [
        "### datetime 오브젝트와 인덱스  - DatetimeIndex\n",
        "\n",
        "지금까지는 대부분 데이ㅓ프레임의 행 번호를 인덱스로 사용했지만 datetime오브젝트를 데이터프레임의 인덱스로 설정하면 원하는 시간의 데이터를 바로 추출할 수 있다.\n",
        "\n",
        "**<datetime 오브젝트를 인덱스로 설정해 데이터 추출하기>**\n",
        "\n",
        "1. 계속해서 테슬라 주식 데이터를 사용하여 실습을 진행한다. 다음은 Date열을 tesla 데이터프레임의 인덱스로 지정한 것이다."
      ],
      "metadata": {
        "id": "6r9ZFonyYqMm"
      }
    },
    {
      "cell_type": "code",
      "source": [
        "tesla.index = tesla['Date']\n",
        "print(tesla.index)"
      ],
      "metadata": {
        "id": "3-w4ZAqFWEMg",
        "colab": {
          "base_uri": "https://localhost:8080/"
        },
        "outputId": "1baaa3eb-c3b4-4d16-fcc4-cc29f8bd1a0f"
      },
      "execution_count": 22,
      "outputs": [
        {
          "output_type": "stream",
          "name": "stdout",
          "text": [
            "DatetimeIndex(['2018-03-27', '2018-03-26', '2018-03-23', '2018-03-22',\n",
            "               '2018-03-21', '2018-03-20', '2018-03-19', '2018-03-16',\n",
            "               '2018-03-15', '2018-03-14',\n",
            "               ...\n",
            "               '2017-10-24', '2017-10-23', '2017-10-20', '2017-10-19',\n",
            "               '2017-10-18', '2017-10-17', '2017-10-16', '2017-10-13',\n",
            "               '2017-10-12', '2017-10-11'],\n",
            "              dtype='datetime64[ns]', name='Date', length=114, freq=None)\n"
          ]
        }
      ]
    },
    {
      "cell_type": "markdown",
      "source": [
        "2. datetime오브젝트를 인덱스로 지정하면 다음과 같은 방법으로 원하는 시간의 데이터를 추출할 수 있다. 다음은 2015년의 데이터를 추출하였다"
      ],
      "metadata": {
        "id": "EgNqbWajZFYR"
      }
    },
    {
      "cell_type": "code",
      "source": [
        "print(tesla['2015'].iloc[:5,:5])\n",
        "\n",
        "# 2010년 6월 데이터\n",
        "print(tesla['2010-06'].iloc[:5,:5])"
      ],
      "metadata": {
        "colab": {
          "base_uri": "https://localhost:8080/"
        },
        "id": "DbHPN-6GZFf_",
        "outputId": "60e5eadf-c3ee-45c9-a771-5ac398204b50"
      },
      "execution_count": 23,
      "outputs": [
        {
          "output_type": "stream",
          "name": "stdout",
          "text": [
            "Empty DataFrame\n",
            "Columns: [Date, Open, High, Low, Close]\n",
            "Index: []\n",
            "Empty DataFrame\n",
            "Columns: [Date, Open, High, Low, Close]\n",
            "Index: []\n"
          ]
        },
        {
          "output_type": "stream",
          "name": "stderr",
          "text": [
            "/usr/local/lib/python3.7/dist-packages/ipykernel_launcher.py:1: FutureWarning: Indexing a DataFrame with a datetimelike index using a single string to slice the rows, like `frame[string]`, is deprecated and will be removed in a future version. Use `frame.loc[string]` instead.\n",
            "  \"\"\"Entry point for launching an IPython kernel.\n",
            "/usr/local/lib/python3.7/dist-packages/ipykernel_launcher.py:4: FutureWarning: Indexing a DataFrame with a datetimelike index using a single string to slice the rows, like `frame[string]`, is deprecated and will be removed in a future version. Use `frame.loc[string]` instead.\n",
            "  after removing the cwd from sys.path.\n"
          ]
        }
      ]
    },
    {
      "cell_type": "markdown",
      "source": [
        "### 시간 간격과 인덱스 - TimedeltaIndex\n",
        " \n",
        " 예를 들어 주식 데이터에서 최초 5일간 수집된 데이터만 살펴보고 싣다면?\n",
        "\n",
        " 이런 경우에는 시간 간격을 인덱스로 지정하여 데이터를 추출한다.\n",
        "\n",
        " 이번에는 datetime오브젝트를 인덱스로 지정하는 것이 아니라, 시간 간격을 인덱스로 지정해보자.\n",
        "\n",
        "#### **<시간 간격을 인덱스로 지정해 데이터 추출하기>**\n",
        "1.Date열에서 Date열의 최솟값을 빼면 데이터를 수집한 이후에 시간이 얼마나 흘렀는지 알 수 있다. "
      ],
      "metadata": {
        "id": "sHNcaUYjZFpA"
      }
    },
    {
      "cell_type": "code",
      "source": [
        "#새로운 열 생성\n",
        "tesla['ref_date'] = tesla['Date']- tesla['Date'].min()\n",
        "print(tesla.head())"
      ],
      "metadata": {
        "colab": {
          "base_uri": "https://localhost:8080/"
        },
        "id": "P2Vz3FZLZFu_",
        "outputId": "88086954-2cbe-424d-9f6e-2312b259c3eb"
      },
      "execution_count": 24,
      "outputs": [
        {
          "output_type": "stream",
          "name": "stdout",
          "text": [
            "                 Date    Open    High     Low   Close      Volume  ExDividend  \\\n",
            "Date                                                                            \n",
            "2018-03-27 2018-03-27  304.00  304.27  277.18  279.18  13696168.0         0.0   \n",
            "2018-03-26 2018-03-26  307.34  307.59  291.36  304.18   8324639.0         0.0   \n",
            "2018-03-23 2018-03-23  311.25  311.61  300.45  301.54   6600538.0         0.0   \n",
            "2018-03-22 2018-03-22  313.89  318.82  308.18  309.10   4914307.0         0.0   \n",
            "2018-03-21 2018-03-21  310.25  322.44  310.19  316.53   5927881.0         0.0   \n",
            "\n",
            "            SplitRatio  AdjOpen  AdjHigh  AdjLow  AdjClose   AdjVolume  \\\n",
            "Date                                                                     \n",
            "2018-03-27         1.0   304.00   304.27  277.18    279.18  13696168.0   \n",
            "2018-03-26         1.0   307.34   307.59  291.36    304.18   8324639.0   \n",
            "2018-03-23         1.0   311.25   311.61  300.45    301.54   6600538.0   \n",
            "2018-03-22         1.0   313.89   318.82  308.18    309.10   4914307.0   \n",
            "2018-03-21         1.0   310.25   322.44  310.19    316.53   5927881.0   \n",
            "\n",
            "           ref_date  \n",
            "Date                 \n",
            "2018-03-27 167 days  \n",
            "2018-03-26 166 days  \n",
            "2018-03-23 163 days  \n",
            "2018-03-22 162 days  \n",
            "2018-03-21 161 days  \n"
          ]
        }
      ]
    },
    {
      "cell_type": "markdown",
      "source": [
        "2. 다음과 같이 ref_date열을 인덱스로 지정했다. 이제 시간 간격을 이용하여 데이터를 추출할 수 있다."
      ],
      "metadata": {
        "id": "EfQzDJlOZF0Y"
      }
    },
    {
      "cell_type": "code",
      "source": [
        "tesla.index=tesla['ref_date']\n",
        "print(tesla.iloc[:5,:5])"
      ],
      "metadata": {
        "colab": {
          "base_uri": "https://localhost:8080/"
        },
        "id": "UJgvUpQeZF5T",
        "outputId": "ec51f2f1-7aca-44c9-f6df-0fc8867febb9"
      },
      "execution_count": 25,
      "outputs": [
        {
          "output_type": "stream",
          "name": "stdout",
          "text": [
            "               Date    Open    High     Low   Close\n",
            "ref_date                                           \n",
            "167 days 2018-03-27  304.00  304.27  277.18  279.18\n",
            "166 days 2018-03-26  307.34  307.59  291.36  304.18\n",
            "163 days 2018-03-23  311.25  311.61  300.45  301.54\n",
            "162 days 2018-03-22  313.89  318.82  308.18  309.10\n",
            "161 days 2018-03-21  310.25  322.44  310.19  316.53\n"
          ]
        }
      ]
    },
    {
      "cell_type": "markdown",
      "source": [
        "3.다음은 데이터를 수집한 이후 최초 5일의 데이터를 추출한 것이다. "
      ],
      "metadata": {
        "id": "fvATSNQlZF-S"
      }
    },
    {
      "cell_type": "code",
      "source": [
        "print(tesla['5 days':].iloc[:5,:5])"
      ],
      "metadata": {
        "id": "J0Q4KpaUWEPf",
        "colab": {
          "base_uri": "https://localhost:8080/"
        },
        "outputId": "d52d4993-dd6e-4201-9a5a-e5fd2d1174dc"
      },
      "execution_count": 26,
      "outputs": [
        {
          "output_type": "stream",
          "name": "stdout",
          "text": [
            "               Date    Open    High     Low   Close\n",
            "ref_date                                           \n",
            "5 days   2017-10-16  353.76  354.48  347.16  350.60\n",
            "2 days   2017-10-13  356.98  358.49  353.68  355.57\n",
            "1 days   2017-10-12  352.95  359.78  352.64  355.68\n",
            "0 days   2017-10-11  353.89  357.60  351.15  354.60\n"
          ]
        }
      ]
    },
    {
      "cell_type": "markdown",
      "source": [
        "### 시간 범위와 인덱스\n",
        "\n",
        "앞에서 사용한 주식 데이터는 특정 일에 누락된 데이터가 없었다. 하지만 가끔 데이터를 수집하지 못한 날도 있을 수 있는데, 특정 일이 누락된 데이터도 포함시켜 데이터를 살펴보려면**임의로 시간 범위를 생성하여 인덱스로 지정해야한다.**\n",
        "\n",
        "**<시간 범위 생성해 인덱스로 지정하기>**\n",
        "\n",
        "1.테슬라 주식 데이터는 특정 일에 누락된 데이터가 없다. 그래서 에볼라 데이터 집합을 사용하자."
      ],
      "metadata": {
        "id": "QDjdK0EiaYcI"
      }
    },
    {
      "cell_type": "code",
      "source": [
        "#앞쪽 보면 2015년 01.01의 데이터가 누락된 것을 알 수 있다.\n",
        "ebola=pd.read_csv('/content/drive/MyDrive/tesla_stock_quandl.csv', parse_dates=[0])\n",
        "print(ebola.iloc[:5,:5])\n"
      ],
      "metadata": {
        "id": "GXA4UHgCWEY-",
        "colab": {
          "base_uri": "https://localhost:8080/"
        },
        "outputId": "c10e9b6e-ca06-470a-b751-8465b4f5af61"
      },
      "execution_count": 27,
      "outputs": [
        {
          "output_type": "stream",
          "name": "stdout",
          "text": [
            "        Date    Open    High     Low   Close\n",
            "0 2018-03-27  304.00  304.27  277.18  279.18\n",
            "1 2018-03-26  307.34  307.59  291.36  304.18\n",
            "2 2018-03-23  311.25  311.61  300.45  301.54\n",
            "3 2018-03-22  313.89  318.82  308.18  309.10\n",
            "4 2018-03-21  310.25  322.44  310.19  316.53\n"
          ]
        }
      ]
    },
    {
      "cell_type": "markdown",
      "source": [
        "2. 뒤쪽 데이터도 누락"
      ],
      "metadata": {
        "id": "x5vwbvpea96d"
      }
    },
    {
      "cell_type": "code",
      "source": [
        "print(ebola.iloc[-5:,:5])"
      ],
      "metadata": {
        "colab": {
          "base_uri": "https://localhost:8080/"
        },
        "id": "xeztzzIoa-AH",
        "outputId": "57c8f143-2407-47dd-df26-6aaba5858e2d"
      },
      "execution_count": 28,
      "outputs": [
        {
          "output_type": "stream",
          "name": "stdout",
          "text": [
            "          Date    Open    High     Low   Close\n",
            "109 2017-10-17  350.91  356.22  350.07  355.75\n",
            "110 2017-10-16  353.76  354.48  347.16  350.60\n",
            "111 2017-10-13  356.98  358.49  353.68  355.57\n",
            "112 2017-10-12  352.95  359.78  352.64  355.68\n",
            "113 2017-10-11  353.89  357.60  351.15  354.60\n"
          ]
        }
      ]
    },
    {
      "cell_type": "markdown",
      "source": [
        "3. 다음은 date_range메서드를 사용하여 2015년 12월 31일부터 2015년 01월 05일 사이의 시간 인덱스를 생성한 것이다."
      ],
      "metadata": {
        "id": "UTkjNNg4a-Ev"
      }
    },
    {
      "cell_type": "code",
      "source": [
        "head_range=pd.date_range(start='2014-12-31', end='2015-01-05')\n",
        "print(head_range)"
      ],
      "metadata": {
        "colab": {
          "base_uri": "https://localhost:8080/"
        },
        "id": "e5np5ZzOa-J2",
        "outputId": "127bd981-6ac8-48a3-ac05-c21128c39481"
      },
      "execution_count": 29,
      "outputs": [
        {
          "output_type": "stream",
          "name": "stdout",
          "text": [
            "DatetimeIndex(['2014-12-31', '2015-01-01', '2015-01-02', '2015-01-03',\n",
            "               '2015-01-04', '2015-01-05'],\n",
            "              dtype='datetime64[ns]', freq='D')\n"
          ]
        }
      ]
    },
    {
      "cell_type": "markdown",
      "source": [
        "4. 다음은 워본 데이터를 손상시키는 것을 방지하기 위해 ebola 데이터 프레임의 앞쪽 5개의 데이터를 추출하여 새로운 데이터 프레임을 만든 것이다.\n",
        "\n",
        "이때 Date열을 인덱스로 먼저 지정하지 않으면 오류가 발생한다. 반드시 Date열을 인덱스로 지정한 다음 과정 3에서 생성한 시간 범위를 인덱스로 지정해줘야한다. "
      ],
      "metadata": {
        "id": "MQ-QDA5Ya-Oy"
      }
    },
    {
      "cell_type": "code",
      "source": [
        "ebola_5 = ebola.head()\n",
        "ebola_5.index=ebola_5['Date']\n",
        "ebola_5.reindex(head_range)"
      ],
      "metadata": {
        "id": "51gPk_pNWDAU",
        "colab": {
          "base_uri": "https://localhost:8080/",
          "height": 238
        },
        "outputId": "8e9174f9-c27d-4a52-dddb-8732e7cfae91"
      },
      "execution_count": 30,
      "outputs": [
        {
          "output_type": "execute_result",
          "data": {
            "text/plain": [
              "           Date  Open  High  Low  Close  Volume  ExDividend  SplitRatio  \\\n",
              "2014-12-31  NaT   NaN   NaN  NaN    NaN     NaN         NaN         NaN   \n",
              "2015-01-01  NaT   NaN   NaN  NaN    NaN     NaN         NaN         NaN   \n",
              "2015-01-02  NaT   NaN   NaN  NaN    NaN     NaN         NaN         NaN   \n",
              "2015-01-03  NaT   NaN   NaN  NaN    NaN     NaN         NaN         NaN   \n",
              "2015-01-04  NaT   NaN   NaN  NaN    NaN     NaN         NaN         NaN   \n",
              "2015-01-05  NaT   NaN   NaN  NaN    NaN     NaN         NaN         NaN   \n",
              "\n",
              "            AdjOpen  AdjHigh  AdjLow  AdjClose  AdjVolume  \n",
              "2014-12-31      NaN      NaN     NaN       NaN        NaN  \n",
              "2015-01-01      NaN      NaN     NaN       NaN        NaN  \n",
              "2015-01-02      NaN      NaN     NaN       NaN        NaN  \n",
              "2015-01-03      NaN      NaN     NaN       NaN        NaN  \n",
              "2015-01-04      NaN      NaN     NaN       NaN        NaN  \n",
              "2015-01-05      NaN      NaN     NaN       NaN        NaN  "
            ],
            "text/html": [
              "\n",
              "  <div id=\"df-961eef42-1bdb-4479-845b-70df08f5896b\">\n",
              "    <div class=\"colab-df-container\">\n",
              "      <div>\n",
              "<style scoped>\n",
              "    .dataframe tbody tr th:only-of-type {\n",
              "        vertical-align: middle;\n",
              "    }\n",
              "\n",
              "    .dataframe tbody tr th {\n",
              "        vertical-align: top;\n",
              "    }\n",
              "\n",
              "    .dataframe thead th {\n",
              "        text-align: right;\n",
              "    }\n",
              "</style>\n",
              "<table border=\"1\" class=\"dataframe\">\n",
              "  <thead>\n",
              "    <tr style=\"text-align: right;\">\n",
              "      <th></th>\n",
              "      <th>Date</th>\n",
              "      <th>Open</th>\n",
              "      <th>High</th>\n",
              "      <th>Low</th>\n",
              "      <th>Close</th>\n",
              "      <th>Volume</th>\n",
              "      <th>ExDividend</th>\n",
              "      <th>SplitRatio</th>\n",
              "      <th>AdjOpen</th>\n",
              "      <th>AdjHigh</th>\n",
              "      <th>AdjLow</th>\n",
              "      <th>AdjClose</th>\n",
              "      <th>AdjVolume</th>\n",
              "    </tr>\n",
              "  </thead>\n",
              "  <tbody>\n",
              "    <tr>\n",
              "      <th>2014-12-31</th>\n",
              "      <td>NaT</td>\n",
              "      <td>NaN</td>\n",
              "      <td>NaN</td>\n",
              "      <td>NaN</td>\n",
              "      <td>NaN</td>\n",
              "      <td>NaN</td>\n",
              "      <td>NaN</td>\n",
              "      <td>NaN</td>\n",
              "      <td>NaN</td>\n",
              "      <td>NaN</td>\n",
              "      <td>NaN</td>\n",
              "      <td>NaN</td>\n",
              "      <td>NaN</td>\n",
              "    </tr>\n",
              "    <tr>\n",
              "      <th>2015-01-01</th>\n",
              "      <td>NaT</td>\n",
              "      <td>NaN</td>\n",
              "      <td>NaN</td>\n",
              "      <td>NaN</td>\n",
              "      <td>NaN</td>\n",
              "      <td>NaN</td>\n",
              "      <td>NaN</td>\n",
              "      <td>NaN</td>\n",
              "      <td>NaN</td>\n",
              "      <td>NaN</td>\n",
              "      <td>NaN</td>\n",
              "      <td>NaN</td>\n",
              "      <td>NaN</td>\n",
              "    </tr>\n",
              "    <tr>\n",
              "      <th>2015-01-02</th>\n",
              "      <td>NaT</td>\n",
              "      <td>NaN</td>\n",
              "      <td>NaN</td>\n",
              "      <td>NaN</td>\n",
              "      <td>NaN</td>\n",
              "      <td>NaN</td>\n",
              "      <td>NaN</td>\n",
              "      <td>NaN</td>\n",
              "      <td>NaN</td>\n",
              "      <td>NaN</td>\n",
              "      <td>NaN</td>\n",
              "      <td>NaN</td>\n",
              "      <td>NaN</td>\n",
              "    </tr>\n",
              "    <tr>\n",
              "      <th>2015-01-03</th>\n",
              "      <td>NaT</td>\n",
              "      <td>NaN</td>\n",
              "      <td>NaN</td>\n",
              "      <td>NaN</td>\n",
              "      <td>NaN</td>\n",
              "      <td>NaN</td>\n",
              "      <td>NaN</td>\n",
              "      <td>NaN</td>\n",
              "      <td>NaN</td>\n",
              "      <td>NaN</td>\n",
              "      <td>NaN</td>\n",
              "      <td>NaN</td>\n",
              "      <td>NaN</td>\n",
              "    </tr>\n",
              "    <tr>\n",
              "      <th>2015-01-04</th>\n",
              "      <td>NaT</td>\n",
              "      <td>NaN</td>\n",
              "      <td>NaN</td>\n",
              "      <td>NaN</td>\n",
              "      <td>NaN</td>\n",
              "      <td>NaN</td>\n",
              "      <td>NaN</td>\n",
              "      <td>NaN</td>\n",
              "      <td>NaN</td>\n",
              "      <td>NaN</td>\n",
              "      <td>NaN</td>\n",
              "      <td>NaN</td>\n",
              "      <td>NaN</td>\n",
              "    </tr>\n",
              "    <tr>\n",
              "      <th>2015-01-05</th>\n",
              "      <td>NaT</td>\n",
              "      <td>NaN</td>\n",
              "      <td>NaN</td>\n",
              "      <td>NaN</td>\n",
              "      <td>NaN</td>\n",
              "      <td>NaN</td>\n",
              "      <td>NaN</td>\n",
              "      <td>NaN</td>\n",
              "      <td>NaN</td>\n",
              "      <td>NaN</td>\n",
              "      <td>NaN</td>\n",
              "      <td>NaN</td>\n",
              "      <td>NaN</td>\n",
              "    </tr>\n",
              "  </tbody>\n",
              "</table>\n",
              "</div>\n",
              "      <button class=\"colab-df-convert\" onclick=\"convertToInteractive('df-961eef42-1bdb-4479-845b-70df08f5896b')\"\n",
              "              title=\"Convert this dataframe to an interactive table.\"\n",
              "              style=\"display:none;\">\n",
              "        \n",
              "  <svg xmlns=\"http://www.w3.org/2000/svg\" height=\"24px\"viewBox=\"0 0 24 24\"\n",
              "       width=\"24px\">\n",
              "    <path d=\"M0 0h24v24H0V0z\" fill=\"none\"/>\n",
              "    <path d=\"M18.56 5.44l.94 2.06.94-2.06 2.06-.94-2.06-.94-.94-2.06-.94 2.06-2.06.94zm-11 1L8.5 8.5l.94-2.06 2.06-.94-2.06-.94L8.5 2.5l-.94 2.06-2.06.94zm10 10l.94 2.06.94-2.06 2.06-.94-2.06-.94-.94-2.06-.94 2.06-2.06.94z\"/><path d=\"M17.41 7.96l-1.37-1.37c-.4-.4-.92-.59-1.43-.59-.52 0-1.04.2-1.43.59L10.3 9.45l-7.72 7.72c-.78.78-.78 2.05 0 2.83L4 21.41c.39.39.9.59 1.41.59.51 0 1.02-.2 1.41-.59l7.78-7.78 2.81-2.81c.8-.78.8-2.07 0-2.86zM5.41 20L4 18.59l7.72-7.72 1.47 1.35L5.41 20z\"/>\n",
              "  </svg>\n",
              "      </button>\n",
              "      \n",
              "  <style>\n",
              "    .colab-df-container {\n",
              "      display:flex;\n",
              "      flex-wrap:wrap;\n",
              "      gap: 12px;\n",
              "    }\n",
              "\n",
              "    .colab-df-convert {\n",
              "      background-color: #E8F0FE;\n",
              "      border: none;\n",
              "      border-radius: 50%;\n",
              "      cursor: pointer;\n",
              "      display: none;\n",
              "      fill: #1967D2;\n",
              "      height: 32px;\n",
              "      padding: 0 0 0 0;\n",
              "      width: 32px;\n",
              "    }\n",
              "\n",
              "    .colab-df-convert:hover {\n",
              "      background-color: #E2EBFA;\n",
              "      box-shadow: 0px 1px 2px rgba(60, 64, 67, 0.3), 0px 1px 3px 1px rgba(60, 64, 67, 0.15);\n",
              "      fill: #174EA6;\n",
              "    }\n",
              "\n",
              "    [theme=dark] .colab-df-convert {\n",
              "      background-color: #3B4455;\n",
              "      fill: #D2E3FC;\n",
              "    }\n",
              "\n",
              "    [theme=dark] .colab-df-convert:hover {\n",
              "      background-color: #434B5C;\n",
              "      box-shadow: 0px 1px 3px 1px rgba(0, 0, 0, 0.15);\n",
              "      filter: drop-shadow(0px 1px 2px rgba(0, 0, 0, 0.3));\n",
              "      fill: #FFFFFF;\n",
              "    }\n",
              "  </style>\n",
              "\n",
              "      <script>\n",
              "        const buttonEl =\n",
              "          document.querySelector('#df-961eef42-1bdb-4479-845b-70df08f5896b button.colab-df-convert');\n",
              "        buttonEl.style.display =\n",
              "          google.colab.kernel.accessAllowed ? 'block' : 'none';\n",
              "\n",
              "        async function convertToInteractive(key) {\n",
              "          const element = document.querySelector('#df-961eef42-1bdb-4479-845b-70df08f5896b');\n",
              "          const dataTable =\n",
              "            await google.colab.kernel.invokeFunction('convertToInteractive',\n",
              "                                                     [key], {});\n",
              "          if (!dataTable) return;\n",
              "\n",
              "          const docLinkHtml = 'Like what you see? Visit the ' +\n",
              "            '<a target=\"_blank\" href=https://colab.research.google.com/notebooks/data_table.ipynb>data table notebook</a>'\n",
              "            + ' to learn more about interactive tables.';\n",
              "          element.innerHTML = '';\n",
              "          dataTable['output_type'] = 'display_data';\n",
              "          await google.colab.output.renderOutput(dataTable, element);\n",
              "          const docLink = document.createElement('div');\n",
              "          docLink.innerHTML = docLinkHtml;\n",
              "          element.appendChild(docLink);\n",
              "        }\n",
              "      </script>\n",
              "    </div>\n",
              "  </div>\n",
              "  "
            ]
          },
          "metadata": {},
          "execution_count": 30
        }
      ]
    },
    {
      "cell_type": "markdown",
      "source": [
        "## 시간 범위의 주기 설정학.\n",
        "\n",
        "시간 범위를 인덱스로 지정하면 DatetimeIndex자료형이 만들어진다.\n",
        "그리고 DatetimeIndex에는 freq속성이 포함되어 있다. freq속성값을 지정하면 시간 간격을 조절하여 DatetimeIndex를 만들 수 있다. 아래에 freq속성값으로 사용할 수 있는 시간 주기가 있다.\n",
        "\n",
        "* B: 평일만 포함\n",
        "* C: 사용자가 정의한 평일만 포함\n",
        "* D: 달력 일자 단위\n",
        "* W: 주간 단위\n",
        "* M: 월 마지막 날만 포함\n",
        "* SM: 15일과 월 마지막 날만 포함\n",
        "* BM: M 주기의 값이 휴일이면 제외하고 평일만 포함\n",
        "* CBM: BM에 사용자 정의 평일을 적용\n",
        "* MS: 월 시작일만 포함\n",
        "* SMS: 월 시작일과 15일만 포함\n",
        "* BMS: MS 주기의 값이 휴일이면 제외하고 평일만 포함\n",
        "* CBMS: BMS에 사용자 정의 평일을 적용\n",
        "* Q: 3,6,9,12월 분기 마지막 날만 포함\n",
        "* BQ: 3,6,9,12월 분기 마지막 날이 휴일이면 제외하고 평일만 포함\n",
        "* QS: 3,6,9,12월 분기 시작일만 포함\n",
        "* BQS: 3,6,9,12월 분기 시작일이 휴일이면 제외하고 평일만 포함\n",
        "* A: 년의 마지막 날만 포함\n",
        "* BA: 년의 마지막 날이 휴일이면 제외하고 평일만 포함\n",
        "* AS:년의 시작일만 포함\n",
        "* BAS: 년의 시작일이 휴일이면 제외하고 평일만 포함\n",
        "* BH: 평일을 시간 단위로 포함(09:00~16:00)\n",
        "* H: 시간 단위로 포함(00:00~00:00)\n",
        "* T: 분 단위 포함\n",
        "* S: 초 단위 포함\n",
        "* L: 밀리초 단위 포함\n",
        "* U: 마이크로초 단위포함\n",
        "* N: 나노초 단위 포함"
      ],
      "metadata": {
        "id": "QN5ZktP8bsh0"
      }
    }
  ]
}
