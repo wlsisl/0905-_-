{
  "nbformat": 4,
  "nbformat_minor": 0,
  "metadata": {
    "colab": {
      "provenance": [],
      "collapsed_sections": [],
      "authorship_tag": "ABX9TyNrkhORWc+0UsVVNUp8ZY25",
      "include_colab_link": true
    },
    "kernelspec": {
      "name": "python3",
      "display_name": "Python 3"
    },
    "language_info": {
      "name": "python"
    }
  },
  "cells": [
    {
      "cell_type": "markdown",
      "metadata": {
        "id": "view-in-github",
        "colab_type": "text"
      },
      "source": [
        "<a href=\"https://colab.research.google.com/github/wlsisl/ESAA_22-2/blob/main/sklearn_evaluation.ipynb\" target=\"_parent\"><img src=\"https://colab.research.google.com/assets/colab-badge.svg\" alt=\"Open In Colab\"/></a>"
      ]
    },
    {
      "cell_type": "code",
      "execution_count": null,
      "metadata": {
        "id": "R0ZMfIBtQkfl"
      },
      "outputs": [],
      "source": []
    },
    {
      "cell_type": "markdown",
      "source": [
        "## 평가 (evaluation)\n",
        "\n",
        "머신러닝 프로세스 구성 : 데이터 가공/변환, 모델 학습/예측, 평가\n",
        "\n",
        "여러가지 방법으로 예측 성능을 평가할 수 있는데 성능 평가 지표(evaluation Metric)는 일반적으로 모델이 분류냐 회귀냐에 따라 여러 종류로 나뉜다. \n",
        "\n",
        "회귀의 경우 대부분 실제 값과 예측값의 오차 평균값에 기반한다. \n",
        "ex) 오차에 절댓값을 씌운 뒤 평균 오차를 구하거나 오차의 제곱 값에 루트를 씌운 뒤 평균 오차를 구하는 방법\n",
        "\n",
        "#### [분류에 사용되는 평가 지표 방법]\n",
        " 0 과 1로 결정값이 한정되는 이진 분류의 성능 평가 지표에 대해서 집중적으로 알아보자. \n",
        "\n",
        "\n",
        "---\n",
        "\n",
        "\n",
        "####분류의 성능 평가 지표\n",
        "\n",
        "- 정확도(Accuracy)\n",
        "- 오차행렬(confusion matrix)\n",
        "- 정밀도(precision)\n",
        "- 재현율(recall)\n",
        "- F1스코어\n",
        "- ROC AUC\n",
        "\n",
        "분류는 결정 클래스 값 종류의 유형에 따라 긍정/부정과 같은 2개의 결괏값만을 가지는 `이진 분류`와 여러 개의 결정 클래스 값을 가지는` 멀티 분류`로 나뉠 수 있다. \n",
        "\n",
        "분류의 성능 지표는 특히 이진 분류에서 더욱 중요하게 강조하는 지표이다.\n",
        "\n",
        "---\n",
        "### 01 정확도\n",
        "\n",
        "- 실제 데이터에서 예측 데이터가 얼마나 같은지를 판단하는 지표\n",
        "\n",
        "`정확도 = 예측 결과가 동일한 데이터 건수 / 전체 예측 데이터 건수`\n",
        "\n",
        "직관적으로 모델 예측 성능을 나타내는 평가지표이다.\n",
        "하지만 이진 분류의 경우 데이터의 구성에 따라 ml모델의 성능을 왜곡할 수 있기 때문에 정확도 수치 하나만 가지고 성능을 평가하지 않는다. 정확도 지표가 어떻게 ml 모델의 성능을 왜곡하는지 예제로 살펴보자.\n"
      ],
      "metadata": {
        "id": "azxOtU-wQlyy"
      }
    },
    {
      "cell_type": "code",
      "source": [
        "from sklearn.base import BaseEstimator\n",
        "\n",
        "class MyDummyClassifier(BaseEstimator):\n",
        "  #fit()메서드는 아무것도 학습하지 않음.\n",
        "  def fit(self, X, y=None):\n",
        "    pass\n",
        "  #predict()메서드는 단순히 Sex피처가 1이면 0, 그렇지 않으면 1로 예측함.\n",
        "  def predict(self, X):\n",
        "    pred = np.zeros((X.shape[0],1))\n",
        "    for i in range (X.shape[0]):\n",
        "      if X['Sex'].iloc[i] == 1:\n",
        "        pred[i] =0\n",
        "      else :\n",
        "        pred[i] =1\n",
        "    return pred"
      ],
      "metadata": {
        "id": "h7YaPsGuQlNE"
      },
      "execution_count": 4,
      "outputs": []
    },
    {
      "cell_type": "markdown",
      "source": [
        "이제 생성된  MyDummyClassifier를 이용해 앞장의 타이타닉 생존자 예측을 수행해보자. "
      ],
      "metadata": {
        "id": "rw9RHKoZVVtv"
      }
    },
    {
      "cell_type": "code",
      "source": [
        "import pandas as pd\n",
        "import numpy as np\n",
        "from sklearn.model_selection import train_test_split\n",
        "from sklearn.metrics import accuracy_score\n",
        "from sklearn.preprocessing import LabelEncoder\n",
        "\n",
        "from google.colab import drive\n",
        "drive.mount('/content/drive')\n",
        "titanic_df =pd.read_csv('/content/drive/MyDrive/titanic_train.csv')\n",
        "\n",
        "#이전 함수들 불러오기\n",
        "def fillna(df):\n",
        "  df['Age'].fillna(df['Age'].mean(), inplace=True)\n",
        "  df['Cabin'].fillna('N', inplace=True)\n",
        "  df['Embarked'].fillna('N', inplace=True)\n",
        "  df['Fare'].fillna(0, inplace=True)\n",
        "  return df\n",
        "                  \n",
        "def drop_features(df):\n",
        "  df.drop(['PassengerId', 'Name', 'Ticket'], axis=1, inplace=True)\n",
        "  return df\n",
        "\n",
        "def format_features(df):\n",
        "  df['Cabin']=df['Cabin'].str[:1]\n",
        "  features=['Cabin', 'Sex', 'Embarked']\n",
        "  for feature in features:\n",
        "    le=LabelEncoder()\n",
        "    le.fit(df[feature])\n",
        "    df[feature]=le.transform(df[feature])\n",
        "  return df\n",
        "\n",
        "def transform_features(df):\n",
        "  df=fillna(df)\n",
        "  df=drop_features(df)\n",
        "  df=format_features(df)\n",
        "  return df\n",
        "  \n",
        "#원본 데이터를 재로딩, 데이터 가공, 학습 데이터/테스트 데이터 분할.\n",
        "y_titanic_df = titanic_df['Survived']\n",
        "X_titanic_df = titanic_df.drop('Survived', axis=1)\n",
        "X_titanic_df = transform_features(X_titanic_df)\n",
        "X_train, X_test, y_train, y_test = train_test_split(X_titanic_df, y_titanic_df, test_size=0.2, random_state=0)\n",
        "\n",
        "#위에서 생성한 Dummy Classifier를 이용해 학습/예측/평가 수행\n",
        "\n",
        "myclf = MyDummyClassifier()\n",
        "myclf.fit(X_train, y_train)\n",
        "\n",
        "mypredictions = myclf.predict(X_test)\n",
        "print('Dummy Classifier의 정확도는 :{0:.4f}'.format(accuracy_score(y_test, mypredictions)))"
      ],
      "metadata": {
        "colab": {
          "base_uri": "https://localhost:8080/"
        },
        "id": "9eufn11uVWKf",
        "outputId": "2d715fcf-4950-401e-e0be-2dcd8cf2b854"
      },
      "execution_count": 6,
      "outputs": [
        {
          "output_type": "stream",
          "name": "stdout",
          "text": [
            "Drive already mounted at /content/drive; to attempt to forcibly remount, call drive.mount(\"/content/drive\", force_remount=True).\n",
            "Dummy Classifier의 정확도는 :0.7877\n"
          ]
        }
      ]
    },
    {
      "cell_type": "markdown",
      "source": [
        "이렇게 단순한 알고리즘으로 예측을 하더라도 데이터의 구성에 따라 정확도는 꽤 높은 수치가 나올 수 있기 때문에 정확도를 평가 지표로 사용할 때는 신중해야한다. \n",
        "\n",
        "-> 특히 정확도는 불균형한 레이블 값 분포에서 ML모델의 성능을 판단할 경우, 적합한 평가 지표가 아니다. \n",
        "\n",
        "**[MNIST데이터 세트를 변환해 불균형한 데이터 세트로 만들고 정확도 지표 적용을 해보자]**\n",
        "- MNIST 데이터 세트는 0부터 9까지의 숫자 이미지의 픽셀 정보를 가지고 있고 이를 기반으로 숫자 Digit를 예측하는데 사용됨\n",
        "- 사이킷런은 load_digits() 를 통해 데이터 세트를 제공함."
      ],
      "metadata": {
        "id": "98kV53kVVWUM"
      }
    },
    {
      "cell_type": "code",
      "source": [
        "#전체데이터의 10%만 true, 나머지는 false로 변형하기 \n",
        "import pandas as pd\n",
        "import numpy as np\n",
        "from sklearn.model_selection import train_test_split\n",
        "from sklearn.metrics import accuracy_score\n",
        "from sklearn.base import BaseEstimator\n",
        "from sklearn.datasets import load_digits\n",
        "\n",
        "class MyFakeClassifier(BaseEstimator):\n",
        "  def fit(self, X, y):\n",
        "    pass\n",
        "  \n",
        "  #입력값으로 들어오는 X데이터 세트의 크기만큼 모두 0값으로 만들어서 반환\n",
        "  def predict(self, X):\n",
        "    return np.zeros( (len(X),1),dtype=bool)\n",
        "\n",
        "#사이킷런의 내장 데이터 세트인 load_digits()를 이용해 MNIST데이터 로딩\n",
        "digits= load_digits()\n",
        "\n",
        "#digits번호가 7번이면 true이고 이를 astype(int)로 1로 변환, 그게 아니면 0으로 변환\n",
        "y=(digits.target==7).astype(int)\n",
        "X_train, X_test, y_train, y_test = train_test_split(digits.data, y, random_state=11)\n",
        "\n"
      ],
      "metadata": {
        "id": "lD7uFgdZVWad"
      },
      "execution_count": 7,
      "outputs": []
    },
    {
      "cell_type": "markdown",
      "source": [
        "불균형한 데이터로 생성한 y_test의 데이터 분포도를 확인하고 MyFakeClassifier을 이용해 예측고 ㅏ평가를 수행해보자.\n"
      ],
      "metadata": {
        "id": "mE04mIELVWgW"
      }
    },
    {
      "cell_type": "code",
      "source": [
        "#불균형한 레이블 데이터 분포도 확인\n",
        "print('레이블 테스트 세트 크기:',y_test.shape)\n",
        "print('테스트 세트 레이블 0과 1의 분포도')\n",
        "print(pd.Series(y_test).value_counts())\n",
        "\n",
        "#Dummy Classifier로 학습/예측/정확도 평가\n",
        "fakeclf=MyFakeClassifier()\n",
        "fakeclf.fit(X_train, y_train)\n",
        "fakepred=fakeclf.predict(X_test)\n",
        "print('모든 예측을 0으로 하여도 정확도는:{:.3f}'.format(accuracy_score(y_test, fakepred)))"
      ],
      "metadata": {
        "colab": {
          "base_uri": "https://localhost:8080/"
        },
        "id": "C5BBpFBRcC0Q",
        "outputId": "3d464a89-daaa-4334-b2f3-c2d65f41560b"
      },
      "execution_count": 8,
      "outputs": [
        {
          "output_type": "stream",
          "name": "stdout",
          "text": [
            "레이블 테스트 세트 크기: (450,)\n",
            "테스트 세트 레이블 0과 1의 분포도\n",
            "0    405\n",
            "1     45\n",
            "dtype: int64\n",
            "모든 예측을 0으로 하여도 정확도는:0.900\n"
          ]
        }
      ]
    },
    {
      "cell_type": "markdown",
      "source": [
        "단순히 predict()결과를 np.zeros()로 모두 0값으로 반환함에도 불구하고 450개의 테스트 데이터 세트에 수행한 예측 정확도는 90%이다. 단지 모든 것을 0으로만 예측해도 이런 결과가 나눈다. \n",
        "\n",
        "따라서 불균형한 데이터 세트에서는 성능 수치로 사용해서는 안 됨.\n",
        "\n",
        "이를 극복하기 위해 여러가지 분류 지표와 함께 적용해야함.\n",
        "\n",
        "\n",
        "\n",
        "---\n",
        "\n",
        "## 02 오차행렬\n",
        "* 이진 분류에서 성능 짚로 잘 활용되는 오차행렬은 학습된 분류 모델이 예측을 수행하면서 얼마나 헷갈리고 있는지도 함께 보여주는 지표이다.\n",
        "\n",
        "4분면 행렬에서 실제 레이블 클래스 값과 예측 레이블 클래스 값이 어떠한 유형을 가지고 매핑되는지를 나타낸다. 4분면의 왼쪽, 오른쪽을 예측된 크랠스 값 기준으로 Negative와 positive로 분류하고, 4분면의 위, 아래를 실제 클래스 값 기준으로 Negative와 Positive로 분류하면 예측 클래스와 실제 클래스의 값 유형에 따라 결정되는 TN, FP, FN, TP형태로 오차 행렬의 4분면을 채울 수 있다. \n",
        "\n",
        "![KakaoTalk_20221030_102815162.jpg](data:image/jpeg;base64,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)"
      ],
      "metadata": {
        "id": "wIBtJyK6cC64"
      }
    },
    {
      "cell_type": "markdown",
      "source": [
        "TN은 True Negative의 의미이고 \n",
        "\n",
        "앞의 True는 예측 클래스 값과 실제 클래스 값이 같다\n",
        "\n",
        "Begative는 예측값이 Negative값이라는 의미이다. \n",
        "\n",
        "즉 TN = 예측을 negative로 했는데 실제값도 negative값 0 이라는 의미임.\n",
        "\n",
        "* FP : 예측값을 P 값 1로, 실제값은 N값 0\n",
        "* FN : 예측값을 N값 0로, 실제값은 P 값 1\n",
        "* TP : 예측값을 P 값 1로, 실제값은 P 값 1\n",
        "* FN : 예측값을 N값 0로, 실제값은 N값 0\n",
        "\n",
        "\n",
        "---\n",
        "사이킷런은 오차행렬을 구하기 위해 confusion_matrix() 를 제공함.\n"
      ],
      "metadata": {
        "id": "YmdskF7Ugnka"
      }
    },
    {
      "cell_type": "code",
      "source": [
        "from sklearn.metrics import confusion_matrix\n",
        "\n",
        "\n",
        "confusion_matrix(y_test, fakepred)\n",
        "\n",
        "#출력된 오차행렬은 ndarray형태이다. "
      ],
      "metadata": {
        "colab": {
          "base_uri": "https://localhost:8080/"
        },
        "id": "54cOEQEQcDA9",
        "outputId": "403002ca-1ae5-4a14-f6ae-00da22c2254e"
      },
      "execution_count": 9,
      "outputs": [
        {
          "output_type": "execute_result",
          "data": {
            "text/plain": [
              "array([[405,   0],\n",
              "       [ 45,   0]])"
            ]
          },
          "metadata": {},
          "execution_count": 9
        }
      ]
    },
    {
      "cell_type": "markdown",
      "source": [
        "해석 : TN은 array[0,0]로 405인 것이다. 전체 405건 데이터 중 무조건 Negative 0으로 예측해서 true가 된 결과 405건.\n",
        "\n",
        "\n",
        "앞 절의 MyFakeClassifier는 load_digits()에서 target==7인지 아닌지에 따라 클래스 값을 True/False 이진 분류로 변경한 데이터 세트를 사용해 무조건 Negative로 예측하는 Classifier였고 테스트 데이터 세트의 클래스 값 분포는 0이 405건, 1이 45건이다. \n",
        "\n",
        "\n",
        "-> 이 값들을 조합하여 classifier의 성능을 측정할 수 있는 주요 지표인 정확도, 정밀도, 재현율 값을 알 수 있다. \n",
        "\n",
        "정확도 = (TN + TP) / (TN + FP + FN + TP)\n",
        "\n",
        "\n",
        "---\n",
        "\n",
        "## 03 정밀도와 재현율\n",
        "\n",
        "positive 데이터 세트의 예측 성능에 좀 더 초점을 맞춘 평가 지표이다. \n",
        "앞서 만든 MyFakeClassifier는 Positive로 예측한 tp값이 하나도 없기 때문에 정밀도와 재현율 값이 모두 0이다.\n",
        "\n",
        "* **정밀도= TP/ (FP + TP)**\n",
        "\n",
        "-정밀도는 예측을 Positive로 한 대상 중에 예측과 실제 값이 일치한 데이터의 비율을 뜻한다. \n",
        "\n",
        "\n",
        "* **재현율= TP/ (FN + TP)**\n",
        "\n",
        "-재현율은 실제 값이 Positive인 대상 중에 에측과 실제 값이 Positive로 일치한 데이터의 비율을 뜻한다. 민감도 또는 TPR이라고도 불림.\n",
        "\n",
        "[어떤 것이 더 우선인지]\n",
        "\n",
        "* 재현율이 중요 지표인 경우 : 실제 Positive양성 데이터를 Negative로 잘못 판단하게 되면 업무상 큰 영향이 발생하는 경우.\n",
        "\n",
        "* 정밀도가 중유한 경우 : 실제 Negative음성인 데이터 예측을 Positive양성으로 잘못 판단하게 되어 업무상 영향이 발생하는 경우\n",
        "\n",
        "-> 재현율과 정밀도 모두 높은 수치를 얻는 것이 좋은 성능평가이다. \n"
      ],
      "metadata": {
        "id": "zX34LxgFcDFq"
      }
    },
    {
      "cell_type": "code",
      "source": [
        "from sklearn.metrics import accuracy_score, precision_score, recall_score, confusion_matrix\n",
        "\n",
        "def get_clf_eval(y_test, pred):\n",
        "  confusion = confusion_matrix(y_test, pred)\n",
        "  accuracy = accuracy_score(y_test, pred)\n",
        "  precision = precision_score(y_test, pred)\n",
        "  recall = recall_score(y_test, pred)\n",
        "  print('오차행렬')\n",
        "  print(confusion)\n",
        "  print('정확도:{0:.4}, 정밀도:{1:.4f}, 재현율:{2:.4f}'.format(accuracy, precision, recall))\n"
      ],
      "metadata": {
        "id": "rmDnO6awcDK3"
      },
      "execution_count": 16,
      "outputs": []
    },
    {
      "cell_type": "code",
      "source": [
        "import pandas as pd\n",
        "from sklearn.model_selection import train_test_split\n",
        "from sklearn.linear_model import LogisticRegression\n",
        "\n",
        "#원본 데이터를 재로딩, 데이터 가공, 학습 데이터/테스트 데이터 분할.\n",
        "from google.colab import drive\n",
        "drive.mount('/content/drive')\n",
        "titanic_df =pd.read_csv('/content/drive/MyDrive/titanic_train.csv')\n",
        "\n",
        "y_titanic_df = titanic_df['Survived']\n",
        "X_titanic_df = titanic_df.drop('Survived', axis=1)\n",
        "X_titanic_df = transform_features(X_titanic_df)\n",
        "\n",
        "X_train, X_test, y_train, y_test = train_test_split(X_titanic_df, y_titanic_df, test_size=0.20, random_state=11)\n",
        "\n",
        "lr_clf = LogisticRegression()\n",
        "\n",
        "lr_clf.fit(X_train, y_train)\n",
        "pred = lr_clf.predict(X_test)\n",
        "get_clf_eval(y_test, pred)\n"
      ],
      "metadata": {
        "colab": {
          "base_uri": "https://localhost:8080/"
        },
        "id": "V6CqXqfexeYK",
        "outputId": "600b3665-40ce-48d3-e315-d57111553091"
      },
      "execution_count": 17,
      "outputs": [
        {
          "output_type": "stream",
          "name": "stdout",
          "text": [
            "Drive already mounted at /content/drive; to attempt to forcibly remount, call drive.mount(\"/content/drive\", force_remount=True).\n",
            "오차행렬\n",
            "[[104  14]\n",
            " [ 13  48]]\n",
            "정확도:0.8492, 정밀도:0.7742, 재현율:0.7869\n"
          ]
        },
        {
          "output_type": "stream",
          "name": "stderr",
          "text": [
            "/usr/local/lib/python3.7/dist-packages/sklearn/linear_model/_logistic.py:818: ConvergenceWarning: lbfgs failed to converge (status=1):\n",
            "STOP: TOTAL NO. of ITERATIONS REACHED LIMIT.\n",
            "\n",
            "Increase the number of iterations (max_iter) or scale the data as shown in:\n",
            "    https://scikit-learn.org/stable/modules/preprocessing.html\n",
            "Please also refer to the documentation for alternative solver options:\n",
            "    https://scikit-learn.org/stable/modules/linear_model.html#logistic-regression\n",
            "  extra_warning_msg=_LOGISTIC_SOLVER_CONVERGENCE_MSG,\n"
          ]
        }
      ]
    },
    {
      "cell_type": "markdown",
      "source": [
        "결과: 정밀도에 비해 재현율이 낮게 나왔다. 재현율 또는 정밀도를 좀 더 강화할 방법은?\n",
        "\n",
        "### 정밀도/재현율 프레이드오프\n",
        "\n",
        "분류하려는 업무의 특성상 정밀도 또는 재현율이 특별히 강조돼야 할 경우 분류의 결정 임걔값을 조정해 정밀도 또는 재현율의 수치를 높일 수 있다.\n",
        "\n",
        "하짐나 정밀도와 재현율은 상호 보완적인 평가지표이기 때문에 어느 한쪽을 강제로 높이면 다른 하나의 수치는 떨어지기 쉽다.\n",
        "\n",
        "이를 정밀도/재현율의 프레이드오프라고 부른다.\n",
        "\n",
        "------\n",
        "사이킷런의 분류 알고리즘은 예측 데이터가 특정 레이블에 속하는지를 계산하기 위해 먼저 개별 레이블별로 결정 확률을 구한다. 그리고 예측 확률이 큰 레이블값으로 예측하게 된다.\n",
        "\n",
        "`predict_proba() : 개별 데이터별로 예측 확률을 반환하느 메서드`\n",
        "\n",
        "* 학습이 완료된 사이킷런 Classifier 객체에서 호출이 가능하고 테스트 피처 데이터 세트를 파라미터로 입력해주면 테스트 피처 레코드의 개별 클래스 예측 확률을 반환한다. 반환 결과가 예측 겨로가 클래스 값이 아닌 예측 확률 결과이다.\n",
        "\n",
        "\n",
        "* 입력 파라미터 : predict() 메서드와 동일하게 보통 테스트 피처 데이터 세트를 입력\n",
        "\n",
        "* 반환 값: 개별 클래스의 예측 확률을 ndarray m x n (m: 입력 값의 레코드 수, n: 클래스 값 유형) 형태로 반환한다.\n",
        "\n",
        "각 열은 개별 클래스의 예측 확률이고 이진 분류에서 첫번째 칼럼은 - Negative의 확률, 두번째 칼럼은 1 positive의 확률이다."
      ],
      "metadata": {
        "id": "K264Yg10cDPH"
      }
    },
    {
      "cell_type": "code",
      "source": [
        "pred_proba = lr_clf.predict_proba(X_test)\n",
        "pred - lr_clf.predict(X_test)\n",
        "print('pred_proba()결과 Shape : {0}'.format(pred_proba.shape))\n",
        "print('pred_proba array 에서 앞 3개만 샘프로 추출 \\n:',pred_proba[:3])\n",
        "\n",
        "#예측 확률 array와 예측 결괏값 array를 병합해 예측 확률과 결괏값을 한눈에 확인\n",
        "pred_proba_result = np.concatenate([pred_proba, pred.reshape(-1,1)], axis=1)\n",
        "print('두 개의 class 중에서 더 큰 확률을 클래스 값으로 예측 \\n', pred_proba_result[:3])"
      ],
      "metadata": {
        "id": "Tyq2B111cDUR",
        "colab": {
          "base_uri": "https://localhost:8080/"
        },
        "outputId": "8cb699bb-723e-41b3-8977-a58809660b2a"
      },
      "execution_count": 19,
      "outputs": [
        {
          "output_type": "stream",
          "name": "stdout",
          "text": [
            "pred_proba()결과 Shape : (179, 2)\n",
            "pred_proba array 에서 앞 3개만 샘프로 추출 \n",
            ": [[0.46191519 0.53808481]\n",
            " [0.878675   0.121325  ]\n",
            " [0.87716185 0.12283815]]\n",
            "두 개의 class 중에서 더 큰 확률을 클래스 값으로 예측 \n",
            " [[0.46191519 0.53808481 1.        ]\n",
            " [0.878675   0.121325   0.        ]\n",
            " [0.87716185 0.12283815 0.        ]]\n"
          ]
        }
      ]
    },
    {
      "cell_type": "markdown",
      "source": [
        "결과: 0과 1에 대한 확률을 나타내므로 첫번째 칼럼값과 두번째 칼럼값을 더하면 1이 된다. \n",
        "\n",
        "\n",
        "---\n",
        "\n",
        "\n",
        "predict() 는 pred_proba 메서드가 반환하는 확률 값을 가진 ndarray에서 정해진 임곗값( ex 0.5) 을 만족하는 ndarray의 칼럼 위치를 최정 얘측 클래스로 결정한다.\n",
        "\n",
        "이러한 구현을 위해 사이킷런의 Binarizer클래스를 이용한다.\n",
        "먼저 <Binarizer클래스 사용법> 부터 알아보자.\n",
        "\n",
        "### **<Binarizer클래스 사용법>**"
      ],
      "metadata": {
        "id": "3C3EM_3GcDXz"
      }
    },
    {
      "cell_type": "code",
      "source": [
        "from sklearn.preprocessing import Binarizer\n",
        "\n",
        "X=[[1,-2,2], [2,0,0],[0,1.1,1.2]]\n",
        "\n",
        "#X의 개별 원소들이 threshold값보다 같거나 작으면 0을, 크면 1을 반환\n",
        "binarizer = Binarizer(threshold = 1.1)\n",
        "print(binarizer.fit_transform(X))"
      ],
      "metadata": {
        "id": "cUxlYeeNcDbk",
        "colab": {
          "base_uri": "https://localhost:8080/"
        },
        "outputId": "c74a2609-8e7b-4bd9-fb6e-0b938ffcea47"
      },
      "execution_count": 21,
      "outputs": [
        {
          "output_type": "stream",
          "name": "stdout",
          "text": [
            "[[0. 0. 1.]\n",
            " [1. 0. 0.]\n",
            " [0. 0. 1.]]\n"
          ]
        }
      ]
    },
    {
      "cell_type": "markdown",
      "source": [
        "입력된 X데이터 세트에서 Binarizer의 threshold값이 1.1보다 같거나 작으면 0, 크면 1로 변환됨을 알 수 있다.\n",
        "\n",
        "이제 이 것을 이용해 사이킷런 predict()의 의사코드를 만들어 보자. \n",
        "\n",
        "바로 앞 예제의 LogisticRegression 객체의 predict_proba() 메서드로 구한 각 클래스별 예측 확률값인 pred_proba 객체 변수에 분류 결정 임계값을 0.5로 지정한  Binarizer 클래스를 적용해 최종 예측값을 구하는 방식이다.\n",
        "\n"
      ],
      "metadata": {
        "id": "Mjbu0mhfcDf4"
      }
    },
    {
      "cell_type": "code",
      "source": [
        "from sklearn.preprocessing import Binarizer\n",
        "\n",
        "# Binarizer의 threshold설정값. 분류 결정 임곗값임.\n",
        "custom_threshold = 0.5\n",
        "\n",
        "#predict_proba() 반환값의 두번재 칼럼, 즉 positive클래스 칼럼 하나만 추출해  Binarizer를 적용\n",
        "pred_proba_1 = pred_proba[:,1].reshape(-1,1)\n",
        "\n",
        "binarizer= Binarizer(threshold=custom_threshold).fit(pred_proba_1)\n",
        "custom_predict = binarizer.transform(pred_proba_1)\n",
        "\n",
        "get_clf_eval(y_test, custom_predict)\n"
      ],
      "metadata": {
        "id": "zoXoyATAcDjo",
        "colab": {
          "base_uri": "https://localhost:8080/"
        },
        "outputId": "a813d0c1-b0b3-439d-9472-c6006bb3b643"
      },
      "execution_count": 22,
      "outputs": [
        {
          "output_type": "stream",
          "name": "stdout",
          "text": [
            "오차행렬\n",
            "[[104  14]\n",
            " [ 13  48]]\n",
            "정확도:0.8492, 정밀도:0.7742, 재현율:0.7869\n"
          ]
        }
      ]
    },
    {
      "cell_type": "markdown",
      "source": [
        "-> predict 가   predict_proba()를 기반하고 있다는 것을 알 수 있다. "
      ],
      "metadata": {
        "id": "cbAulzfMcDnQ"
      }
    },
    {
      "cell_type": "code",
      "source": [
        "# Binarizer의 threshold설정값을 0.4로 설정. 즉 분류 결정 임곗값을 0.5에서 0.4로 낮춤\n",
        "custom_threshold = 0.4\n",
        "pred_proba_1 = pred_proba[:,1].reshape(-1,1)\n",
        "binarizer= Binarizer(threshold=custom_threshold).fit(pred_proba_1)\n",
        "custom_predict = binarizer.transform(pred_proba_1)\n",
        "\n",
        "get_clf_eval(y_test, custom_predict)"
      ],
      "metadata": {
        "colab": {
          "base_uri": "https://localhost:8080/"
        },
        "id": "-HdBeiup7XDL",
        "outputId": "b1cf7cd3-5e81-4d61-e8e8-60b8fbf96b12"
      },
      "execution_count": 23,
      "outputs": [
        {
          "output_type": "stream",
          "name": "stdout",
          "text": [
            "오차행렬\n",
            "[[98 20]\n",
            " [10 51]]\n",
            "정확도:0.8324, 정밀도:0.7183, 재현율:0.8361\n"
          ]
        }
      ]
    },
    {
      "cell_type": "markdown",
      "source": [
        "임계값을 낮추니 재현율 값이 올라가고 정밀도가 떨어졌다. 이유는 분류 결정 임걧값은 positive예측값을 결정하는 확률의 기준이 된다. 확률이 0.5가 아닌 0.4부터 positive로 예측을 너그럽게 하기 때문에 임곗값 값을 낮출수록 True값이 많아지게 된다."
      ],
      "metadata": {
        "id": "M-meedC57XIx"
      }
    },
    {
      "cell_type": "code",
      "source": [
        "# 함수를 만들어서 임걧값을 변화하며 평가 지표를 조사해보자.\n",
        "\n",
        "#테스트를 수행할 모든 임걧값을 리스트 객체로 저장.\n",
        "thresholds = [0.4, 0.45, 0.5, 0.55, 0.60]\n",
        "\n",
        "def get_eval_by_threshold(y_test, pred_proba_c1, thresholds):\n",
        "  #threshold list객체 내의 값을 차례로 iteration하면서 evaluation수행\n",
        "  for custom_threshold in thresholds:\n",
        "    binarizer= Binarizer(threshold=custom_threshold).fit(pred_proba_1)\n",
        "    custom_predict = binarizer.transform(pred_proba_1)\n",
        "    print('임곗값:',custom_threshold)\n",
        "    get_clf_eval(y_test, custom_predict)\n",
        "\n",
        "get_eval_by_threshold(y_test, pred_proba[:,1].reshape(-1,1), thresholds)\n"
      ],
      "metadata": {
        "colab": {
          "base_uri": "https://localhost:8080/"
        },
        "id": "IL-UfC087XNv",
        "outputId": "6ae3e36d-ffe6-4554-c5bd-656f38548851"
      },
      "execution_count": 25,
      "outputs": [
        {
          "output_type": "stream",
          "name": "stdout",
          "text": [
            "임곗값: 0.4\n",
            "오차행렬\n",
            "[[98 20]\n",
            " [10 51]]\n",
            "정확도:0.8324, 정밀도:0.7183, 재현율:0.8361\n",
            "임곗값: 0.45\n",
            "오차행렬\n",
            "[[103  15]\n",
            " [ 12  49]]\n",
            "정확도:0.8492, 정밀도:0.7656, 재현율:0.8033\n",
            "임곗값: 0.5\n",
            "오차행렬\n",
            "[[104  14]\n",
            " [ 13  48]]\n",
            "정확도:0.8492, 정밀도:0.7742, 재현율:0.7869\n",
            "임곗값: 0.55\n",
            "오차행렬\n",
            "[[109   9]\n",
            " [ 15  46]]\n",
            "정확도:0.8659, 정밀도:0.8364, 재현율:0.7541\n",
            "임곗값: 0.6\n",
            "오차행렬\n",
            "[[112   6]\n",
            " [ 16  45]]\n",
            "정확도:0.8771, 정밀도:0.8824, 재현율:0.7377\n"
          ]
        }
      ]
    },
    {
      "cell_type": "markdown",
      "source": [
        "- precision_recall_curve() API\n",
        "\n",
        "<입력 파라미터>\n",
        "\n",
        "y_true : 실제 클래스 값 배열 (배열 크기 = [데이터 건수])\n",
        "probas_pred : Positive 칼럼의 예측 확률 배열 (배열 크기 = [데이터 건수])\n",
        "\n",
        "<반환 값>\n",
        "\n",
        "정밀도: 임곗값별 정밀도 값을 배열로 반환\n",
        "재현율: 임곗값별 재현율 값을 배열로 반환"
      ],
      "metadata": {
        "id": "iD-fPgeS7XRw"
      }
    },
    {
      "cell_type": "code",
      "source": [
        "from sklearn.metrics import precision_recall_curve\n",
        "\n",
        "#레이블 값이 1일 때의 예측 확률을 추출\n",
        "pred_proba_class1 = lr_clf.predict_proba(X_test)[:,1]\n",
        "\n",
        "#실제값 데이터 세트와 레이블 값이 1일 때의 예측 확률을 precision_recall_curve인자로 입력\n",
        "precisions, recalls, thresholds = precision_recall_curve(y_test, pred_proba_class1)\n",
        "print('반환된 분류 결정 임곗값 배열의 Shape:', thresholds.shape)\n",
        "\n",
        "#반환된 임계값 배열 로우가 147건이므로 샘플로 10건만 추출하되, 임곗값을 15 step으로 추출\n",
        "thr_index = np.arange(0, thresholds.shape[0],15)\n",
        "print('샘플 추출을 위한 임계값 배열의 index 10개:', thr_index)\n",
        "print('샘플용 10개의 임곗값:', np.round(thresholds[thr_index],2))\n",
        " \n",
        "#15 step 단위로 추출된 임계값에 따른 정밀도와 재현율 값\n",
        "print('샘플 임계값별 정밀도:', np.round(precisions[thr_index],3))\n",
        "print('샘플 임계값별 재현율:', np.round(recalls[thr_index],3))"
      ],
      "metadata": {
        "colab": {
          "base_uri": "https://localhost:8080/"
        },
        "id": "-hFyTLFh7XV8",
        "outputId": "135028f4-21cd-4611-fa47-d395f81fc22e"
      },
      "execution_count": 28,
      "outputs": [
        {
          "output_type": "stream",
          "name": "stdout",
          "text": [
            "반환된 분류 결정 임곗값 배열의 Shape: (143,)\n",
            "샘플 추출을 위한 임계값 배열의 index 10개: [  0  15  30  45  60  75  90 105 120 135]\n",
            "샘플용 10개의 임곗값: [0.1  0.12 0.14 0.19 0.28 0.4  0.56 0.67 0.82 0.95]\n",
            "샘플 임계값별 정밀도: [0.389 0.44  0.466 0.539 0.647 0.729 0.836 0.949 0.958 1.   ]\n",
            "샘플 임계값별 재현율: [1.    0.967 0.902 0.902 0.902 0.836 0.754 0.607 0.377 0.148]\n"
          ]
        }
      ]
    },
    {
      "cell_type": "code",
      "source": [
        "# 곡선으로 시각화해보자.\n",
        "import matplotlib.pyplot as plt\n",
        "import matplotlib.ticker as ticker\n",
        "%matplotlib inline\n",
        "\n",
        "def precision_recall_curve_plot(y_test, pred_proba_c1):\n",
        "  #threshold ndarray와 이 threshold에 따른 정밀도, 재현율 ndarray추출.\n",
        "  precisions, recalls, thresholds = precision_recall_curve(y_test, pred_proba_c1)\n",
        "\n",
        "  #X축을 threshold값으로, y축은 정밀도, 재현율 값으로 각각 plot수행. 정밀도는 점선으로 표시\n",
        "  plt.figure(figsize=(8,6))\n",
        "  threshold_boundary = thresholds.shape[0]\n",
        "  plt.plot(thresholds, precisions[0:threshold_boundary],linestyle='--', label ='precision')\n",
        "  plt.plot(thresholds, recalls[0:threshold_boundary], label ='recall')\n",
        "\n",
        "  #threshold 값 X축의 Scale을 0.1 단위로 변경\n",
        "  start, end = plt.xlim()\n",
        "  plt.xticks(np.round(np.arange(start, end, 0.1), 2))\n",
        "\n",
        "  #x축, y축 label과 legend, 그리고 grid설정\n",
        "  plt.xlabel('Threshold value'); plt.ylabel('Precision and Recall value')\n",
        "  plt.legend(); plt.grid()\n",
        "  plt.show()\n",
        "\n",
        "precision_recall_curve_plot(y_test, lr_clf.predict_proba(X_test)[:,1])"
      ],
      "metadata": {
        "colab": {
          "base_uri": "https://localhost:8080/",
          "height": 388
        },
        "id": "7nVHKbltJ95z",
        "outputId": "20670810-0cfb-41be-ce6c-983e7af535cf"
      },
      "execution_count": 32,
      "outputs": [
        {
          "output_type": "display_data",
          "data": {
            "text/plain": [
              "<Figure size 576x432 with 1 Axes>"
            ],
            "image/png": "[encoded data removed]"
          },
          "metadata": {
            "needs_background": "light"
          }
        }
      ]
    },
    {
      "cell_type": "markdown",
      "source": [
        "결과: 임계값을 계속 증가시킬수록 재현율 값이 낮아지고 정밀도 값이 높아지는 반대의 양상이 된다. 앞 예제의 로지스틱 회귀 기반의 타이타닉 생존자 예측 모델의 경우 임곗값이 약 0.45 지점에서 재현율과 정밀도가 비슷해지는 모습을 보임\n",
        "\n",
        "\n",
        "---\n",
        "\n",
        "### 정밀도와 재현율이ㅡ 맹점\n",
        "positive예측의 임곗값을 변경함에 따라 정밀도와 재현율의 수치가 변경된다. 임곗값의 이러한 변경은 업무 환경에 맞게 두 개의 수치를 상호 보완할 수 있는 수준에서 적용돼야 한다. 그렇지 않고 단순히 하나의 성능 지표 수치를 높이기 위한 수단으로 사용돼서는 안 된다. \n",
        "\n",
        "- 정밀도 100%가 되는 방법\n",
        "\n",
        "확실하 닉준이 되는 경우만 Positive로 예측하고 나머지는 모두 Negative로 예측합니다. 예를 들어 환자가 80세 이상이고 비만이며 이전에 암 진단을 받았고 암 세포의 크기가 상위 0.1% 이상이면 무조건 Positive, 다른 경우는 Negative로 예측하는 거다.\n",
        "\n",
        "- 재현율 100%가 되는 방법\n",
        "\n",
        "모든 환자를 Positive로 얘측하면 된다. 재현율은 = TP/ (TP+FN)이므로 전체 환자 1000명을 다 pOSITIVE로 예측하는 거다. 이 중 실제 양성인 사람이 30명 정도라도 tn이 수치에 포함되지 않고 fn은 아예 0이므로 100%가 된다.\n",
        "\n",
        "\n",
        "이처럼 정밀도와 재현율 성능 수치도 어느 한족만 참조하면 극단적인 수치 조작이 가능하다. 따라서 정밀도 또는 재현율 중 하나만 스코어가 좋고 다른 하나는 스코어가 나쁜 분류는 성능이 좋지 않은 ㅜㅂㄴ류로 간주할 수 있다. 둘 중 하나만 강조하는 상항외 돼서는 안됨.\n",
        "\n",
        "\n",
        "\n",
        "---\n",
        "\n",
        "### 04 F1 스코어\n",
        "\n",
        "정밀도와 재현율을 결합한 지표 \n",
        "\n",
        "어느 한쪽으로 치우치지 않는 수치를 나타낼 때 상대적으로 높은 값을 가진다.\n",
        "\n",
        "사이킷런 제공 API : f1_score()\n"
      ],
      "metadata": {
        "id": "ucdwkepq7XZZ"
      }
    },
    {
      "cell_type": "code",
      "source": [
        "from sklearn.metrics import f1_score\n",
        "f1= f1_score(y_test, pred)\n",
        "print('F1 스코어:{0:.4f}'.format(f1))"
      ],
      "metadata": {
        "id": "28a2FezWJ9c1"
      },
      "execution_count": null,
      "outputs": []
    },
    {
      "cell_type": "code",
      "source": [
        "\n",
        "def get_clf_eval(y_test, pred):\n",
        "  confusion = confusion_matrix(y_test, pred)\n",
        "  accuracy = accuracy_score(y_test, pred)\n",
        "  precision = precision_score(y_test, pred)\n",
        "  recall = recall_score(y_test, pred)\n",
        "  #F1 스코어 추가\n",
        "  f1 = f1_score(y_test , pred)\n",
        "  print('오차행렬')\n",
        "  print(confusion)\n",
        "  #f1 score print추가\n",
        "  print('정확도:{0:.4}, 정밀도:{1:.4f}, 재현율:{2:.4f}'.format(accuracy, precision, recall,f1))\n",
        "\n",
        "thresholds= [0.4, 0.45, 0.50, 0.55, 0.60]\n",
        "pred_proba = lr_clf.predict_proba(X_test)\n",
        "get_eval_by_threshold(y_test, pred_proba[:,1].reshape(-1,1), thresholds)"
      ],
      "metadata": {
        "colab": {
          "base_uri": "https://localhost:8080/"
        },
        "id": "CotdrVHJoXdN",
        "outputId": "61503411-7bfc-4f52-9490-f3b605fa35d1"
      },
      "execution_count": 35,
      "outputs": [
        {
          "output_type": "stream",
          "name": "stdout",
          "text": [
            "임곗값: 0.4\n",
            "오차행렬\n",
            "[[98 20]\n",
            " [10 51]]\n",
            "정확도:0.8324, 정밀도:0.7183, 재현율:0.8361\n",
            "임곗값: 0.45\n",
            "오차행렬\n",
            "[[103  15]\n",
            " [ 12  49]]\n",
            "정확도:0.8492, 정밀도:0.7656, 재현율:0.8033\n",
            "임곗값: 0.5\n",
            "오차행렬\n",
            "[[104  14]\n",
            " [ 13  48]]\n",
            "정확도:0.8492, 정밀도:0.7742, 재현율:0.7869\n",
            "임곗값: 0.55\n",
            "오차행렬\n",
            "[[109   9]\n",
            " [ 15  46]]\n",
            "정확도:0.8659, 정밀도:0.8364, 재현율:0.7541\n",
            "임곗값: 0.6\n",
            "오차행렬\n",
            "[[112   6]\n",
            " [ 16  45]]\n",
            "정확도:0.8771, 정밀도:0.8824, 재현율:0.7377\n"
          ]
        }
      ]
    },
    {
      "cell_type": "markdown",
      "source": [
        "결과 : 0.6일때 가장 좋은 값을 보여준다. 하지만 임곗값이 0.6인 경우에는 재현율이 크게 감소하고 있으니 주지해야한다.\n",
        "\n",
        "\n",
        "\n",
        "---\n",
        "\n",
        "### 05 ROC곡선과 AUC\n",
        "\n",
        "* 이진 분류의 예측 성능 측정에서 중요하게 사용되는 지표\n",
        "* FPR(FALSE POSITIVE RATE)이 변할 때 TPR(재현율=민감도)이 어떻게 변하는지를 나타내는 곡선\n",
        "* 직선에 가까울수록 성능이 떨어지고 멀어질수록 성능이 뛰어나다.\n",
        "\n",
        "사이킷런 API : roc_curve()\n",
        "\n",
        "-입력 파라미터 \n",
        "\n",
        "* y_true : 실제 클래스 값 array (array shape= [데이터 건수]\n",
        "\n",
        "* y_score : predict_proba()의 반환 값 array에서 positive칼럼의 예측 확률이 보통 사용됨. array.shape = [n_samples]\n",
        "\n",
        "-반환 값 : array로 반환\n",
        "\n",
        "\n",
        "\n",
        "+ 민감도에 대응하는 지표 TNR(특이성)\n",
        "\n",
        "<정리>\n",
        "* 민감도(TPR)는 실제값 P양성이 정확히 예측 돼야 하는 수준을 나타낸다. ( 질병 ㅇ 테스트 ㅇ)\n",
        "\n",
        "* 특이성(TNR)은 실제값 N음성이 정확히 예측돼야하는 수준을 나타낸다.( 질병X 테스트도 음성)\n",
        "\n",
        "<식>\n",
        "\n",
        "TNR = TN / (FP + TN)\n",
        "\n",
        "FPR = FP/ (FP + TN) = 1- 특이성\n",
        "\n"
      ],
      "metadata": {
        "id": "LJzzm3BZoGFp"
      }
    },
    {
      "cell_type": "code",
      "source": [
        "from sklearn.metrics import roc_curve\n",
        "\n",
        "#레이블 값이 1일 때의 예측 확률을 추출\n",
        "pred_proba_class1 = lr_clf.predict_proba(X_test)[:,1]\n",
        "\n",
        "fprs, tprs, thresholds = roc_curve(y_test, pred_proba_class1)\n",
        "\n",
        "#반환된 임곗값 배열 로우가 47건이므로 샘플로 10건만 추출하되, 임곗값을 5 step으로 추출.\n",
        "#thredsholds[0]은 max(예측확률)+1로 임의 설정됨. 이를 제외하기 위해 np.arange는 1부터 시작\n",
        "thr_index = np.arange(1, thresholds.shape[0],5)\n",
        "print('샘플 추출을 위한 임계값 배열의 index 10개:', thr_index)\n",
        "print('샘플용 10개의 임곗값:', np.round(thresholds[thr_index],2))\n",
        " \n",
        "#5 step 단위로 추출된 임계값에 따른 정밀도와 재현율 값\n",
        "print('샘플 임계값별 FPR:', np.round(precisions[thr_index],3))\n",
        "print('샘플 임계값별 TPR:', np.round(recalls[thr_index],3))"
      ],
      "metadata": {
        "colab": {
          "base_uri": "https://localhost:8080/"
        },
        "id": "2ZtU7mA6oGS0",
        "outputId": "5a89aefb-6e41-431e-be0b-64a6fa1e056e"
      },
      "execution_count": 36,
      "outputs": [
        {
          "output_type": "stream",
          "name": "stdout",
          "text": [
            "샘플 추출을 위한 임계값 배열의 index 10개: [ 1  6 11 16 21 26 31 36 41 46 51]\n",
            "샘플용 10개의 임곗값: [0.97 0.65 0.63 0.56 0.45 0.4  0.35 0.15 0.13 0.11 0.11]\n",
            "샘플 임계값별 FPR: [0.385 0.393 0.428 0.436 0.449 0.451 0.47  0.491 0.519 0.545 0.573]\n",
            "샘플 임계값별 TPR: [0.984 0.967 0.967 0.951 0.934 0.902 0.902 0.902 0.902 0.902 0.902]\n"
          ]
        }
      ]
    },
    {
      "cell_type": "markdown",
      "source": [
        "결과 : 임곗값이 1에 가까운 값에서 점점 작아지면서 FPR이 점점 커진다. 이것이 커질 때 TPR은 가파르게 커짐을 알 수 있다. "
      ],
      "metadata": {
        "id": "htSv3va3oGdF"
      }
    },
    {
      "cell_type": "code",
      "source": [
        "def roc_curve_plot(y_test, pred_proba_c1):\n",
        "  #임곗값에 따른 fpr, tpr 값을 반화받음.\n",
        "  fprs, tprs, thresholds = roc_curve(y_test, pred_proba_c1)\n",
        "  #ROC곡선을 그래프 곡선으로 그림.\n",
        "  plt.plot(fprs, tprs, label='ROC')\n",
        "  #가운데 대각선 직선을 그림.\n",
        "  plt.plot([0,1],[0,1],'k--', label='Random')\n",
        "\n",
        "  #FPR X축의 scale을 0.1 단위로 변경,  x, y 축 명 설정 등\n",
        "  start, end = plt.xlim()\n",
        "  plt.xticks(np.round(np.arange(start, end, 0.1), 2))\n",
        "  plt.xlim(0,1); plt.ylim(0,1)\n",
        "  plt.xlabel('FPR(1-Sensitivity)'); plt.ylabel('TPR(Recall)')\n",
        "  plt.legend()\n",
        "\n",
        "roc_curve_plot(y_test, pred_proba[:,1])"
      ],
      "metadata": {
        "colab": {
          "base_uri": "https://localhost:8080/",
          "height": 283
        },
        "id": "WYV2jWyUoGnw",
        "outputId": "80409f67-5b4c-40c7-d515-bd6b4ba270dc"
      },
      "execution_count": 39,
      "outputs": [
        {
          "output_type": "display_data",
          "data": {
            "text/plain": [
              "<Figure size 432x288 with 1 Axes>"
            ],
            "image/png": "[encoded data removed]"
          },
          "metadata": {
            "needs_background": "light"
          }
        }
      ]
    },
    {
      "cell_type": "markdown",
      "source": [
        "결과 : 일반적으로 ROC곡선 자체는 FPR과 TPR의 변화 값을 보고, 분류의 성능 지표로 사용되는 것은 ROC 곡선 면적에 기반한 AUC값으로 결정한다.\n",
        "\n",
        "**AUC 값 : ROC 곡선 밑의 면적을 구한 것**\n",
        "\n",
        "* 1에 가까울수록 좋은 수치이다.\n",
        "* AUC가 커지려면 FPR이 작은 상태에서 얼마나 큰 TPR을 얻을 수 있느냐가 관건이다."
      ],
      "metadata": {
        "id": "WVYh4vNHs077"
      }
    },
    {
      "cell_type": "code",
      "source": [
        "from sklearn.metrics import accuracy_score, confusion_matrix, precision_score\n",
        "from sklearn.metrics import recall_score, f1_score, roc_auc_score\n",
        "import numpy as np\n",
        "\n",
        "print(confusion_matrix(y_test, pred))\n",
        "print(\"정확도:\", np.round(accuracy_score(y_test, pred),4))\n",
        "print(\"정밀도:\", np.round(precision_score(y_test, pred),4))\n",
        "print(\"재현율:\", np.round(recall_score(y_test, pred),4))"
      ],
      "metadata": {
        "colab": {
          "base_uri": "https://localhost:8080/"
        },
        "id": "kghcLtScs1Af",
        "outputId": "db22e31e-1fb9-4cdb-bf35-90a21d8ad89d"
      },
      "execution_count": 43,
      "outputs": [
        {
          "output_type": "stream",
          "name": "stdout",
          "text": [
            "[[104  14]\n",
            " [ 13  48]]\n",
            "정확도: 0.8492\n",
            "정밀도: 0.7742\n",
            "재현율: 0.7869\n"
          ]
        }
      ]
    },
    {
      "cell_type": "markdown",
      "source": [
        "타이타닉 생존자 예측 로지스틱 회귀 모델의 roc auc 값은 약 0.8987로 측정됨.\n",
        "\n",
        "밑에 함수는 ROC, AUC 값까지 출력할 수 있다."
      ],
      "metadata": {
        "id": "bP5Rhj0Fs1E4"
      }
    },
    {
      "cell_type": "code",
      "source": [
        "\n",
        "def get_clf_eval(y_test, pred):\n",
        "  confusion=confusion_matrix(y_test, pred)\n",
        "  accuracy=accuracy_score(y_test, pred)\n",
        "  precision=precision_score(y_test, pred)\n",
        "  recall=recall_score(y_test, pred)\n",
        "  f1=f1_score(y_test, pred)\n",
        "\n",
        "  #ROC-AUC추가\n",
        "  roc_auc=roc_auc_score(y_test, pred_proba)\n",
        "  print('오차 행렬')\n",
        "  print(confusion)\n",
        "  #ROC-AUC print 추가\n",
        "  print('정확도: {0:.4f}, 정밀도: {1:.4f}, 재현율: {2:.4f}, F1: {3:.4f}'.format(accuracy, precision, recall, f1, roc_auc))"
      ],
      "metadata": {
        "id": "M2T1PNySs1JG"
      },
      "execution_count": 42,
      "outputs": []
    },
    {
      "cell_type": "markdown",
      "source": [],
      "metadata": {
        "id": "NuZXMhc7s1NU"
      }
    },
    {
      "cell_type": "code",
      "source": [],
      "metadata": {
        "id": "bBimcm-47XdF"
      },
      "execution_count": null,
      "outputs": []
    },
    {
      "cell_type": "markdown",
      "source": [],
      "metadata": {
        "id": "e2JBOPvL7Xvs"
      }
    }
  ]
}